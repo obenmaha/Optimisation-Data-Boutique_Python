{
 "cells": [
  {
   "cell_type": "markdown",
   "id": "97dccc01",
   "metadata": {},
   "source": [
    "<div style=\"display: flex; background-color: RGB(255,114,0);\" >\n",
    "<h1 style=\"margin: auto; padding: 30px; \">ANALYSE DU STOCK ET DES VENTES DU SITE BOTTLENECK</h1>\n",
    "</div>"
   ]
  },
  {
   "cell_type": "markdown",
   "id": "4d0d1bb8",
   "metadata": {},
   "source": [
    "# OBJECTIF DE CE NOTEBOOK\n",
    "\n",
    "Bienvenue dans l'outil plébiscité par les analystes de données Jupyter.\n",
    "\n",
    "Il s'agit d'un outil permettant de mixer et d'alterner codes, textes et graphique.\n",
    "\n",
    "Cet outil est formidable pour plusieurs raisons:\n",
    "\n",
    "+ il permet de tester des lignes de codes au fur et à mesure de votre rédaction, de constater immédiatement le résultat d'un instruction, de la corriger si nécessaire.\n",
    "+ De rédiger du texte pour expliquer l'approche suivie ou les résultats d'une analyse et de le mettre en forme grâce à du code html ou plus simple avec **Markdown**\n",
    "+ d'agrémenter de graphiques\n",
    "\n",
    "Pour vous aider dans vos premiers pas à l'usage de Jupyter et de Python, nous avons rédigé ce notebook en vous indiquant les instructions à suivre.\n",
    "\n",
    "Il vous suffit pour cela de saisir le code Python répondant à l'instruction donnée.\n",
    "\n",
    "Vous verrez de temps à autre le code Python répondant à une instruction donnée mais cela est fait pour vous aider à comprendre la nature du travail qui vous est demandée.\n",
    "\n",
    "Et garder à l'esprit, qu'il n'y a pas de solution unique pour résoudre un problème et qu'il y a autant de résolutions de problèmes que de développeurs ;)...\n",
    "\n"
   ]
  },
  {
   "cell_type": "markdown",
   "id": "b85efb87",
   "metadata": {},
   "source": [
    "<div style=\"background-color: RGB(51,165,182);\" >\n",
    "<h2 style=\"margin: auto; padding: 20px; color:#fff; \">Etape 1 - Importation des librairies et chargement des fichiers</h2>\n",
    "</div>"
   ]
  },
  {
   "cell_type": "markdown",
   "id": "b5449401",
   "metadata": {},
   "source": [
    "<div style=\"border: 1px solid RGB(51,165,182);\" >\n",
    "<h3 style=\"margin: auto; padding: 20px; color: RGB(51,165,182); \">1.1 - Importation des librairies</h3>\n",
    "</div>"
   ]
  },
  {
   "cell_type": "code",
   "execution_count": 5,
   "id": "bbb6dcc1",
   "metadata": {},
   "outputs": [],
   "source": [
    "import numpy as np\n",
    "import warnings\n",
    "import matplotlib.pyplot as plt"
   ]
  },
  {
   "cell_type": "code",
   "execution_count": 6,
   "id": "b24b0f0a",
   "metadata": {},
   "outputs": [],
   "source": [
    "warnings.filterwarnings('ignore', category=UserWarning, module='openpyxl') "
   ]
  },
  {
   "cell_type": "code",
   "execution_count": 7,
   "id": "e6ef06ec",
   "metadata": {},
   "outputs": [],
   "source": [
    "#Importation de la librairie Pandas\n",
    "import pandas as pd"
   ]
  },
  {
   "cell_type": "code",
   "execution_count": 8,
   "id": "a38ce0fc",
   "metadata": {},
   "outputs": [],
   "source": [
    "#Importation de la librairie plotly express\n",
    "import plotly.express as px"
   ]
  },
  {
   "cell_type": "code",
   "execution_count": 9,
   "id": "0a718067",
   "metadata": {},
   "outputs": [],
   "source": [
    "#Trouver dans Google l'instruction permettant d'afficher toutes les colonnes d'un dataframe\n",
    "#Saisir, dans Google, les mots clés \"display all columns dataframe Pandas\", par exemple.\n",
    "#Dans les résultats de la recherche, privilégiez les solutions provenants de Stack Overflow ou Medium"
   ]
  },
  {
   "cell_type": "markdown",
   "id": "f4918299",
   "metadata": {},
   "source": [
    "<div style=\"border: 1px solid RGB(51,165,182);\" >\n",
    "<h3 style=\"margin: auto; padding: 20px; color: RGB(51,165,182); \">1.2 - Chargements des fichiers</h3>\n",
    "</div>"
   ]
  },
  {
   "cell_type": "code",
   "execution_count": 10,
   "id": "a19b7bfc",
   "metadata": {},
   "outputs": [],
   "source": [
    "df_web = pd.read_excel(r\"D:\\data_docs\\OPC\\P6\\prepa\\Data\\web.xlsx\")\n",
    "df_erp = pd.read_excel(r\"D:\\data_docs\\OPC\\P6\\prepa\\Data\\erp.xlsx\")\n",
    "df_liaison = pd.read_excel(r\"D:\\data_docs\\OPC\\P6\\prepa\\Data\\liaison.xlsx\")"
   ]
  },
  {
   "cell_type": "markdown",
   "id": "605f7056",
   "metadata": {},
   "source": [
    "<div style=\"background-color: RGB(51,165,182);\" >\n",
    "<h2 style=\"margin: auto; padding: 20px; color:#fff; \">Etape 2 - Analyse exploratoire des fichiers</h2>\n",
    "</div>"
   ]
  },
  {
   "cell_type": "markdown",
   "id": "47d3a649",
   "metadata": {},
   "source": [
    "<div style=\"border: 1px solid RGB(51,165,182);\" >\n",
    "<h3 style=\"margin: auto; padding: 20px; color: RGB(51,165,182); \">2.1 - Analyse exploratoire du fichier erp.xlsx</h3>\n",
    "</div>"
   ]
  },
  {
   "cell_type": "code",
   "execution_count": 11,
   "id": "094ef206",
   "metadata": {},
   "outputs": [
    {
     "name": "stdout",
     "output_type": "stream",
     "text": [
      "Le tableau comporte 825 observation(s) ou article(s)\n",
      "Le tableau comporte 6 colonne(s)\n"
     ]
    }
   ],
   "source": [
    "#Afficher les dimensions du dataset\n",
    "print(\"Le tableau comporte {} observation(s) ou article(s)\".format(df_erp.shape[0]))\n",
    "print(\"Le tableau comporte {} colonne(s)\".format(df_erp.shape[1]))"
   ]
  },
  {
   "cell_type": "code",
   "execution_count": 12,
   "id": "182441f0",
   "metadata": {},
   "outputs": [
    {
     "name": "stdout",
     "output_type": "stream",
     "text": [
      "<class 'pandas.core.frame.DataFrame'>\n",
      "RangeIndex: 825 entries, 0 to 824\n",
      "Data columns (total 6 columns):\n",
      " #   Column          Non-Null Count  Dtype  \n",
      "---  ------          --------------  -----  \n",
      " 0   product_id      825 non-null    int64  \n",
      " 1   onsale_web      825 non-null    int64  \n",
      " 2   price           825 non-null    float64\n",
      " 3   stock_quantity  825 non-null    int64  \n",
      " 4   stock_status    825 non-null    object \n",
      " 5   purchase_price  825 non-null    float64\n",
      "dtypes: float64(2), int64(3), object(1)\n",
      "memory usage: 38.8+ KB\n"
     ]
    }
   ],
   "source": [
    "#Consulter le nombre de colonnes\n",
    "#La nature des données dans chacune des colonnes\n",
    "#Le nombre de valeurs présentes dans chacune des colonnes\n",
    "df_erp.info()"
   ]
  },
  {
   "cell_type": "code",
   "execution_count": 13,
   "id": "d3977646",
   "metadata": {},
   "outputs": [
    {
     "data": {
      "text/html": [
       "<div>\n",
       "<style scoped>\n",
       "    .dataframe tbody tr th:only-of-type {\n",
       "        vertical-align: middle;\n",
       "    }\n",
       "\n",
       "    .dataframe tbody tr th {\n",
       "        vertical-align: top;\n",
       "    }\n",
       "\n",
       "    .dataframe thead th {\n",
       "        text-align: right;\n",
       "    }\n",
       "</style>\n",
       "<table border=\"1\" class=\"dataframe\">\n",
       "  <thead>\n",
       "    <tr style=\"text-align: right;\">\n",
       "      <th></th>\n",
       "      <th>product_id</th>\n",
       "      <th>onsale_web</th>\n",
       "      <th>price</th>\n",
       "      <th>stock_quantity</th>\n",
       "      <th>stock_status</th>\n",
       "      <th>purchase_price</th>\n",
       "    </tr>\n",
       "  </thead>\n",
       "  <tbody>\n",
       "    <tr>\n",
       "      <th>0</th>\n",
       "      <td>3847</td>\n",
       "      <td>1</td>\n",
       "      <td>24.2</td>\n",
       "      <td>16</td>\n",
       "      <td>instock</td>\n",
       "      <td>12.88</td>\n",
       "    </tr>\n",
       "    <tr>\n",
       "      <th>1</th>\n",
       "      <td>3849</td>\n",
       "      <td>1</td>\n",
       "      <td>34.3</td>\n",
       "      <td>10</td>\n",
       "      <td>instock</td>\n",
       "      <td>17.54</td>\n",
       "    </tr>\n",
       "    <tr>\n",
       "      <th>2</th>\n",
       "      <td>3850</td>\n",
       "      <td>1</td>\n",
       "      <td>20.8</td>\n",
       "      <td>0</td>\n",
       "      <td>outofstock</td>\n",
       "      <td>10.64</td>\n",
       "    </tr>\n",
       "    <tr>\n",
       "      <th>3</th>\n",
       "      <td>4032</td>\n",
       "      <td>1</td>\n",
       "      <td>14.1</td>\n",
       "      <td>26</td>\n",
       "      <td>instock</td>\n",
       "      <td>6.92</td>\n",
       "    </tr>\n",
       "    <tr>\n",
       "      <th>4</th>\n",
       "      <td>4039</td>\n",
       "      <td>1</td>\n",
       "      <td>46.0</td>\n",
       "      <td>3</td>\n",
       "      <td>outofstock</td>\n",
       "      <td>23.77</td>\n",
       "    </tr>\n",
       "  </tbody>\n",
       "</table>\n",
       "</div>"
      ],
      "text/plain": [
       "   product_id  onsale_web  price  stock_quantity stock_status  purchase_price\n",
       "0        3847           1   24.2              16      instock           12.88\n",
       "1        3849           1   34.3              10      instock           17.54\n",
       "2        3850           1   20.8               0   outofstock           10.64\n",
       "3        4032           1   14.1              26      instock            6.92\n",
       "4        4039           1   46.0               3   outofstock           23.77"
      ]
     },
     "execution_count": 13,
     "metadata": {},
     "output_type": "execute_result"
    }
   ],
   "source": [
    "#Afficher les 5 premières lignes de la table\n",
    "df_erp.head()"
   ]
  },
  {
   "cell_type": "code",
   "execution_count": 14,
   "id": "db102a4a",
   "metadata": {},
   "outputs": [
    {
     "name": "stdout",
     "output_type": "stream",
     "text": [
      "nous avons 0 doublons dans la colonne product_id\n"
     ]
    }
   ],
   "source": [
    "#Vérifier si il y a les lignes en doublons dans la colonne product_id\n",
    "doublons = df_erp.duplicated(subset=['product_id']).sum()\n",
    "print('nous avons', doublons ,'doublons dans la colonne product_id')\n",
    "del doublons"
   ]
  },
  {
   "cell_type": "code",
   "execution_count": 15,
   "id": "d443d4ff",
   "metadata": {},
   "outputs": [
    {
     "name": "stdout",
     "output_type": "stream",
     "text": [
      "les valeurs distinctes de la colonne stock_status sont ['instock', 'outofstock']\n",
      "les valeurs distinctes de la colonne stock_status sont liées à la qtt\n"
     ]
    }
   ],
   "source": [
    "#Afficher les valeurs distinctes de la colonne stock_status\n",
    "#À quelle(s) autre(s) colonne(s) sont-elles liées ?\n",
    "unique = list(df_erp['stock_status'].unique())\n",
    "print(f\"les valeurs distinctes de la colonne stock_status sont\", unique)\n",
    "print(\"les valeurs distinctes de la colonne stock_status sont liées à la colonne stock_quantity\")"
   ]
  },
  {
   "cell_type": "code",
   "execution_count": 16,
   "id": "3113a684",
   "metadata": {},
   "outputs": [
    {
     "data": {
      "text/html": [
       "<div>\n",
       "<style scoped>\n",
       "    .dataframe tbody tr th:only-of-type {\n",
       "        vertical-align: middle;\n",
       "    }\n",
       "\n",
       "    .dataframe tbody tr th {\n",
       "        vertical-align: top;\n",
       "    }\n",
       "\n",
       "    .dataframe thead th {\n",
       "        text-align: right;\n",
       "    }\n",
       "</style>\n",
       "<table border=\"1\" class=\"dataframe\">\n",
       "  <thead>\n",
       "    <tr style=\"text-align: right;\">\n",
       "      <th></th>\n",
       "      <th>product_id</th>\n",
       "      <th>onsale_web</th>\n",
       "      <th>price</th>\n",
       "      <th>stock_quantity</th>\n",
       "      <th>stock_status</th>\n",
       "      <th>purchase_price</th>\n",
       "    </tr>\n",
       "  </thead>\n",
       "  <tbody>\n",
       "    <tr>\n",
       "      <th>2</th>\n",
       "      <td>3850</td>\n",
       "      <td>1</td>\n",
       "      <td>20.8</td>\n",
       "      <td>0</td>\n",
       "      <td>outofstock</td>\n",
       "      <td>10.64</td>\n",
       "    </tr>\n",
       "    <tr>\n",
       "      <th>4</th>\n",
       "      <td>4039</td>\n",
       "      <td>1</td>\n",
       "      <td>46.0</td>\n",
       "      <td>3</td>\n",
       "      <td>outofstock</td>\n",
       "      <td>23.77</td>\n",
       "    </tr>\n",
       "    <tr>\n",
       "      <th>8</th>\n",
       "      <td>4043</td>\n",
       "      <td>1</td>\n",
       "      <td>60.0</td>\n",
       "      <td>0</td>\n",
       "      <td>outofstock</td>\n",
       "      <td>29.45</td>\n",
       "    </tr>\n",
       "    <tr>\n",
       "      <th>11</th>\n",
       "      <td>4047</td>\n",
       "      <td>1</td>\n",
       "      <td>18.3</td>\n",
       "      <td>0</td>\n",
       "      <td>outofstock</td>\n",
       "      <td>9.93</td>\n",
       "    </tr>\n",
       "    <tr>\n",
       "      <th>15</th>\n",
       "      <td>4051</td>\n",
       "      <td>1</td>\n",
       "      <td>7.7</td>\n",
       "      <td>0</td>\n",
       "      <td>outofstock</td>\n",
       "      <td>4.14</td>\n",
       "    </tr>\n",
       "    <tr>\n",
       "      <th>...</th>\n",
       "      <td>...</td>\n",
       "      <td>...</td>\n",
       "      <td>...</td>\n",
       "      <td>...</td>\n",
       "      <td>...</td>\n",
       "      <td>...</td>\n",
       "    </tr>\n",
       "    <tr>\n",
       "      <th>723</th>\n",
       "      <td>6301</td>\n",
       "      <td>1</td>\n",
       "      <td>40.5</td>\n",
       "      <td>0</td>\n",
       "      <td>outofstock</td>\n",
       "      <td>20.51</td>\n",
       "    </tr>\n",
       "    <tr>\n",
       "      <th>726</th>\n",
       "      <td>6327</td>\n",
       "      <td>0</td>\n",
       "      <td>28.5</td>\n",
       "      <td>0</td>\n",
       "      <td>outofstock</td>\n",
       "      <td>14.43</td>\n",
       "    </tr>\n",
       "    <tr>\n",
       "      <th>752</th>\n",
       "      <td>6632</td>\n",
       "      <td>1</td>\n",
       "      <td>52.7</td>\n",
       "      <td>0</td>\n",
       "      <td>outofstock</td>\n",
       "      <td>26.41</td>\n",
       "    </tr>\n",
       "    <tr>\n",
       "      <th>774</th>\n",
       "      <td>6900</td>\n",
       "      <td>0</td>\n",
       "      <td>30.0</td>\n",
       "      <td>0</td>\n",
       "      <td>outofstock</td>\n",
       "      <td>16.28</td>\n",
       "    </tr>\n",
       "    <tr>\n",
       "      <th>775</th>\n",
       "      <td>6901</td>\n",
       "      <td>0</td>\n",
       "      <td>20.0</td>\n",
       "      <td>0</td>\n",
       "      <td>outofstock</td>\n",
       "      <td>10.64</td>\n",
       "    </tr>\n",
       "  </tbody>\n",
       "</table>\n",
       "<p>92 rows × 6 columns</p>\n",
       "</div>"
      ],
      "text/plain": [
       "     product_id  onsale_web  price  stock_quantity stock_status  \\\n",
       "2          3850           1   20.8               0   outofstock   \n",
       "4          4039           1   46.0               3   outofstock   \n",
       "8          4043           1   60.0               0   outofstock   \n",
       "11         4047           1   18.3               0   outofstock   \n",
       "15         4051           1    7.7               0   outofstock   \n",
       "..          ...         ...    ...             ...          ...   \n",
       "723        6301           1   40.5               0   outofstock   \n",
       "726        6327           0   28.5               0   outofstock   \n",
       "752        6632           1   52.7               0   outofstock   \n",
       "774        6900           0   30.0               0   outofstock   \n",
       "775        6901           0   20.0               0   outofstock   \n",
       "\n",
       "     purchase_price  \n",
       "2             10.64  \n",
       "4             23.77  \n",
       "8             29.45  \n",
       "11             9.93  \n",
       "15             4.14  \n",
       "..              ...  \n",
       "723           20.51  \n",
       "726           14.43  \n",
       "752           26.41  \n",
       "774           16.28  \n",
       "775           10.64  \n",
       "\n",
       "[92 rows x 6 columns]"
      ]
     },
     "execution_count": 16,
     "metadata": {},
     "output_type": "execute_result"
    }
   ],
   "source": [
    "df_erp[df_erp['stock_status']=='outofstock']"
   ]
  },
  {
   "cell_type": "code",
   "execution_count": 17,
   "id": "b16c36a4",
   "metadata": {},
   "outputs": [
    {
     "name": "stdout",
     "output_type": "stream",
     "text": [
      "Table croisée stock_status vs stock_quantity (pour voir les relations):\n",
      "                        sum           mean          count\n",
      "             stock_quantity stock_quantity stock_quantity\n",
      "stock_status                                             \n",
      "instock               17819      24.309686            733\n",
      "outofstock               -8      -0.086957             92\n"
     ]
    }
   ],
   "source": [
    "# Créer une table croisée avec des fonctions d'agrégation\n",
    "pivot_table = df_erp.pivot_table(index='stock_status', values='stock_quantity', aggfunc=['sum', 'mean', 'count'])\n",
    "\n",
    "# Afficher la table croisée pour voir les relations\n",
    "print(\"Table croisée stock_status vs stock_quantity (pour voir les relations):\")\n",
    "print(pivot_table)\n",
    "del pivot_table"
   ]
  },
  {
   "cell_type": "code",
   "execution_count": 18,
   "id": "68088943",
   "metadata": {},
   "outputs": [],
   "source": [
    "#Création d'une colonne \"stock_status_2\n",
    "#La valeur de cette deuxième colonne sera fonction de la valeur dans la colonne \"stock_quantity\"\n",
    "#si la valeur de la colonne \"stock_quantity\" est nulle renseigner \"outofstock\" sinon mettre \"instock\"\n",
    "df_erp['stock_status_2']=np.where(df_erp['stock_quantity'] <= 0  , 'outofstock', 'instock')"
   ]
  },
  {
   "cell_type": "code",
   "execution_count": 19,
   "id": "839b16b3",
   "metadata": {},
   "outputs": [
    {
     "data": {
      "text/html": [
       "<div>\n",
       "<style scoped>\n",
       "    .dataframe tbody tr th:only-of-type {\n",
       "        vertical-align: middle;\n",
       "    }\n",
       "\n",
       "    .dataframe tbody tr th {\n",
       "        vertical-align: top;\n",
       "    }\n",
       "\n",
       "    .dataframe thead th {\n",
       "        text-align: right;\n",
       "    }\n",
       "</style>\n",
       "<table border=\"1\" class=\"dataframe\">\n",
       "  <thead>\n",
       "    <tr style=\"text-align: right;\">\n",
       "      <th></th>\n",
       "      <th>product_id</th>\n",
       "      <th>onsale_web</th>\n",
       "      <th>price</th>\n",
       "      <th>stock_quantity</th>\n",
       "      <th>purchase_price</th>\n",
       "    </tr>\n",
       "  </thead>\n",
       "  <tbody>\n",
       "    <tr>\n",
       "      <th>count</th>\n",
       "      <td>825.000000</td>\n",
       "      <td>825.000000</td>\n",
       "      <td>825.000000</td>\n",
       "      <td>825.000000</td>\n",
       "      <td>825.000000</td>\n",
       "    </tr>\n",
       "    <tr>\n",
       "      <th>mean</th>\n",
       "      <td>5162.597576</td>\n",
       "      <td>0.867879</td>\n",
       "      <td>32.187697</td>\n",
       "      <td>21.589091</td>\n",
       "      <td>16.940582</td>\n",
       "    </tr>\n",
       "    <tr>\n",
       "      <th>std</th>\n",
       "      <td>902.644635</td>\n",
       "      <td>0.338828</td>\n",
       "      <td>26.712077</td>\n",
       "      <td>21.933807</td>\n",
       "      <td>14.561840</td>\n",
       "    </tr>\n",
       "    <tr>\n",
       "      <th>min</th>\n",
       "      <td>3847.000000</td>\n",
       "      <td>0.000000</td>\n",
       "      <td>-20.000000</td>\n",
       "      <td>-10.000000</td>\n",
       "      <td>2.740000</td>\n",
       "    </tr>\n",
       "    <tr>\n",
       "      <th>25%</th>\n",
       "      <td>4348.000000</td>\n",
       "      <td>1.000000</td>\n",
       "      <td>14.500000</td>\n",
       "      <td>7.000000</td>\n",
       "      <td>7.590000</td>\n",
       "    </tr>\n",
       "    <tr>\n",
       "      <th>50%</th>\n",
       "      <td>4907.000000</td>\n",
       "      <td>1.000000</td>\n",
       "      <td>24.300000</td>\n",
       "      <td>18.000000</td>\n",
       "      <td>12.710000</td>\n",
       "    </tr>\n",
       "    <tr>\n",
       "      <th>75%</th>\n",
       "      <td>5805.000000</td>\n",
       "      <td>1.000000</td>\n",
       "      <td>42.000000</td>\n",
       "      <td>30.000000</td>\n",
       "      <td>22.020000</td>\n",
       "    </tr>\n",
       "    <tr>\n",
       "      <th>max</th>\n",
       "      <td>7338.000000</td>\n",
       "      <td>1.000000</td>\n",
       "      <td>225.000000</td>\n",
       "      <td>145.000000</td>\n",
       "      <td>137.810000</td>\n",
       "    </tr>\n",
       "  </tbody>\n",
       "</table>\n",
       "</div>"
      ],
      "text/plain": [
       "        product_id  onsale_web       price  stock_quantity  purchase_price\n",
       "count   825.000000  825.000000  825.000000      825.000000      825.000000\n",
       "mean   5162.597576    0.867879   32.187697       21.589091       16.940582\n",
       "std     902.644635    0.338828   26.712077       21.933807       14.561840\n",
       "min    3847.000000    0.000000  -20.000000      -10.000000        2.740000\n",
       "25%    4348.000000    1.000000   14.500000        7.000000        7.590000\n",
       "50%    4907.000000    1.000000   24.300000       18.000000       12.710000\n",
       "75%    5805.000000    1.000000   42.000000       30.000000       22.020000\n",
       "max    7338.000000    1.000000  225.000000      145.000000      137.810000"
      ]
     },
     "execution_count": 19,
     "metadata": {},
     "output_type": "execute_result"
    }
   ],
   "source": [
    "df_erp.describe()"
   ]
  },
  {
   "cell_type": "code",
   "execution_count": 20,
   "id": "fa478d8f",
   "metadata": {},
   "outputs": [
    {
     "data": {
      "text/html": [
       "<div>\n",
       "<style scoped>\n",
       "    .dataframe tbody tr th:only-of-type {\n",
       "        vertical-align: middle;\n",
       "    }\n",
       "\n",
       "    .dataframe tbody tr th {\n",
       "        vertical-align: top;\n",
       "    }\n",
       "\n",
       "    .dataframe thead th {\n",
       "        text-align: right;\n",
       "    }\n",
       "</style>\n",
       "<table border=\"1\" class=\"dataframe\">\n",
       "  <thead>\n",
       "    <tr style=\"text-align: right;\">\n",
       "      <th></th>\n",
       "      <th>product_id</th>\n",
       "      <th>onsale_web</th>\n",
       "      <th>price</th>\n",
       "      <th>stock_quantity</th>\n",
       "      <th>stock_status</th>\n",
       "      <th>purchase_price</th>\n",
       "      <th>stock_status_2</th>\n",
       "    </tr>\n",
       "  </thead>\n",
       "  <tbody>\n",
       "    <tr>\n",
       "      <th>0</th>\n",
       "      <td>3847</td>\n",
       "      <td>1</td>\n",
       "      <td>24.2</td>\n",
       "      <td>16</td>\n",
       "      <td>instock</td>\n",
       "      <td>12.88</td>\n",
       "      <td>instock</td>\n",
       "    </tr>\n",
       "    <tr>\n",
       "      <th>1</th>\n",
       "      <td>3849</td>\n",
       "      <td>1</td>\n",
       "      <td>34.3</td>\n",
       "      <td>10</td>\n",
       "      <td>instock</td>\n",
       "      <td>17.54</td>\n",
       "      <td>instock</td>\n",
       "    </tr>\n",
       "    <tr>\n",
       "      <th>2</th>\n",
       "      <td>3850</td>\n",
       "      <td>1</td>\n",
       "      <td>20.8</td>\n",
       "      <td>0</td>\n",
       "      <td>outofstock</td>\n",
       "      <td>10.64</td>\n",
       "      <td>outofstock</td>\n",
       "    </tr>\n",
       "    <tr>\n",
       "      <th>3</th>\n",
       "      <td>4032</td>\n",
       "      <td>1</td>\n",
       "      <td>14.1</td>\n",
       "      <td>26</td>\n",
       "      <td>instock</td>\n",
       "      <td>6.92</td>\n",
       "      <td>instock</td>\n",
       "    </tr>\n",
       "    <tr>\n",
       "      <th>4</th>\n",
       "      <td>4039</td>\n",
       "      <td>1</td>\n",
       "      <td>46.0</td>\n",
       "      <td>3</td>\n",
       "      <td>outofstock</td>\n",
       "      <td>23.77</td>\n",
       "      <td>instock</td>\n",
       "    </tr>\n",
       "    <tr>\n",
       "      <th>...</th>\n",
       "      <td>...</td>\n",
       "      <td>...</td>\n",
       "      <td>...</td>\n",
       "      <td>...</td>\n",
       "      <td>...</td>\n",
       "      <td>...</td>\n",
       "      <td>...</td>\n",
       "    </tr>\n",
       "    <tr>\n",
       "      <th>820</th>\n",
       "      <td>7203</td>\n",
       "      <td>0</td>\n",
       "      <td>45.0</td>\n",
       "      <td>30</td>\n",
       "      <td>instock</td>\n",
       "      <td>23.48</td>\n",
       "      <td>instock</td>\n",
       "    </tr>\n",
       "    <tr>\n",
       "      <th>821</th>\n",
       "      <td>7204</td>\n",
       "      <td>0</td>\n",
       "      <td>45.0</td>\n",
       "      <td>9</td>\n",
       "      <td>instock</td>\n",
       "      <td>24.18</td>\n",
       "      <td>instock</td>\n",
       "    </tr>\n",
       "    <tr>\n",
       "      <th>822</th>\n",
       "      <td>7247</td>\n",
       "      <td>1</td>\n",
       "      <td>54.8</td>\n",
       "      <td>6</td>\n",
       "      <td>instock</td>\n",
       "      <td>27.18</td>\n",
       "      <td>instock</td>\n",
       "    </tr>\n",
       "    <tr>\n",
       "      <th>823</th>\n",
       "      <td>7329</td>\n",
       "      <td>0</td>\n",
       "      <td>26.5</td>\n",
       "      <td>14</td>\n",
       "      <td>instock</td>\n",
       "      <td>13.42</td>\n",
       "      <td>instock</td>\n",
       "    </tr>\n",
       "    <tr>\n",
       "      <th>824</th>\n",
       "      <td>7338</td>\n",
       "      <td>1</td>\n",
       "      <td>16.3</td>\n",
       "      <td>40</td>\n",
       "      <td>instock</td>\n",
       "      <td>8.00</td>\n",
       "      <td>instock</td>\n",
       "    </tr>\n",
       "  </tbody>\n",
       "</table>\n",
       "<p>825 rows × 7 columns</p>\n",
       "</div>"
      ],
      "text/plain": [
       "     product_id  onsale_web  price  stock_quantity stock_status  \\\n",
       "0          3847           1   24.2              16      instock   \n",
       "1          3849           1   34.3              10      instock   \n",
       "2          3850           1   20.8               0   outofstock   \n",
       "3          4032           1   14.1              26      instock   \n",
       "4          4039           1   46.0               3   outofstock   \n",
       "..          ...         ...    ...             ...          ...   \n",
       "820        7203           0   45.0              30      instock   \n",
       "821        7204           0   45.0               9      instock   \n",
       "822        7247           1   54.8               6      instock   \n",
       "823        7329           0   26.5              14      instock   \n",
       "824        7338           1   16.3              40      instock   \n",
       "\n",
       "     purchase_price stock_status_2  \n",
       "0             12.88        instock  \n",
       "1             17.54        instock  \n",
       "2             10.64     outofstock  \n",
       "3              6.92        instock  \n",
       "4             23.77        instock  \n",
       "..              ...            ...  \n",
       "820           23.48        instock  \n",
       "821           24.18        instock  \n",
       "822           27.18        instock  \n",
       "823           13.42        instock  \n",
       "824            8.00        instock  \n",
       "\n",
       "[825 rows x 7 columns]"
      ]
     },
     "execution_count": 20,
     "metadata": {},
     "output_type": "execute_result"
    }
   ],
   "source": [
    "df_erp"
   ]
  },
  {
   "cell_type": "code",
   "execution_count": 21,
   "id": "90a1c8ae",
   "metadata": {},
   "outputs": [
    {
     "data": {
      "text/plain": [
       "0       True\n",
       "1       True\n",
       "2       True\n",
       "3       True\n",
       "4      False\n",
       "       ...  \n",
       "820     True\n",
       "821     True\n",
       "822     True\n",
       "823     True\n",
       "824     True\n",
       "Length: 825, dtype: bool"
      ]
     },
     "execution_count": 21,
     "metadata": {},
     "output_type": "execute_result"
    }
   ],
   "source": [
    "#Vérifions que les 2 colonnes sont identiques:\n",
    "#Les 2 colonnes sont strictement identiques si les valeurs de chaque ligne sont strictement identiques 2 à 2\n",
    "#La comparaison de 2 colonnes peut se réaliser simplement avec l'instruction ci-dessous:\n",
    "df_erp[\"stock_status\"] == df_erp[\"stock_status_2\"]\n",
    "\n",
    "#Le résultat est l'affichage de True ou False pour chacune des lignes du dataset\n",
    "#C'est un bon début, mais difficile à exploiter"
   ]
  },
  {
   "cell_type": "code",
   "execution_count": 22,
   "id": "ebe3650a",
   "metadata": {},
   "outputs": [
    {
     "name": "stdout",
     "output_type": "stream",
     "text": [
      "nous avons 823 lignes identiques\n"
     ]
    }
   ],
   "source": [
    "#Il est possible de synthétiser ce résultat en effectuant la somme de cette colonne:\n",
    "#True vaut 1 et False 0\n",
    "#Nous devrions obtenir la somme de 824 qui correspond au nombre de lignes dans ce dataset\n",
    "comparaison = df_erp[\"stock_status\"] == df_erp[\"stock_status_2\"]\n",
    "comparaison_sum = comparaison.sum()\n",
    "print ('nous avons',comparaison_sum,'lignes identiques')\n"
   ]
  },
  {
   "cell_type": "code",
   "execution_count": 23,
   "id": "f0da559b",
   "metadata": {},
   "outputs": [
    {
     "name": "stdout",
     "output_type": "stream",
     "text": [
      "<class 'pandas.core.frame.DataFrame'>\n",
      "RangeIndex: 825 entries, 0 to 824\n",
      "Data columns (total 7 columns):\n",
      " #   Column          Non-Null Count  Dtype  \n",
      "---  ------          --------------  -----  \n",
      " 0   product_id      825 non-null    int64  \n",
      " 1   onsale_web      825 non-null    int64  \n",
      " 2   price           825 non-null    float64\n",
      " 3   stock_quantity  825 non-null    int64  \n",
      " 4   stock_status    825 non-null    object \n",
      " 5   purchase_price  825 non-null    float64\n",
      " 6   stock_status_2  825 non-null    object \n",
      "dtypes: float64(2), int64(3), object(2)\n",
      "memory usage: 45.2+ KB\n"
     ]
    }
   ],
   "source": [
    "df_erp.info()"
   ]
  },
  {
   "cell_type": "code",
   "execution_count": 24,
   "id": "1ca6060a",
   "metadata": {},
   "outputs": [
    {
     "data": {
      "text/html": [
       "<div>\n",
       "<style scoped>\n",
       "    .dataframe tbody tr th:only-of-type {\n",
       "        vertical-align: middle;\n",
       "    }\n",
       "\n",
       "    .dataframe tbody tr th {\n",
       "        vertical-align: top;\n",
       "    }\n",
       "\n",
       "    .dataframe thead th {\n",
       "        text-align: right;\n",
       "    }\n",
       "</style>\n",
       "<table border=\"1\" class=\"dataframe\">\n",
       "  <thead>\n",
       "    <tr style=\"text-align: right;\">\n",
       "      <th></th>\n",
       "      <th>product_id</th>\n",
       "      <th>onsale_web</th>\n",
       "      <th>price</th>\n",
       "      <th>stock_quantity</th>\n",
       "      <th>stock_status</th>\n",
       "      <th>purchase_price</th>\n",
       "      <th>stock_status_2</th>\n",
       "    </tr>\n",
       "  </thead>\n",
       "  <tbody>\n",
       "    <tr>\n",
       "      <th>4</th>\n",
       "      <td>4039</td>\n",
       "      <td>1</td>\n",
       "      <td>46.0</td>\n",
       "      <td>3</td>\n",
       "      <td>outofstock</td>\n",
       "      <td>23.77</td>\n",
       "      <td>instock</td>\n",
       "    </tr>\n",
       "    <tr>\n",
       "      <th>398</th>\n",
       "      <td>4885</td>\n",
       "      <td>1</td>\n",
       "      <td>18.7</td>\n",
       "      <td>0</td>\n",
       "      <td>instock</td>\n",
       "      <td>9.66</td>\n",
       "      <td>outofstock</td>\n",
       "    </tr>\n",
       "  </tbody>\n",
       "</table>\n",
       "</div>"
      ],
      "text/plain": [
       "     product_id  onsale_web  price  stock_quantity stock_status  \\\n",
       "4          4039           1   46.0               3   outofstock   \n",
       "398        4885           1   18.7               0      instock   \n",
       "\n",
       "     purchase_price stock_status_2  \n",
       "4             23.77        instock  \n",
       "398            9.66     outofstock  "
      ]
     },
     "execution_count": 24,
     "metadata": {},
     "output_type": "execute_result"
    }
   ],
   "source": [
    "#Si les colonnes ne sont absolument pas identiques ligne à ligne alors identifier la ligne en écart\n",
    "different_rows = df_erp[~comparaison]\n",
    "different_rows"
   ]
  },
  {
   "cell_type": "code",
   "execution_count": 25,
   "id": "70bb65cb",
   "metadata": {},
   "outputs": [],
   "source": [
    "df_erp['stock_status']=df_erp['stock_status_2']"
   ]
  },
  {
   "cell_type": "code",
   "execution_count": 26,
   "id": "195879da",
   "metadata": {},
   "outputs": [
    {
     "data": {
      "text/html": [
       "<div>\n",
       "<style scoped>\n",
       "    .dataframe tbody tr th:only-of-type {\n",
       "        vertical-align: middle;\n",
       "    }\n",
       "\n",
       "    .dataframe tbody tr th {\n",
       "        vertical-align: top;\n",
       "    }\n",
       "\n",
       "    .dataframe thead th {\n",
       "        text-align: right;\n",
       "    }\n",
       "</style>\n",
       "<table border=\"1\" class=\"dataframe\">\n",
       "  <thead>\n",
       "    <tr style=\"text-align: right;\">\n",
       "      <th></th>\n",
       "      <th>product_id</th>\n",
       "      <th>onsale_web</th>\n",
       "      <th>price</th>\n",
       "      <th>stock_quantity</th>\n",
       "      <th>stock_status</th>\n",
       "      <th>purchase_price</th>\n",
       "      <th>stock_status_2</th>\n",
       "    </tr>\n",
       "  </thead>\n",
       "  <tbody>\n",
       "    <tr>\n",
       "      <th>4</th>\n",
       "      <td>4039</td>\n",
       "      <td>1</td>\n",
       "      <td>46.0</td>\n",
       "      <td>3</td>\n",
       "      <td>instock</td>\n",
       "      <td>23.77</td>\n",
       "      <td>instock</td>\n",
       "    </tr>\n",
       "    <tr>\n",
       "      <th>398</th>\n",
       "      <td>4885</td>\n",
       "      <td>1</td>\n",
       "      <td>18.7</td>\n",
       "      <td>0</td>\n",
       "      <td>outofstock</td>\n",
       "      <td>9.66</td>\n",
       "      <td>outofstock</td>\n",
       "    </tr>\n",
       "  </tbody>\n",
       "</table>\n",
       "</div>"
      ],
      "text/plain": [
       "     product_id  onsale_web  price  stock_quantity stock_status  \\\n",
       "4          4039           1   46.0               3      instock   \n",
       "398        4885           1   18.7               0   outofstock   \n",
       "\n",
       "     purchase_price stock_status_2  \n",
       "4             23.77        instock  \n",
       "398            9.66     outofstock  "
      ]
     },
     "execution_count": 26,
     "metadata": {},
     "output_type": "execute_result"
    }
   ],
   "source": [
    "different_rows = df_erp[~comparaison]\n",
    "different_rows"
   ]
  },
  {
   "cell_type": "code",
   "execution_count": 27,
   "id": "ce1b9704",
   "metadata": {},
   "outputs": [
    {
     "name": "stdout",
     "output_type": "stream",
     "text": [
      "nous avons 823 lignes identiques\n"
     ]
    }
   ],
   "source": [
    "#Corriger la ou les données incohérentes\n",
    "df_erp['stock_status']=df_erp['stock_status_2']\n",
    "#Verification en utilisant le même code que plus haut pour afficher les problemes\n",
    "df_erp['stock_status_2']=np.where(df_erp['stock_quantity'] == 0 , 'outofstock', 'instock')\n",
    "comparaison = df_erp[\"stock_status\"] == df_erp[\"stock_status_2\"]\n",
    "comparaison_sum = comparaison.sum()\n",
    "print ('nous avons',comparaison_sum,'lignes identiques')"
   ]
  },
  {
   "cell_type": "markdown",
   "id": "fe83cd0d",
   "metadata": {},
   "source": [
    "Est c'est le resultat recherche "
   ]
  },
  {
   "cell_type": "code",
   "execution_count": 28,
   "id": "d0f1cf5f",
   "metadata": {},
   "outputs": [
    {
     "data": {
      "text/html": [
       "<div>\n",
       "<style scoped>\n",
       "    .dataframe tbody tr th:only-of-type {\n",
       "        vertical-align: middle;\n",
       "    }\n",
       "\n",
       "    .dataframe tbody tr th {\n",
       "        vertical-align: top;\n",
       "    }\n",
       "\n",
       "    .dataframe thead th {\n",
       "        text-align: right;\n",
       "    }\n",
       "</style>\n",
       "<table border=\"1\" class=\"dataframe\">\n",
       "  <thead>\n",
       "    <tr style=\"text-align: right;\">\n",
       "      <th></th>\n",
       "      <th>product_id</th>\n",
       "      <th>onsale_web</th>\n",
       "      <th>price</th>\n",
       "      <th>stock_quantity</th>\n",
       "      <th>stock_status</th>\n",
       "      <th>purchase_price</th>\n",
       "      <th>stock_status_2</th>\n",
       "    </tr>\n",
       "  </thead>\n",
       "  <tbody>\n",
       "    <tr>\n",
       "      <th>0</th>\n",
       "      <td>3847</td>\n",
       "      <td>1</td>\n",
       "      <td>24.2</td>\n",
       "      <td>16</td>\n",
       "      <td>instock</td>\n",
       "      <td>12.88</td>\n",
       "      <td>instock</td>\n",
       "    </tr>\n",
       "    <tr>\n",
       "      <th>1</th>\n",
       "      <td>3849</td>\n",
       "      <td>1</td>\n",
       "      <td>34.3</td>\n",
       "      <td>10</td>\n",
       "      <td>instock</td>\n",
       "      <td>17.54</td>\n",
       "      <td>instock</td>\n",
       "    </tr>\n",
       "    <tr>\n",
       "      <th>2</th>\n",
       "      <td>3850</td>\n",
       "      <td>1</td>\n",
       "      <td>20.8</td>\n",
       "      <td>0</td>\n",
       "      <td>outofstock</td>\n",
       "      <td>10.64</td>\n",
       "      <td>outofstock</td>\n",
       "    </tr>\n",
       "    <tr>\n",
       "      <th>3</th>\n",
       "      <td>4032</td>\n",
       "      <td>1</td>\n",
       "      <td>14.1</td>\n",
       "      <td>26</td>\n",
       "      <td>instock</td>\n",
       "      <td>6.92</td>\n",
       "      <td>instock</td>\n",
       "    </tr>\n",
       "    <tr>\n",
       "      <th>4</th>\n",
       "      <td>4039</td>\n",
       "      <td>1</td>\n",
       "      <td>46.0</td>\n",
       "      <td>3</td>\n",
       "      <td>instock</td>\n",
       "      <td>23.77</td>\n",
       "      <td>instock</td>\n",
       "    </tr>\n",
       "    <tr>\n",
       "      <th>...</th>\n",
       "      <td>...</td>\n",
       "      <td>...</td>\n",
       "      <td>...</td>\n",
       "      <td>...</td>\n",
       "      <td>...</td>\n",
       "      <td>...</td>\n",
       "      <td>...</td>\n",
       "    </tr>\n",
       "    <tr>\n",
       "      <th>820</th>\n",
       "      <td>7203</td>\n",
       "      <td>0</td>\n",
       "      <td>45.0</td>\n",
       "      <td>30</td>\n",
       "      <td>instock</td>\n",
       "      <td>23.48</td>\n",
       "      <td>instock</td>\n",
       "    </tr>\n",
       "    <tr>\n",
       "      <th>821</th>\n",
       "      <td>7204</td>\n",
       "      <td>0</td>\n",
       "      <td>45.0</td>\n",
       "      <td>9</td>\n",
       "      <td>instock</td>\n",
       "      <td>24.18</td>\n",
       "      <td>instock</td>\n",
       "    </tr>\n",
       "    <tr>\n",
       "      <th>822</th>\n",
       "      <td>7247</td>\n",
       "      <td>1</td>\n",
       "      <td>54.8</td>\n",
       "      <td>6</td>\n",
       "      <td>instock</td>\n",
       "      <td>27.18</td>\n",
       "      <td>instock</td>\n",
       "    </tr>\n",
       "    <tr>\n",
       "      <th>823</th>\n",
       "      <td>7329</td>\n",
       "      <td>0</td>\n",
       "      <td>26.5</td>\n",
       "      <td>14</td>\n",
       "      <td>instock</td>\n",
       "      <td>13.42</td>\n",
       "      <td>instock</td>\n",
       "    </tr>\n",
       "    <tr>\n",
       "      <th>824</th>\n",
       "      <td>7338</td>\n",
       "      <td>1</td>\n",
       "      <td>16.3</td>\n",
       "      <td>40</td>\n",
       "      <td>instock</td>\n",
       "      <td>8.00</td>\n",
       "      <td>instock</td>\n",
       "    </tr>\n",
       "  </tbody>\n",
       "</table>\n",
       "<p>825 rows × 7 columns</p>\n",
       "</div>"
      ],
      "text/plain": [
       "     product_id  onsale_web  price  stock_quantity stock_status  \\\n",
       "0          3847           1   24.2              16      instock   \n",
       "1          3849           1   34.3              10      instock   \n",
       "2          3850           1   20.8               0   outofstock   \n",
       "3          4032           1   14.1              26      instock   \n",
       "4          4039           1   46.0               3      instock   \n",
       "..          ...         ...    ...             ...          ...   \n",
       "820        7203           0   45.0              30      instock   \n",
       "821        7204           0   45.0               9      instock   \n",
       "822        7247           1   54.8               6      instock   \n",
       "823        7329           0   26.5              14      instock   \n",
       "824        7338           1   16.3              40      instock   \n",
       "\n",
       "     purchase_price stock_status_2  \n",
       "0             12.88        instock  \n",
       "1             17.54        instock  \n",
       "2             10.64     outofstock  \n",
       "3              6.92        instock  \n",
       "4             23.77        instock  \n",
       "..              ...            ...  \n",
       "820           23.48        instock  \n",
       "821           24.18        instock  \n",
       "822           27.18        instock  \n",
       "823           13.42        instock  \n",
       "824            8.00        instock  \n",
       "\n",
       "[825 rows x 7 columns]"
      ]
     },
     "execution_count": 28,
     "metadata": {},
     "output_type": "execute_result"
    }
   ],
   "source": [
    "df_erp"
   ]
  },
  {
   "cell_type": "code",
   "execution_count": 29,
   "id": "1c5c77cf",
   "metadata": {},
   "outputs": [
    {
     "data": {
      "text/html": [
       "<div>\n",
       "<style scoped>\n",
       "    .dataframe tbody tr th:only-of-type {\n",
       "        vertical-align: middle;\n",
       "    }\n",
       "\n",
       "    .dataframe tbody tr th {\n",
       "        vertical-align: top;\n",
       "    }\n",
       "\n",
       "    .dataframe thead th {\n",
       "        text-align: right;\n",
       "    }\n",
       "</style>\n",
       "<table border=\"1\" class=\"dataframe\">\n",
       "  <thead>\n",
       "    <tr style=\"text-align: right;\">\n",
       "      <th></th>\n",
       "      <th>product_id</th>\n",
       "      <th>onsale_web</th>\n",
       "      <th>price</th>\n",
       "      <th>stock_quantity</th>\n",
       "      <th>stock_status</th>\n",
       "      <th>purchase_price</th>\n",
       "      <th>stock_status_2</th>\n",
       "    </tr>\n",
       "  </thead>\n",
       "  <tbody>\n",
       "  </tbody>\n",
       "</table>\n",
       "</div>"
      ],
      "text/plain": [
       "Empty DataFrame\n",
       "Columns: [product_id, onsale_web, price, stock_quantity, stock_status, purchase_price, stock_status_2]\n",
       "Index: []"
      ]
     },
     "execution_count": 29,
     "metadata": {},
     "output_type": "execute_result"
    }
   ],
   "source": [
    "df_erp[df_erp.isnull().any(axis=1)]"
   ]
  },
  {
   "cell_type": "markdown",
   "id": "08bd4b08",
   "metadata": {},
   "source": [
    "<div style=\"border: 1px solid RGB(51,165,182);\" >\n",
    "<h3 style=\"margin: auto; padding: 20px; color: RGB(51,165,182); \">2.1.1 - Analyse exploratoire de chaque variable du fichier erp.xlsx</h3>\n",
    "</div>"
   ]
  },
  {
   "cell_type": "markdown",
   "id": "3476df40",
   "metadata": {},
   "source": [
    "<div style=\"border: 1px solid RGB(51,165,182);\" >\n",
    "<h3 style=\"margin: auto; padding: 20px; color: RGB(51,165,182); \">2.1.1.1 - Analyse de la variable PRIX</h3>\n",
    "</div>"
   ]
  },
  {
   "cell_type": "code",
   "execution_count": 30,
   "id": "a7fc3384",
   "metadata": {},
   "outputs": [
    {
     "name": "stdout",
     "output_type": "stream",
     "text": [
      "Nombres d'article avec un prix non renseignés: 0\n",
      "le prix minimum de la colonne 'price' -20.0\n",
      "le prix maximum de la colonne 'price' 225.0\n",
      "les prix inférieurs à 0 de la colonne 'price' 3\n"
     ]
    }
   ],
   "source": [
    "###############\n",
    "## LES PRIX  ##\n",
    "###############\n",
    "\n",
    "#Vérification des prix: Y a t-il des prix non renseignés, négatif ou nul?\n",
    "prix_null_erp = df_erp['price'].isnull().sum()\n",
    "\n",
    "#Afficher le ou les prix non renseignés dans la colonne \"price\"\n",
    "print(f\"Nombres d'article avec un prix non renseignés: {prix_null_erp}\".format()) \n",
    "#Afficher le prix minimum de la colonne \"price\"\n",
    "prix_min_erp = df_erp['price'].min()\n",
    "print(\"le prix minimum de la colonne 'price'\",prix_min_erp)\n",
    "#Afficher le prix maximum de la colonne \"price\"\n",
    "prix_max_erp = df_erp['price'].max()\n",
    "print(\"le prix maximum de la colonne 'price'\",prix_max_erp)\n",
    "#Affichier les prix inférieurs à 0 \n",
    "prix_neg_erp = df_erp['price'].le(0).sum()\n",
    "print(\"Nombre de prix inférieurs à 0 de la colonne 'price'\",prix_neg_erp)"
   ]
  },
  {
   "cell_type": "code",
   "execution_count": 31,
   "id": "5c44cee1",
   "metadata": {},
   "outputs": [
    {
     "name": "stdout",
     "output_type": "stream",
     "text": [
      "DataFrame avec les prix non renseignés ou négatifs remplacés:\n",
      "     product_id  onsale_web  price  stock_quantity stock_status  \\\n",
      "0          3847           1   24.2              16      instock   \n",
      "1          3849           1   34.3              10      instock   \n",
      "2          3850           1   20.8               0   outofstock   \n",
      "3          4032           1   14.1              26      instock   \n",
      "4          4039           1   46.0               3      instock   \n",
      "..          ...         ...    ...             ...          ...   \n",
      "820        7203           0   45.0              30      instock   \n",
      "821        7204           0   45.0               9      instock   \n",
      "822        7247           1   54.8               6      instock   \n",
      "823        7329           0   26.5              14      instock   \n",
      "824        7338           1   16.3              40      instock   \n",
      "\n",
      "     purchase_price stock_status_2  \n",
      "0             12.88        instock  \n",
      "1             17.54        instock  \n",
      "2             10.64     outofstock  \n",
      "3              6.92        instock  \n",
      "4             23.77        instock  \n",
      "..              ...            ...  \n",
      "820           23.48        instock  \n",
      "821           24.18        instock  \n",
      "822           27.18        instock  \n",
      "823           13.42        instock  \n",
      "824            8.00        instock  \n",
      "\n",
      "[822 rows x 7 columns]\n"
     ]
    }
   ],
   "source": [
    "#On regarde en detail les lignes avec un prix inférieurs à 0 ;\n",
    "erp_neg_prix = (df_erp['price'] < 0)\n",
    "erp_neg_prix\n",
    "#On drop les prix negatif (Demande du client)\n",
    "df_erp = df_erp[~erp_neg_prix]\n",
    "\n",
    "# Afficher le DataFrame avec les prix remplacés\n",
    "print(\"DataFrame avec les prix non renseignés ou négatifs remplacés:\")\n",
    "print(df_erp)"
   ]
  },
  {
   "cell_type": "code",
   "execution_count": 32,
   "id": "987e31cf",
   "metadata": {},
   "outputs": [
    {
     "data": {
      "text/html": [
       "<div>\n",
       "<style scoped>\n",
       "    .dataframe tbody tr th:only-of-type {\n",
       "        vertical-align: middle;\n",
       "    }\n",
       "\n",
       "    .dataframe tbody tr th {\n",
       "        vertical-align: top;\n",
       "    }\n",
       "\n",
       "    .dataframe thead th {\n",
       "        text-align: right;\n",
       "    }\n",
       "</style>\n",
       "<table border=\"1\" class=\"dataframe\">\n",
       "  <thead>\n",
       "    <tr style=\"text-align: right;\">\n",
       "      <th></th>\n",
       "      <th>product_id</th>\n",
       "      <th>onsale_web</th>\n",
       "      <th>price</th>\n",
       "      <th>stock_quantity</th>\n",
       "      <th>stock_status</th>\n",
       "      <th>purchase_price</th>\n",
       "      <th>stock_status_2</th>\n",
       "    </tr>\n",
       "  </thead>\n",
       "  <tbody>\n",
       "  </tbody>\n",
       "</table>\n",
       "</div>"
      ],
      "text/plain": [
       "Empty DataFrame\n",
       "Columns: [product_id, onsale_web, price, stock_quantity, stock_status, purchase_price, stock_status_2]\n",
       "Index: []"
      ]
     },
     "execution_count": 32,
     "metadata": {},
     "output_type": "execute_result"
    }
   ],
   "source": [
    "erp_neg_prix = (df_erp['price'] < 0)\n",
    "df_erp[erp_neg_prix]"
   ]
  },
  {
   "cell_type": "code",
   "execution_count": 33,
   "id": "d41fc920",
   "metadata": {},
   "outputs": [
    {
     "name": "stdout",
     "output_type": "stream",
     "text": [
      "le prix minimum de la colonne 'price' 5.2\n"
     ]
    }
   ],
   "source": [
    "prix_min_erp = df_erp['price'].min()\n",
    "print(\"le prix minimum de la colonne 'price'\",prix_min_erp)"
   ]
  },
  {
   "cell_type": "code",
   "execution_count": null,
   "id": "8d467e06",
   "metadata": {},
   "outputs": [],
   "source": []
  },
  {
   "cell_type": "markdown",
   "id": "c5fce58c",
   "metadata": {},
   "source": [
    "<div style=\"border: 1px solid RGB(51,165,182);\" >\n",
    "<h3 style=\"margin: auto; padding: 20px; color: RGB(51,165,182); \">2.1.1.2 - Analyse de la variable STOCK</h3>\n",
    "</div>"
   ]
  },
  {
   "cell_type": "code",
   "execution_count": 34,
   "id": "3d14c4a0",
   "metadata": {},
   "outputs": [
    {
     "name": "stdout",
     "output_type": "stream",
     "text": [
      "la quantité minimum de la colonne 'stock_quantity' -10\n",
      "la quantité maximum de la colonne 'stock_quantity' 145\n",
      "les stocks inférieurs à 0 de la colonne 'stock_quantity' 2\n"
     ]
    }
   ],
   "source": [
    "#######################\n",
    "### stock_quantity  ###\n",
    "#######################\n",
    "\n",
    "#Vérification de la colonne stock quantity\n",
    "#Afficher la quantité minimum de la colonne \"stock_quantity\"\n",
    "qtt_min_erp = df_erp['stock_quantity'].min()\n",
    "print(\"la quantité minimum de la colonne 'stock_quantity'\",qtt_min_erp)\n",
    "#Afficher la quantité maximum de la colonne \"stock_quantity\"\n",
    "qtt_max_erp = df_erp['stock_quantity'].max()\n",
    "print(\"la quantité maximum de la colonne 'stock_quantity'\",qtt_max_erp)\n",
    "#Affichier les stocks inférieurs à 0 (qu'est ce qu'il faut en faire ?)\n",
    "erp_neg_qtt = (df_erp['stock_quantity'] < 0).sum()\n",
    "print(\"nombre de stocks inférieurs à 0 de la colonne 'stock_quantity'\",erp_neg_qtt)"
   ]
  },
  {
   "cell_type": "code",
   "execution_count": 35,
   "id": "bd15a400",
   "metadata": {},
   "outputs": [
    {
     "name": "stdout",
     "output_type": "stream",
     "text": [
      "DataFrame avec les stocks inférieurs ou égaux à 0 remplacés par 0 :\n",
      "     product_id  onsale_web  price  stock_quantity stock_status  \\\n",
      "0          3847           1   24.2              16      instock   \n",
      "1          3849           1   34.3              10      instock   \n",
      "2          3850           1   20.8               0   outofstock   \n",
      "3          4032           1   14.1              26      instock   \n",
      "4          4039           1   46.0               3      instock   \n",
      "..          ...         ...    ...             ...          ...   \n",
      "820        7203           0   45.0              30      instock   \n",
      "821        7204           0   45.0               9      instock   \n",
      "822        7247           1   54.8               6      instock   \n",
      "823        7329           0   26.5              14      instock   \n",
      "824        7338           1   16.3              40      instock   \n",
      "\n",
      "     purchase_price stock_status_2  \n",
      "0             12.88        instock  \n",
      "1             17.54        instock  \n",
      "2             10.64     outofstock  \n",
      "3              6.92        instock  \n",
      "4             23.77        instock  \n",
      "..              ...            ...  \n",
      "820           23.48        instock  \n",
      "821           24.18        instock  \n",
      "822           27.18        instock  \n",
      "823           13.42        instock  \n",
      "824            8.00        instock  \n",
      "\n",
      "[822 rows x 7 columns]\n"
     ]
    },
    {
     "name": "stderr",
     "output_type": "stream",
     "text": [
      "C:\\Users\\ZAPHAS\\AppData\\Local\\Temp\\ipykernel_21176\\154482003.py:3: SettingWithCopyWarning: \n",
      "A value is trying to be set on a copy of a slice from a DataFrame.\n",
      "Try using .loc[row_indexer,col_indexer] = value instead\n",
      "\n",
      "See the caveats in the documentation: https://pandas.pydata.org/pandas-docs/stable/user_guide/indexing.html#returning-a-view-versus-a-copy\n",
      "  df_erp['stock_quantity'] = df_erp['stock_quantity'].mask(df_erp['stock_quantity'].le(0), 0)\n"
     ]
    }
   ],
   "source": [
    "#les stocks inférieurs à 0 de la colonne 'stock_quantity' 92 ; faudra tout passer a 0\n",
    "# Remplacer les stocks inférieurs ou égaux à 0 par 0\n",
    "df_erp['stock_quantity'] = df_erp['stock_quantity'].mask(df_erp['stock_quantity'].le(0), 0)\n",
    "\n",
    "# Afficher le DataFrame avec les stocks modifiés\n",
    "print(\"DataFrame avec les stocks inférieurs ou égaux à 0 remplacés par 0 :\")\n",
    "print(df_erp)"
   ]
  },
  {
   "cell_type": "code",
   "execution_count": 36,
   "id": "1e590e13",
   "metadata": {},
   "outputs": [
    {
     "name": "stdout",
     "output_type": "stream",
     "text": [
      "la somme des stocks inférieurs à 0 de la colonne 'stock_quantity' est égale à 0\n"
     ]
    }
   ],
   "source": [
    "erp_neg_qtt = (df_erp['stock_quantity'] < 0).sum()\n",
    "print(\"la somme des stocks inférieurs à 0 de la colonne 'stock_quantity' est égale à\",erp_neg_qtt,\"parfait, cela veut dire que nous pouvons passer a la suite\")"
   ]
  },
  {
   "cell_type": "markdown",
   "id": "20e8c554",
   "metadata": {},
   "source": [
    "<div style=\"border: 1px solid RGB(51,165,182);\" >\n",
    "<h3 style=\"margin: auto; padding: 20px; color: RGB(51,165,182); \">2.1.1.3 - Analyse de la variable ONSALE_WEB</h3>\n",
    "</div>"
   ]
  },
  {
   "cell_type": "code",
   "execution_count": 37,
   "id": "99b936ca",
   "metadata": {},
   "outputs": [
    {
     "name": "stdout",
     "output_type": "stream",
     "text": [
      "0      1\n",
      "1      1\n",
      "2      1\n",
      "3      1\n",
      "4      1\n",
      "      ..\n",
      "820    0\n",
      "821    0\n",
      "822    1\n",
      "823    0\n",
      "824    1\n",
      "Name: onsale_web, Length: 822, dtype: int64\n",
      "c est une valeur boolean, pour dire si l article est en ligne ou pas\n"
     ]
    }
   ],
   "source": [
    "#Vérification de la colonne onsale_web et des valeurs qu'elle contient? Que signifient-elles?\n",
    "print(df_erp['onsale_web'])\n",
    "#\n",
    "print(\"c est une valeur boolean, pour dire si l article est en ligne ou pas\")"
   ]
  },
  {
   "cell_type": "code",
   "execution_count": 38,
   "id": "5a79444d",
   "metadata": {},
   "outputs": [],
   "source": [
    "#Quelles sont les colonnes à conserver selon vous?\n",
    "#toutes "
   ]
  },
  {
   "cell_type": "code",
   "execution_count": 39,
   "id": "8053aeda",
   "metadata": {},
   "outputs": [
    {
     "name": "stderr",
     "output_type": "stream",
     "text": [
      "C:\\Users\\ZAPHAS\\AppData\\Local\\Temp\\ipykernel_21176\\1048807866.py:3: SettingWithCopyWarning: \n",
      "A value is trying to be set on a copy of a slice from a DataFrame\n",
      "\n",
      "See the caveats in the documentation: https://pandas.pydata.org/pandas-docs/stable/user_guide/indexing.html#returning-a-view-versus-a-copy\n",
      "  df_erp.drop(columns=['stock_status_2'], inplace=True)\n"
     ]
    }
   ],
   "source": [
    "#Supprimer la colonne comportant le libellé \"stock_status_2\" car elle est redondante \n",
    "#avec la colonne \"stock_status\".\n",
    "df_erp.drop(columns=['stock_status_2'], inplace=True)"
   ]
  },
  {
   "cell_type": "code",
   "execution_count": 40,
   "id": "078f16dc",
   "metadata": {},
   "outputs": [
    {
     "data": {
      "text/html": [
       "<div>\n",
       "<style scoped>\n",
       "    .dataframe tbody tr th:only-of-type {\n",
       "        vertical-align: middle;\n",
       "    }\n",
       "\n",
       "    .dataframe tbody tr th {\n",
       "        vertical-align: top;\n",
       "    }\n",
       "\n",
       "    .dataframe thead th {\n",
       "        text-align: right;\n",
       "    }\n",
       "</style>\n",
       "<table border=\"1\" class=\"dataframe\">\n",
       "  <thead>\n",
       "    <tr style=\"text-align: right;\">\n",
       "      <th></th>\n",
       "      <th>product_id</th>\n",
       "      <th>onsale_web</th>\n",
       "      <th>price</th>\n",
       "      <th>stock_quantity</th>\n",
       "      <th>stock_status</th>\n",
       "      <th>purchase_price</th>\n",
       "    </tr>\n",
       "  </thead>\n",
       "  <tbody>\n",
       "    <tr>\n",
       "      <th>0</th>\n",
       "      <td>3847</td>\n",
       "      <td>1</td>\n",
       "      <td>24.2</td>\n",
       "      <td>16</td>\n",
       "      <td>instock</td>\n",
       "      <td>12.88</td>\n",
       "    </tr>\n",
       "    <tr>\n",
       "      <th>1</th>\n",
       "      <td>3849</td>\n",
       "      <td>1</td>\n",
       "      <td>34.3</td>\n",
       "      <td>10</td>\n",
       "      <td>instock</td>\n",
       "      <td>17.54</td>\n",
       "    </tr>\n",
       "    <tr>\n",
       "      <th>2</th>\n",
       "      <td>3850</td>\n",
       "      <td>1</td>\n",
       "      <td>20.8</td>\n",
       "      <td>0</td>\n",
       "      <td>outofstock</td>\n",
       "      <td>10.64</td>\n",
       "    </tr>\n",
       "    <tr>\n",
       "      <th>3</th>\n",
       "      <td>4032</td>\n",
       "      <td>1</td>\n",
       "      <td>14.1</td>\n",
       "      <td>26</td>\n",
       "      <td>instock</td>\n",
       "      <td>6.92</td>\n",
       "    </tr>\n",
       "    <tr>\n",
       "      <th>4</th>\n",
       "      <td>4039</td>\n",
       "      <td>1</td>\n",
       "      <td>46.0</td>\n",
       "      <td>3</td>\n",
       "      <td>instock</td>\n",
       "      <td>23.77</td>\n",
       "    </tr>\n",
       "    <tr>\n",
       "      <th>...</th>\n",
       "      <td>...</td>\n",
       "      <td>...</td>\n",
       "      <td>...</td>\n",
       "      <td>...</td>\n",
       "      <td>...</td>\n",
       "      <td>...</td>\n",
       "    </tr>\n",
       "    <tr>\n",
       "      <th>820</th>\n",
       "      <td>7203</td>\n",
       "      <td>0</td>\n",
       "      <td>45.0</td>\n",
       "      <td>30</td>\n",
       "      <td>instock</td>\n",
       "      <td>23.48</td>\n",
       "    </tr>\n",
       "    <tr>\n",
       "      <th>821</th>\n",
       "      <td>7204</td>\n",
       "      <td>0</td>\n",
       "      <td>45.0</td>\n",
       "      <td>9</td>\n",
       "      <td>instock</td>\n",
       "      <td>24.18</td>\n",
       "    </tr>\n",
       "    <tr>\n",
       "      <th>822</th>\n",
       "      <td>7247</td>\n",
       "      <td>1</td>\n",
       "      <td>54.8</td>\n",
       "      <td>6</td>\n",
       "      <td>instock</td>\n",
       "      <td>27.18</td>\n",
       "    </tr>\n",
       "    <tr>\n",
       "      <th>823</th>\n",
       "      <td>7329</td>\n",
       "      <td>0</td>\n",
       "      <td>26.5</td>\n",
       "      <td>14</td>\n",
       "      <td>instock</td>\n",
       "      <td>13.42</td>\n",
       "    </tr>\n",
       "    <tr>\n",
       "      <th>824</th>\n",
       "      <td>7338</td>\n",
       "      <td>1</td>\n",
       "      <td>16.3</td>\n",
       "      <td>40</td>\n",
       "      <td>instock</td>\n",
       "      <td>8.00</td>\n",
       "    </tr>\n",
       "  </tbody>\n",
       "</table>\n",
       "<p>822 rows × 6 columns</p>\n",
       "</div>"
      ],
      "text/plain": [
       "     product_id  onsale_web  price  stock_quantity stock_status  \\\n",
       "0          3847           1   24.2              16      instock   \n",
       "1          3849           1   34.3              10      instock   \n",
       "2          3850           1   20.8               0   outofstock   \n",
       "3          4032           1   14.1              26      instock   \n",
       "4          4039           1   46.0               3      instock   \n",
       "..          ...         ...    ...             ...          ...   \n",
       "820        7203           0   45.0              30      instock   \n",
       "821        7204           0   45.0               9      instock   \n",
       "822        7247           1   54.8               6      instock   \n",
       "823        7329           0   26.5              14      instock   \n",
       "824        7338           1   16.3              40      instock   \n",
       "\n",
       "     purchase_price  \n",
       "0             12.88  \n",
       "1             17.54  \n",
       "2             10.64  \n",
       "3              6.92  \n",
       "4             23.77  \n",
       "..              ...  \n",
       "820           23.48  \n",
       "821           24.18  \n",
       "822           27.18  \n",
       "823           13.42  \n",
       "824            8.00  \n",
       "\n",
       "[822 rows x 6 columns]"
      ]
     },
     "execution_count": 40,
     "metadata": {},
     "output_type": "execute_result"
    }
   ],
   "source": [
    "df_erp"
   ]
  },
  {
   "cell_type": "markdown",
   "id": "eca4fce9",
   "metadata": {},
   "source": [
    "<div style=\"border: 1px solid RGB(51,165,182);\" >\n",
    "<h3 style=\"margin: auto; padding: 20px; color: RGB(51,165,182); \">2.1.1.4 - Analyse de la variable prix d'achat</h3>\n",
    "</div>"
   ]
  },
  {
   "cell_type": "code",
   "execution_count": 41,
   "id": "6b85ba0d",
   "metadata": {},
   "outputs": [
    {
     "name": "stdout",
     "output_type": "stream",
     "text": [
      "le ou les prix non renseignés dans la colonne \"purchase_price\" Empty DataFrame\n",
      "Columns: [product_id, onsale_web, price, stock_quantity, stock_status, purchase_price]\n",
      "Index: []\n",
      "le prix minimum de la colonne 'purchase_price' 2.74\n",
      "le prix maximum de la colonne 'purchase_price' 137.81\n"
     ]
    }
   ],
   "source": [
    "######################\n",
    "##   prix d'achat   ##\n",
    "######################\n",
    "\n",
    "#Vérification de la colonne purchase_price : \n",
    "#Afficher le ou les prix non renseignés dans la colonne \"purchase_price\"\n",
    "pprice_null_erp = df_erp[df_erp['purchase_price'].isnull()]\n",
    "print('le ou les prix non renseignés dans la colonne \"purchase_price\"',pprice_null_erp)\n",
    "#Afficher le prix minimum de la colonne \"purchase_price\"\n",
    "pprice_min_erp = df_erp['purchase_price'].min()\n",
    "print(\"le prix minimum de la colonne 'purchase_price'\",pprice_min_erp)\n",
    "#Afficher le prix maximum de la colonne \"purchase_price\"\n",
    "pprice_max_erp = df_erp['purchase_price'].max()\n",
    "print(\"le prix maximum de la colonne 'purchase_price'\",pprice_max_erp)"
   ]
  },
  {
   "cell_type": "markdown",
   "id": "a550f996",
   "metadata": {},
   "source": [
    "<div style=\"border: 1px solid RGB(51,165,182);\" >\n",
    "<h3 style=\"margin: auto; padding: 20px; color: RGB(51,165,182); \">2.2 - Analyse exploratoire du fichier web.xlsx</h3>\n",
    "</div>\n",
    " "
   ]
  },
  {
   "cell_type": "code",
   "execution_count": 42,
   "id": "20be9bcc",
   "metadata": {},
   "outputs": [],
   "source": [
    "df_web = pd.read_excel(r\"D:\\data_docs\\OPC\\P6\\prepa\\Data\\web.xlsx\")"
   ]
  },
  {
   "cell_type": "code",
   "execution_count": 43,
   "id": "920e6fbe",
   "metadata": {},
   "outputs": [
    {
     "data": {
      "text/html": [
       "<div>\n",
       "<style scoped>\n",
       "    .dataframe tbody tr th:only-of-type {\n",
       "        vertical-align: middle;\n",
       "    }\n",
       "\n",
       "    .dataframe tbody tr th {\n",
       "        vertical-align: top;\n",
       "    }\n",
       "\n",
       "    .dataframe thead th {\n",
       "        text-align: right;\n",
       "    }\n",
       "</style>\n",
       "<table border=\"1\" class=\"dataframe\">\n",
       "  <thead>\n",
       "    <tr style=\"text-align: right;\">\n",
       "      <th></th>\n",
       "      <th>sku</th>\n",
       "      <th>virtual</th>\n",
       "      <th>downloadable</th>\n",
       "      <th>rating_count</th>\n",
       "      <th>average_rating</th>\n",
       "      <th>total_sales</th>\n",
       "      <th>tax_status</th>\n",
       "      <th>tax_class</th>\n",
       "      <th>post_author</th>\n",
       "      <th>post_date</th>\n",
       "      <th>...</th>\n",
       "      <th>post_name</th>\n",
       "      <th>post_modified</th>\n",
       "      <th>post_modified_gmt</th>\n",
       "      <th>post_content_filtered</th>\n",
       "      <th>post_parent</th>\n",
       "      <th>guid</th>\n",
       "      <th>menu_order</th>\n",
       "      <th>post_type</th>\n",
       "      <th>post_mime_type</th>\n",
       "      <th>comment_count</th>\n",
       "    </tr>\n",
       "  </thead>\n",
       "  <tbody>\n",
       "    <tr>\n",
       "      <th>0</th>\n",
       "      <td>11862</td>\n",
       "      <td>0</td>\n",
       "      <td>0</td>\n",
       "      <td>0</td>\n",
       "      <td>0.0</td>\n",
       "      <td>3.0</td>\n",
       "      <td>NaN</td>\n",
       "      <td>NaN</td>\n",
       "      <td>2.0</td>\n",
       "      <td>2018-02-12 13:46:23</td>\n",
       "      <td>...</td>\n",
       "      <td>gilles-robin-hermitage-2012</td>\n",
       "      <td>2019-01-31 12:12:56</td>\n",
       "      <td>2019-01-31 11:12:56</td>\n",
       "      <td>NaN</td>\n",
       "      <td>0.0</td>\n",
       "      <td>https://www.bottle-neck.fr/wp-content/uploads/...</td>\n",
       "      <td>0.0</td>\n",
       "      <td>attachment</td>\n",
       "      <td>image/jpeg</td>\n",
       "      <td>0.0</td>\n",
       "    </tr>\n",
       "    <tr>\n",
       "      <th>1</th>\n",
       "      <td>16057</td>\n",
       "      <td>0</td>\n",
       "      <td>0</td>\n",
       "      <td>0</td>\n",
       "      <td>0.0</td>\n",
       "      <td>5.0</td>\n",
       "      <td>NaN</td>\n",
       "      <td>NaN</td>\n",
       "      <td>2.0</td>\n",
       "      <td>2018-04-17 15:29:17</td>\n",
       "      <td>...</td>\n",
       "      <td>pelle-sancerre-rouge-la-croix-au-garde-2017</td>\n",
       "      <td>2020-07-07 10:05:02</td>\n",
       "      <td>2020-07-07 08:05:02</td>\n",
       "      <td>NaN</td>\n",
       "      <td>0.0</td>\n",
       "      <td>https://www.bottle-neck.fr/wp-content/uploads/...</td>\n",
       "      <td>0.0</td>\n",
       "      <td>attachment</td>\n",
       "      <td>image/jpeg</td>\n",
       "      <td>0.0</td>\n",
       "    </tr>\n",
       "    <tr>\n",
       "      <th>2</th>\n",
       "      <td>14692</td>\n",
       "      <td>0</td>\n",
       "      <td>0</td>\n",
       "      <td>0</td>\n",
       "      <td>0.0</td>\n",
       "      <td>5.0</td>\n",
       "      <td>taxable</td>\n",
       "      <td>NaN</td>\n",
       "      <td>2.0</td>\n",
       "      <td>2019-03-19 10:06:47</td>\n",
       "      <td>...</td>\n",
       "      <td>fonreaud-bordeaux-blanc-le-cygne-2016</td>\n",
       "      <td>2020-04-25 21:40:31</td>\n",
       "      <td>2020-04-25 19:40:31</td>\n",
       "      <td>NaN</td>\n",
       "      <td>0.0</td>\n",
       "      <td>https://www.bottle-neck.fr/?post_type=product&amp;...</td>\n",
       "      <td>0.0</td>\n",
       "      <td>product</td>\n",
       "      <td>NaN</td>\n",
       "      <td>0.0</td>\n",
       "    </tr>\n",
       "    <tr>\n",
       "      <th>3</th>\n",
       "      <td>16295</td>\n",
       "      <td>0</td>\n",
       "      <td>0</td>\n",
       "      <td>0</td>\n",
       "      <td>0.0</td>\n",
       "      <td>14.0</td>\n",
       "      <td>NaN</td>\n",
       "      <td>NaN</td>\n",
       "      <td>2.0</td>\n",
       "      <td>2018-02-15 14:05:06</td>\n",
       "      <td>...</td>\n",
       "      <td>moulin-de-gassac-igp-pays-dherault-guilhem-ros...</td>\n",
       "      <td>2020-08-27 18:55:03</td>\n",
       "      <td>2020-08-27 16:55:03</td>\n",
       "      <td>NaN</td>\n",
       "      <td>0.0</td>\n",
       "      <td>https://www.bottle-neck.fr/wp-content/uploads/...</td>\n",
       "      <td>0.0</td>\n",
       "      <td>attachment</td>\n",
       "      <td>image/jpeg</td>\n",
       "      <td>0.0</td>\n",
       "    </tr>\n",
       "    <tr>\n",
       "      <th>4</th>\n",
       "      <td>15328</td>\n",
       "      <td>0</td>\n",
       "      <td>0</td>\n",
       "      <td>0</td>\n",
       "      <td>0.0</td>\n",
       "      <td>2.0</td>\n",
       "      <td>taxable</td>\n",
       "      <td>NaN</td>\n",
       "      <td>2.0</td>\n",
       "      <td>2019-03-27 18:05:09</td>\n",
       "      <td>...</td>\n",
       "      <td>agnes-levet-cote-rotie-maestria-2017</td>\n",
       "      <td>2020-07-25 15:45:02</td>\n",
       "      <td>2020-07-25 13:45:02</td>\n",
       "      <td>NaN</td>\n",
       "      <td>0.0</td>\n",
       "      <td>https://www.bottle-neck.fr/?post_type=product&amp;...</td>\n",
       "      <td>0.0</td>\n",
       "      <td>product</td>\n",
       "      <td>NaN</td>\n",
       "      <td>0.0</td>\n",
       "    </tr>\n",
       "  </tbody>\n",
       "</table>\n",
       "<p>5 rows × 29 columns</p>\n",
       "</div>"
      ],
      "text/plain": [
       "     sku  virtual  downloadable  rating_count  average_rating  total_sales  \\\n",
       "0  11862        0             0             0             0.0          3.0   \n",
       "1  16057        0             0             0             0.0          5.0   \n",
       "2  14692        0             0             0             0.0          5.0   \n",
       "3  16295        0             0             0             0.0         14.0   \n",
       "4  15328        0             0             0             0.0          2.0   \n",
       "\n",
       "  tax_status  tax_class  post_author           post_date  ...  \\\n",
       "0        NaN        NaN          2.0 2018-02-12 13:46:23  ...   \n",
       "1        NaN        NaN          2.0 2018-04-17 15:29:17  ...   \n",
       "2    taxable        NaN          2.0 2019-03-19 10:06:47  ...   \n",
       "3        NaN        NaN          2.0 2018-02-15 14:05:06  ...   \n",
       "4    taxable        NaN          2.0 2019-03-27 18:05:09  ...   \n",
       "\n",
       "                                           post_name       post_modified  \\\n",
       "0                        gilles-robin-hermitage-2012 2019-01-31 12:12:56   \n",
       "1        pelle-sancerre-rouge-la-croix-au-garde-2017 2020-07-07 10:05:02   \n",
       "2              fonreaud-bordeaux-blanc-le-cygne-2016 2020-04-25 21:40:31   \n",
       "3  moulin-de-gassac-igp-pays-dherault-guilhem-ros... 2020-08-27 18:55:03   \n",
       "4               agnes-levet-cote-rotie-maestria-2017 2020-07-25 15:45:02   \n",
       "\n",
       "    post_modified_gmt post_content_filtered post_parent  \\\n",
       "0 2019-01-31 11:12:56                   NaN         0.0   \n",
       "1 2020-07-07 08:05:02                   NaN         0.0   \n",
       "2 2020-04-25 19:40:31                   NaN         0.0   \n",
       "3 2020-08-27 16:55:03                   NaN         0.0   \n",
       "4 2020-07-25 13:45:02                   NaN         0.0   \n",
       "\n",
       "                                                guid menu_order   post_type  \\\n",
       "0  https://www.bottle-neck.fr/wp-content/uploads/...        0.0  attachment   \n",
       "1  https://www.bottle-neck.fr/wp-content/uploads/...        0.0  attachment   \n",
       "2  https://www.bottle-neck.fr/?post_type=product&...        0.0     product   \n",
       "3  https://www.bottle-neck.fr/wp-content/uploads/...        0.0  attachment   \n",
       "4  https://www.bottle-neck.fr/?post_type=product&...        0.0     product   \n",
       "\n",
       "   post_mime_type comment_count  \n",
       "0      image/jpeg           0.0  \n",
       "1      image/jpeg           0.0  \n",
       "2             NaN           0.0  \n",
       "3      image/jpeg           0.0  \n",
       "4             NaN           0.0  \n",
       "\n",
       "[5 rows x 29 columns]"
      ]
     },
     "execution_count": 43,
     "metadata": {},
     "output_type": "execute_result"
    }
   ],
   "source": [
    "df_web.head(5)"
   ]
  },
  {
   "cell_type": "code",
   "execution_count": 44,
   "id": "bb7e292c",
   "metadata": {},
   "outputs": [
    {
     "data": {
      "text/plain": [
       "(1513, 29)"
      ]
     },
     "execution_count": 44,
     "metadata": {},
     "output_type": "execute_result"
    }
   ],
   "source": [
    "#Dimension du dataset\n",
    "df_web.shape\n",
    "#Nombre d'observations\n",
    "\n",
    "#Nombre de caractéristiques\n"
   ]
  },
  {
   "cell_type": "code",
   "execution_count": 45,
   "id": "0b70a8da",
   "metadata": {},
   "outputs": [
    {
     "name": "stdout",
     "output_type": "stream",
     "text": [
      "<class 'pandas.core.frame.DataFrame'>\n",
      "RangeIndex: 1513 entries, 0 to 1512\n",
      "Data columns (total 29 columns):\n",
      " #   Column                 Non-Null Count  Dtype         \n",
      "---  ------                 --------------  -----         \n",
      " 0   sku                    1428 non-null   object        \n",
      " 1   virtual                1513 non-null   int64         \n",
      " 2   downloadable           1513 non-null   int64         \n",
      " 3   rating_count           1513 non-null   int64         \n",
      " 4   average_rating         1430 non-null   float64       \n",
      " 5   total_sales            1430 non-null   float64       \n",
      " 6   tax_status             716 non-null    object        \n",
      " 7   tax_class              0 non-null      float64       \n",
      " 8   post_author            1430 non-null   float64       \n",
      " 9   post_date              1430 non-null   datetime64[ns]\n",
      " 10  post_date_gmt          1430 non-null   datetime64[ns]\n",
      " 11  post_content           0 non-null      float64       \n",
      " 12  product_type           1429 non-null   object        \n",
      " 13  post_title             1430 non-null   object        \n",
      " 14  post_excerpt           716 non-null    object        \n",
      " 15  post_status            1430 non-null   object        \n",
      " 16  comment_status         1430 non-null   object        \n",
      " 17  ping_status            1430 non-null   object        \n",
      " 18  post_password          0 non-null      float64       \n",
      " 19  post_name              1430 non-null   object        \n",
      " 20  post_modified          1430 non-null   datetime64[ns]\n",
      " 21  post_modified_gmt      1430 non-null   datetime64[ns]\n",
      " 22  post_content_filtered  0 non-null      float64       \n",
      " 23  post_parent            1430 non-null   float64       \n",
      " 24  guid                   1430 non-null   object        \n",
      " 25  menu_order             1430 non-null   float64       \n",
      " 26  post_type              1430 non-null   object        \n",
      " 27  post_mime_type         714 non-null    object        \n",
      " 28  comment_count          1430 non-null   float64       \n",
      "dtypes: datetime64[ns](4), float64(10), int64(3), object(12)\n",
      "memory usage: 342.9+ KB\n",
      "None\n"
     ]
    }
   ],
   "source": [
    "#Consulter le nombre de colonnes\n",
    "#La nature des données dans chacune des colonnes\n",
    "#Le nombre de valeurs présentes dans chacune des colonnes\n",
    "print(df_web.info())"
   ]
  },
  {
   "cell_type": "code",
   "execution_count": 46,
   "id": "51618d29",
   "metadata": {},
   "outputs": [
    {
     "data": {
      "text/plain": [
       "['sku',\n",
       " 'virtual',\n",
       " 'downloadable',\n",
       " 'rating_count',\n",
       " 'average_rating',\n",
       " 'total_sales',\n",
       " 'tax_status',\n",
       " 'tax_class',\n",
       " 'post_author',\n",
       " 'post_date',\n",
       " 'post_date_gmt',\n",
       " 'post_content',\n",
       " 'product_type',\n",
       " 'post_title',\n",
       " 'post_excerpt',\n",
       " 'post_status',\n",
       " 'comment_status',\n",
       " 'ping_status',\n",
       " 'post_password',\n",
       " 'post_name',\n",
       " 'post_modified',\n",
       " 'post_modified_gmt',\n",
       " 'post_content_filtered',\n",
       " 'post_parent',\n",
       " 'guid',\n",
       " 'menu_order',\n",
       " 'post_type',\n",
       " 'post_mime_type',\n",
       " 'comment_count']"
      ]
     },
     "execution_count": 46,
     "metadata": {},
     "output_type": "execute_result"
    }
   ],
   "source": [
    "list(df_web.columns)"
   ]
  },
  {
   "cell_type": "code",
   "execution_count": 47,
   "id": "b0d2f149",
   "metadata": {},
   "outputs": [
    {
     "name": "stdout",
     "output_type": "stream",
     "text": [
      "les colonnes a conserver sont :  ['sku', 'total_sales', 'tax_status', 'product_type', 'post_title', 'post_type', 'post_mime_type']\n"
     ]
    }
   ],
   "source": [
    "#Selon vous, quelles sont les colonnes à conserver ?\n",
    "liste_web = ['sku',\n",
    " 'total_sales',\n",
    " 'tax_status',\n",
    " 'product_type',\n",
    " 'post_title',\n",
    " 'post_type',\n",
    " 'post_mime_type',\n",
    " ]\n",
    "print(f\"les colonnes a conserver sont : \", liste_web)"
   ]
  },
  {
   "cell_type": "code",
   "execution_count": 48,
   "id": "30b2196b",
   "metadata": {},
   "outputs": [
    {
     "name": "stdout",
     "output_type": "stream",
     "text": [
      "        sku  total_sales tax_status product_type  \\\n",
      "0     11862          3.0        NaN          Vin   \n",
      "1     16057          5.0        NaN          Vin   \n",
      "2     14692          5.0    taxable          Vin   \n",
      "3     16295         14.0        NaN          Vin   \n",
      "4     15328          2.0    taxable          Vin   \n",
      "...     ...          ...        ...          ...   \n",
      "1508  16326          5.0    taxable          Vin   \n",
      "1509  15662         15.0    taxable          Vin   \n",
      "1510  15329          3.0        NaN          Vin   \n",
      "1511  14827          7.0        NaN          Vin   \n",
      "1512  16004          5.0        NaN          Vin   \n",
      "\n",
      "                                             post_title   post_type  \\\n",
      "0                     Gilles Robin Hermitage Rouge 2012  attachment   \n",
      "1     Domaine Pellé Sancerre Rouge La Croix Au Garde...  attachment   \n",
      "2         Château Fonréaud Bordeaux Blanc Le Cygne 2016     product   \n",
      "3     Moulin de Gassac IGP Pays d'Hérault Guilhem Ro...  attachment   \n",
      "4                  Agnès Levet Côte Rôtie Maestria 2017     product   \n",
      "...                                                 ...         ...   \n",
      "1508    Camin Larredya Jurançon Moelleux Au Capcéu 2018     product   \n",
      "1509  Chermette Domaine du Vissoux Beaujolais Griott...     product   \n",
      "1510               Agnès Levet Côte Rôtie Péroline 2017  attachment   \n",
      "1511  Marc Colin Et Fils Chassagne-Montrachet Blanc ...  attachment   \n",
      "1512                    Château du Couvent Pomerol 2017  attachment   \n",
      "\n",
      "     post_mime_type  \n",
      "0        image/jpeg  \n",
      "1        image/jpeg  \n",
      "2               NaN  \n",
      "3        image/jpeg  \n",
      "4               NaN  \n",
      "...             ...  \n",
      "1508            NaN  \n",
      "1509            NaN  \n",
      "1510     image/jpeg  \n",
      "1511     image/jpeg  \n",
      "1512     image/jpeg  \n",
      "\n",
      "[1513 rows x 7 columns]\n"
     ]
    }
   ],
   "source": [
    "#Si vous avez défini des colonnes à supprimer, effectuer l'opération\n",
    "df_web = df_web.loc[:, df_web.columns.isin(liste_web)]\n",
    "print(df_web)"
   ]
  },
  {
   "cell_type": "code",
   "execution_count": 49,
   "id": "c4e40b54",
   "metadata": {},
   "outputs": [
    {
     "data": {
      "text/html": [
       "<div>\n",
       "<style scoped>\n",
       "    .dataframe tbody tr th:only-of-type {\n",
       "        vertical-align: middle;\n",
       "    }\n",
       "\n",
       "    .dataframe tbody tr th {\n",
       "        vertical-align: top;\n",
       "    }\n",
       "\n",
       "    .dataframe thead th {\n",
       "        text-align: right;\n",
       "    }\n",
       "</style>\n",
       "<table border=\"1\" class=\"dataframe\">\n",
       "  <thead>\n",
       "    <tr style=\"text-align: right;\">\n",
       "      <th></th>\n",
       "      <th>sku</th>\n",
       "      <th>total_sales</th>\n",
       "      <th>tax_status</th>\n",
       "      <th>product_type</th>\n",
       "      <th>post_title</th>\n",
       "      <th>post_type</th>\n",
       "      <th>post_mime_type</th>\n",
       "    </tr>\n",
       "  </thead>\n",
       "  <tbody>\n",
       "    <tr>\n",
       "      <th>0</th>\n",
       "      <td>11862</td>\n",
       "      <td>3.0</td>\n",
       "      <td>NaN</td>\n",
       "      <td>Vin</td>\n",
       "      <td>Gilles Robin Hermitage Rouge 2012</td>\n",
       "      <td>attachment</td>\n",
       "      <td>image/jpeg</td>\n",
       "    </tr>\n",
       "    <tr>\n",
       "      <th>1</th>\n",
       "      <td>16057</td>\n",
       "      <td>5.0</td>\n",
       "      <td>NaN</td>\n",
       "      <td>Vin</td>\n",
       "      <td>Domaine Pellé Sancerre Rouge La Croix Au Garde...</td>\n",
       "      <td>attachment</td>\n",
       "      <td>image/jpeg</td>\n",
       "    </tr>\n",
       "    <tr>\n",
       "      <th>2</th>\n",
       "      <td>14692</td>\n",
       "      <td>5.0</td>\n",
       "      <td>taxable</td>\n",
       "      <td>Vin</td>\n",
       "      <td>Château Fonréaud Bordeaux Blanc Le Cygne 2016</td>\n",
       "      <td>product</td>\n",
       "      <td>NaN</td>\n",
       "    </tr>\n",
       "    <tr>\n",
       "      <th>3</th>\n",
       "      <td>16295</td>\n",
       "      <td>14.0</td>\n",
       "      <td>NaN</td>\n",
       "      <td>Vin</td>\n",
       "      <td>Moulin de Gassac IGP Pays d'Hérault Guilhem Ro...</td>\n",
       "      <td>attachment</td>\n",
       "      <td>image/jpeg</td>\n",
       "    </tr>\n",
       "    <tr>\n",
       "      <th>4</th>\n",
       "      <td>15328</td>\n",
       "      <td>2.0</td>\n",
       "      <td>taxable</td>\n",
       "      <td>Vin</td>\n",
       "      <td>Agnès Levet Côte Rôtie Maestria 2017</td>\n",
       "      <td>product</td>\n",
       "      <td>NaN</td>\n",
       "    </tr>\n",
       "    <tr>\n",
       "      <th>...</th>\n",
       "      <td>...</td>\n",
       "      <td>...</td>\n",
       "      <td>...</td>\n",
       "      <td>...</td>\n",
       "      <td>...</td>\n",
       "      <td>...</td>\n",
       "      <td>...</td>\n",
       "    </tr>\n",
       "    <tr>\n",
       "      <th>1508</th>\n",
       "      <td>16326</td>\n",
       "      <td>5.0</td>\n",
       "      <td>taxable</td>\n",
       "      <td>Vin</td>\n",
       "      <td>Camin Larredya Jurançon Moelleux Au Capcéu 2018</td>\n",
       "      <td>product</td>\n",
       "      <td>NaN</td>\n",
       "    </tr>\n",
       "    <tr>\n",
       "      <th>1509</th>\n",
       "      <td>15662</td>\n",
       "      <td>15.0</td>\n",
       "      <td>taxable</td>\n",
       "      <td>Vin</td>\n",
       "      <td>Chermette Domaine du Vissoux Beaujolais Griott...</td>\n",
       "      <td>product</td>\n",
       "      <td>NaN</td>\n",
       "    </tr>\n",
       "    <tr>\n",
       "      <th>1510</th>\n",
       "      <td>15329</td>\n",
       "      <td>3.0</td>\n",
       "      <td>NaN</td>\n",
       "      <td>Vin</td>\n",
       "      <td>Agnès Levet Côte Rôtie Péroline 2017</td>\n",
       "      <td>attachment</td>\n",
       "      <td>image/jpeg</td>\n",
       "    </tr>\n",
       "    <tr>\n",
       "      <th>1511</th>\n",
       "      <td>14827</td>\n",
       "      <td>7.0</td>\n",
       "      <td>NaN</td>\n",
       "      <td>Vin</td>\n",
       "      <td>Marc Colin Et Fils Chassagne-Montrachet Blanc ...</td>\n",
       "      <td>attachment</td>\n",
       "      <td>image/jpeg</td>\n",
       "    </tr>\n",
       "    <tr>\n",
       "      <th>1512</th>\n",
       "      <td>16004</td>\n",
       "      <td>5.0</td>\n",
       "      <td>NaN</td>\n",
       "      <td>Vin</td>\n",
       "      <td>Château du Couvent Pomerol 2017</td>\n",
       "      <td>attachment</td>\n",
       "      <td>image/jpeg</td>\n",
       "    </tr>\n",
       "  </tbody>\n",
       "</table>\n",
       "<p>1513 rows × 7 columns</p>\n",
       "</div>"
      ],
      "text/plain": [
       "        sku  total_sales tax_status product_type  \\\n",
       "0     11862          3.0        NaN          Vin   \n",
       "1     16057          5.0        NaN          Vin   \n",
       "2     14692          5.0    taxable          Vin   \n",
       "3     16295         14.0        NaN          Vin   \n",
       "4     15328          2.0    taxable          Vin   \n",
       "...     ...          ...        ...          ...   \n",
       "1508  16326          5.0    taxable          Vin   \n",
       "1509  15662         15.0    taxable          Vin   \n",
       "1510  15329          3.0        NaN          Vin   \n",
       "1511  14827          7.0        NaN          Vin   \n",
       "1512  16004          5.0        NaN          Vin   \n",
       "\n",
       "                                             post_title   post_type  \\\n",
       "0                     Gilles Robin Hermitage Rouge 2012  attachment   \n",
       "1     Domaine Pellé Sancerre Rouge La Croix Au Garde...  attachment   \n",
       "2         Château Fonréaud Bordeaux Blanc Le Cygne 2016     product   \n",
       "3     Moulin de Gassac IGP Pays d'Hérault Guilhem Ro...  attachment   \n",
       "4                  Agnès Levet Côte Rôtie Maestria 2017     product   \n",
       "...                                                 ...         ...   \n",
       "1508    Camin Larredya Jurançon Moelleux Au Capcéu 2018     product   \n",
       "1509  Chermette Domaine du Vissoux Beaujolais Griott...     product   \n",
       "1510               Agnès Levet Côte Rôtie Péroline 2017  attachment   \n",
       "1511  Marc Colin Et Fils Chassagne-Montrachet Blanc ...  attachment   \n",
       "1512                    Château du Couvent Pomerol 2017  attachment   \n",
       "\n",
       "     post_mime_type  \n",
       "0        image/jpeg  \n",
       "1        image/jpeg  \n",
       "2               NaN  \n",
       "3        image/jpeg  \n",
       "4               NaN  \n",
       "...             ...  \n",
       "1508            NaN  \n",
       "1509            NaN  \n",
       "1510     image/jpeg  \n",
       "1511     image/jpeg  \n",
       "1512     image/jpeg  \n",
       "\n",
       "[1513 rows x 7 columns]"
      ]
     },
     "execution_count": 49,
     "metadata": {},
     "output_type": "execute_result"
    }
   ],
   "source": [
    "#verification :\n",
    "df_web"
   ]
  },
  {
   "cell_type": "code",
   "execution_count": 50,
   "id": "a19520ad",
   "metadata": {},
   "outputs": [
    {
     "name": "stdout",
     "output_type": "stream",
     "text": [
      "<class 'pandas.core.series.Series'>\n",
      "RangeIndex: 1513 entries, 0 to 1512\n",
      "Series name: sku\n",
      "Non-Null Count  Dtype \n",
      "--------------  ----- \n",
      "1428 non-null   object\n",
      "dtypes: object(1)\n",
      "memory usage: 11.9+ KB\n"
     ]
    }
   ],
   "source": [
    "df_web.loc[:,'sku'].info()"
   ]
  },
  {
   "cell_type": "code",
   "execution_count": 51,
   "id": "0a54e9a0",
   "metadata": {},
   "outputs": [
    {
     "data": {
      "text/plain": [
       "array([11862, 16057, 14692, 16295, 15328, 15471, 16515, 16246, nan, 13572,\n",
       "       16513, 16585, 16269, 15526, 12869, 15575, 11586, 14338, 15425,\n",
       "       16560, 15361, 13809, 11587, 15022, 14323, 16342, 16029, 15475,\n",
       "       13754, 14680, 15875, 9636, 13849, 13662, 16564, 13557, 15429,\n",
       "       14712, 15032, 15481, 15448, 16580, 15441, 804, 15300, 13958, 16071,\n",
       "       15678, 13895, 15711, 12882, 16053, 13766, 16247, 12640, 15292,\n",
       "       15476, 15670, 16189, 16038, 14864, 16044, 15324, 15531, 15953,\n",
       "       15413, 15733, 14366, 15895, 15892, 16472, 15185, 16010, 15793,\n",
       "       15849, 12315, 15741, 15934, 15148, 15781, 15659, 15106, 15490,\n",
       "       14507, 14149, 16307, 13736, 14090, 16037, 15758, 14661, 12587,\n",
       "       15337, 15489, 15201, 16305, 16131, 13435, 15747, 12203, 14509,\n",
       "       14768, 16262, 14561, 16505, 15717, 16129, 13460, 15871, 15940,\n",
       "       11602, 13127, 13520, 15480, 13032, 15436, 15269, 15910, 19821,\n",
       "       16263, 15138, 15146, 15126, 15482, 16186, 13905, 16540, 15856,\n",
       "       15677, 14700, 15325, 19815, 3506, 16056, 14975, 15341, 15204,\n",
       "       15415, 16065, 15479, 16151, 15127, 15140, 15779, 15473, 15530,\n",
       "       14805, 14106, 9937, 15281, 16553, 15315, 15668, 13211, 15161,\n",
       "       11258, 16296, 12588, 15792, 15921, 15690, 15775, 15577, 15870, 802,\n",
       "       15163, 15707, 15561, 15539, 4679, 16320, 15923, 3509, 2534, 16238,\n",
       "       14819, 15705, 15254, 15554, 14451, 13215, 14302, 12476, 16274,\n",
       "       14696, 14573, 15343, 791, 14474, 12586, 15346, 15834, 15342, 15141,\n",
       "       15038, 14265, 15238, 16586, 13073, 15664, 14527, 14845, 13172,\n",
       "       13996, 15864, 15440, 15759, 15706, 11277, 15676, 15731, 16525,\n",
       "       15785, 14699, 16063, 15718, 14372, 15881, 793, 14775, 12771, 15426,\n",
       "       13291, 16023, 15713, 15675, 15282, 15927, 15351, 12791, '13127-1',\n",
       "       13853, 15613, 11849, 15478, 16121, 16237, 15461, 15745, 15621,\n",
       "       15683, 12639, 15466, 15184, 13078, 13904, 14828, 14000, 15612, 304,\n",
       "       15811, 15649, 14599, 15033, 13959, 15026, 16449, 15095, 15829,\n",
       "       13965, 16306, 16276, 15729, 15303, 14679, 15318, 13599, 15206,\n",
       "       19816, 16153, 16067, 15241, 14981, 16264, 14915, 15737, 16289,\n",
       "       15229, 7033, 15654, 15879, 16256, 15710, 16498, 15349, 11933,\n",
       "       16462, 14596, 15296, 16042, 15887, 15264, 15307, 15369, 14095,\n",
       "       15868, 14371, 12657, 15808, 15787, 13604, 15605, 15795, 15566,\n",
       "       16210, 15732, 15661, 13814, 16130, 16003, 14676, 13516, 14977,\n",
       "       14945, 12641, 14469, 15237, 14905, 15462, 16031, 16191, 3568,\n",
       "       15080, 15353, 15861, 16529, 16068, 16081, 14729, 16077, 15373,\n",
       "       11049, 16154, 14809, 15073, 15345, 15756, 13531, 15614, 7086,\n",
       "       15784, 14332, 14300, 14141, 15734, 15456, 805, 15766, 15667, 16152,\n",
       "       16318, 15360, 13517, 7819, 15740, 15930, 16155, 15339, 14950, 2179,\n",
       "       15688, 13982, 38, 15178, 16209, 14982, 8463, 13412, 15298, 15770,\n",
       "       15487, 15205, 13230, 14220, 15227, 16094, 15859, 15179, 14774,\n",
       "       14944, 16022, 15767, 15338, 13913, 14756, 15746, 16192, 15763,\n",
       "       12365, 9562, 16039, 16328, 15196, 531, 15810, 2361, 15402, 15945,\n",
       "       15807, 14506, 14100, 15075, 13765, 16093, 10814, 12942, 1366,\n",
       "       12857, 12045, 13515, 11601, 16148, 12339, 16567, 15240, 15414, 812,\n",
       "       16292, 11736, 15714, 15120, 13117, 3383, 15631, 15136, 15145,\n",
       "       13096, 15857, 14632, 11641, 15736, 15615, 15574, 16096, 15564,\n",
       "       15774, 14930, 15941, 16045, 16230, 14429, 15769, 16265, 14657,\n",
       "       15261, 16239, 15715, 13453, 16244, 15147, 16280, 14508, 15465,\n",
       "       3510, 14374, 15880, 13416, 15183, 15860, 11467, 11585, 14485,\n",
       "       16138, 19822, 15155, 11996, 14626, 16330, 15035, 15404, 8365, 3507,\n",
       "       14773, 15967, 15812, 16319, 16004, 15310, 16097, 14856, 15629,\n",
       "       1364, 15116, 14101, 14912, 15036, 16047, 14184, 14983, 16030,\n",
       "       16283, 16324, 15801, 10014, 12881, 15660, 16005, 15306, 16277,\n",
       "       15527, 15428, 13957, 15647, 12496, 15399, 13969, 15525, 13914,\n",
       "       12790, 15720, 13313, 15928, 15432, 15655, 16539, 12589, 15648,\n",
       "       16011, 16146, 15672, 15030, 15735, 14800, 16190, 13217, 13854,\n",
       "       16317, 16565, 15891, 15730, 16497, 16124, 10459, 19814, 15863,\n",
       "       15786, 15791, 16135, 16147, 16066, 15818, 15790, 8193, 16255,\n",
       "       15047, 15966, 14736, 16120, 16013, 798, 1662, 16416, 7032, 14581,\n",
       "       15783, 16144, 5646, 8344, 13514, 15848, 15658, 14897, 12194, 10775,\n",
       "       16304, 14980, 14192, 15952, 14099, 15125, 13089, 16062, 14923,\n",
       "       14839, 15576, 15657, 1360, 15583, 15457, 16275,\n",
       "       'bon-cadeau-25-euros', 15797, 12366, 15764, 16072, 15070, 16323,\n",
       "       15753, 15755, 15582, 13379, 15704, 13072, 15862, 15533, 16028,\n",
       "       14725, 13647, 16261, 15944, 15256, 523, 15452, 16322, 16014, 14600,\n",
       "       15316, 15776, 16211, 14899, 14955, 13910, 15134, 15434, 15813,\n",
       "       15794, 15946, 16213, 14855, 14827, 14089, 15283, 14647, 16504,\n",
       "       15674, 16537, 41, 13762, 14570, 16041, 15202, 15180, 15375, 16046,\n",
       "       16034, 14092, 14241, 11997, 15922, 14844, 15444, 15486, 15378, 807,\n",
       "       13567, 16281, 15213, 16166, 11225, 15773, 16160, 19820, 7818,\n",
       "       14751, 15280, 15933, 13627, 15403, 14580, 16024, 14797, 12494,\n",
       "       16229, 13659, 16578, 14802, 15850, 16159, 15839, 13052, 15869,\n",
       "       14604, 16273, 15329, 14253, 14941, 15567, 16132, 14746, 15656,\n",
       "       16527, 15162, 16326, 16501, 16119, 15662, 15344, 6616, 15958,\n",
       "       14865, 11669, 14395, 15149, 12585, 11668, 11847, 12599, 16133,\n",
       "       15665, 15382, 13209, 14461, 15748, 15663, 15072, 15004, 16069,\n",
       "       16180, 15949, 16149, 16043, 15845, 15951, 13074, 14569],\n",
       "      dtype=object)"
      ]
     },
     "execution_count": 51,
     "metadata": {},
     "output_type": "execute_result"
    }
   ],
   "source": [
    "df_web['sku'].unique()"
   ]
  },
  {
   "cell_type": "code",
   "execution_count": 52,
   "id": "79bd85d7",
   "metadata": {},
   "outputs": [
    {
     "data": {
      "text/html": [
       "<div>\n",
       "<style scoped>\n",
       "    .dataframe tbody tr th:only-of-type {\n",
       "        vertical-align: middle;\n",
       "    }\n",
       "\n",
       "    .dataframe tbody tr th {\n",
       "        vertical-align: top;\n",
       "    }\n",
       "\n",
       "    .dataframe thead th {\n",
       "        text-align: right;\n",
       "    }\n",
       "</style>\n",
       "<table border=\"1\" class=\"dataframe\">\n",
       "  <thead>\n",
       "    <tr style=\"text-align: right;\">\n",
       "      <th></th>\n",
       "      <th>sku</th>\n",
       "      <th>total_sales</th>\n",
       "      <th>tax_status</th>\n",
       "      <th>product_type</th>\n",
       "      <th>post_title</th>\n",
       "      <th>post_type</th>\n",
       "      <th>post_mime_type</th>\n",
       "    </tr>\n",
       "  </thead>\n",
       "  <tbody>\n",
       "    <tr>\n",
       "      <th>272</th>\n",
       "      <td>13127-1</td>\n",
       "      <td>4.0</td>\n",
       "      <td>taxable</td>\n",
       "      <td>Vin</td>\n",
       "      <td>Clos du Mont-Olivet Châteauneuf-du-Pape 2007</td>\n",
       "      <td>product</td>\n",
       "      <td>NaN</td>\n",
       "    </tr>\n",
       "    <tr>\n",
       "      <th>1117</th>\n",
       "      <td>13127-1</td>\n",
       "      <td>4.0</td>\n",
       "      <td>NaN</td>\n",
       "      <td>Vin</td>\n",
       "      <td>Clos du Mont-Olivet Châteauneuf-du-Pape 2007</td>\n",
       "      <td>attachment</td>\n",
       "      <td>image/jpeg</td>\n",
       "    </tr>\n",
       "  </tbody>\n",
       "</table>\n",
       "</div>"
      ],
      "text/plain": [
       "          sku  total_sales tax_status product_type  \\\n",
       "272   13127-1          4.0    taxable          Vin   \n",
       "1117  13127-1          4.0        NaN          Vin   \n",
       "\n",
       "                                        post_title   post_type post_mime_type  \n",
       "272   Clos du Mont-Olivet Châteauneuf-du-Pape 2007     product            NaN  \n",
       "1117  Clos du Mont-Olivet Châteauneuf-du-Pape 2007  attachment     image/jpeg  "
      ]
     },
     "execution_count": 52,
     "metadata": {},
     "output_type": "execute_result"
    }
   ],
   "source": [
    "df_web[df_web['sku'] == '13127-1']"
   ]
  },
  {
   "cell_type": "code",
   "execution_count": 53,
   "id": "1b965d06",
   "metadata": {},
   "outputs": [
    {
     "data": {
      "text/plain": [
       "<bound method Series.unique of 0       11862\n",
       "1       16057\n",
       "2       14692\n",
       "3       16295\n",
       "4       15328\n",
       "        ...  \n",
       "1508    16326\n",
       "1509    15662\n",
       "1510    15329\n",
       "1511    14827\n",
       "1512    16004\n",
       "Name: sku, Length: 1513, dtype: object>"
      ]
     },
     "execution_count": 53,
     "metadata": {},
     "output_type": "execute_result"
    }
   ],
   "source": [
    "#Visualisation des valeurs de la colonne sku\n",
    "df_web.loc[:,'sku']\n",
    "#Quelles sont les valeurs qui ne semblent pas respecter la régle de codification?\n",
    "df_web.loc[:,'sku'].unique"
   ]
  },
  {
   "cell_type": "code",
   "execution_count": 54,
   "id": "eff803d8",
   "metadata": {},
   "outputs": [],
   "source": [
    "import re\n",
    "\n",
    "# Définir une fonction qui vérifie la règle de codification\n",
    "def respecte_regle(sku):\n",
    "    # Convertir le SKU en chaîne de caractères si ce n'est pas déjà fait\n",
    "    sku = str(sku)\n",
    "    # Vérifier si le SKU est alphanumérique et de longueur 6\n",
    "\n",
    "    return bool(re.match(r'^[a-zA-Z0-9]{2,6}$', sku))"
   ]
  },
  {
   "cell_type": "code",
   "execution_count": 55,
   "id": "db3050d3",
   "metadata": {},
   "outputs": [
    {
     "name": "stdout",
     "output_type": "stream",
     "text": [
      "Valeurs incorrectes :\n",
      "['13127-1' 'bon-cadeau-25-euros']\n"
     ]
    }
   ],
   "source": [
    "# Appliquer la fonction à la colonne 'sku' et filtrer les valeurs incorrectes\n",
    "valeurs_incorrectes = df_web[~df_web['sku'].apply(respecte_regle)]\n",
    "\n",
    "# Afficher les valeurs qui ne respectent pas la règle\n",
    "print(\"Valeurs incorrectes :\")\n",
    "print(valeurs_incorrectes['sku'].unique())\n"
   ]
  },
  {
   "cell_type": "code",
   "execution_count": 56,
   "id": "1226dcfd",
   "metadata": {},
   "outputs": [
    {
     "name": "stdout",
     "output_type": "stream",
     "text": [
      "['13127-1' 'bon-cadeau-25-euros']\n"
     ]
    }
   ],
   "source": [
    "#Si vous avez identifié des codes articles ne respectant pas la régle de codification, consultez-les?\n",
    "print(valeurs_incorrectes['sku'].unique())"
   ]
  },
  {
   "cell_type": "code",
   "execution_count": 57,
   "id": "eb8d31bf",
   "metadata": {},
   "outputs": [
    {
     "data": {
      "text/html": [
       "<div>\n",
       "<style scoped>\n",
       "    .dataframe tbody tr th:only-of-type {\n",
       "        vertical-align: middle;\n",
       "    }\n",
       "\n",
       "    .dataframe tbody tr th {\n",
       "        vertical-align: top;\n",
       "    }\n",
       "\n",
       "    .dataframe thead th {\n",
       "        text-align: right;\n",
       "    }\n",
       "</style>\n",
       "<table border=\"1\" class=\"dataframe\">\n",
       "  <thead>\n",
       "    <tr style=\"text-align: right;\">\n",
       "      <th></th>\n",
       "      <th>sku</th>\n",
       "      <th>total_sales</th>\n",
       "      <th>tax_status</th>\n",
       "      <th>product_type</th>\n",
       "      <th>post_title</th>\n",
       "      <th>post_type</th>\n",
       "      <th>post_mime_type</th>\n",
       "    </tr>\n",
       "  </thead>\n",
       "  <tbody>\n",
       "    <tr>\n",
       "      <th>8</th>\n",
       "      <td>NaN</td>\n",
       "      <td>NaN</td>\n",
       "      <td>NaN</td>\n",
       "      <td>NaN</td>\n",
       "      <td>NaN</td>\n",
       "      <td>NaN</td>\n",
       "      <td>NaN</td>\n",
       "    </tr>\n",
       "    <tr>\n",
       "      <th>20</th>\n",
       "      <td>NaN</td>\n",
       "      <td>NaN</td>\n",
       "      <td>NaN</td>\n",
       "      <td>NaN</td>\n",
       "      <td>NaN</td>\n",
       "      <td>NaN</td>\n",
       "      <td>NaN</td>\n",
       "    </tr>\n",
       "    <tr>\n",
       "      <th>30</th>\n",
       "      <td>NaN</td>\n",
       "      <td>NaN</td>\n",
       "      <td>NaN</td>\n",
       "      <td>NaN</td>\n",
       "      <td>NaN</td>\n",
       "      <td>NaN</td>\n",
       "      <td>NaN</td>\n",
       "    </tr>\n",
       "    <tr>\n",
       "      <th>37</th>\n",
       "      <td>NaN</td>\n",
       "      <td>NaN</td>\n",
       "      <td>NaN</td>\n",
       "      <td>NaN</td>\n",
       "      <td>NaN</td>\n",
       "      <td>NaN</td>\n",
       "      <td>NaN</td>\n",
       "    </tr>\n",
       "    <tr>\n",
       "      <th>41</th>\n",
       "      <td>NaN</td>\n",
       "      <td>NaN</td>\n",
       "      <td>NaN</td>\n",
       "      <td>NaN</td>\n",
       "      <td>NaN</td>\n",
       "      <td>NaN</td>\n",
       "      <td>NaN</td>\n",
       "    </tr>\n",
       "    <tr>\n",
       "      <th>...</th>\n",
       "      <td>...</td>\n",
       "      <td>...</td>\n",
       "      <td>...</td>\n",
       "      <td>...</td>\n",
       "      <td>...</td>\n",
       "      <td>...</td>\n",
       "      <td>...</td>\n",
       "    </tr>\n",
       "    <tr>\n",
       "      <th>1384</th>\n",
       "      <td>NaN</td>\n",
       "      <td>NaN</td>\n",
       "      <td>NaN</td>\n",
       "      <td>NaN</td>\n",
       "      <td>NaN</td>\n",
       "      <td>NaN</td>\n",
       "      <td>NaN</td>\n",
       "    </tr>\n",
       "    <tr>\n",
       "      <th>1429</th>\n",
       "      <td>NaN</td>\n",
       "      <td>NaN</td>\n",
       "      <td>NaN</td>\n",
       "      <td>NaN</td>\n",
       "      <td>NaN</td>\n",
       "      <td>NaN</td>\n",
       "      <td>NaN</td>\n",
       "    </tr>\n",
       "    <tr>\n",
       "      <th>1432</th>\n",
       "      <td>NaN</td>\n",
       "      <td>NaN</td>\n",
       "      <td>NaN</td>\n",
       "      <td>NaN</td>\n",
       "      <td>NaN</td>\n",
       "      <td>NaN</td>\n",
       "      <td>NaN</td>\n",
       "    </tr>\n",
       "    <tr>\n",
       "      <th>1445</th>\n",
       "      <td>NaN</td>\n",
       "      <td>NaN</td>\n",
       "      <td>NaN</td>\n",
       "      <td>NaN</td>\n",
       "      <td>NaN</td>\n",
       "      <td>NaN</td>\n",
       "      <td>NaN</td>\n",
       "    </tr>\n",
       "    <tr>\n",
       "      <th>1457</th>\n",
       "      <td>NaN</td>\n",
       "      <td>NaN</td>\n",
       "      <td>NaN</td>\n",
       "      <td>NaN</td>\n",
       "      <td>NaN</td>\n",
       "      <td>NaN</td>\n",
       "      <td>NaN</td>\n",
       "    </tr>\n",
       "  </tbody>\n",
       "</table>\n",
       "<p>85 rows × 7 columns</p>\n",
       "</div>"
      ],
      "text/plain": [
       "      sku  total_sales tax_status product_type post_title post_type  \\\n",
       "8     NaN          NaN        NaN          NaN        NaN       NaN   \n",
       "20    NaN          NaN        NaN          NaN        NaN       NaN   \n",
       "30    NaN          NaN        NaN          NaN        NaN       NaN   \n",
       "37    NaN          NaN        NaN          NaN        NaN       NaN   \n",
       "41    NaN          NaN        NaN          NaN        NaN       NaN   \n",
       "...   ...          ...        ...          ...        ...       ...   \n",
       "1384  NaN          NaN        NaN          NaN        NaN       NaN   \n",
       "1429  NaN          NaN        NaN          NaN        NaN       NaN   \n",
       "1432  NaN          NaN        NaN          NaN        NaN       NaN   \n",
       "1445  NaN          NaN        NaN          NaN        NaN       NaN   \n",
       "1457  NaN          NaN        NaN          NaN        NaN       NaN   \n",
       "\n",
       "     post_mime_type  \n",
       "8               NaN  \n",
       "20              NaN  \n",
       "30              NaN  \n",
       "37              NaN  \n",
       "41              NaN  \n",
       "...             ...  \n",
       "1384            NaN  \n",
       "1429            NaN  \n",
       "1432            NaN  \n",
       "1445            NaN  \n",
       "1457            NaN  \n",
       "\n",
       "[85 rows x 7 columns]"
      ]
     },
     "execution_count": 57,
     "metadata": {},
     "output_type": "execute_result"
    }
   ],
   "source": [
    "#Identifier les lignes sans code articles\n",
    "df_web[df_web['sku'].isnull()]"
   ]
  },
  {
   "cell_type": "code",
   "execution_count": 58,
   "id": "967495da",
   "metadata": {},
   "outputs": [
    {
     "name": "stdout",
     "output_type": "stream",
     "text": [
      "<class 'pandas.core.frame.DataFrame'>\n",
      "Index: 85 entries, 8 to 1457\n",
      "Data columns (total 7 columns):\n",
      " #   Column          Non-Null Count  Dtype  \n",
      "---  ------          --------------  -----  \n",
      " 0   sku             0 non-null      object \n",
      " 1   total_sales     2 non-null      float64\n",
      " 2   tax_status      2 non-null      object \n",
      " 3   product_type    2 non-null      object \n",
      " 4   post_title      2 non-null      object \n",
      " 5   post_type       2 non-null      object \n",
      " 6   post_mime_type  0 non-null      object \n",
      "dtypes: float64(1), object(6)\n",
      "memory usage: 5.3+ KB\n"
     ]
    }
   ],
   "source": [
    "#Pour les codes articles identifiés, réalisé une analyse et définissez l'action à entreprendre\n",
    "web_sku_na = df_web[df_web['sku'].isnull()]\n",
    "web_sku_na.info()"
   ]
  },
  {
   "cell_type": "code",
   "execution_count": 59,
   "id": "0b13d49d",
   "metadata": {},
   "outputs": [
    {
     "data": {
      "text/html": [
       "<div>\n",
       "<style scoped>\n",
       "    .dataframe tbody tr th:only-of-type {\n",
       "        vertical-align: middle;\n",
       "    }\n",
       "\n",
       "    .dataframe tbody tr th {\n",
       "        vertical-align: top;\n",
       "    }\n",
       "\n",
       "    .dataframe thead th {\n",
       "        text-align: right;\n",
       "    }\n",
       "</style>\n",
       "<table border=\"1\" class=\"dataframe\">\n",
       "  <thead>\n",
       "    <tr style=\"text-align: right;\">\n",
       "      <th></th>\n",
       "      <th>sku</th>\n",
       "      <th>total_sales</th>\n",
       "      <th>tax_status</th>\n",
       "      <th>product_type</th>\n",
       "      <th>post_title</th>\n",
       "      <th>post_type</th>\n",
       "      <th>post_mime_type</th>\n",
       "    </tr>\n",
       "  </thead>\n",
       "  <tbody>\n",
       "    <tr>\n",
       "      <th>8</th>\n",
       "      <td>NaN</td>\n",
       "      <td>NaN</td>\n",
       "      <td>NaN</td>\n",
       "      <td>NaN</td>\n",
       "      <td>NaN</td>\n",
       "      <td>NaN</td>\n",
       "      <td>NaN</td>\n",
       "    </tr>\n",
       "    <tr>\n",
       "      <th>20</th>\n",
       "      <td>NaN</td>\n",
       "      <td>NaN</td>\n",
       "      <td>NaN</td>\n",
       "      <td>NaN</td>\n",
       "      <td>NaN</td>\n",
       "      <td>NaN</td>\n",
       "      <td>NaN</td>\n",
       "    </tr>\n",
       "    <tr>\n",
       "      <th>30</th>\n",
       "      <td>NaN</td>\n",
       "      <td>NaN</td>\n",
       "      <td>NaN</td>\n",
       "      <td>NaN</td>\n",
       "      <td>NaN</td>\n",
       "      <td>NaN</td>\n",
       "      <td>NaN</td>\n",
       "    </tr>\n",
       "    <tr>\n",
       "      <th>37</th>\n",
       "      <td>NaN</td>\n",
       "      <td>NaN</td>\n",
       "      <td>NaN</td>\n",
       "      <td>NaN</td>\n",
       "      <td>NaN</td>\n",
       "      <td>NaN</td>\n",
       "      <td>NaN</td>\n",
       "    </tr>\n",
       "    <tr>\n",
       "      <th>41</th>\n",
       "      <td>NaN</td>\n",
       "      <td>NaN</td>\n",
       "      <td>NaN</td>\n",
       "      <td>NaN</td>\n",
       "      <td>NaN</td>\n",
       "      <td>NaN</td>\n",
       "      <td>NaN</td>\n",
       "    </tr>\n",
       "    <tr>\n",
       "      <th>...</th>\n",
       "      <td>...</td>\n",
       "      <td>...</td>\n",
       "      <td>...</td>\n",
       "      <td>...</td>\n",
       "      <td>...</td>\n",
       "      <td>...</td>\n",
       "      <td>...</td>\n",
       "    </tr>\n",
       "    <tr>\n",
       "      <th>1384</th>\n",
       "      <td>NaN</td>\n",
       "      <td>NaN</td>\n",
       "      <td>NaN</td>\n",
       "      <td>NaN</td>\n",
       "      <td>NaN</td>\n",
       "      <td>NaN</td>\n",
       "      <td>NaN</td>\n",
       "    </tr>\n",
       "    <tr>\n",
       "      <th>1429</th>\n",
       "      <td>NaN</td>\n",
       "      <td>NaN</td>\n",
       "      <td>NaN</td>\n",
       "      <td>NaN</td>\n",
       "      <td>NaN</td>\n",
       "      <td>NaN</td>\n",
       "      <td>NaN</td>\n",
       "    </tr>\n",
       "    <tr>\n",
       "      <th>1432</th>\n",
       "      <td>NaN</td>\n",
       "      <td>NaN</td>\n",
       "      <td>NaN</td>\n",
       "      <td>NaN</td>\n",
       "      <td>NaN</td>\n",
       "      <td>NaN</td>\n",
       "      <td>NaN</td>\n",
       "    </tr>\n",
       "    <tr>\n",
       "      <th>1445</th>\n",
       "      <td>NaN</td>\n",
       "      <td>NaN</td>\n",
       "      <td>NaN</td>\n",
       "      <td>NaN</td>\n",
       "      <td>NaN</td>\n",
       "      <td>NaN</td>\n",
       "      <td>NaN</td>\n",
       "    </tr>\n",
       "    <tr>\n",
       "      <th>1457</th>\n",
       "      <td>NaN</td>\n",
       "      <td>NaN</td>\n",
       "      <td>NaN</td>\n",
       "      <td>NaN</td>\n",
       "      <td>NaN</td>\n",
       "      <td>NaN</td>\n",
       "      <td>NaN</td>\n",
       "    </tr>\n",
       "  </tbody>\n",
       "</table>\n",
       "<p>85 rows × 7 columns</p>\n",
       "</div>"
      ],
      "text/plain": [
       "      sku  total_sales tax_status product_type post_title post_type  \\\n",
       "8     NaN          NaN        NaN          NaN        NaN       NaN   \n",
       "20    NaN          NaN        NaN          NaN        NaN       NaN   \n",
       "30    NaN          NaN        NaN          NaN        NaN       NaN   \n",
       "37    NaN          NaN        NaN          NaN        NaN       NaN   \n",
       "41    NaN          NaN        NaN          NaN        NaN       NaN   \n",
       "...   ...          ...        ...          ...        ...       ...   \n",
       "1384  NaN          NaN        NaN          NaN        NaN       NaN   \n",
       "1429  NaN          NaN        NaN          NaN        NaN       NaN   \n",
       "1432  NaN          NaN        NaN          NaN        NaN       NaN   \n",
       "1445  NaN          NaN        NaN          NaN        NaN       NaN   \n",
       "1457  NaN          NaN        NaN          NaN        NaN       NaN   \n",
       "\n",
       "     post_mime_type  \n",
       "8               NaN  \n",
       "20              NaN  \n",
       "30              NaN  \n",
       "37              NaN  \n",
       "41              NaN  \n",
       "...             ...  \n",
       "1384            NaN  \n",
       "1429            NaN  \n",
       "1432            NaN  \n",
       "1445            NaN  \n",
       "1457            NaN  \n",
       "\n",
       "[85 rows x 7 columns]"
      ]
     },
     "execution_count": 59,
     "metadata": {},
     "output_type": "execute_result"
    }
   ],
   "source": [
    "web_sku_na"
   ]
  },
  {
   "cell_type": "code",
   "execution_count": 60,
   "id": "9fe41d6c",
   "metadata": {},
   "outputs": [],
   "source": [
    "#Nous allons tout supprimer sauf les lignes ou ya seulement sku d indisponible\n",
    "df_web.dropna(how='all', inplace=True)\n"
   ]
  },
  {
   "cell_type": "code",
   "execution_count": 61,
   "id": "e5cab7d6",
   "metadata": {},
   "outputs": [
    {
     "name": "stdout",
     "output_type": "stream",
     "text": [
      "        sku  total_sales tax_status product_type  \\\n",
      "0     11862          3.0        NaN          Vin   \n",
      "1     16057          5.0        NaN          Vin   \n",
      "2     14692          5.0    taxable          Vin   \n",
      "3     16295         14.0        NaN          Vin   \n",
      "4     15328          2.0    taxable          Vin   \n",
      "...     ...          ...        ...          ...   \n",
      "1508  16326          5.0    taxable          Vin   \n",
      "1509  15662         15.0    taxable          Vin   \n",
      "1510  15329          3.0        NaN          Vin   \n",
      "1511  14827          7.0        NaN          Vin   \n",
      "1512  16004          5.0        NaN          Vin   \n",
      "\n",
      "                                             post_title   post_type  \\\n",
      "0                     Gilles Robin Hermitage Rouge 2012  attachment   \n",
      "1     Domaine Pellé Sancerre Rouge La Croix Au Garde...  attachment   \n",
      "2         Château Fonréaud Bordeaux Blanc Le Cygne 2016     product   \n",
      "3     Moulin de Gassac IGP Pays d'Hérault Guilhem Ro...  attachment   \n",
      "4                  Agnès Levet Côte Rôtie Maestria 2017     product   \n",
      "...                                                 ...         ...   \n",
      "1508    Camin Larredya Jurançon Moelleux Au Capcéu 2018     product   \n",
      "1509  Chermette Domaine du Vissoux Beaujolais Griott...     product   \n",
      "1510               Agnès Levet Côte Rôtie Péroline 2017  attachment   \n",
      "1511  Marc Colin Et Fils Chassagne-Montrachet Blanc ...  attachment   \n",
      "1512                    Château du Couvent Pomerol 2017  attachment   \n",
      "\n",
      "     post_mime_type  \n",
      "0        image/jpeg  \n",
      "1        image/jpeg  \n",
      "2               NaN  \n",
      "3        image/jpeg  \n",
      "4               NaN  \n",
      "...             ...  \n",
      "1508            NaN  \n",
      "1509            NaN  \n",
      "1510     image/jpeg  \n",
      "1511     image/jpeg  \n",
      "1512     image/jpeg  \n",
      "\n",
      "[1430 rows x 7 columns]\n"
     ]
    }
   ],
   "source": [
    "print(df_web)"
   ]
  },
  {
   "cell_type": "code",
   "execution_count": 62,
   "id": "27bf30de",
   "metadata": {},
   "outputs": [
    {
     "data": {
      "text/html": [
       "<div>\n",
       "<style scoped>\n",
       "    .dataframe tbody tr th:only-of-type {\n",
       "        vertical-align: middle;\n",
       "    }\n",
       "\n",
       "    .dataframe tbody tr th {\n",
       "        vertical-align: top;\n",
       "    }\n",
       "\n",
       "    .dataframe thead th {\n",
       "        text-align: right;\n",
       "    }\n",
       "</style>\n",
       "<table border=\"1\" class=\"dataframe\">\n",
       "  <thead>\n",
       "    <tr style=\"text-align: right;\">\n",
       "      <th></th>\n",
       "      <th>sku</th>\n",
       "      <th>total_sales</th>\n",
       "      <th>tax_status</th>\n",
       "      <th>product_type</th>\n",
       "      <th>post_title</th>\n",
       "      <th>post_type</th>\n",
       "      <th>post_mime_type</th>\n",
       "    </tr>\n",
       "  </thead>\n",
       "  <tbody>\n",
       "    <tr>\n",
       "      <th>1030</th>\n",
       "      <td>10014</td>\n",
       "      <td>10.0</td>\n",
       "      <td>NaN</td>\n",
       "      <td>Gin</td>\n",
       "      <td>Darnley's London Dry Gin Original</td>\n",
       "      <td>attachment</td>\n",
       "      <td>image/jpeg</td>\n",
       "    </tr>\n",
       "    <tr>\n",
       "      <th>887</th>\n",
       "      <td>10459</td>\n",
       "      <td>4.0</td>\n",
       "      <td>NaN</td>\n",
       "      <td>Vin</td>\n",
       "      <td>Alphonse Mellot Sancerre Rouge Génération XIX ...</td>\n",
       "      <td>attachment</td>\n",
       "      <td>image/jpeg</td>\n",
       "    </tr>\n",
       "    <tr>\n",
       "      <th>1317</th>\n",
       "      <td>10775</td>\n",
       "      <td>6.0</td>\n",
       "      <td>NaN</td>\n",
       "      <td>Vin</td>\n",
       "      <td>Albert Mann Pinot Gris Vendanges Tardives Alte...</td>\n",
       "      <td>attachment</td>\n",
       "      <td>image/jpeg</td>\n",
       "    </tr>\n",
       "    <tr>\n",
       "      <th>860</th>\n",
       "      <td>10814</td>\n",
       "      <td>7.0</td>\n",
       "      <td>taxable</td>\n",
       "      <td>Vin</td>\n",
       "      <td>Thierry Germain Saumur-Champigny Outre Terre 2013</td>\n",
       "      <td>product</td>\n",
       "      <td>NaN</td>\n",
       "    </tr>\n",
       "    <tr>\n",
       "      <th>1322</th>\n",
       "      <td>11049</td>\n",
       "      <td>4.0</td>\n",
       "      <td>NaN</td>\n",
       "      <td>Vin</td>\n",
       "      <td>Alphonse Mellot Sancerre Rouge En Grands Champ...</td>\n",
       "      <td>attachment</td>\n",
       "      <td>image/jpeg</td>\n",
       "    </tr>\n",
       "    <tr>\n",
       "      <th>...</th>\n",
       "      <td>...</td>\n",
       "      <td>...</td>\n",
       "      <td>...</td>\n",
       "      <td>...</td>\n",
       "      <td>...</td>\n",
       "      <td>...</td>\n",
       "      <td>...</td>\n",
       "    </tr>\n",
       "    <tr>\n",
       "      <th>1438</th>\n",
       "      <td>9562</td>\n",
       "      <td>5.0</td>\n",
       "      <td>taxable</td>\n",
       "      <td>Champagne</td>\n",
       "      <td>Champagne Larmandier-Bernier Latitude</td>\n",
       "      <td>product</td>\n",
       "      <td>NaN</td>\n",
       "    </tr>\n",
       "    <tr>\n",
       "      <th>762</th>\n",
       "      <td>9636</td>\n",
       "      <td>0.0</td>\n",
       "      <td>NaN</td>\n",
       "      <td>Whisky</td>\n",
       "      <td>Wemyss Malts Blended Malt Scotch Whisky The Hi...</td>\n",
       "      <td>attachment</td>\n",
       "      <td>image/jpeg</td>\n",
       "    </tr>\n",
       "    <tr>\n",
       "      <th>728</th>\n",
       "      <td>9937</td>\n",
       "      <td>2.0</td>\n",
       "      <td>NaN</td>\n",
       "      <td>Vin</td>\n",
       "      <td>Marcel Richaud Cairanne Rouge Les Estrambords ...</td>\n",
       "      <td>attachment</td>\n",
       "      <td>image/jpeg</td>\n",
       "    </tr>\n",
       "    <tr>\n",
       "      <th>1387</th>\n",
       "      <td>bon-cadeau-25-euros</td>\n",
       "      <td>7.0</td>\n",
       "      <td>taxable</td>\n",
       "      <td>NaN</td>\n",
       "      <td>Bon cadeau de 25€</td>\n",
       "      <td>product</td>\n",
       "      <td>NaN</td>\n",
       "    </tr>\n",
       "    <tr>\n",
       "      <th>1087</th>\n",
       "      <td>nan</td>\n",
       "      <td>-17.0</td>\n",
       "      <td>taxable</td>\n",
       "      <td>Vin</td>\n",
       "      <td>Pierre Jean Villa Côte Rôtie Fongeant 2017</td>\n",
       "      <td>product</td>\n",
       "      <td>NaN</td>\n",
       "    </tr>\n",
       "  </tbody>\n",
       "</table>\n",
       "<p>715 rows × 7 columns</p>\n",
       "</div>"
      ],
      "text/plain": [
       "                      sku  total_sales tax_status product_type  \\\n",
       "1030                10014         10.0        NaN          Gin   \n",
       "887                 10459          4.0        NaN          Vin   \n",
       "1317                10775          6.0        NaN          Vin   \n",
       "860                 10814          7.0    taxable          Vin   \n",
       "1322                11049          4.0        NaN          Vin   \n",
       "...                   ...          ...        ...          ...   \n",
       "1438                 9562          5.0    taxable    Champagne   \n",
       "762                  9636          0.0        NaN       Whisky   \n",
       "728                  9937          2.0        NaN          Vin   \n",
       "1387  bon-cadeau-25-euros          7.0    taxable          NaN   \n",
       "1087                  nan        -17.0    taxable          Vin   \n",
       "\n",
       "                                             post_title   post_type  \\\n",
       "1030                  Darnley's London Dry Gin Original  attachment   \n",
       "887   Alphonse Mellot Sancerre Rouge Génération XIX ...  attachment   \n",
       "1317  Albert Mann Pinot Gris Vendanges Tardives Alte...  attachment   \n",
       "860   Thierry Germain Saumur-Champigny Outre Terre 2013     product   \n",
       "1322  Alphonse Mellot Sancerre Rouge En Grands Champ...  attachment   \n",
       "...                                                 ...         ...   \n",
       "1438              Champagne Larmandier-Bernier Latitude     product   \n",
       "762   Wemyss Malts Blended Malt Scotch Whisky The Hi...  attachment   \n",
       "728   Marcel Richaud Cairanne Rouge Les Estrambords ...  attachment   \n",
       "1387                                  Bon cadeau de 25€     product   \n",
       "1087         Pierre Jean Villa Côte Rôtie Fongeant 2017     product   \n",
       "\n",
       "     post_mime_type  \n",
       "1030     image/jpeg  \n",
       "887      image/jpeg  \n",
       "1317     image/jpeg  \n",
       "860             NaN  \n",
       "1322     image/jpeg  \n",
       "...             ...  \n",
       "1438            NaN  \n",
       "762      image/jpeg  \n",
       "728      image/jpeg  \n",
       "1387            NaN  \n",
       "1087            NaN  \n",
       "\n",
       "[715 rows x 7 columns]"
      ]
     },
     "execution_count": 62,
     "metadata": {},
     "output_type": "execute_result"
    }
   ],
   "source": [
    "#La clé pour chaque ligne est-elle uniques? ou autrement dit, y a-t-il des doublons?\n",
    "df_web['sku'] = df_web['sku'].astype(str)\n",
    "df_web[df_web.duplicated(subset=['sku'])].sort_values(by='sku')"
   ]
  },
  {
   "cell_type": "code",
   "execution_count": 63,
   "id": "7ea3662b",
   "metadata": {},
   "outputs": [
    {
     "name": "stdout",
     "output_type": "stream",
     "text": [
      "        sku  total_sales tax_status product_type  \\\n",
      "2     14692          5.0    taxable          Vin   \n",
      "4     15328          2.0    taxable          Vin   \n",
      "6     16515         10.0    taxable          Vin   \n",
      "11    16585         15.0    taxable          Vin   \n",
      "14    12869          7.0    taxable          Vin   \n",
      "...     ...          ...        ...          ...   \n",
      "1503  13074          4.0    taxable          Vin   \n",
      "1505  16322          0.0    taxable          Vin   \n",
      "1507  12365         10.0    taxable          Vin   \n",
      "1508  16326          5.0    taxable          Vin   \n",
      "1509  15662         15.0    taxable          Vin   \n",
      "\n",
      "                                             post_title post_type  \\\n",
      "2         Château Fonréaud Bordeaux Blanc Le Cygne 2016   product   \n",
      "4                  Agnès Levet Côte Rôtie Maestria 2017   product   \n",
      "6     Château Turcaud Bordeaux Rouge Cuvée Majeure 2018   product   \n",
      "11              Xavier Frissant Touraine Sauvignon 2019   product   \n",
      "14                     Stéphane Tissot Arbois D.D. 2016   product   \n",
      "...                                                 ...       ...   \n",
      "1503  Château de Vaudieu Châteauneuf-du-Pape L'Avenu...   product   \n",
      "1505  Moulin de Gassac IGP Pays d'Hérault Guilhem Ro...   product   \n",
      "1507                   Parés Baltà Penedès Electio 2013   product   \n",
      "1508    Camin Larredya Jurançon Moelleux Au Capcéu 2018   product   \n",
      "1509  Chermette Domaine du Vissoux Beaujolais Griott...   product   \n",
      "\n",
      "     post_mime_type  \n",
      "2               NaN  \n",
      "4               NaN  \n",
      "6               NaN  \n",
      "11              NaN  \n",
      "14              NaN  \n",
      "...             ...  \n",
      "1503            NaN  \n",
      "1505            NaN  \n",
      "1507            NaN  \n",
      "1508            NaN  \n",
      "1509            NaN  \n",
      "\n",
      "[715 rows x 7 columns]\n"
     ]
    }
   ],
   "source": [
    "# Supprimer les doublons basés sur la colonne 'sku' et garder la première occurrence\n",
    "df_web = df_web[df_web['post_type'] == 'product'].drop_duplicates(subset=['sku'])\n",
    "\n",
    "# Afficher le DataFrame sans doublons\n",
    "print(df_web)"
   ]
  },
  {
   "cell_type": "code",
   "execution_count": 64,
   "id": "16fe2957",
   "metadata": {},
   "outputs": [
    {
     "data": {
      "text/plain": [
       "\"df__web_agrege = df_web.groupby('sku').agg({'total_sales': 'mean','tax_status': 'first','product_type': 'first', 'post_title': 'first'}).reset_index()\\ndf__web_agrege\\ndf_web = df__web_agrege\\nprint (df_web)\""
      ]
     },
     "execution_count": 64,
     "metadata": {},
     "output_type": "execute_result"
    }
   ],
   "source": [
    "'''df__web_agrege = df_web.groupby('sku').agg({'total_sales': 'mean','tax_status': 'first','product_type': 'first', 'post_title': 'first'}).reset_index()\n",
    "df__web_agrege\n",
    "df_web = df__web_agrege\n",
    "print (df_web)'''"
   ]
  },
  {
   "cell_type": "code",
   "execution_count": 65,
   "id": "45cd7545",
   "metadata": {},
   "outputs": [
    {
     "name": "stdout",
     "output_type": "stream",
     "text": [
      "<class 'pandas.core.frame.DataFrame'>\n",
      "Index: 715 entries, 2 to 1509\n",
      "Data columns (total 7 columns):\n",
      " #   Column          Non-Null Count  Dtype  \n",
      "---  ------          --------------  -----  \n",
      " 0   sku             715 non-null    object \n",
      " 1   total_sales     715 non-null    float64\n",
      " 2   tax_status      715 non-null    object \n",
      " 3   product_type    714 non-null    object \n",
      " 4   post_title      715 non-null    object \n",
      " 5   post_type       715 non-null    object \n",
      " 6   post_mime_type  0 non-null      object \n",
      "dtypes: float64(1), object(6)\n",
      "memory usage: 44.7+ KB\n"
     ]
    }
   ],
   "source": [
    "df_web.info()"
   ]
  },
  {
   "cell_type": "code",
   "execution_count": 66,
   "id": "abb76be0",
   "metadata": {},
   "outputs": [
    {
     "data": {
      "text/html": [
       "<div>\n",
       "<style scoped>\n",
       "    .dataframe tbody tr th:only-of-type {\n",
       "        vertical-align: middle;\n",
       "    }\n",
       "\n",
       "    .dataframe tbody tr th {\n",
       "        vertical-align: top;\n",
       "    }\n",
       "\n",
       "    .dataframe thead th {\n",
       "        text-align: right;\n",
       "    }\n",
       "</style>\n",
       "<table border=\"1\" class=\"dataframe\">\n",
       "  <thead>\n",
       "    <tr style=\"text-align: right;\">\n",
       "      <th></th>\n",
       "      <th>sku</th>\n",
       "      <th>total_sales</th>\n",
       "      <th>tax_status</th>\n",
       "      <th>product_type</th>\n",
       "      <th>post_title</th>\n",
       "      <th>post_type</th>\n",
       "      <th>post_mime_type</th>\n",
       "    </tr>\n",
       "  </thead>\n",
       "  <tbody>\n",
       "  </tbody>\n",
       "</table>\n",
       "</div>"
      ],
      "text/plain": [
       "Empty DataFrame\n",
       "Columns: [sku, total_sales, tax_status, product_type, post_title, post_type, post_mime_type]\n",
       "Index: []"
      ]
     },
     "execution_count": 66,
     "metadata": {},
     "output_type": "execute_result"
    }
   ],
   "source": [
    "df_web[df_web.loc[:,'sku'].duplicated()]"
   ]
  },
  {
   "cell_type": "code",
   "execution_count": 67,
   "id": "bca30aa0",
   "metadata": {},
   "outputs": [
    {
     "data": {
      "text/plain": [
       "0"
      ]
     },
     "execution_count": 67,
     "metadata": {},
     "output_type": "execute_result"
    }
   ],
   "source": [
    "df_web.duplicated().sum()"
   ]
  },
  {
   "cell_type": "code",
   "execution_count": 68,
   "id": "8b81d617",
   "metadata": {},
   "outputs": [
    {
     "data": {
      "text/html": [
       "<div>\n",
       "<style scoped>\n",
       "    .dataframe tbody tr th:only-of-type {\n",
       "        vertical-align: middle;\n",
       "    }\n",
       "\n",
       "    .dataframe tbody tr th {\n",
       "        vertical-align: top;\n",
       "    }\n",
       "\n",
       "    .dataframe thead th {\n",
       "        text-align: right;\n",
       "    }\n",
       "</style>\n",
       "<table border=\"1\" class=\"dataframe\">\n",
       "  <thead>\n",
       "    <tr style=\"text-align: right;\">\n",
       "      <th></th>\n",
       "      <th>sku</th>\n",
       "      <th>total_sales</th>\n",
       "      <th>tax_status</th>\n",
       "      <th>product_type</th>\n",
       "      <th>post_title</th>\n",
       "      <th>post_type</th>\n",
       "      <th>post_mime_type</th>\n",
       "    </tr>\n",
       "  </thead>\n",
       "  <tbody>\n",
       "  </tbody>\n",
       "</table>\n",
       "</div>"
      ],
      "text/plain": [
       "Empty DataFrame\n",
       "Columns: [sku, total_sales, tax_status, product_type, post_title, post_type, post_mime_type]\n",
       "Index: []"
      ]
     },
     "execution_count": 68,
     "metadata": {},
     "output_type": "execute_result"
    }
   ],
   "source": [
    "#Les lignes sans code article semble être toutes non renseignés\n",
    "#Pour s'en assurer réaliser les étapes suivantes:\n",
    "#1 - Créer un dataframe avec uniquement les lignes sans code article\n",
    "web_na_sku = df_web[df_web['sku'].isnull()]\n",
    "web_na_sku\n",
    "#2 - utiliser la fonction df.info() sur ce nouveau dataframe pour observer le nombre de valeur reseigner dans chacune des colonnes\n",
    "\n",
    "#3 - Que constatez-vous?"
   ]
  },
  {
   "cell_type": "code",
   "execution_count": 69,
   "id": "ec855c44",
   "metadata": {},
   "outputs": [
    {
     "data": {
      "text/html": [
       "<div>\n",
       "<style scoped>\n",
       "    .dataframe tbody tr th:only-of-type {\n",
       "        vertical-align: middle;\n",
       "    }\n",
       "\n",
       "    .dataframe tbody tr th {\n",
       "        vertical-align: top;\n",
       "    }\n",
       "\n",
       "    .dataframe thead th {\n",
       "        text-align: right;\n",
       "    }\n",
       "</style>\n",
       "<table border=\"1\" class=\"dataframe\">\n",
       "  <thead>\n",
       "    <tr style=\"text-align: right;\">\n",
       "      <th></th>\n",
       "      <th>sku</th>\n",
       "      <th>total_sales</th>\n",
       "      <th>tax_status</th>\n",
       "      <th>product_type</th>\n",
       "      <th>post_title</th>\n",
       "      <th>post_type</th>\n",
       "      <th>post_mime_type</th>\n",
       "    </tr>\n",
       "  </thead>\n",
       "  <tbody>\n",
       "    <tr>\n",
       "      <th>2</th>\n",
       "      <td>14692</td>\n",
       "      <td>5.0</td>\n",
       "      <td>taxable</td>\n",
       "      <td>Vin</td>\n",
       "      <td>Château Fonréaud Bordeaux Blanc Le Cygne 2016</td>\n",
       "      <td>product</td>\n",
       "      <td>NaN</td>\n",
       "    </tr>\n",
       "    <tr>\n",
       "      <th>4</th>\n",
       "      <td>15328</td>\n",
       "      <td>2.0</td>\n",
       "      <td>taxable</td>\n",
       "      <td>Vin</td>\n",
       "      <td>Agnès Levet Côte Rôtie Maestria 2017</td>\n",
       "      <td>product</td>\n",
       "      <td>NaN</td>\n",
       "    </tr>\n",
       "    <tr>\n",
       "      <th>6</th>\n",
       "      <td>16515</td>\n",
       "      <td>10.0</td>\n",
       "      <td>taxable</td>\n",
       "      <td>Vin</td>\n",
       "      <td>Château Turcaud Bordeaux Rouge Cuvée Majeure 2018</td>\n",
       "      <td>product</td>\n",
       "      <td>NaN</td>\n",
       "    </tr>\n",
       "    <tr>\n",
       "      <th>11</th>\n",
       "      <td>16585</td>\n",
       "      <td>15.0</td>\n",
       "      <td>taxable</td>\n",
       "      <td>Vin</td>\n",
       "      <td>Xavier Frissant Touraine Sauvignon 2019</td>\n",
       "      <td>product</td>\n",
       "      <td>NaN</td>\n",
       "    </tr>\n",
       "    <tr>\n",
       "      <th>14</th>\n",
       "      <td>12869</td>\n",
       "      <td>7.0</td>\n",
       "      <td>taxable</td>\n",
       "      <td>Vin</td>\n",
       "      <td>Stéphane Tissot Arbois D.D. 2016</td>\n",
       "      <td>product</td>\n",
       "      <td>NaN</td>\n",
       "    </tr>\n",
       "    <tr>\n",
       "      <th>...</th>\n",
       "      <td>...</td>\n",
       "      <td>...</td>\n",
       "      <td>...</td>\n",
       "      <td>...</td>\n",
       "      <td>...</td>\n",
       "      <td>...</td>\n",
       "      <td>...</td>\n",
       "    </tr>\n",
       "    <tr>\n",
       "      <th>1503</th>\n",
       "      <td>13074</td>\n",
       "      <td>4.0</td>\n",
       "      <td>taxable</td>\n",
       "      <td>Vin</td>\n",
       "      <td>Château de Vaudieu Châteauneuf-du-Pape L'Avenu...</td>\n",
       "      <td>product</td>\n",
       "      <td>NaN</td>\n",
       "    </tr>\n",
       "    <tr>\n",
       "      <th>1505</th>\n",
       "      <td>16322</td>\n",
       "      <td>0.0</td>\n",
       "      <td>taxable</td>\n",
       "      <td>Vin</td>\n",
       "      <td>Moulin de Gassac IGP Pays d'Hérault Guilhem Ro...</td>\n",
       "      <td>product</td>\n",
       "      <td>NaN</td>\n",
       "    </tr>\n",
       "    <tr>\n",
       "      <th>1507</th>\n",
       "      <td>12365</td>\n",
       "      <td>10.0</td>\n",
       "      <td>taxable</td>\n",
       "      <td>Vin</td>\n",
       "      <td>Parés Baltà Penedès Electio 2013</td>\n",
       "      <td>product</td>\n",
       "      <td>NaN</td>\n",
       "    </tr>\n",
       "    <tr>\n",
       "      <th>1508</th>\n",
       "      <td>16326</td>\n",
       "      <td>5.0</td>\n",
       "      <td>taxable</td>\n",
       "      <td>Vin</td>\n",
       "      <td>Camin Larredya Jurançon Moelleux Au Capcéu 2018</td>\n",
       "      <td>product</td>\n",
       "      <td>NaN</td>\n",
       "    </tr>\n",
       "    <tr>\n",
       "      <th>1509</th>\n",
       "      <td>15662</td>\n",
       "      <td>15.0</td>\n",
       "      <td>taxable</td>\n",
       "      <td>Vin</td>\n",
       "      <td>Chermette Domaine du Vissoux Beaujolais Griott...</td>\n",
       "      <td>product</td>\n",
       "      <td>NaN</td>\n",
       "    </tr>\n",
       "  </tbody>\n",
       "</table>\n",
       "<p>715 rows × 7 columns</p>\n",
       "</div>"
      ],
      "text/plain": [
       "        sku  total_sales tax_status product_type  \\\n",
       "2     14692          5.0    taxable          Vin   \n",
       "4     15328          2.0    taxable          Vin   \n",
       "6     16515         10.0    taxable          Vin   \n",
       "11    16585         15.0    taxable          Vin   \n",
       "14    12869          7.0    taxable          Vin   \n",
       "...     ...          ...        ...          ...   \n",
       "1503  13074          4.0    taxable          Vin   \n",
       "1505  16322          0.0    taxable          Vin   \n",
       "1507  12365         10.0    taxable          Vin   \n",
       "1508  16326          5.0    taxable          Vin   \n",
       "1509  15662         15.0    taxable          Vin   \n",
       "\n",
       "                                             post_title post_type  \\\n",
       "2         Château Fonréaud Bordeaux Blanc Le Cygne 2016   product   \n",
       "4                  Agnès Levet Côte Rôtie Maestria 2017   product   \n",
       "6     Château Turcaud Bordeaux Rouge Cuvée Majeure 2018   product   \n",
       "11              Xavier Frissant Touraine Sauvignon 2019   product   \n",
       "14                     Stéphane Tissot Arbois D.D. 2016   product   \n",
       "...                                                 ...       ...   \n",
       "1503  Château de Vaudieu Châteauneuf-du-Pape L'Avenu...   product   \n",
       "1505  Moulin de Gassac IGP Pays d'Hérault Guilhem Ro...   product   \n",
       "1507                   Parés Baltà Penedès Electio 2013   product   \n",
       "1508    Camin Larredya Jurançon Moelleux Au Capcéu 2018   product   \n",
       "1509  Chermette Domaine du Vissoux Beaujolais Griott...   product   \n",
       "\n",
       "     post_mime_type  \n",
       "2               NaN  \n",
       "4               NaN  \n",
       "6               NaN  \n",
       "11              NaN  \n",
       "14              NaN  \n",
       "...             ...  \n",
       "1503            NaN  \n",
       "1505            NaN  \n",
       "1507            NaN  \n",
       "1508            NaN  \n",
       "1509            NaN  \n",
       "\n",
       "[715 rows x 7 columns]"
      ]
     },
     "execution_count": 69,
     "metadata": {},
     "output_type": "execute_result"
    }
   ],
   "source": [
    "df_web"
   ]
  },
  {
   "cell_type": "markdown",
   "id": "dbff6403",
   "metadata": {},
   "source": [
    "<div style=\"border: 1px solid RGB(51,165,182);\" >\n",
    "<h3 style=\"margin: auto; padding: 20px; color: RGB(51,165,182); \">2.3 - Analyse exploratoire du fichier liaison.xlsx</h3>\n",
    "</div>"
   ]
  },
  {
   "cell_type": "code",
   "execution_count": 70,
   "id": "de426b74",
   "metadata": {},
   "outputs": [
    {
     "name": "stdout",
     "output_type": "stream",
     "text": [
      "Nombre d'observations 825\n",
      "Nombre de caractéristiques 2\n"
     ]
    }
   ],
   "source": [
    "#Dimension du dataset\n",
    "df_liaison.shape\n",
    "#Nombre d'observations\n",
    "print(f\"Nombre d'observations\", df_liaison.shape[0])\n",
    "#Nombre de caractéristiques\n",
    "print(f\"Nombre de caractéristiques\", df_liaison.shape[1])"
   ]
  },
  {
   "cell_type": "code",
   "execution_count": 71,
   "id": "9834ae33",
   "metadata": {},
   "outputs": [
    {
     "name": "stdout",
     "output_type": "stream",
     "text": [
      "<class 'pandas.core.frame.DataFrame'>\n",
      "RangeIndex: 825 entries, 0 to 824\n",
      "Data columns (total 2 columns):\n",
      " #   Column      Non-Null Count  Dtype \n",
      "---  ------      --------------  ----- \n",
      " 0   id_web      734 non-null    object\n",
      " 1   product_id  825 non-null    int64 \n",
      "dtypes: int64(1), object(1)\n",
      "memory usage: 13.0+ KB\n"
     ]
    }
   ],
   "source": [
    "#Consulter le nombre de colonnes\n",
    "df_liaison.info()\n",
    "#La nature des données dans chacune des colonnes\n",
    "#Le nombre de valeurs présentes dans chacune des colonnes\n"
   ]
  },
  {
   "cell_type": "code",
   "execution_count": 72,
   "id": "9c41bda4",
   "metadata": {},
   "outputs": [
    {
     "data": {
      "text/html": [
       "<div>\n",
       "<style scoped>\n",
       "    .dataframe tbody tr th:only-of-type {\n",
       "        vertical-align: middle;\n",
       "    }\n",
       "\n",
       "    .dataframe tbody tr th {\n",
       "        vertical-align: top;\n",
       "    }\n",
       "\n",
       "    .dataframe thead th {\n",
       "        text-align: right;\n",
       "    }\n",
       "</style>\n",
       "<table border=\"1\" class=\"dataframe\">\n",
       "  <thead>\n",
       "    <tr style=\"text-align: right;\">\n",
       "      <th></th>\n",
       "      <th>id_web</th>\n",
       "      <th>product_id</th>\n",
       "    </tr>\n",
       "  </thead>\n",
       "  <tbody>\n",
       "    <tr>\n",
       "      <th>0</th>\n",
       "      <td>15298</td>\n",
       "      <td>3847</td>\n",
       "    </tr>\n",
       "    <tr>\n",
       "      <th>1</th>\n",
       "      <td>15296</td>\n",
       "      <td>3849</td>\n",
       "    </tr>\n",
       "    <tr>\n",
       "      <th>2</th>\n",
       "      <td>15300</td>\n",
       "      <td>3850</td>\n",
       "    </tr>\n",
       "    <tr>\n",
       "      <th>3</th>\n",
       "      <td>19814</td>\n",
       "      <td>4032</td>\n",
       "    </tr>\n",
       "    <tr>\n",
       "      <th>4</th>\n",
       "      <td>19815</td>\n",
       "      <td>4039</td>\n",
       "    </tr>\n",
       "    <tr>\n",
       "      <th>...</th>\n",
       "      <td>...</td>\n",
       "      <td>...</td>\n",
       "    </tr>\n",
       "    <tr>\n",
       "      <th>820</th>\n",
       "      <td>NaN</td>\n",
       "      <td>7203</td>\n",
       "    </tr>\n",
       "    <tr>\n",
       "      <th>821</th>\n",
       "      <td>NaN</td>\n",
       "      <td>7204</td>\n",
       "    </tr>\n",
       "    <tr>\n",
       "      <th>822</th>\n",
       "      <td>13127-1</td>\n",
       "      <td>7247</td>\n",
       "    </tr>\n",
       "    <tr>\n",
       "      <th>823</th>\n",
       "      <td>14680-1</td>\n",
       "      <td>7329</td>\n",
       "    </tr>\n",
       "    <tr>\n",
       "      <th>824</th>\n",
       "      <td>16230</td>\n",
       "      <td>7338</td>\n",
       "    </tr>\n",
       "  </tbody>\n",
       "</table>\n",
       "<p>825 rows × 2 columns</p>\n",
       "</div>"
      ],
      "text/plain": [
       "      id_web  product_id\n",
       "0      15298        3847\n",
       "1      15296        3849\n",
       "2      15300        3850\n",
       "3      19814        4032\n",
       "4      19815        4039\n",
       "..       ...         ...\n",
       "820      NaN        7203\n",
       "821      NaN        7204\n",
       "822  13127-1        7247\n",
       "823  14680-1        7329\n",
       "824    16230        7338\n",
       "\n",
       "[825 rows x 2 columns]"
      ]
     },
     "execution_count": 72,
     "metadata": {},
     "output_type": "execute_result"
    }
   ],
   "source": [
    "df_liaison"
   ]
  },
  {
   "cell_type": "code",
   "execution_count": 73,
   "id": "3695f163",
   "metadata": {},
   "outputs": [
    {
     "name": "stdout",
     "output_type": "stream",
     "text": [
      "Toutes les valeurs de la colonne 'product_id' sont uniques.\n"
     ]
    }
   ],
   "source": [
    "liaison_prod_uniques = not df_liaison['product_id'].duplicated().any()\n",
    "\n",
    "if liaison_prod_uniques:\n",
    "    print(\"Toutes les valeurs de la colonne 'product_id' sont uniques.\")\n",
    "else:\n",
    "    print(\"Il y a des valeurs dupliquées dans la colonne 'product_id'.\")"
   ]
  },
  {
   "cell_type": "code",
   "execution_count": 74,
   "id": "89026e04",
   "metadata": {},
   "outputs": [
    {
     "data": {
      "text/plain": [
       "False"
      ]
     },
     "execution_count": 74,
     "metadata": {},
     "output_type": "execute_result"
    }
   ],
   "source": [
    "df_liaison['product_id'].duplicated().any()"
   ]
  },
  {
   "cell_type": "code",
   "execution_count": 75,
   "id": "4d8ca13c",
   "metadata": {},
   "outputs": [
    {
     "data": {
      "text/plain": [
       "True"
      ]
     },
     "execution_count": 75,
     "metadata": {},
     "output_type": "execute_result"
    }
   ],
   "source": [
    "#Les valeurs de la colonne \"id_web\" sont-elles toutes uniques?\n",
    "df_liaison['id_web'].duplicated().any()"
   ]
  },
  {
   "cell_type": "code",
   "execution_count": 76,
   "id": "74d901be",
   "metadata": {},
   "outputs": [
    {
     "name": "stdout",
     "output_type": "stream",
     "text": [
      "Il y a des valeurs dupliquées dans la colonne 'id_web'.\n"
     ]
    }
   ],
   "source": [
    "liaison_web_uniques = not df_liaison['id_web'].duplicated().any()\n",
    "\n",
    "if liaison_web_uniques:\n",
    "    print(\"Toutes les valeurs de la colonne 'id_web' sont uniques.\")\n",
    "else:\n",
    "    print(\"Il y a des valeurs dupliquées dans la colonne 'id_web'.\")"
   ]
  },
  {
   "cell_type": "code",
   "execution_count": 77,
   "id": "52f7c843",
   "metadata": {},
   "outputs": [
    {
     "data": {
      "text/plain": [
       "90"
      ]
     },
     "execution_count": 77,
     "metadata": {},
     "output_type": "execute_result"
    }
   ],
   "source": [
    "\n",
    "df_liaison['id_web'].duplicated().sum()"
   ]
  },
  {
   "cell_type": "code",
   "execution_count": 78,
   "id": "cd6580f0",
   "metadata": {},
   "outputs": [
    {
     "name": "stdout",
     "output_type": "stream",
     "text": [
      "Nous-avons des articles sans correspondances 'id_web'\n",
      "Nous n'avons pas des articles sans correspondances 'product_id'\n"
     ]
    }
   ],
   "source": [
    "#Avons-nous des articles sans correspondances?\n",
    "\n",
    "if df_liaison['id_web'].isnull().any() == True :\n",
    "    print(\"Nous-avons des articles sans correspondances 'id_web'\")\n",
    "else:\n",
    "    print(\"Nous n'avons pas des articles sans correspondances 'product_id'\")\n",
    "\n",
    "if df_liaison['product_id'].isnull().any() == True :\n",
    "    print(\"Nous-avons des articles sans correspondances 'product_id'\")\n",
    "else:\n",
    "    print(\"Nous n'avons pas des articles sans correspondances 'product_id'\")\n",
    "\n"
   ]
  },
  {
   "cell_type": "code",
   "execution_count": 79,
   "id": "af49e1e0",
   "metadata": {},
   "outputs": [],
   "source": [
    "df_liaison.dropna(inplace=True)"
   ]
  },
  {
   "cell_type": "code",
   "execution_count": 80,
   "id": "10f98888",
   "metadata": {},
   "outputs": [
    {
     "data": {
      "text/html": [
       "<div>\n",
       "<style scoped>\n",
       "    .dataframe tbody tr th:only-of-type {\n",
       "        vertical-align: middle;\n",
       "    }\n",
       "\n",
       "    .dataframe tbody tr th {\n",
       "        vertical-align: top;\n",
       "    }\n",
       "\n",
       "    .dataframe thead th {\n",
       "        text-align: right;\n",
       "    }\n",
       "</style>\n",
       "<table border=\"1\" class=\"dataframe\">\n",
       "  <thead>\n",
       "    <tr style=\"text-align: right;\">\n",
       "      <th></th>\n",
       "      <th>id_web</th>\n",
       "      <th>product_id</th>\n",
       "    </tr>\n",
       "  </thead>\n",
       "  <tbody>\n",
       "    <tr>\n",
       "      <th>0</th>\n",
       "      <td>15298</td>\n",
       "      <td>3847</td>\n",
       "    </tr>\n",
       "    <tr>\n",
       "      <th>1</th>\n",
       "      <td>15296</td>\n",
       "      <td>3849</td>\n",
       "    </tr>\n",
       "    <tr>\n",
       "      <th>2</th>\n",
       "      <td>15300</td>\n",
       "      <td>3850</td>\n",
       "    </tr>\n",
       "    <tr>\n",
       "      <th>3</th>\n",
       "      <td>19814</td>\n",
       "      <td>4032</td>\n",
       "    </tr>\n",
       "    <tr>\n",
       "      <th>4</th>\n",
       "      <td>19815</td>\n",
       "      <td>4039</td>\n",
       "    </tr>\n",
       "    <tr>\n",
       "      <th>...</th>\n",
       "      <td>...</td>\n",
       "      <td>...</td>\n",
       "    </tr>\n",
       "    <tr>\n",
       "      <th>792</th>\n",
       "      <td>15891</td>\n",
       "      <td>7023</td>\n",
       "    </tr>\n",
       "    <tr>\n",
       "      <th>793</th>\n",
       "      <td>15887</td>\n",
       "      <td>7025</td>\n",
       "    </tr>\n",
       "    <tr>\n",
       "      <th>822</th>\n",
       "      <td>13127-1</td>\n",
       "      <td>7247</td>\n",
       "    </tr>\n",
       "    <tr>\n",
       "      <th>823</th>\n",
       "      <td>14680-1</td>\n",
       "      <td>7329</td>\n",
       "    </tr>\n",
       "    <tr>\n",
       "      <th>824</th>\n",
       "      <td>16230</td>\n",
       "      <td>7338</td>\n",
       "    </tr>\n",
       "  </tbody>\n",
       "</table>\n",
       "<p>734 rows × 2 columns</p>\n",
       "</div>"
      ],
      "text/plain": [
       "      id_web  product_id\n",
       "0      15298        3847\n",
       "1      15296        3849\n",
       "2      15300        3850\n",
       "3      19814        4032\n",
       "4      19815        4039\n",
       "..       ...         ...\n",
       "792    15891        7023\n",
       "793    15887        7025\n",
       "822  13127-1        7247\n",
       "823  14680-1        7329\n",
       "824    16230        7338\n",
       "\n",
       "[734 rows x 2 columns]"
      ]
     },
     "execution_count": 80,
     "metadata": {},
     "output_type": "execute_result"
    }
   ],
   "source": [
    "df_liaison"
   ]
  },
  {
   "cell_type": "markdown",
   "id": "1a359137",
   "metadata": {},
   "source": [
    "<div style=\"background-color: RGB(51,165,182);\" >\n",
    "<h2 style=\"margin: auto; padding: 20px; color:#fff; \">Etape 3 - Jonction des fichiers</h2>\n",
    "</div>"
   ]
  },
  {
   "cell_type": "markdown",
   "id": "b7750c10",
   "metadata": {},
   "source": [
    "<div style=\"border: 1px solid RGB(51,165,182);\" >\n",
    "<h3 style=\"margin: auto; padding: 20px; color: RGB(51,165,182); \">Etape 3.1 - Jonction du fichier df_erp et df_liaison</h3>\n",
    "</div>"
   ]
  },
  {
   "cell_type": "code",
   "execution_count": 81,
   "id": "b00f6ec3",
   "metadata": {},
   "outputs": [
    {
     "data": {
      "text/html": [
       "<div>\n",
       "<style scoped>\n",
       "    .dataframe tbody tr th:only-of-type {\n",
       "        vertical-align: middle;\n",
       "    }\n",
       "\n",
       "    .dataframe tbody tr th {\n",
       "        vertical-align: top;\n",
       "    }\n",
       "\n",
       "    .dataframe thead th {\n",
       "        text-align: right;\n",
       "    }\n",
       "</style>\n",
       "<table border=\"1\" class=\"dataframe\">\n",
       "  <thead>\n",
       "    <tr style=\"text-align: right;\">\n",
       "      <th></th>\n",
       "      <th>product_id</th>\n",
       "      <th>onsale_web</th>\n",
       "      <th>price</th>\n",
       "      <th>stock_quantity</th>\n",
       "      <th>stock_status</th>\n",
       "      <th>purchase_price</th>\n",
       "    </tr>\n",
       "  </thead>\n",
       "  <tbody>\n",
       "    <tr>\n",
       "      <th>0</th>\n",
       "      <td>3847</td>\n",
       "      <td>1</td>\n",
       "      <td>24.2</td>\n",
       "      <td>16</td>\n",
       "      <td>instock</td>\n",
       "      <td>12.88</td>\n",
       "    </tr>\n",
       "    <tr>\n",
       "      <th>1</th>\n",
       "      <td>3849</td>\n",
       "      <td>1</td>\n",
       "      <td>34.3</td>\n",
       "      <td>10</td>\n",
       "      <td>instock</td>\n",
       "      <td>17.54</td>\n",
       "    </tr>\n",
       "    <tr>\n",
       "      <th>2</th>\n",
       "      <td>3850</td>\n",
       "      <td>1</td>\n",
       "      <td>20.8</td>\n",
       "      <td>0</td>\n",
       "      <td>outofstock</td>\n",
       "      <td>10.64</td>\n",
       "    </tr>\n",
       "    <tr>\n",
       "      <th>3</th>\n",
       "      <td>4032</td>\n",
       "      <td>1</td>\n",
       "      <td>14.1</td>\n",
       "      <td>26</td>\n",
       "      <td>instock</td>\n",
       "      <td>6.92</td>\n",
       "    </tr>\n",
       "    <tr>\n",
       "      <th>4</th>\n",
       "      <td>4039</td>\n",
       "      <td>1</td>\n",
       "      <td>46.0</td>\n",
       "      <td>3</td>\n",
       "      <td>instock</td>\n",
       "      <td>23.77</td>\n",
       "    </tr>\n",
       "    <tr>\n",
       "      <th>...</th>\n",
       "      <td>...</td>\n",
       "      <td>...</td>\n",
       "      <td>...</td>\n",
       "      <td>...</td>\n",
       "      <td>...</td>\n",
       "      <td>...</td>\n",
       "    </tr>\n",
       "    <tr>\n",
       "      <th>820</th>\n",
       "      <td>7203</td>\n",
       "      <td>0</td>\n",
       "      <td>45.0</td>\n",
       "      <td>30</td>\n",
       "      <td>instock</td>\n",
       "      <td>23.48</td>\n",
       "    </tr>\n",
       "    <tr>\n",
       "      <th>821</th>\n",
       "      <td>7204</td>\n",
       "      <td>0</td>\n",
       "      <td>45.0</td>\n",
       "      <td>9</td>\n",
       "      <td>instock</td>\n",
       "      <td>24.18</td>\n",
       "    </tr>\n",
       "    <tr>\n",
       "      <th>822</th>\n",
       "      <td>7247</td>\n",
       "      <td>1</td>\n",
       "      <td>54.8</td>\n",
       "      <td>6</td>\n",
       "      <td>instock</td>\n",
       "      <td>27.18</td>\n",
       "    </tr>\n",
       "    <tr>\n",
       "      <th>823</th>\n",
       "      <td>7329</td>\n",
       "      <td>0</td>\n",
       "      <td>26.5</td>\n",
       "      <td>14</td>\n",
       "      <td>instock</td>\n",
       "      <td>13.42</td>\n",
       "    </tr>\n",
       "    <tr>\n",
       "      <th>824</th>\n",
       "      <td>7338</td>\n",
       "      <td>1</td>\n",
       "      <td>16.3</td>\n",
       "      <td>40</td>\n",
       "      <td>instock</td>\n",
       "      <td>8.00</td>\n",
       "    </tr>\n",
       "  </tbody>\n",
       "</table>\n",
       "<p>822 rows × 6 columns</p>\n",
       "</div>"
      ],
      "text/plain": [
       "     product_id  onsale_web  price  stock_quantity stock_status  \\\n",
       "0          3847           1   24.2              16      instock   \n",
       "1          3849           1   34.3              10      instock   \n",
       "2          3850           1   20.8               0   outofstock   \n",
       "3          4032           1   14.1              26      instock   \n",
       "4          4039           1   46.0               3      instock   \n",
       "..          ...         ...    ...             ...          ...   \n",
       "820        7203           0   45.0              30      instock   \n",
       "821        7204           0   45.0               9      instock   \n",
       "822        7247           1   54.8               6      instock   \n",
       "823        7329           0   26.5              14      instock   \n",
       "824        7338           1   16.3              40      instock   \n",
       "\n",
       "     purchase_price  \n",
       "0             12.88  \n",
       "1             17.54  \n",
       "2             10.64  \n",
       "3              6.92  \n",
       "4             23.77  \n",
       "..              ...  \n",
       "820           23.48  \n",
       "821           24.18  \n",
       "822           27.18  \n",
       "823           13.42  \n",
       "824            8.00  \n",
       "\n",
       "[822 rows x 6 columns]"
      ]
     },
     "execution_count": 81,
     "metadata": {},
     "output_type": "execute_result"
    }
   ],
   "source": [
    "df_erp"
   ]
  },
  {
   "cell_type": "code",
   "execution_count": 82,
   "id": "738ed81f",
   "metadata": {},
   "outputs": [
    {
     "data": {
      "text/html": [
       "<div>\n",
       "<style scoped>\n",
       "    .dataframe tbody tr th:only-of-type {\n",
       "        vertical-align: middle;\n",
       "    }\n",
       "\n",
       "    .dataframe tbody tr th {\n",
       "        vertical-align: top;\n",
       "    }\n",
       "\n",
       "    .dataframe thead th {\n",
       "        text-align: right;\n",
       "    }\n",
       "</style>\n",
       "<table border=\"1\" class=\"dataframe\">\n",
       "  <thead>\n",
       "    <tr style=\"text-align: right;\">\n",
       "      <th></th>\n",
       "      <th>id_web</th>\n",
       "      <th>product_id</th>\n",
       "    </tr>\n",
       "  </thead>\n",
       "  <tbody>\n",
       "    <tr>\n",
       "      <th>0</th>\n",
       "      <td>15298</td>\n",
       "      <td>3847</td>\n",
       "    </tr>\n",
       "    <tr>\n",
       "      <th>1</th>\n",
       "      <td>15296</td>\n",
       "      <td>3849</td>\n",
       "    </tr>\n",
       "    <tr>\n",
       "      <th>2</th>\n",
       "      <td>15300</td>\n",
       "      <td>3850</td>\n",
       "    </tr>\n",
       "    <tr>\n",
       "      <th>3</th>\n",
       "      <td>19814</td>\n",
       "      <td>4032</td>\n",
       "    </tr>\n",
       "    <tr>\n",
       "      <th>4</th>\n",
       "      <td>19815</td>\n",
       "      <td>4039</td>\n",
       "    </tr>\n",
       "    <tr>\n",
       "      <th>...</th>\n",
       "      <td>...</td>\n",
       "      <td>...</td>\n",
       "    </tr>\n",
       "    <tr>\n",
       "      <th>792</th>\n",
       "      <td>15891</td>\n",
       "      <td>7023</td>\n",
       "    </tr>\n",
       "    <tr>\n",
       "      <th>793</th>\n",
       "      <td>15887</td>\n",
       "      <td>7025</td>\n",
       "    </tr>\n",
       "    <tr>\n",
       "      <th>822</th>\n",
       "      <td>13127-1</td>\n",
       "      <td>7247</td>\n",
       "    </tr>\n",
       "    <tr>\n",
       "      <th>823</th>\n",
       "      <td>14680-1</td>\n",
       "      <td>7329</td>\n",
       "    </tr>\n",
       "    <tr>\n",
       "      <th>824</th>\n",
       "      <td>16230</td>\n",
       "      <td>7338</td>\n",
       "    </tr>\n",
       "  </tbody>\n",
       "</table>\n",
       "<p>734 rows × 2 columns</p>\n",
       "</div>"
      ],
      "text/plain": [
       "      id_web  product_id\n",
       "0      15298        3847\n",
       "1      15296        3849\n",
       "2      15300        3850\n",
       "3      19814        4032\n",
       "4      19815        4039\n",
       "..       ...         ...\n",
       "792    15891        7023\n",
       "793    15887        7025\n",
       "822  13127-1        7247\n",
       "823  14680-1        7329\n",
       "824    16230        7338\n",
       "\n",
       "[734 rows x 2 columns]"
      ]
     },
     "execution_count": 82,
     "metadata": {},
     "output_type": "execute_result"
    }
   ],
   "source": [
    "df_liaison"
   ]
  },
  {
   "cell_type": "code",
   "execution_count": 83,
   "id": "96db060e",
   "metadata": {},
   "outputs": [
    {
     "data": {
      "text/html": [
       "<div>\n",
       "<style scoped>\n",
       "    .dataframe tbody tr th:only-of-type {\n",
       "        vertical-align: middle;\n",
       "    }\n",
       "\n",
       "    .dataframe tbody tr th {\n",
       "        vertical-align: top;\n",
       "    }\n",
       "\n",
       "    .dataframe thead th {\n",
       "        text-align: right;\n",
       "    }\n",
       "</style>\n",
       "<table border=\"1\" class=\"dataframe\">\n",
       "  <thead>\n",
       "    <tr style=\"text-align: right;\">\n",
       "      <th></th>\n",
       "      <th>sku</th>\n",
       "      <th>total_sales</th>\n",
       "      <th>tax_status</th>\n",
       "      <th>product_type</th>\n",
       "      <th>post_title</th>\n",
       "      <th>post_type</th>\n",
       "      <th>post_mime_type</th>\n",
       "    </tr>\n",
       "  </thead>\n",
       "  <tbody>\n",
       "    <tr>\n",
       "      <th>2</th>\n",
       "      <td>14692</td>\n",
       "      <td>5.0</td>\n",
       "      <td>taxable</td>\n",
       "      <td>Vin</td>\n",
       "      <td>Château Fonréaud Bordeaux Blanc Le Cygne 2016</td>\n",
       "      <td>product</td>\n",
       "      <td>NaN</td>\n",
       "    </tr>\n",
       "    <tr>\n",
       "      <th>4</th>\n",
       "      <td>15328</td>\n",
       "      <td>2.0</td>\n",
       "      <td>taxable</td>\n",
       "      <td>Vin</td>\n",
       "      <td>Agnès Levet Côte Rôtie Maestria 2017</td>\n",
       "      <td>product</td>\n",
       "      <td>NaN</td>\n",
       "    </tr>\n",
       "    <tr>\n",
       "      <th>6</th>\n",
       "      <td>16515</td>\n",
       "      <td>10.0</td>\n",
       "      <td>taxable</td>\n",
       "      <td>Vin</td>\n",
       "      <td>Château Turcaud Bordeaux Rouge Cuvée Majeure 2018</td>\n",
       "      <td>product</td>\n",
       "      <td>NaN</td>\n",
       "    </tr>\n",
       "    <tr>\n",
       "      <th>11</th>\n",
       "      <td>16585</td>\n",
       "      <td>15.0</td>\n",
       "      <td>taxable</td>\n",
       "      <td>Vin</td>\n",
       "      <td>Xavier Frissant Touraine Sauvignon 2019</td>\n",
       "      <td>product</td>\n",
       "      <td>NaN</td>\n",
       "    </tr>\n",
       "    <tr>\n",
       "      <th>14</th>\n",
       "      <td>12869</td>\n",
       "      <td>7.0</td>\n",
       "      <td>taxable</td>\n",
       "      <td>Vin</td>\n",
       "      <td>Stéphane Tissot Arbois D.D. 2016</td>\n",
       "      <td>product</td>\n",
       "      <td>NaN</td>\n",
       "    </tr>\n",
       "    <tr>\n",
       "      <th>...</th>\n",
       "      <td>...</td>\n",
       "      <td>...</td>\n",
       "      <td>...</td>\n",
       "      <td>...</td>\n",
       "      <td>...</td>\n",
       "      <td>...</td>\n",
       "      <td>...</td>\n",
       "    </tr>\n",
       "    <tr>\n",
       "      <th>1503</th>\n",
       "      <td>13074</td>\n",
       "      <td>4.0</td>\n",
       "      <td>taxable</td>\n",
       "      <td>Vin</td>\n",
       "      <td>Château de Vaudieu Châteauneuf-du-Pape L'Avenu...</td>\n",
       "      <td>product</td>\n",
       "      <td>NaN</td>\n",
       "    </tr>\n",
       "    <tr>\n",
       "      <th>1505</th>\n",
       "      <td>16322</td>\n",
       "      <td>0.0</td>\n",
       "      <td>taxable</td>\n",
       "      <td>Vin</td>\n",
       "      <td>Moulin de Gassac IGP Pays d'Hérault Guilhem Ro...</td>\n",
       "      <td>product</td>\n",
       "      <td>NaN</td>\n",
       "    </tr>\n",
       "    <tr>\n",
       "      <th>1507</th>\n",
       "      <td>12365</td>\n",
       "      <td>10.0</td>\n",
       "      <td>taxable</td>\n",
       "      <td>Vin</td>\n",
       "      <td>Parés Baltà Penedès Electio 2013</td>\n",
       "      <td>product</td>\n",
       "      <td>NaN</td>\n",
       "    </tr>\n",
       "    <tr>\n",
       "      <th>1508</th>\n",
       "      <td>16326</td>\n",
       "      <td>5.0</td>\n",
       "      <td>taxable</td>\n",
       "      <td>Vin</td>\n",
       "      <td>Camin Larredya Jurançon Moelleux Au Capcéu 2018</td>\n",
       "      <td>product</td>\n",
       "      <td>NaN</td>\n",
       "    </tr>\n",
       "    <tr>\n",
       "      <th>1509</th>\n",
       "      <td>15662</td>\n",
       "      <td>15.0</td>\n",
       "      <td>taxable</td>\n",
       "      <td>Vin</td>\n",
       "      <td>Chermette Domaine du Vissoux Beaujolais Griott...</td>\n",
       "      <td>product</td>\n",
       "      <td>NaN</td>\n",
       "    </tr>\n",
       "  </tbody>\n",
       "</table>\n",
       "<p>715 rows × 7 columns</p>\n",
       "</div>"
      ],
      "text/plain": [
       "        sku  total_sales tax_status product_type  \\\n",
       "2     14692          5.0    taxable          Vin   \n",
       "4     15328          2.0    taxable          Vin   \n",
       "6     16515         10.0    taxable          Vin   \n",
       "11    16585         15.0    taxable          Vin   \n",
       "14    12869          7.0    taxable          Vin   \n",
       "...     ...          ...        ...          ...   \n",
       "1503  13074          4.0    taxable          Vin   \n",
       "1505  16322          0.0    taxable          Vin   \n",
       "1507  12365         10.0    taxable          Vin   \n",
       "1508  16326          5.0    taxable          Vin   \n",
       "1509  15662         15.0    taxable          Vin   \n",
       "\n",
       "                                             post_title post_type  \\\n",
       "2         Château Fonréaud Bordeaux Blanc Le Cygne 2016   product   \n",
       "4                  Agnès Levet Côte Rôtie Maestria 2017   product   \n",
       "6     Château Turcaud Bordeaux Rouge Cuvée Majeure 2018   product   \n",
       "11              Xavier Frissant Touraine Sauvignon 2019   product   \n",
       "14                     Stéphane Tissot Arbois D.D. 2016   product   \n",
       "...                                                 ...       ...   \n",
       "1503  Château de Vaudieu Châteauneuf-du-Pape L'Avenu...   product   \n",
       "1505  Moulin de Gassac IGP Pays d'Hérault Guilhem Ro...   product   \n",
       "1507                   Parés Baltà Penedès Electio 2013   product   \n",
       "1508    Camin Larredya Jurançon Moelleux Au Capcéu 2018   product   \n",
       "1509  Chermette Domaine du Vissoux Beaujolais Griott...   product   \n",
       "\n",
       "     post_mime_type  \n",
       "2               NaN  \n",
       "4               NaN  \n",
       "6               NaN  \n",
       "11              NaN  \n",
       "14              NaN  \n",
       "...             ...  \n",
       "1503            NaN  \n",
       "1505            NaN  \n",
       "1507            NaN  \n",
       "1508            NaN  \n",
       "1509            NaN  \n",
       "\n",
       "[715 rows x 7 columns]"
      ]
     },
     "execution_count": 83,
     "metadata": {},
     "output_type": "execute_result"
    }
   ],
   "source": [
    "df_web"
   ]
  },
  {
   "cell_type": "code",
   "execution_count": 84,
   "id": "8b868086",
   "metadata": {},
   "outputs": [
    {
     "data": {
      "text/html": [
       "<div>\n",
       "<style scoped>\n",
       "    .dataframe tbody tr th:only-of-type {\n",
       "        vertical-align: middle;\n",
       "    }\n",
       "\n",
       "    .dataframe tbody tr th {\n",
       "        vertical-align: top;\n",
       "    }\n",
       "\n",
       "    .dataframe thead th {\n",
       "        text-align: right;\n",
       "    }\n",
       "</style>\n",
       "<table border=\"1\" class=\"dataframe\">\n",
       "  <thead>\n",
       "    <tr style=\"text-align: right;\">\n",
       "      <th></th>\n",
       "      <th>sku</th>\n",
       "      <th>total_sales</th>\n",
       "      <th>tax_status</th>\n",
       "      <th>product_type</th>\n",
       "      <th>post_title</th>\n",
       "      <th>post_type</th>\n",
       "      <th>post_mime_type</th>\n",
       "    </tr>\n",
       "  </thead>\n",
       "  <tbody>\n",
       "    <tr>\n",
       "      <th>2</th>\n",
       "      <td>14692</td>\n",
       "      <td>5.0</td>\n",
       "      <td>taxable</td>\n",
       "      <td>Vin</td>\n",
       "      <td>Château Fonréaud Bordeaux Blanc Le Cygne 2016</td>\n",
       "      <td>product</td>\n",
       "      <td>NaN</td>\n",
       "    </tr>\n",
       "  </tbody>\n",
       "</table>\n",
       "</div>"
      ],
      "text/plain": [
       "     sku  total_sales tax_status product_type  \\\n",
       "2  14692          5.0    taxable          Vin   \n",
       "\n",
       "                                      post_title post_type post_mime_type  \n",
       "2  Château Fonréaud Bordeaux Blanc Le Cygne 2016   product            NaN  "
      ]
     },
     "execution_count": 84,
     "metadata": {},
     "output_type": "execute_result"
    }
   ],
   "source": [
    "df_web[df_web['sku']=='14692']"
   ]
  },
  {
   "cell_type": "code",
   "execution_count": 85,
   "id": "e756ec7d",
   "metadata": {},
   "outputs": [],
   "source": [
    "#Fusion des fichiers df_erp et df_liaison\n",
    "df_merge = pd.merge(df_erp, df_liaison,how='right', on='product_id', indicator=True)\n"
   ]
  },
  {
   "cell_type": "code",
   "execution_count": 86,
   "id": "fd9bbace",
   "metadata": {},
   "outputs": [
    {
     "data": {
      "text/html": [
       "<div>\n",
       "<style scoped>\n",
       "    .dataframe tbody tr th:only-of-type {\n",
       "        vertical-align: middle;\n",
       "    }\n",
       "\n",
       "    .dataframe tbody tr th {\n",
       "        vertical-align: top;\n",
       "    }\n",
       "\n",
       "    .dataframe thead th {\n",
       "        text-align: right;\n",
       "    }\n",
       "</style>\n",
       "<table border=\"1\" class=\"dataframe\">\n",
       "  <thead>\n",
       "    <tr style=\"text-align: right;\">\n",
       "      <th></th>\n",
       "      <th>product_id</th>\n",
       "      <th>onsale_web</th>\n",
       "      <th>price</th>\n",
       "      <th>stock_quantity</th>\n",
       "      <th>stock_status</th>\n",
       "      <th>purchase_price</th>\n",
       "      <th>id_web</th>\n",
       "      <th>_merge</th>\n",
       "    </tr>\n",
       "  </thead>\n",
       "  <tbody>\n",
       "    <tr>\n",
       "      <th>0</th>\n",
       "      <td>3847</td>\n",
       "      <td>1</td>\n",
       "      <td>24.2</td>\n",
       "      <td>16</td>\n",
       "      <td>instock</td>\n",
       "      <td>12.88</td>\n",
       "      <td>15298</td>\n",
       "      <td>both</td>\n",
       "    </tr>\n",
       "    <tr>\n",
       "      <th>1</th>\n",
       "      <td>3849</td>\n",
       "      <td>1</td>\n",
       "      <td>34.3</td>\n",
       "      <td>10</td>\n",
       "      <td>instock</td>\n",
       "      <td>17.54</td>\n",
       "      <td>15296</td>\n",
       "      <td>both</td>\n",
       "    </tr>\n",
       "    <tr>\n",
       "      <th>2</th>\n",
       "      <td>3850</td>\n",
       "      <td>1</td>\n",
       "      <td>20.8</td>\n",
       "      <td>0</td>\n",
       "      <td>outofstock</td>\n",
       "      <td>10.64</td>\n",
       "      <td>15300</td>\n",
       "      <td>both</td>\n",
       "    </tr>\n",
       "    <tr>\n",
       "      <th>3</th>\n",
       "      <td>4032</td>\n",
       "      <td>1</td>\n",
       "      <td>14.1</td>\n",
       "      <td>26</td>\n",
       "      <td>instock</td>\n",
       "      <td>6.92</td>\n",
       "      <td>19814</td>\n",
       "      <td>both</td>\n",
       "    </tr>\n",
       "    <tr>\n",
       "      <th>4</th>\n",
       "      <td>4039</td>\n",
       "      <td>1</td>\n",
       "      <td>46.0</td>\n",
       "      <td>3</td>\n",
       "      <td>instock</td>\n",
       "      <td>23.77</td>\n",
       "      <td>19815</td>\n",
       "      <td>both</td>\n",
       "    </tr>\n",
       "    <tr>\n",
       "      <th>...</th>\n",
       "      <td>...</td>\n",
       "      <td>...</td>\n",
       "      <td>...</td>\n",
       "      <td>...</td>\n",
       "      <td>...</td>\n",
       "      <td>...</td>\n",
       "      <td>...</td>\n",
       "      <td>...</td>\n",
       "    </tr>\n",
       "    <tr>\n",
       "      <th>729</th>\n",
       "      <td>7023</td>\n",
       "      <td>1</td>\n",
       "      <td>27.5</td>\n",
       "      <td>23</td>\n",
       "      <td>instock</td>\n",
       "      <td>14.21</td>\n",
       "      <td>15891</td>\n",
       "      <td>both</td>\n",
       "    </tr>\n",
       "    <tr>\n",
       "      <th>730</th>\n",
       "      <td>7025</td>\n",
       "      <td>1</td>\n",
       "      <td>69.0</td>\n",
       "      <td>8</td>\n",
       "      <td>instock</td>\n",
       "      <td>34.22</td>\n",
       "      <td>15887</td>\n",
       "      <td>both</td>\n",
       "    </tr>\n",
       "    <tr>\n",
       "      <th>731</th>\n",
       "      <td>7247</td>\n",
       "      <td>1</td>\n",
       "      <td>54.8</td>\n",
       "      <td>6</td>\n",
       "      <td>instock</td>\n",
       "      <td>27.18</td>\n",
       "      <td>13127-1</td>\n",
       "      <td>both</td>\n",
       "    </tr>\n",
       "    <tr>\n",
       "      <th>732</th>\n",
       "      <td>7329</td>\n",
       "      <td>0</td>\n",
       "      <td>26.5</td>\n",
       "      <td>14</td>\n",
       "      <td>instock</td>\n",
       "      <td>13.42</td>\n",
       "      <td>14680-1</td>\n",
       "      <td>both</td>\n",
       "    </tr>\n",
       "    <tr>\n",
       "      <th>733</th>\n",
       "      <td>7338</td>\n",
       "      <td>1</td>\n",
       "      <td>16.3</td>\n",
       "      <td>40</td>\n",
       "      <td>instock</td>\n",
       "      <td>8.00</td>\n",
       "      <td>16230</td>\n",
       "      <td>both</td>\n",
       "    </tr>\n",
       "  </tbody>\n",
       "</table>\n",
       "<p>734 rows × 8 columns</p>\n",
       "</div>"
      ],
      "text/plain": [
       "     product_id  onsale_web  price  stock_quantity stock_status  \\\n",
       "0          3847           1   24.2              16      instock   \n",
       "1          3849           1   34.3              10      instock   \n",
       "2          3850           1   20.8               0   outofstock   \n",
       "3          4032           1   14.1              26      instock   \n",
       "4          4039           1   46.0               3      instock   \n",
       "..          ...         ...    ...             ...          ...   \n",
       "729        7023           1   27.5              23      instock   \n",
       "730        7025           1   69.0               8      instock   \n",
       "731        7247           1   54.8               6      instock   \n",
       "732        7329           0   26.5              14      instock   \n",
       "733        7338           1   16.3              40      instock   \n",
       "\n",
       "     purchase_price   id_web _merge  \n",
       "0             12.88    15298   both  \n",
       "1             17.54    15296   both  \n",
       "2             10.64    15300   both  \n",
       "3              6.92    19814   both  \n",
       "4             23.77    19815   both  \n",
       "..              ...      ...    ...  \n",
       "729           14.21    15891   both  \n",
       "730           34.22    15887   both  \n",
       "731           27.18  13127-1   both  \n",
       "732           13.42  14680-1   both  \n",
       "733            8.00    16230   both  \n",
       "\n",
       "[734 rows x 8 columns]"
      ]
     },
     "execution_count": 86,
     "metadata": {},
     "output_type": "execute_result"
    }
   ],
   "source": [
    "df_merge"
   ]
  },
  {
   "cell_type": "code",
   "execution_count": 87,
   "id": "d77a568a",
   "metadata": {},
   "outputs": [
    {
     "data": {
      "text/html": [
       "<div>\n",
       "<style scoped>\n",
       "    .dataframe tbody tr th:only-of-type {\n",
       "        vertical-align: middle;\n",
       "    }\n",
       "\n",
       "    .dataframe tbody tr th {\n",
       "        vertical-align: top;\n",
       "    }\n",
       "\n",
       "    .dataframe thead th {\n",
       "        text-align: right;\n",
       "    }\n",
       "</style>\n",
       "<table border=\"1\" class=\"dataframe\">\n",
       "  <thead>\n",
       "    <tr style=\"text-align: right;\">\n",
       "      <th></th>\n",
       "      <th>product_id</th>\n",
       "      <th>onsale_web</th>\n",
       "      <th>price</th>\n",
       "      <th>stock_quantity</th>\n",
       "      <th>stock_status</th>\n",
       "      <th>purchase_price</th>\n",
       "      <th>id_web</th>\n",
       "      <th>_merge</th>\n",
       "    </tr>\n",
       "  </thead>\n",
       "  <tbody>\n",
       "    <tr>\n",
       "      <th>0</th>\n",
       "      <td>3847</td>\n",
       "      <td>1</td>\n",
       "      <td>24.2</td>\n",
       "      <td>16</td>\n",
       "      <td>instock</td>\n",
       "      <td>12.88</td>\n",
       "      <td>15298</td>\n",
       "      <td>both</td>\n",
       "    </tr>\n",
       "  </tbody>\n",
       "</table>\n",
       "</div>"
      ],
      "text/plain": [
       "   product_id  onsale_web  price  stock_quantity stock_status  purchase_price  \\\n",
       "0        3847           1   24.2              16      instock           12.88   \n",
       "\n",
       "  id_web _merge  \n",
       "0  15298   both  "
      ]
     },
     "execution_count": 87,
     "metadata": {},
     "output_type": "execute_result"
    }
   ],
   "source": [
    "df_merge[df_merge['id_web']==15298]"
   ]
  },
  {
   "cell_type": "code",
   "execution_count": 88,
   "id": "b7e1da5e",
   "metadata": {},
   "outputs": [
    {
     "data": {
      "text/html": [
       "<div>\n",
       "<style scoped>\n",
       "    .dataframe tbody tr th:only-of-type {\n",
       "        vertical-align: middle;\n",
       "    }\n",
       "\n",
       "    .dataframe tbody tr th {\n",
       "        vertical-align: top;\n",
       "    }\n",
       "\n",
       "    .dataframe thead th {\n",
       "        text-align: right;\n",
       "    }\n",
       "</style>\n",
       "<table border=\"1\" class=\"dataframe\">\n",
       "  <thead>\n",
       "    <tr style=\"text-align: right;\">\n",
       "      <th></th>\n",
       "      <th>product_id</th>\n",
       "      <th>onsale_web</th>\n",
       "      <th>price</th>\n",
       "      <th>stock_quantity</th>\n",
       "      <th>stock_status</th>\n",
       "      <th>purchase_price</th>\n",
       "      <th>id_web</th>\n",
       "      <th>_merge</th>\n",
       "    </tr>\n",
       "  </thead>\n",
       "  <tbody>\n",
       "  </tbody>\n",
       "</table>\n",
       "</div>"
      ],
      "text/plain": [
       "Empty DataFrame\n",
       "Columns: [product_id, onsale_web, price, stock_quantity, stock_status, purchase_price, id_web, _merge]\n",
       "Index: []"
      ]
     },
     "execution_count": 88,
     "metadata": {},
     "output_type": "execute_result"
    }
   ],
   "source": [
    "#Y a t-il des lignes ne \"matchant\" entre les 2 fichiers?\n",
    "#NON \n",
    "df_merge[df_merge[\"_merge\"] != \"both\"]"
   ]
  },
  {
   "cell_type": "code",
   "execution_count": 89,
   "id": "e3cd0f78",
   "metadata": {},
   "outputs": [],
   "source": [
    "del df_merge['_merge']"
   ]
  },
  {
   "cell_type": "markdown",
   "id": "fe4c51d7",
   "metadata": {},
   "source": [
    "<div style=\"border: 1px solid RGB(51,165,182);\" >\n",
    "<h3 style=\"margin: auto; padding: 20px; color: RGB(51,165,182); \">Etape 3.2 - Jonction du fichier df_merge et df_web</h3>\n",
    "</div>"
   ]
  },
  {
   "cell_type": "code",
   "execution_count": 90,
   "id": "50d09acf",
   "metadata": {},
   "outputs": [],
   "source": [
    "df_merge['product_id'] = df_merge['product_id'].astype(str)"
   ]
  },
  {
   "cell_type": "code",
   "execution_count": 91,
   "id": "c0d2839a",
   "metadata": {},
   "outputs": [],
   "source": [
    "df_merge['id_web'] = df_merge['id_web'].astype(str)"
   ]
  },
  {
   "cell_type": "code",
   "execution_count": 92,
   "id": "993020c3",
   "metadata": {},
   "outputs": [],
   "source": [
    "df_web['sku'] = df_web['sku'].astype(str)"
   ]
  },
  {
   "cell_type": "code",
   "execution_count": 93,
   "id": "46d9382b",
   "metadata": {},
   "outputs": [],
   "source": [
    "#Fusionnez les datasets df_merge et df_web\n",
    "df_merge = pd.merge(df_merge, df_web,how = 'outer', left_on='id_web', right_on='sku', indicator = True)"
   ]
  },
  {
   "cell_type": "code",
   "execution_count": 94,
   "id": "925a62d6",
   "metadata": {},
   "outputs": [
    {
     "data": {
      "text/html": [
       "<div>\n",
       "<style scoped>\n",
       "    .dataframe tbody tr th:only-of-type {\n",
       "        vertical-align: middle;\n",
       "    }\n",
       "\n",
       "    .dataframe tbody tr th {\n",
       "        vertical-align: top;\n",
       "    }\n",
       "\n",
       "    .dataframe thead th {\n",
       "        text-align: right;\n",
       "    }\n",
       "</style>\n",
       "<table border=\"1\" class=\"dataframe\">\n",
       "  <thead>\n",
       "    <tr style=\"text-align: right;\">\n",
       "      <th></th>\n",
       "      <th>product_id</th>\n",
       "      <th>onsale_web</th>\n",
       "      <th>price</th>\n",
       "      <th>stock_quantity</th>\n",
       "      <th>stock_status</th>\n",
       "      <th>purchase_price</th>\n",
       "      <th>id_web</th>\n",
       "      <th>sku</th>\n",
       "      <th>total_sales</th>\n",
       "      <th>tax_status</th>\n",
       "      <th>product_type</th>\n",
       "      <th>post_title</th>\n",
       "      <th>post_type</th>\n",
       "      <th>post_mime_type</th>\n",
       "      <th>_merge</th>\n",
       "    </tr>\n",
       "  </thead>\n",
       "  <tbody>\n",
       "    <tr>\n",
       "      <th>0</th>\n",
       "      <td>5913</td>\n",
       "      <td>1.0</td>\n",
       "      <td>36.0</td>\n",
       "      <td>7.0</td>\n",
       "      <td>instock</td>\n",
       "      <td>17.16</td>\n",
       "      <td>10014</td>\n",
       "      <td>10014</td>\n",
       "      <td>10.0</td>\n",
       "      <td>taxable</td>\n",
       "      <td>Gin</td>\n",
       "      <td>Darnley's London Dry Gin Original</td>\n",
       "      <td>product</td>\n",
       "      <td>NaN</td>\n",
       "      <td>both</td>\n",
       "    </tr>\n",
       "    <tr>\n",
       "      <th>1</th>\n",
       "      <td>4617</td>\n",
       "      <td>1.0</td>\n",
       "      <td>67.5</td>\n",
       "      <td>6.0</td>\n",
       "      <td>instock</td>\n",
       "      <td>35.57</td>\n",
       "      <td>10459</td>\n",
       "      <td>10459</td>\n",
       "      <td>4.0</td>\n",
       "      <td>taxable</td>\n",
       "      <td>Vin</td>\n",
       "      <td>Alphonse Mellot Sancerre Rouge Génération XIX ...</td>\n",
       "      <td>product</td>\n",
       "      <td>NaN</td>\n",
       "      <td>both</td>\n",
       "    </tr>\n",
       "    <tr>\n",
       "      <th>2</th>\n",
       "      <td>4709</td>\n",
       "      <td>1.0</td>\n",
       "      <td>44.0</td>\n",
       "      <td>7.0</td>\n",
       "      <td>instock</td>\n",
       "      <td>22.05</td>\n",
       "      <td>10775</td>\n",
       "      <td>10775</td>\n",
       "      <td>6.0</td>\n",
       "      <td>taxable</td>\n",
       "      <td>Vin</td>\n",
       "      <td>Albert Mann Pinot Gris Vendanges Tardives Alte...</td>\n",
       "      <td>product</td>\n",
       "      <td>NaN</td>\n",
       "      <td>both</td>\n",
       "    </tr>\n",
       "    <tr>\n",
       "      <th>3</th>\n",
       "      <td>4656</td>\n",
       "      <td>1.0</td>\n",
       "      <td>43.0</td>\n",
       "      <td>13.0</td>\n",
       "      <td>instock</td>\n",
       "      <td>22.88</td>\n",
       "      <td>10814</td>\n",
       "      <td>10814</td>\n",
       "      <td>7.0</td>\n",
       "      <td>taxable</td>\n",
       "      <td>Vin</td>\n",
       "      <td>Thierry Germain Saumur-Champigny Outre Terre 2013</td>\n",
       "      <td>product</td>\n",
       "      <td>NaN</td>\n",
       "      <td>both</td>\n",
       "    </tr>\n",
       "    <tr>\n",
       "      <th>4</th>\n",
       "      <td>4619</td>\n",
       "      <td>1.0</td>\n",
       "      <td>59.0</td>\n",
       "      <td>8.0</td>\n",
       "      <td>instock</td>\n",
       "      <td>32.01</td>\n",
       "      <td>11049</td>\n",
       "      <td>11049</td>\n",
       "      <td>4.0</td>\n",
       "      <td>taxable</td>\n",
       "      <td>Vin</td>\n",
       "      <td>Alphonse Mellot Sancerre Rouge En Grands Champ...</td>\n",
       "      <td>product</td>\n",
       "      <td>NaN</td>\n",
       "      <td>both</td>\n",
       "    </tr>\n",
       "    <tr>\n",
       "      <th>...</th>\n",
       "      <td>...</td>\n",
       "      <td>...</td>\n",
       "      <td>...</td>\n",
       "      <td>...</td>\n",
       "      <td>...</td>\n",
       "      <td>...</td>\n",
       "      <td>...</td>\n",
       "      <td>...</td>\n",
       "      <td>...</td>\n",
       "      <td>...</td>\n",
       "      <td>...</td>\n",
       "      <td>...</td>\n",
       "      <td>...</td>\n",
       "      <td>...</td>\n",
       "      <td>...</td>\n",
       "    </tr>\n",
       "    <tr>\n",
       "      <th>730</th>\n",
       "      <td>4357</td>\n",
       "      <td>1.0</td>\n",
       "      <td>39.0</td>\n",
       "      <td>115.0</td>\n",
       "      <td>instock</td>\n",
       "      <td>22.30</td>\n",
       "      <td>9562</td>\n",
       "      <td>9562</td>\n",
       "      <td>5.0</td>\n",
       "      <td>taxable</td>\n",
       "      <td>Champagne</td>\n",
       "      <td>Champagne Larmandier-Bernier Latitude</td>\n",
       "      <td>product</td>\n",
       "      <td>NaN</td>\n",
       "      <td>both</td>\n",
       "    </tr>\n",
       "    <tr>\n",
       "      <th>731</th>\n",
       "      <td>4396</td>\n",
       "      <td>1.0</td>\n",
       "      <td>62.0</td>\n",
       "      <td>0.0</td>\n",
       "      <td>outofstock</td>\n",
       "      <td>28.42</td>\n",
       "      <td>9636</td>\n",
       "      <td>9636</td>\n",
       "      <td>0.0</td>\n",
       "      <td>taxable</td>\n",
       "      <td>Whisky</td>\n",
       "      <td>Wemyss Malts Blended Malt Scotch Whisky The Hi...</td>\n",
       "      <td>product</td>\n",
       "      <td>NaN</td>\n",
       "      <td>both</td>\n",
       "    </tr>\n",
       "    <tr>\n",
       "      <th>732</th>\n",
       "      <td>4932</td>\n",
       "      <td>1.0</td>\n",
       "      <td>25.7</td>\n",
       "      <td>5.0</td>\n",
       "      <td>instock</td>\n",
       "      <td>12.75</td>\n",
       "      <td>9937</td>\n",
       "      <td>9937</td>\n",
       "      <td>2.0</td>\n",
       "      <td>taxable</td>\n",
       "      <td>Vin</td>\n",
       "      <td>Marcel Richaud Cairanne Rouge Les Estrambords ...</td>\n",
       "      <td>product</td>\n",
       "      <td>NaN</td>\n",
       "      <td>both</td>\n",
       "    </tr>\n",
       "    <tr>\n",
       "      <th>733</th>\n",
       "      <td>4954</td>\n",
       "      <td>1.0</td>\n",
       "      <td>25.0</td>\n",
       "      <td>23.0</td>\n",
       "      <td>instock</td>\n",
       "      <td>13.30</td>\n",
       "      <td>bon-cadeau-25-euros</td>\n",
       "      <td>bon-cadeau-25-euros</td>\n",
       "      <td>7.0</td>\n",
       "      <td>taxable</td>\n",
       "      <td>NaN</td>\n",
       "      <td>Bon cadeau de 25€</td>\n",
       "      <td>product</td>\n",
       "      <td>NaN</td>\n",
       "      <td>both</td>\n",
       "    </tr>\n",
       "    <tr>\n",
       "      <th>734</th>\n",
       "      <td>NaN</td>\n",
       "      <td>NaN</td>\n",
       "      <td>NaN</td>\n",
       "      <td>NaN</td>\n",
       "      <td>NaN</td>\n",
       "      <td>NaN</td>\n",
       "      <td>NaN</td>\n",
       "      <td>nan</td>\n",
       "      <td>-56.0</td>\n",
       "      <td>taxable</td>\n",
       "      <td>Vin</td>\n",
       "      <td>Pierre Jean Villa Condrieu Jardin Suspendu 2018</td>\n",
       "      <td>product</td>\n",
       "      <td>NaN</td>\n",
       "      <td>right_only</td>\n",
       "    </tr>\n",
       "  </tbody>\n",
       "</table>\n",
       "<p>735 rows × 15 columns</p>\n",
       "</div>"
      ],
      "text/plain": [
       "    product_id  onsale_web  price  stock_quantity stock_status  \\\n",
       "0         5913         1.0   36.0             7.0      instock   \n",
       "1         4617         1.0   67.5             6.0      instock   \n",
       "2         4709         1.0   44.0             7.0      instock   \n",
       "3         4656         1.0   43.0            13.0      instock   \n",
       "4         4619         1.0   59.0             8.0      instock   \n",
       "..         ...         ...    ...             ...          ...   \n",
       "730       4357         1.0   39.0           115.0      instock   \n",
       "731       4396         1.0   62.0             0.0   outofstock   \n",
       "732       4932         1.0   25.7             5.0      instock   \n",
       "733       4954         1.0   25.0            23.0      instock   \n",
       "734        NaN         NaN    NaN             NaN          NaN   \n",
       "\n",
       "     purchase_price               id_web                  sku  total_sales  \\\n",
       "0             17.16                10014                10014         10.0   \n",
       "1             35.57                10459                10459          4.0   \n",
       "2             22.05                10775                10775          6.0   \n",
       "3             22.88                10814                10814          7.0   \n",
       "4             32.01                11049                11049          4.0   \n",
       "..              ...                  ...                  ...          ...   \n",
       "730           22.30                 9562                 9562          5.0   \n",
       "731           28.42                 9636                 9636          0.0   \n",
       "732           12.75                 9937                 9937          2.0   \n",
       "733           13.30  bon-cadeau-25-euros  bon-cadeau-25-euros          7.0   \n",
       "734             NaN                  NaN                  nan        -56.0   \n",
       "\n",
       "    tax_status product_type  \\\n",
       "0      taxable          Gin   \n",
       "1      taxable          Vin   \n",
       "2      taxable          Vin   \n",
       "3      taxable          Vin   \n",
       "4      taxable          Vin   \n",
       "..         ...          ...   \n",
       "730    taxable    Champagne   \n",
       "731    taxable       Whisky   \n",
       "732    taxable          Vin   \n",
       "733    taxable          NaN   \n",
       "734    taxable          Vin   \n",
       "\n",
       "                                            post_title post_type  \\\n",
       "0                    Darnley's London Dry Gin Original   product   \n",
       "1    Alphonse Mellot Sancerre Rouge Génération XIX ...   product   \n",
       "2    Albert Mann Pinot Gris Vendanges Tardives Alte...   product   \n",
       "3    Thierry Germain Saumur-Champigny Outre Terre 2013   product   \n",
       "4    Alphonse Mellot Sancerre Rouge En Grands Champ...   product   \n",
       "..                                                 ...       ...   \n",
       "730              Champagne Larmandier-Bernier Latitude   product   \n",
       "731  Wemyss Malts Blended Malt Scotch Whisky The Hi...   product   \n",
       "732  Marcel Richaud Cairanne Rouge Les Estrambords ...   product   \n",
       "733                                  Bon cadeau de 25€   product   \n",
       "734    Pierre Jean Villa Condrieu Jardin Suspendu 2018   product   \n",
       "\n",
       "    post_mime_type      _merge  \n",
       "0              NaN        both  \n",
       "1              NaN        both  \n",
       "2              NaN        both  \n",
       "3              NaN        both  \n",
       "4              NaN        both  \n",
       "..             ...         ...  \n",
       "730            NaN        both  \n",
       "731            NaN        both  \n",
       "732            NaN        both  \n",
       "733            NaN        both  \n",
       "734            NaN  right_only  \n",
       "\n",
       "[735 rows x 15 columns]"
      ]
     },
     "execution_count": 94,
     "metadata": {},
     "output_type": "execute_result"
    }
   ],
   "source": [
    "df_merge"
   ]
  },
  {
   "cell_type": "code",
   "execution_count": 95,
   "id": "0a374319",
   "metadata": {},
   "outputs": [
    {
     "data": {
      "text/html": [
       "<div>\n",
       "<style scoped>\n",
       "    .dataframe tbody tr th:only-of-type {\n",
       "        vertical-align: middle;\n",
       "    }\n",
       "\n",
       "    .dataframe tbody tr th {\n",
       "        vertical-align: top;\n",
       "    }\n",
       "\n",
       "    .dataframe thead th {\n",
       "        text-align: right;\n",
       "    }\n",
       "</style>\n",
       "<table border=\"1\" class=\"dataframe\">\n",
       "  <thead>\n",
       "    <tr style=\"text-align: right;\">\n",
       "      <th></th>\n",
       "      <th>product_id</th>\n",
       "      <th>onsale_web</th>\n",
       "      <th>price</th>\n",
       "      <th>stock_quantity</th>\n",
       "      <th>stock_status</th>\n",
       "      <th>purchase_price</th>\n",
       "      <th>id_web</th>\n",
       "      <th>sku</th>\n",
       "      <th>total_sales</th>\n",
       "      <th>tax_status</th>\n",
       "      <th>product_type</th>\n",
       "      <th>post_title</th>\n",
       "      <th>post_type</th>\n",
       "      <th>post_mime_type</th>\n",
       "      <th>_merge</th>\n",
       "    </tr>\n",
       "  </thead>\n",
       "  <tbody>\n",
       "    <tr>\n",
       "      <th>303</th>\n",
       "      <td>3847</td>\n",
       "      <td>1.0</td>\n",
       "      <td>24.2</td>\n",
       "      <td>16.0</td>\n",
       "      <td>instock</td>\n",
       "      <td>12.88</td>\n",
       "      <td>15298</td>\n",
       "      <td>15298</td>\n",
       "      <td>6.0</td>\n",
       "      <td>taxable</td>\n",
       "      <td>Vin</td>\n",
       "      <td>Pierre Jean Villa Saint-Joseph Préface 2018</td>\n",
       "      <td>product</td>\n",
       "      <td>NaN</td>\n",
       "      <td>both</td>\n",
       "    </tr>\n",
       "  </tbody>\n",
       "</table>\n",
       "</div>"
      ],
      "text/plain": [
       "    product_id  onsale_web  price  stock_quantity stock_status  \\\n",
       "303       3847         1.0   24.2            16.0      instock   \n",
       "\n",
       "     purchase_price id_web    sku  total_sales tax_status product_type  \\\n",
       "303           12.88  15298  15298          6.0    taxable          Vin   \n",
       "\n",
       "                                      post_title post_type post_mime_type  \\\n",
       "303  Pierre Jean Villa Saint-Joseph Préface 2018   product            NaN   \n",
       "\n",
       "    _merge  \n",
       "303   both  "
      ]
     },
     "execution_count": 95,
     "metadata": {},
     "output_type": "execute_result"
    }
   ],
   "source": [
    "df_merge[df_merge['id_web']=='15298']"
   ]
  },
  {
   "cell_type": "code",
   "execution_count": 96,
   "id": "2ca9e80c",
   "metadata": {},
   "outputs": [
    {
     "data": {
      "text/html": [
       "<div>\n",
       "<style scoped>\n",
       "    .dataframe tbody tr th:only-of-type {\n",
       "        vertical-align: middle;\n",
       "    }\n",
       "\n",
       "    .dataframe tbody tr th {\n",
       "        vertical-align: top;\n",
       "    }\n",
       "\n",
       "    .dataframe thead th {\n",
       "        text-align: right;\n",
       "    }\n",
       "</style>\n",
       "<table border=\"1\" class=\"dataframe\">\n",
       "  <thead>\n",
       "    <tr style=\"text-align: right;\">\n",
       "      <th></th>\n",
       "      <th>sku</th>\n",
       "      <th>total_sales</th>\n",
       "      <th>tax_status</th>\n",
       "      <th>product_type</th>\n",
       "      <th>post_title</th>\n",
       "      <th>post_type</th>\n",
       "      <th>post_mime_type</th>\n",
       "    </tr>\n",
       "  </thead>\n",
       "  <tbody>\n",
       "    <tr>\n",
       "      <th>2</th>\n",
       "      <td>14692</td>\n",
       "      <td>5.0</td>\n",
       "      <td>taxable</td>\n",
       "      <td>Vin</td>\n",
       "      <td>Château Fonréaud Bordeaux Blanc Le Cygne 2016</td>\n",
       "      <td>product</td>\n",
       "      <td>NaN</td>\n",
       "    </tr>\n",
       "  </tbody>\n",
       "</table>\n",
       "</div>"
      ],
      "text/plain": [
       "     sku  total_sales tax_status product_type  \\\n",
       "2  14692          5.0    taxable          Vin   \n",
       "\n",
       "                                      post_title post_type post_mime_type  \n",
       "2  Château Fonréaud Bordeaux Blanc Le Cygne 2016   product            NaN  "
      ]
     },
     "execution_count": 96,
     "metadata": {},
     "output_type": "execute_result"
    }
   ],
   "source": [
    "df_web[df_web['sku']=='14692']"
   ]
  },
  {
   "cell_type": "code",
   "execution_count": 97,
   "id": "2021762f",
   "metadata": {},
   "outputs": [
    {
     "data": {
      "text/html": [
       "<div>\n",
       "<style scoped>\n",
       "    .dataframe tbody tr th:only-of-type {\n",
       "        vertical-align: middle;\n",
       "    }\n",
       "\n",
       "    .dataframe tbody tr th {\n",
       "        vertical-align: top;\n",
       "    }\n",
       "\n",
       "    .dataframe thead th {\n",
       "        text-align: right;\n",
       "    }\n",
       "</style>\n",
       "<table border=\"1\" class=\"dataframe\">\n",
       "  <thead>\n",
       "    <tr style=\"text-align: right;\">\n",
       "      <th></th>\n",
       "      <th>product_id</th>\n",
       "      <th>onsale_web</th>\n",
       "      <th>price</th>\n",
       "      <th>stock_quantity</th>\n",
       "      <th>stock_status</th>\n",
       "      <th>purchase_price</th>\n",
       "      <th>id_web</th>\n",
       "      <th>sku</th>\n",
       "      <th>total_sales</th>\n",
       "      <th>tax_status</th>\n",
       "      <th>product_type</th>\n",
       "      <th>post_title</th>\n",
       "      <th>post_type</th>\n",
       "      <th>post_mime_type</th>\n",
       "      <th>_merge</th>\n",
       "    </tr>\n",
       "  </thead>\n",
       "  <tbody>\n",
       "    <tr>\n",
       "      <th>40</th>\n",
       "      <td>4741</td>\n",
       "      <td>0.0</td>\n",
       "      <td>12.4</td>\n",
       "      <td>0.0</td>\n",
       "      <td>outofstock</td>\n",
       "      <td>6.66</td>\n",
       "      <td>12601</td>\n",
       "      <td>NaN</td>\n",
       "      <td>NaN</td>\n",
       "      <td>NaN</td>\n",
       "      <td>NaN</td>\n",
       "      <td>NaN</td>\n",
       "      <td>NaN</td>\n",
       "      <td>NaN</td>\n",
       "      <td>left_only</td>\n",
       "    </tr>\n",
       "    <tr>\n",
       "      <th>87</th>\n",
       "      <td>5957</td>\n",
       "      <td>0.0</td>\n",
       "      <td>39.0</td>\n",
       "      <td>0.0</td>\n",
       "      <td>outofstock</td>\n",
       "      <td>20.75</td>\n",
       "      <td>13577</td>\n",
       "      <td>NaN</td>\n",
       "      <td>NaN</td>\n",
       "      <td>NaN</td>\n",
       "      <td>NaN</td>\n",
       "      <td>NaN</td>\n",
       "      <td>NaN</td>\n",
       "      <td>NaN</td>\n",
       "      <td>left_only</td>\n",
       "    </tr>\n",
       "    <tr>\n",
       "      <th>102</th>\n",
       "      <td>4289</td>\n",
       "      <td>0.0</td>\n",
       "      <td>22.8</td>\n",
       "      <td>0.0</td>\n",
       "      <td>outofstock</td>\n",
       "      <td>11.90</td>\n",
       "      <td>13771</td>\n",
       "      <td>NaN</td>\n",
       "      <td>NaN</td>\n",
       "      <td>NaN</td>\n",
       "      <td>NaN</td>\n",
       "      <td>NaN</td>\n",
       "      <td>NaN</td>\n",
       "      <td>NaN</td>\n",
       "      <td>left_only</td>\n",
       "    </tr>\n",
       "    <tr>\n",
       "      <th>143</th>\n",
       "      <td>4869</td>\n",
       "      <td>0.0</td>\n",
       "      <td>17.2</td>\n",
       "      <td>0.0</td>\n",
       "      <td>outofstock</td>\n",
       "      <td>9.33</td>\n",
       "      <td>14360</td>\n",
       "      <td>NaN</td>\n",
       "      <td>NaN</td>\n",
       "      <td>NaN</td>\n",
       "      <td>NaN</td>\n",
       "      <td>NaN</td>\n",
       "      <td>NaN</td>\n",
       "      <td>NaN</td>\n",
       "      <td>left_only</td>\n",
       "    </tr>\n",
       "    <tr>\n",
       "      <th>148</th>\n",
       "      <td>5955</td>\n",
       "      <td>0.0</td>\n",
       "      <td>27.3</td>\n",
       "      <td>0.0</td>\n",
       "      <td>outofstock</td>\n",
       "      <td>13.68</td>\n",
       "      <td>14377</td>\n",
       "      <td>NaN</td>\n",
       "      <td>NaN</td>\n",
       "      <td>NaN</td>\n",
       "      <td>NaN</td>\n",
       "      <td>NaN</td>\n",
       "      <td>NaN</td>\n",
       "      <td>NaN</td>\n",
       "      <td>left_only</td>\n",
       "    </tr>\n",
       "    <tr>\n",
       "      <th>149</th>\n",
       "      <td>5953</td>\n",
       "      <td>0.0</td>\n",
       "      <td>47.5</td>\n",
       "      <td>0.0</td>\n",
       "      <td>outofstock</td>\n",
       "      <td>23.81</td>\n",
       "      <td>14379</td>\n",
       "      <td>NaN</td>\n",
       "      <td>NaN</td>\n",
       "      <td>NaN</td>\n",
       "      <td>NaN</td>\n",
       "      <td>NaN</td>\n",
       "      <td>NaN</td>\n",
       "      <td>NaN</td>\n",
       "      <td>left_only</td>\n",
       "    </tr>\n",
       "    <tr>\n",
       "      <th>175</th>\n",
       "      <td>5505</td>\n",
       "      <td>0.0</td>\n",
       "      <td>10.1</td>\n",
       "      <td>0.0</td>\n",
       "      <td>outofstock</td>\n",
       "      <td>5.22</td>\n",
       "      <td>14648</td>\n",
       "      <td>NaN</td>\n",
       "      <td>NaN</td>\n",
       "      <td>NaN</td>\n",
       "      <td>NaN</td>\n",
       "      <td>NaN</td>\n",
       "      <td>NaN</td>\n",
       "      <td>NaN</td>\n",
       "      <td>left_only</td>\n",
       "    </tr>\n",
       "    <tr>\n",
       "      <th>181</th>\n",
       "      <td>7329</td>\n",
       "      <td>0.0</td>\n",
       "      <td>26.5</td>\n",
       "      <td>14.0</td>\n",
       "      <td>instock</td>\n",
       "      <td>13.42</td>\n",
       "      <td>14680-1</td>\n",
       "      <td>NaN</td>\n",
       "      <td>NaN</td>\n",
       "      <td>NaN</td>\n",
       "      <td>NaN</td>\n",
       "      <td>NaN</td>\n",
       "      <td>NaN</td>\n",
       "      <td>NaN</td>\n",
       "      <td>left_only</td>\n",
       "    </tr>\n",
       "    <tr>\n",
       "      <th>182</th>\n",
       "      <td>5800</td>\n",
       "      <td>0.0</td>\n",
       "      <td>32.3</td>\n",
       "      <td>0.0</td>\n",
       "      <td>outofstock</td>\n",
       "      <td>16.02</td>\n",
       "      <td>14689</td>\n",
       "      <td>NaN</td>\n",
       "      <td>NaN</td>\n",
       "      <td>NaN</td>\n",
       "      <td>NaN</td>\n",
       "      <td>NaN</td>\n",
       "      <td>NaN</td>\n",
       "      <td>NaN</td>\n",
       "      <td>left_only</td>\n",
       "    </tr>\n",
       "    <tr>\n",
       "      <th>188</th>\n",
       "      <td>5559</td>\n",
       "      <td>0.0</td>\n",
       "      <td>27.9</td>\n",
       "      <td>3.0</td>\n",
       "      <td>instock</td>\n",
       "      <td>13.98</td>\n",
       "      <td>14715</td>\n",
       "      <td>NaN</td>\n",
       "      <td>NaN</td>\n",
       "      <td>NaN</td>\n",
       "      <td>NaN</td>\n",
       "      <td>NaN</td>\n",
       "      <td>NaN</td>\n",
       "      <td>NaN</td>\n",
       "      <td>left_only</td>\n",
       "    </tr>\n",
       "    <tr>\n",
       "      <th>191</th>\n",
       "      <td>5570</td>\n",
       "      <td>0.0</td>\n",
       "      <td>22.5</td>\n",
       "      <td>0.0</td>\n",
       "      <td>outofstock</td>\n",
       "      <td>11.16</td>\n",
       "      <td>14730</td>\n",
       "      <td>NaN</td>\n",
       "      <td>NaN</td>\n",
       "      <td>NaN</td>\n",
       "      <td>NaN</td>\n",
       "      <td>NaN</td>\n",
       "      <td>NaN</td>\n",
       "      <td>NaN</td>\n",
       "      <td>left_only</td>\n",
       "    </tr>\n",
       "    <tr>\n",
       "      <th>200</th>\n",
       "      <td>4584</td>\n",
       "      <td>0.0</td>\n",
       "      <td>32.3</td>\n",
       "      <td>0.0</td>\n",
       "      <td>outofstock</td>\n",
       "      <td>17.36</td>\n",
       "      <td>14785</td>\n",
       "      <td>NaN</td>\n",
       "      <td>NaN</td>\n",
       "      <td>NaN</td>\n",
       "      <td>NaN</td>\n",
       "      <td>NaN</td>\n",
       "      <td>NaN</td>\n",
       "      <td>NaN</td>\n",
       "      <td>left_only</td>\n",
       "    </tr>\n",
       "    <tr>\n",
       "      <th>244</th>\n",
       "      <td>4568</td>\n",
       "      <td>0.0</td>\n",
       "      <td>21.5</td>\n",
       "      <td>0.0</td>\n",
       "      <td>outofstock</td>\n",
       "      <td>11.22</td>\n",
       "      <td>15065</td>\n",
       "      <td>NaN</td>\n",
       "      <td>NaN</td>\n",
       "      <td>NaN</td>\n",
       "      <td>NaN</td>\n",
       "      <td>NaN</td>\n",
       "      <td>NaN</td>\n",
       "      <td>NaN</td>\n",
       "      <td>left_only</td>\n",
       "    </tr>\n",
       "    <tr>\n",
       "      <th>267</th>\n",
       "      <td>4864</td>\n",
       "      <td>0.0</td>\n",
       "      <td>8.3</td>\n",
       "      <td>0.0</td>\n",
       "      <td>outofstock</td>\n",
       "      <td>9.99</td>\n",
       "      <td>15154</td>\n",
       "      <td>NaN</td>\n",
       "      <td>NaN</td>\n",
       "      <td>NaN</td>\n",
       "      <td>NaN</td>\n",
       "      <td>NaN</td>\n",
       "      <td>NaN</td>\n",
       "      <td>NaN</td>\n",
       "      <td>left_only</td>\n",
       "    </tr>\n",
       "    <tr>\n",
       "      <th>296</th>\n",
       "      <td>5018</td>\n",
       "      <td>0.0</td>\n",
       "      <td>15.4</td>\n",
       "      <td>0.0</td>\n",
       "      <td>outofstock</td>\n",
       "      <td>7.72</td>\n",
       "      <td>15272</td>\n",
       "      <td>NaN</td>\n",
       "      <td>NaN</td>\n",
       "      <td>NaN</td>\n",
       "      <td>NaN</td>\n",
       "      <td>NaN</td>\n",
       "      <td>NaN</td>\n",
       "      <td>NaN</td>\n",
       "      <td>left_only</td>\n",
       "    </tr>\n",
       "    <tr>\n",
       "      <th>376</th>\n",
       "      <td>6100</td>\n",
       "      <td>0.0</td>\n",
       "      <td>12.9</td>\n",
       "      <td>0.0</td>\n",
       "      <td>outofstock</td>\n",
       "      <td>6.47</td>\n",
       "      <td>15529</td>\n",
       "      <td>NaN</td>\n",
       "      <td>NaN</td>\n",
       "      <td>NaN</td>\n",
       "      <td>NaN</td>\n",
       "      <td>NaN</td>\n",
       "      <td>NaN</td>\n",
       "      <td>NaN</td>\n",
       "      <td>left_only</td>\n",
       "    </tr>\n",
       "    <tr>\n",
       "      <th>392</th>\n",
       "      <td>4922</td>\n",
       "      <td>0.0</td>\n",
       "      <td>21.5</td>\n",
       "      <td>0.0</td>\n",
       "      <td>outofstock</td>\n",
       "      <td>10.55</td>\n",
       "      <td>15586</td>\n",
       "      <td>NaN</td>\n",
       "      <td>NaN</td>\n",
       "      <td>NaN</td>\n",
       "      <td>NaN</td>\n",
       "      <td>NaN</td>\n",
       "      <td>NaN</td>\n",
       "      <td>NaN</td>\n",
       "      <td>left_only</td>\n",
       "    </tr>\n",
       "    <tr>\n",
       "      <th>394</th>\n",
       "      <td>4921</td>\n",
       "      <td>0.0</td>\n",
       "      <td>13.8</td>\n",
       "      <td>0.0</td>\n",
       "      <td>outofstock</td>\n",
       "      <td>7.13</td>\n",
       "      <td>15608</td>\n",
       "      <td>NaN</td>\n",
       "      <td>NaN</td>\n",
       "      <td>NaN</td>\n",
       "      <td>NaN</td>\n",
       "      <td>NaN</td>\n",
       "      <td>NaN</td>\n",
       "      <td>NaN</td>\n",
       "      <td>left_only</td>\n",
       "    </tr>\n",
       "    <tr>\n",
       "      <th>395</th>\n",
       "      <td>5954</td>\n",
       "      <td>0.0</td>\n",
       "      <td>18.8</td>\n",
       "      <td>0.0</td>\n",
       "      <td>outofstock</td>\n",
       "      <td>9.32</td>\n",
       "      <td>15609</td>\n",
       "      <td>NaN</td>\n",
       "      <td>NaN</td>\n",
       "      <td>NaN</td>\n",
       "      <td>NaN</td>\n",
       "      <td>NaN</td>\n",
       "      <td>NaN</td>\n",
       "      <td>NaN</td>\n",
       "      <td>left_only</td>\n",
       "    </tr>\n",
       "    <tr>\n",
       "      <th>402</th>\n",
       "      <td>5021</td>\n",
       "      <td>0.0</td>\n",
       "      <td>17.1</td>\n",
       "      <td>0.0</td>\n",
       "      <td>outofstock</td>\n",
       "      <td>8.92</td>\n",
       "      <td>15630</td>\n",
       "      <td>NaN</td>\n",
       "      <td>NaN</td>\n",
       "      <td>NaN</td>\n",
       "      <td>NaN</td>\n",
       "      <td>NaN</td>\n",
       "      <td>NaN</td>\n",
       "      <td>NaN</td>\n",
       "      <td>left_only</td>\n",
       "    </tr>\n",
       "    <tr>\n",
       "      <th>734</th>\n",
       "      <td>NaN</td>\n",
       "      <td>NaN</td>\n",
       "      <td>NaN</td>\n",
       "      <td>NaN</td>\n",
       "      <td>NaN</td>\n",
       "      <td>NaN</td>\n",
       "      <td>NaN</td>\n",
       "      <td>nan</td>\n",
       "      <td>-56.0</td>\n",
       "      <td>taxable</td>\n",
       "      <td>Vin</td>\n",
       "      <td>Pierre Jean Villa Condrieu Jardin Suspendu 2018</td>\n",
       "      <td>product</td>\n",
       "      <td>NaN</td>\n",
       "      <td>right_only</td>\n",
       "    </tr>\n",
       "  </tbody>\n",
       "</table>\n",
       "</div>"
      ],
      "text/plain": [
       "    product_id  onsale_web  price  stock_quantity stock_status  \\\n",
       "40        4741         0.0   12.4             0.0   outofstock   \n",
       "87        5957         0.0   39.0             0.0   outofstock   \n",
       "102       4289         0.0   22.8             0.0   outofstock   \n",
       "143       4869         0.0   17.2             0.0   outofstock   \n",
       "148       5955         0.0   27.3             0.0   outofstock   \n",
       "149       5953         0.0   47.5             0.0   outofstock   \n",
       "175       5505         0.0   10.1             0.0   outofstock   \n",
       "181       7329         0.0   26.5            14.0      instock   \n",
       "182       5800         0.0   32.3             0.0   outofstock   \n",
       "188       5559         0.0   27.9             3.0      instock   \n",
       "191       5570         0.0   22.5             0.0   outofstock   \n",
       "200       4584         0.0   32.3             0.0   outofstock   \n",
       "244       4568         0.0   21.5             0.0   outofstock   \n",
       "267       4864         0.0    8.3             0.0   outofstock   \n",
       "296       5018         0.0   15.4             0.0   outofstock   \n",
       "376       6100         0.0   12.9             0.0   outofstock   \n",
       "392       4922         0.0   21.5             0.0   outofstock   \n",
       "394       4921         0.0   13.8             0.0   outofstock   \n",
       "395       5954         0.0   18.8             0.0   outofstock   \n",
       "402       5021         0.0   17.1             0.0   outofstock   \n",
       "734        NaN         NaN    NaN             NaN          NaN   \n",
       "\n",
       "     purchase_price   id_web  sku  total_sales tax_status product_type  \\\n",
       "40             6.66    12601  NaN          NaN        NaN          NaN   \n",
       "87            20.75    13577  NaN          NaN        NaN          NaN   \n",
       "102           11.90    13771  NaN          NaN        NaN          NaN   \n",
       "143            9.33    14360  NaN          NaN        NaN          NaN   \n",
       "148           13.68    14377  NaN          NaN        NaN          NaN   \n",
       "149           23.81    14379  NaN          NaN        NaN          NaN   \n",
       "175            5.22    14648  NaN          NaN        NaN          NaN   \n",
       "181           13.42  14680-1  NaN          NaN        NaN          NaN   \n",
       "182           16.02    14689  NaN          NaN        NaN          NaN   \n",
       "188           13.98    14715  NaN          NaN        NaN          NaN   \n",
       "191           11.16    14730  NaN          NaN        NaN          NaN   \n",
       "200           17.36    14785  NaN          NaN        NaN          NaN   \n",
       "244           11.22    15065  NaN          NaN        NaN          NaN   \n",
       "267            9.99    15154  NaN          NaN        NaN          NaN   \n",
       "296            7.72    15272  NaN          NaN        NaN          NaN   \n",
       "376            6.47    15529  NaN          NaN        NaN          NaN   \n",
       "392           10.55    15586  NaN          NaN        NaN          NaN   \n",
       "394            7.13    15608  NaN          NaN        NaN          NaN   \n",
       "395            9.32    15609  NaN          NaN        NaN          NaN   \n",
       "402            8.92    15630  NaN          NaN        NaN          NaN   \n",
       "734             NaN      NaN  nan        -56.0    taxable          Vin   \n",
       "\n",
       "                                          post_title post_type post_mime_type  \\\n",
       "40                                               NaN       NaN            NaN   \n",
       "87                                               NaN       NaN            NaN   \n",
       "102                                              NaN       NaN            NaN   \n",
       "143                                              NaN       NaN            NaN   \n",
       "148                                              NaN       NaN            NaN   \n",
       "149                                              NaN       NaN            NaN   \n",
       "175                                              NaN       NaN            NaN   \n",
       "181                                              NaN       NaN            NaN   \n",
       "182                                              NaN       NaN            NaN   \n",
       "188                                              NaN       NaN            NaN   \n",
       "191                                              NaN       NaN            NaN   \n",
       "200                                              NaN       NaN            NaN   \n",
       "244                                              NaN       NaN            NaN   \n",
       "267                                              NaN       NaN            NaN   \n",
       "296                                              NaN       NaN            NaN   \n",
       "376                                              NaN       NaN            NaN   \n",
       "392                                              NaN       NaN            NaN   \n",
       "394                                              NaN       NaN            NaN   \n",
       "395                                              NaN       NaN            NaN   \n",
       "402                                              NaN       NaN            NaN   \n",
       "734  Pierre Jean Villa Condrieu Jardin Suspendu 2018   product            NaN   \n",
       "\n",
       "         _merge  \n",
       "40    left_only  \n",
       "87    left_only  \n",
       "102   left_only  \n",
       "143   left_only  \n",
       "148   left_only  \n",
       "149   left_only  \n",
       "175   left_only  \n",
       "181   left_only  \n",
       "182   left_only  \n",
       "188   left_only  \n",
       "191   left_only  \n",
       "200   left_only  \n",
       "244   left_only  \n",
       "267   left_only  \n",
       "296   left_only  \n",
       "376   left_only  \n",
       "392   left_only  \n",
       "394   left_only  \n",
       "395   left_only  \n",
       "402   left_only  \n",
       "734  right_only  "
      ]
     },
     "execution_count": 97,
     "metadata": {},
     "output_type": "execute_result"
    }
   ],
   "source": [
    "#Avons-nous des lignes sans correspondances?\n",
    "#OUI\n",
    "df_merge[df_merge[\"_merge\"] != \"both\"]"
   ]
  },
  {
   "cell_type": "code",
   "execution_count": 98,
   "id": "3db3ffab",
   "metadata": {},
   "outputs": [
    {
     "data": {
      "text/html": [
       "<div>\n",
       "<style scoped>\n",
       "    .dataframe tbody tr th:only-of-type {\n",
       "        vertical-align: middle;\n",
       "    }\n",
       "\n",
       "    .dataframe tbody tr th {\n",
       "        vertical-align: top;\n",
       "    }\n",
       "\n",
       "    .dataframe thead th {\n",
       "        text-align: right;\n",
       "    }\n",
       "</style>\n",
       "<table border=\"1\" class=\"dataframe\">\n",
       "  <thead>\n",
       "    <tr style=\"text-align: right;\">\n",
       "      <th></th>\n",
       "      <th>product_id</th>\n",
       "      <th>onsale_web</th>\n",
       "      <th>price</th>\n",
       "      <th>stock_quantity</th>\n",
       "      <th>stock_status</th>\n",
       "      <th>purchase_price</th>\n",
       "      <th>id_web</th>\n",
       "      <th>sku</th>\n",
       "      <th>total_sales</th>\n",
       "      <th>tax_status</th>\n",
       "      <th>product_type</th>\n",
       "      <th>post_title</th>\n",
       "      <th>post_type</th>\n",
       "      <th>post_mime_type</th>\n",
       "      <th>_merge</th>\n",
       "    </tr>\n",
       "  </thead>\n",
       "  <tbody>\n",
       "    <tr>\n",
       "      <th>0</th>\n",
       "      <td>5913</td>\n",
       "      <td>1.0</td>\n",
       "      <td>36.0</td>\n",
       "      <td>7.0</td>\n",
       "      <td>instock</td>\n",
       "      <td>17.16</td>\n",
       "      <td>10014</td>\n",
       "      <td>10014</td>\n",
       "      <td>10.0</td>\n",
       "      <td>taxable</td>\n",
       "      <td>Gin</td>\n",
       "      <td>Darnley's London Dry Gin Original</td>\n",
       "      <td>product</td>\n",
       "      <td>NaN</td>\n",
       "      <td>both</td>\n",
       "    </tr>\n",
       "    <tr>\n",
       "      <th>1</th>\n",
       "      <td>4617</td>\n",
       "      <td>1.0</td>\n",
       "      <td>67.5</td>\n",
       "      <td>6.0</td>\n",
       "      <td>instock</td>\n",
       "      <td>35.57</td>\n",
       "      <td>10459</td>\n",
       "      <td>10459</td>\n",
       "      <td>4.0</td>\n",
       "      <td>taxable</td>\n",
       "      <td>Vin</td>\n",
       "      <td>Alphonse Mellot Sancerre Rouge Génération XIX ...</td>\n",
       "      <td>product</td>\n",
       "      <td>NaN</td>\n",
       "      <td>both</td>\n",
       "    </tr>\n",
       "    <tr>\n",
       "      <th>2</th>\n",
       "      <td>4709</td>\n",
       "      <td>1.0</td>\n",
       "      <td>44.0</td>\n",
       "      <td>7.0</td>\n",
       "      <td>instock</td>\n",
       "      <td>22.05</td>\n",
       "      <td>10775</td>\n",
       "      <td>10775</td>\n",
       "      <td>6.0</td>\n",
       "      <td>taxable</td>\n",
       "      <td>Vin</td>\n",
       "      <td>Albert Mann Pinot Gris Vendanges Tardives Alte...</td>\n",
       "      <td>product</td>\n",
       "      <td>NaN</td>\n",
       "      <td>both</td>\n",
       "    </tr>\n",
       "    <tr>\n",
       "      <th>3</th>\n",
       "      <td>4656</td>\n",
       "      <td>1.0</td>\n",
       "      <td>43.0</td>\n",
       "      <td>13.0</td>\n",
       "      <td>instock</td>\n",
       "      <td>22.88</td>\n",
       "      <td>10814</td>\n",
       "      <td>10814</td>\n",
       "      <td>7.0</td>\n",
       "      <td>taxable</td>\n",
       "      <td>Vin</td>\n",
       "      <td>Thierry Germain Saumur-Champigny Outre Terre 2013</td>\n",
       "      <td>product</td>\n",
       "      <td>NaN</td>\n",
       "      <td>both</td>\n",
       "    </tr>\n",
       "    <tr>\n",
       "      <th>4</th>\n",
       "      <td>4619</td>\n",
       "      <td>1.0</td>\n",
       "      <td>59.0</td>\n",
       "      <td>8.0</td>\n",
       "      <td>instock</td>\n",
       "      <td>32.01</td>\n",
       "      <td>11049</td>\n",
       "      <td>11049</td>\n",
       "      <td>4.0</td>\n",
       "      <td>taxable</td>\n",
       "      <td>Vin</td>\n",
       "      <td>Alphonse Mellot Sancerre Rouge En Grands Champ...</td>\n",
       "      <td>product</td>\n",
       "      <td>NaN</td>\n",
       "      <td>both</td>\n",
       "    </tr>\n",
       "    <tr>\n",
       "      <th>...</th>\n",
       "      <td>...</td>\n",
       "      <td>...</td>\n",
       "      <td>...</td>\n",
       "      <td>...</td>\n",
       "      <td>...</td>\n",
       "      <td>...</td>\n",
       "      <td>...</td>\n",
       "      <td>...</td>\n",
       "      <td>...</td>\n",
       "      <td>...</td>\n",
       "      <td>...</td>\n",
       "      <td>...</td>\n",
       "      <td>...</td>\n",
       "      <td>...</td>\n",
       "      <td>...</td>\n",
       "    </tr>\n",
       "    <tr>\n",
       "      <th>730</th>\n",
       "      <td>4357</td>\n",
       "      <td>1.0</td>\n",
       "      <td>39.0</td>\n",
       "      <td>115.0</td>\n",
       "      <td>instock</td>\n",
       "      <td>22.30</td>\n",
       "      <td>9562</td>\n",
       "      <td>9562</td>\n",
       "      <td>5.0</td>\n",
       "      <td>taxable</td>\n",
       "      <td>Champagne</td>\n",
       "      <td>Champagne Larmandier-Bernier Latitude</td>\n",
       "      <td>product</td>\n",
       "      <td>NaN</td>\n",
       "      <td>both</td>\n",
       "    </tr>\n",
       "    <tr>\n",
       "      <th>731</th>\n",
       "      <td>4396</td>\n",
       "      <td>1.0</td>\n",
       "      <td>62.0</td>\n",
       "      <td>0.0</td>\n",
       "      <td>outofstock</td>\n",
       "      <td>28.42</td>\n",
       "      <td>9636</td>\n",
       "      <td>9636</td>\n",
       "      <td>0.0</td>\n",
       "      <td>taxable</td>\n",
       "      <td>Whisky</td>\n",
       "      <td>Wemyss Malts Blended Malt Scotch Whisky The Hi...</td>\n",
       "      <td>product</td>\n",
       "      <td>NaN</td>\n",
       "      <td>both</td>\n",
       "    </tr>\n",
       "    <tr>\n",
       "      <th>732</th>\n",
       "      <td>4932</td>\n",
       "      <td>1.0</td>\n",
       "      <td>25.7</td>\n",
       "      <td>5.0</td>\n",
       "      <td>instock</td>\n",
       "      <td>12.75</td>\n",
       "      <td>9937</td>\n",
       "      <td>9937</td>\n",
       "      <td>2.0</td>\n",
       "      <td>taxable</td>\n",
       "      <td>Vin</td>\n",
       "      <td>Marcel Richaud Cairanne Rouge Les Estrambords ...</td>\n",
       "      <td>product</td>\n",
       "      <td>NaN</td>\n",
       "      <td>both</td>\n",
       "    </tr>\n",
       "    <tr>\n",
       "      <th>733</th>\n",
       "      <td>4954</td>\n",
       "      <td>1.0</td>\n",
       "      <td>25.0</td>\n",
       "      <td>23.0</td>\n",
       "      <td>instock</td>\n",
       "      <td>13.30</td>\n",
       "      <td>bon-cadeau-25-euros</td>\n",
       "      <td>bon-cadeau-25-euros</td>\n",
       "      <td>7.0</td>\n",
       "      <td>taxable</td>\n",
       "      <td>NaN</td>\n",
       "      <td>Bon cadeau de 25€</td>\n",
       "      <td>product</td>\n",
       "      <td>NaN</td>\n",
       "      <td>both</td>\n",
       "    </tr>\n",
       "    <tr>\n",
       "      <th>734</th>\n",
       "      <td>NaN</td>\n",
       "      <td>NaN</td>\n",
       "      <td>NaN</td>\n",
       "      <td>NaN</td>\n",
       "      <td>NaN</td>\n",
       "      <td>NaN</td>\n",
       "      <td>NaN</td>\n",
       "      <td>nan</td>\n",
       "      <td>-56.0</td>\n",
       "      <td>taxable</td>\n",
       "      <td>Vin</td>\n",
       "      <td>Pierre Jean Villa Condrieu Jardin Suspendu 2018</td>\n",
       "      <td>product</td>\n",
       "      <td>NaN</td>\n",
       "      <td>right_only</td>\n",
       "    </tr>\n",
       "  </tbody>\n",
       "</table>\n",
       "<p>735 rows × 15 columns</p>\n",
       "</div>"
      ],
      "text/plain": [
       "    product_id  onsale_web  price  stock_quantity stock_status  \\\n",
       "0         5913         1.0   36.0             7.0      instock   \n",
       "1         4617         1.0   67.5             6.0      instock   \n",
       "2         4709         1.0   44.0             7.0      instock   \n",
       "3         4656         1.0   43.0            13.0      instock   \n",
       "4         4619         1.0   59.0             8.0      instock   \n",
       "..         ...         ...    ...             ...          ...   \n",
       "730       4357         1.0   39.0           115.0      instock   \n",
       "731       4396         1.0   62.0             0.0   outofstock   \n",
       "732       4932         1.0   25.7             5.0      instock   \n",
       "733       4954         1.0   25.0            23.0      instock   \n",
       "734        NaN         NaN    NaN             NaN          NaN   \n",
       "\n",
       "     purchase_price               id_web                  sku  total_sales  \\\n",
       "0             17.16                10014                10014         10.0   \n",
       "1             35.57                10459                10459          4.0   \n",
       "2             22.05                10775                10775          6.0   \n",
       "3             22.88                10814                10814          7.0   \n",
       "4             32.01                11049                11049          4.0   \n",
       "..              ...                  ...                  ...          ...   \n",
       "730           22.30                 9562                 9562          5.0   \n",
       "731           28.42                 9636                 9636          0.0   \n",
       "732           12.75                 9937                 9937          2.0   \n",
       "733           13.30  bon-cadeau-25-euros  bon-cadeau-25-euros          7.0   \n",
       "734             NaN                  NaN                  nan        -56.0   \n",
       "\n",
       "    tax_status product_type  \\\n",
       "0      taxable          Gin   \n",
       "1      taxable          Vin   \n",
       "2      taxable          Vin   \n",
       "3      taxable          Vin   \n",
       "4      taxable          Vin   \n",
       "..         ...          ...   \n",
       "730    taxable    Champagne   \n",
       "731    taxable       Whisky   \n",
       "732    taxable          Vin   \n",
       "733    taxable          NaN   \n",
       "734    taxable          Vin   \n",
       "\n",
       "                                            post_title post_type  \\\n",
       "0                    Darnley's London Dry Gin Original   product   \n",
       "1    Alphonse Mellot Sancerre Rouge Génération XIX ...   product   \n",
       "2    Albert Mann Pinot Gris Vendanges Tardives Alte...   product   \n",
       "3    Thierry Germain Saumur-Champigny Outre Terre 2013   product   \n",
       "4    Alphonse Mellot Sancerre Rouge En Grands Champ...   product   \n",
       "..                                                 ...       ...   \n",
       "730              Champagne Larmandier-Bernier Latitude   product   \n",
       "731  Wemyss Malts Blended Malt Scotch Whisky The Hi...   product   \n",
       "732  Marcel Richaud Cairanne Rouge Les Estrambords ...   product   \n",
       "733                                  Bon cadeau de 25€   product   \n",
       "734    Pierre Jean Villa Condrieu Jardin Suspendu 2018   product   \n",
       "\n",
       "    post_mime_type      _merge  \n",
       "0              NaN        both  \n",
       "1              NaN        both  \n",
       "2              NaN        both  \n",
       "3              NaN        both  \n",
       "4              NaN        both  \n",
       "..             ...         ...  \n",
       "730            NaN        both  \n",
       "731            NaN        both  \n",
       "732            NaN        both  \n",
       "733            NaN        both  \n",
       "734            NaN  right_only  \n",
       "\n",
       "[735 rows x 15 columns]"
      ]
     },
     "execution_count": 98,
     "metadata": {},
     "output_type": "execute_result"
    }
   ],
   "source": [
    "df_merge"
   ]
  },
  {
   "cell_type": "code",
   "execution_count": 99,
   "id": "28ec73a8",
   "metadata": {},
   "outputs": [
    {
     "name": "stdout",
     "output_type": "stream",
     "text": [
      "<class 'pandas.core.frame.DataFrame'>\n",
      "Index: 21 entries, 40 to 734\n",
      "Data columns (total 15 columns):\n",
      " #   Column          Non-Null Count  Dtype   \n",
      "---  ------          --------------  -----   \n",
      " 0   product_id      20 non-null     object  \n",
      " 1   onsale_web      20 non-null     float64 \n",
      " 2   price           20 non-null     float64 \n",
      " 3   stock_quantity  20 non-null     float64 \n",
      " 4   stock_status    20 non-null     object  \n",
      " 5   purchase_price  20 non-null     float64 \n",
      " 6   id_web          20 non-null     object  \n",
      " 7   sku             1 non-null      object  \n",
      " 8   total_sales     1 non-null      float64 \n",
      " 9   tax_status      1 non-null      object  \n",
      " 10  product_type    1 non-null      object  \n",
      " 11  post_title      1 non-null      object  \n",
      " 12  post_type       1 non-null      object  \n",
      " 13  post_mime_type  0 non-null      object  \n",
      " 14  _merge          21 non-null     category\n",
      "dtypes: category(1), float64(5), object(9)\n",
      "memory usage: 2.6+ KB\n"
     ]
    }
   ],
   "source": [
    "df_merge[df_merge[\"_merge\"] != \"both\"].info()"
   ]
  },
  {
   "cell_type": "markdown",
   "id": "13d81fd6",
   "metadata": {},
   "source": [
    "<div style=\"background-color: RGB(51,165,182);\" >\n",
    "<h2 style=\"margin: auto; padding: 20px; color:#fff; \">Etape 4 - Analyse univarié des prix</h2>\n",
    "</div>"
   ]
  },
  {
   "cell_type": "markdown",
   "id": "9c8d0615",
   "metadata": {},
   "source": [
    "<div style=\"border: 1px solid RGB(51,165,182);\" >\n",
    "<h3 style=\"margin: auto; padding: 20px; color: RGB(51,165,182); \">Etape 4.1 - Exploration par la visualisation de données</h3>\n",
    "</div>"
   ]
  },
  {
   "cell_type": "code",
   "execution_count": 100,
   "id": "3be61f06",
   "metadata": {},
   "outputs": [
    {
     "data": {
      "image/png": "[encoded data removed]",
      "text/plain": [
       "<Figure size 800x600 with 1 Axes>"
      ]
     },
     "metadata": {},
     "output_type": "display_data"
    }
   ],
   "source": [
    "#Création d'une Boite à moustache de la répartition des prix grâce à Pandas\n",
    "plt.figure(figsize=(8, 6))\n",
    "df_merge.boxplot(column=['price'])\n",
    "plt.title('Répartition des Prix')\n",
    "plt.ylabel('Prix')\n",
    "plt.xticks([1])\n",
    "plt.show()"
   ]
  },
  {
   "cell_type": "code",
   "execution_count": 101,
   "id": "cbfe6346",
   "metadata": {},
   "outputs": [
    {
     "data": {
      "application/vnd.plotly.v1+json": {
       "config": {
        "plotlyServerURL": "https://plot.ly"
       },
       "data": [
        {
         "alignmentgroup": "True",
         "hovertemplate": "price=%{y}<extra></extra>",
         "legendgroup": "",
         "marker": {
          "color": "#636efa"
         },
         "name": "",
         "notched": false,
         "offsetgroup": "",
         "orientation": "v",
         "showlegend": false,
         "type": "box",
         "x0": " ",
         "xaxis": "x",
         "y": [
          36,
          67.5,
          44,
          43,
          59,
          49.5,
          13.1,
          24,
          49.5,
          49.5,
          49.5,
          27.5,
          99,
          105,
          53,
          88.4,
          56.3,
          29.4,
          43,
          49,
          60,
          56,
          45,
          62.1,
          32,
          16.3,
          26.9,
          39,
          28.1,
          28,
          25,
          31.7,
          35.3,
          24,
          51.6,
          59,
          79.5,
          79.5,
          12.65,
          16.7,
          12.4,
          59,
          59,
          59,
          29.9,
          41.6,
          115,
          105,
          109.6,
          18.25,
          43.9,
          17.7,
          12.9,
          27.2,
          46,
          14.05,
          71.7,
          77.8,
          37,
          9.2,
          13.7,
          39,
          44.3,
          54.8,
          30,
          29.8,
          69,
          71.5,
          77.4,
          68.1,
          23,
          18.5,
          12.5,
          9.7,
          15.8,
          44,
          7.6,
          16.6,
          33.4,
          36.2,
          40.2,
          48.8,
          57.7,
          7.5,
          10.8,
          17.4,
          17.1,
          39,
          35.5,
          29.5,
          67.2,
          16.4,
          37.5,
          21,
          12.8,
          59,
          16.3,
          12.8,
          29.5,
          10.7,
          57,
          59.8,
          22.8,
          17.3,
          28,
          19.5,
          85.6,
          77,
          12.5,
          16.1,
          17.1,
          26.6,
          86.8,
          112,
          36.3,
          34.3,
          24.6,
          48.8,
          38,
          83.7,
          115,
          61.6,
          36.9,
          34.8,
          33.2,
          35.1,
          27.3,
          40.7,
          62.4,
          74.8,
          24.2,
          28.8,
          27.9,
          18.2,
          137,
          57.6,
          24.4,
          36,
          7.8,
          6.8,
          57,
          7.8,
          5.7,
          17.2,
          7.4,
          57,
          30.6,
          22.9,
          27.3,
          47.5,
          53.2,
          24,
          18.1,
          40.2,
          7.2,
          14.3,
          32.1,
          78,
          78,
          78,
          78,
          17.6,
          11.1,
          10.6,
          5.2,
          10.6,
          64.9,
          217.5,
          105.6,
          13.6,
          57.6,
          31,
          17.1,
          14.5,
          44.6,
          10.1,
          12.3,
          12.7,
          17.8,
          42,
          26.5,
          26.5,
          32.3,
          21.7,
          19.8,
          31.6,
          32.6,
          43.5,
          27.9,
          8.9,
          34.7,
          22.5,
          44.5,
          18.4,
          12,
          23.7,
          44,
          114,
          93,
          122,
          32.3,
          46,
          35,
          41,
          102.3,
          23.6,
          12,
          65.9,
          61.6,
          9.3,
          27.8,
          38.4,
          19.2,
          19.2,
          14.9,
          24.8,
          42,
          21.8,
          15.8,
          18,
          124.8,
          135,
          16.3,
          20.35,
          14.5,
          12.2,
          12.7,
          25,
          32.7,
          18.3,
          60,
          18.7,
          13.7,
          191.3,
          18.2,
          19.5,
          7.1,
          16.9,
          14.1,
          14.8,
          31.7,
          16.9,
          20.6,
          7.9,
          21.5,
          121,
          121,
          55.6,
          12,
          17.9,
          12.7,
          11.1,
          14.9,
          8.1,
          42.1,
          116.4,
          73.3,
          38.5,
          9.6,
          11.5,
          13.7,
          9.8,
          11.8,
          13.4,
          31.5,
          32.2,
          50.1,
          8.3,
          15.5,
          20.4,
          20.4,
          40.2,
          34.4,
          35.6,
          29.7,
          35.6,
          38.4,
          175,
          11.1,
          39.2,
          15.2,
          35.2,
          42.2,
          25.3,
          13.4,
          57,
          26.5,
          16.9,
          16.6,
          63.5,
          63.5,
          33.6,
          46.5,
          12.6,
          32.8,
          80,
          15.4,
          12.9,
          29.8,
          9.5,
          13.2,
          26.7,
          34.3,
          24.2,
          20.8,
          34.3,
          17.2,
          8.5,
          8.6,
          11.9,
          11.1,
          48.5,
          26.7,
          41.2,
          55,
          57,
          20.5,
          12.9,
          23,
          25.7,
          17.9,
          48.5,
          65,
          59.9,
          59.9,
          16.8,
          49.5,
          31.7,
          19.8,
          13.3,
          11,
          9.3,
          11.6,
          22.1,
          100,
          23.8,
          16.4,
          9.6,
          14.4,
          23,
          11.3,
          9.9,
          6.5,
          28.1,
          15.3,
          12,
          46,
          19,
          28,
          22.9,
          10.8,
          23.4,
          10.1,
          26.2,
          7.9,
          28.5,
          11.1,
          10.7,
          19.8,
          22.8,
          27.3,
          68.3,
          26.5,
          43.9,
          41.8,
          41.8,
          26.5,
          26.5,
          10.8,
          13.4,
          12.6,
          29.8,
          22,
          17,
          19.8,
          21.9,
          12.9,
          24.4,
          24.4,
          37.2,
          13.5,
          22.2,
          5.8,
          22.8,
          14.6,
          44,
          13.5,
          9.1,
          16.8,
          8.7,
          30.1,
          13.5,
          21.5,
          17.8,
          13.8,
          18.8,
          25.9,
          25.9,
          25.9,
          25.9,
          21.7,
          13.5,
          17.1,
          24.5,
          40,
          33,
          13.2,
          10.4,
          38,
          38,
          18.6,
          23.4,
          31.5,
          49,
          35.6,
          9.9,
          15.8,
          15.8,
          17.8,
          15.8,
          9.3,
          18.2,
          17.1,
          10.3,
          12.8,
          13.7,
          19,
          27.9,
          9.7,
          17.2,
          18.9,
          44,
          29,
          29.2,
          72,
          78,
          52.6,
          45,
          48.5,
          67,
          39.8,
          58.8,
          79.8,
          29.5,
          18.7,
          12.3,
          11.1,
          21,
          28.5,
          46.5,
          21.8,
          11.3,
          50.5,
          19,
          40.5,
          21.4,
          16.7,
          30.8,
          17.9,
          15.2,
          21.6,
          11.6,
          8.9,
          22.4,
          24.4,
          15.4,
          16.3,
          13.5,
          13.5,
          28.4,
          19,
          19.3,
          27.9,
          28.4,
          15.4,
          24,
          18.2,
          14.3,
          9,
          12.6,
          33.2,
          41.8,
          32.2,
          37.7,
          52.7,
          47.2,
          17.5,
          13.1,
          27.9,
          27.9,
          22.4,
          14.9,
          13,
          12.8,
          12.9,
          12.8,
          46,
          15.5,
          49.9,
          21.5,
          16.5,
          11.9,
          18.8,
          19.8,
          24.3,
          12.9,
          48.4,
          60.4,
          38.6,
          38.6,
          27.3,
          48.7,
          48.7,
          59.4,
          19,
          29,
          13.7,
          12.1,
          69,
          27.5,
          12.7,
          17.2,
          24.7,
          71.3,
          71.3,
          56.4,
          16.7,
          7,
          38.6,
          7.1,
          6.3,
          225,
          12.7,
          30.5,
          63.4,
          10.9,
          10.7,
          24.5,
          20.1,
          33.2,
          7,
          14.4,
          20.8,
          10.7,
          23,
          16.45,
          23.4,
          22.8,
          16.4,
          23.2,
          18,
          6.7,
          7.6,
          13.6,
          12.7,
          33.7,
          9.9,
          54.8,
          25.3,
          17,
          8.7,
          42.6,
          31.2,
          19.3,
          22.8,
          7.7,
          51,
          9.9,
          20.2,
          19,
          19.8,
          21.2,
          20.8,
          38.6,
          69.8,
          48.5,
          27.7,
          14.7,
          32.8,
          13.9,
          25.2,
          20.8,
          18.5,
          29.9,
          23.5,
          8.9,
          55.4,
          12.6,
          25,
          20.5,
          43.5,
          49.5,
          33.4,
          7.4,
          9.3,
          8.4,
          15.3,
          46.5,
          13.8,
          10.1,
          9.9,
          9.3,
          16.1,
          50.4,
          41,
          27,
          17.5,
          8.5,
          11.5,
          24,
          14.4,
          24,
          13.3,
          16.6,
          12.1,
          27.5,
          5.7,
          5.7,
          5.7,
          5.8,
          16.9,
          16.3,
          29,
          19.2,
          9.1,
          10.2,
          19,
          45.9,
          8.2,
          9.4,
          16.5,
          24.3,
          9.3,
          10.9,
          9.5,
          11.1,
          9,
          9.8,
          8.7,
          12.8,
          23.2,
          27.8,
          18.4,
          9.9,
          22.8,
          8.7,
          5.8,
          17,
          6.5,
          10.2,
          10.4,
          15.2,
          19.5,
          8.7,
          14.5,
          11.9,
          5.8,
          14.1,
          14,
          30,
          16.2,
          11.6,
          6.5,
          16.6,
          21.8,
          19,
          74.5,
          16.9,
          11.9,
          23.2,
          6.8,
          16.3,
          15.9,
          12.1,
          28.5,
          12.5,
          13.5,
          19,
          15.4,
          26,
          17.5,
          11.9,
          9.8,
          20.2,
          28,
          39.1,
          25.2,
          9.7,
          7.1,
          49,
          14.1,
          46,
          71.6,
          58,
          58,
          92,
          50,
          50,
          52.4,
          39,
          19.5,
          62.5,
          108.5,
          104,
          176,
          12,
          8.6,
          41,
          83,
          59.9,
          22.5,
          14.3,
          59.6,
          26.4,
          42.2,
          69,
          49,
          157,
          76.8,
          62.4,
          62.4,
          39.6,
          52.4,
          58.3,
          52.9,
          52.4,
          15.4,
          22,
          10.3,
          59.6,
          39,
          62,
          25.7,
          25,
          null
         ],
         "y0": " ",
         "yaxis": "y"
        }
       ],
       "layout": {
        "boxmode": "group",
        "legend": {
         "tracegroupgap": 0
        },
        "template": {
         "data": {
          "bar": [
           {
            "error_x": {
             "color": "#2a3f5f"
            },
            "error_y": {
             "color": "#2a3f5f"
            },
            "marker": {
             "line": {
              "color": "#E5ECF6",
              "width": 0.5
             },
             "pattern": {
              "fillmode": "overlay",
              "size": 10,
              "solidity": 0.2
             }
            },
            "type": "bar"
           }
          ],
          "barpolar": [
           {
            "marker": {
             "line": {
              "color": "#E5ECF6",
              "width": 0.5
             },
             "pattern": {
              "fillmode": "overlay",
              "size": 10,
              "solidity": 0.2
             }
            },
            "type": "barpolar"
           }
          ],
          "carpet": [
           {
            "aaxis": {
             "endlinecolor": "#2a3f5f",
             "gridcolor": "white",
             "linecolor": "white",
             "minorgridcolor": "white",
             "startlinecolor": "#2a3f5f"
            },
            "baxis": {
             "endlinecolor": "#2a3f5f",
             "gridcolor": "white",
             "linecolor": "white",
             "minorgridcolor": "white",
             "startlinecolor": "#2a3f5f"
            },
            "type": "carpet"
           }
          ],
          "choropleth": [
           {
            "colorbar": {
             "outlinewidth": 0,
             "ticks": ""
            },
            "type": "choropleth"
           }
          ],
          "contour": [
           {
            "colorbar": {
             "outlinewidth": 0,
             "ticks": ""
            },
            "colorscale": [
             [
              0,
              "#0d0887"
             ],
             [
              0.1111111111111111,
              "#46039f"
             ],
             [
              0.2222222222222222,
              "#7201a8"
             ],
             [
              0.3333333333333333,
              "#9c179e"
             ],
             [
              0.4444444444444444,
              "#bd3786"
             ],
             [
              0.5555555555555556,
              "#d8576b"
             ],
             [
              0.6666666666666666,
              "#ed7953"
             ],
             [
              0.7777777777777778,
              "#fb9f3a"
             ],
             [
              0.8888888888888888,
              "#fdca26"
             ],
             [
              1,
              "#f0f921"
             ]
            ],
            "type": "contour"
           }
          ],
          "contourcarpet": [
           {
            "colorbar": {
             "outlinewidth": 0,
             "ticks": ""
            },
            "type": "contourcarpet"
           }
          ],
          "heatmap": [
           {
            "colorbar": {
             "outlinewidth": 0,
             "ticks": ""
            },
            "colorscale": [
             [
              0,
              "#0d0887"
             ],
             [
              0.1111111111111111,
              "#46039f"
             ],
             [
              0.2222222222222222,
              "#7201a8"
             ],
             [
              0.3333333333333333,
              "#9c179e"
             ],
             [
              0.4444444444444444,
              "#bd3786"
             ],
             [
              0.5555555555555556,
              "#d8576b"
             ],
             [
              0.6666666666666666,
              "#ed7953"
             ],
             [
              0.7777777777777778,
              "#fb9f3a"
             ],
             [
              0.8888888888888888,
              "#fdca26"
             ],
             [
              1,
              "#f0f921"
             ]
            ],
            "type": "heatmap"
           }
          ],
          "heatmapgl": [
           {
            "colorbar": {
             "outlinewidth": 0,
             "ticks": ""
            },
            "colorscale": [
             [
              0,
              "#0d0887"
             ],
             [
              0.1111111111111111,
              "#46039f"
             ],
             [
              0.2222222222222222,
              "#7201a8"
             ],
             [
              0.3333333333333333,
              "#9c179e"
             ],
             [
              0.4444444444444444,
              "#bd3786"
             ],
             [
              0.5555555555555556,
              "#d8576b"
             ],
             [
              0.6666666666666666,
              "#ed7953"
             ],
             [
              0.7777777777777778,
              "#fb9f3a"
             ],
             [
              0.8888888888888888,
              "#fdca26"
             ],
             [
              1,
              "#f0f921"
             ]
            ],
            "type": "heatmapgl"
           }
          ],
          "histogram": [
           {
            "marker": {
             "pattern": {
              "fillmode": "overlay",
              "size": 10,
              "solidity": 0.2
             }
            },
            "type": "histogram"
           }
          ],
          "histogram2d": [
           {
            "colorbar": {
             "outlinewidth": 0,
             "ticks": ""
            },
            "colorscale": [
             [
              0,
              "#0d0887"
             ],
             [
              0.1111111111111111,
              "#46039f"
             ],
             [
              0.2222222222222222,
              "#7201a8"
             ],
             [
              0.3333333333333333,
              "#9c179e"
             ],
             [
              0.4444444444444444,
              "#bd3786"
             ],
             [
              0.5555555555555556,
              "#d8576b"
             ],
             [
              0.6666666666666666,
              "#ed7953"
             ],
             [
              0.7777777777777778,
              "#fb9f3a"
             ],
             [
              0.8888888888888888,
              "#fdca26"
             ],
             [
              1,
              "#f0f921"
             ]
            ],
            "type": "histogram2d"
           }
          ],
          "histogram2dcontour": [
           {
            "colorbar": {
             "outlinewidth": 0,
             "ticks": ""
            },
            "colorscale": [
             [
              0,
              "#0d0887"
             ],
             [
              0.1111111111111111,
              "#46039f"
             ],
             [
              0.2222222222222222,
              "#7201a8"
             ],
             [
              0.3333333333333333,
              "#9c179e"
             ],
             [
              0.4444444444444444,
              "#bd3786"
             ],
             [
              0.5555555555555556,
              "#d8576b"
             ],
             [
              0.6666666666666666,
              "#ed7953"
             ],
             [
              0.7777777777777778,
              "#fb9f3a"
             ],
             [
              0.8888888888888888,
              "#fdca26"
             ],
             [
              1,
              "#f0f921"
             ]
            ],
            "type": "histogram2dcontour"
           }
          ],
          "mesh3d": [
           {
            "colorbar": {
             "outlinewidth": 0,
             "ticks": ""
            },
            "type": "mesh3d"
           }
          ],
          "parcoords": [
           {
            "line": {
             "colorbar": {
              "outlinewidth": 0,
              "ticks": ""
             }
            },
            "type": "parcoords"
           }
          ],
          "pie": [
           {
            "automargin": true,
            "type": "pie"
           }
          ],
          "scatter": [
           {
            "fillpattern": {
             "fillmode": "overlay",
             "size": 10,
             "solidity": 0.2
            },
            "type": "scatter"
           }
          ],
          "scatter3d": [
           {
            "line": {
             "colorbar": {
              "outlinewidth": 0,
              "ticks": ""
             }
            },
            "marker": {
             "colorbar": {
              "outlinewidth": 0,
              "ticks": ""
             }
            },
            "type": "scatter3d"
           }
          ],
          "scattercarpet": [
           {
            "marker": {
             "colorbar": {
              "outlinewidth": 0,
              "ticks": ""
             }
            },
            "type": "scattercarpet"
           }
          ],
          "scattergeo": [
           {
            "marker": {
             "colorbar": {
              "outlinewidth": 0,
              "ticks": ""
             }
            },
            "type": "scattergeo"
           }
          ],
          "scattergl": [
           {
            "marker": {
             "colorbar": {
              "outlinewidth": 0,
              "ticks": ""
             }
            },
            "type": "scattergl"
           }
          ],
          "scattermapbox": [
           {
            "marker": {
             "colorbar": {
              "outlinewidth": 0,
              "ticks": ""
             }
            },
            "type": "scattermapbox"
           }
          ],
          "scatterpolar": [
           {
            "marker": {
             "colorbar": {
              "outlinewidth": 0,
              "ticks": ""
             }
            },
            "type": "scatterpolar"
           }
          ],
          "scatterpolargl": [
           {
            "marker": {
             "colorbar": {
              "outlinewidth": 0,
              "ticks": ""
             }
            },
            "type": "scatterpolargl"
           }
          ],
          "scatterternary": [
           {
            "marker": {
             "colorbar": {
              "outlinewidth": 0,
              "ticks": ""
             }
            },
            "type": "scatterternary"
           }
          ],
          "surface": [
           {
            "colorbar": {
             "outlinewidth": 0,
             "ticks": ""
            },
            "colorscale": [
             [
              0,
              "#0d0887"
             ],
             [
              0.1111111111111111,
              "#46039f"
             ],
             [
              0.2222222222222222,
              "#7201a8"
             ],
             [
              0.3333333333333333,
              "#9c179e"
             ],
             [
              0.4444444444444444,
              "#bd3786"
             ],
             [
              0.5555555555555556,
              "#d8576b"
             ],
             [
              0.6666666666666666,
              "#ed7953"
             ],
             [
              0.7777777777777778,
              "#fb9f3a"
             ],
             [
              0.8888888888888888,
              "#fdca26"
             ],
             [
              1,
              "#f0f921"
             ]
            ],
            "type": "surface"
           }
          ],
          "table": [
           {
            "cells": {
             "fill": {
              "color": "#EBF0F8"
             },
             "line": {
              "color": "white"
             }
            },
            "header": {
             "fill": {
              "color": "#C8D4E3"
             },
             "line": {
              "color": "white"
             }
            },
            "type": "table"
           }
          ]
         },
         "layout": {
          "annotationdefaults": {
           "arrowcolor": "#2a3f5f",
           "arrowhead": 0,
           "arrowwidth": 1
          },
          "autotypenumbers": "strict",
          "coloraxis": {
           "colorbar": {
            "outlinewidth": 0,
            "ticks": ""
           }
          },
          "colorscale": {
           "diverging": [
            [
             0,
             "#8e0152"
            ],
            [
             0.1,
             "#c51b7d"
            ],
            [
             0.2,
             "#de77ae"
            ],
            [
             0.3,
             "#f1b6da"
            ],
            [
             0.4,
             "#fde0ef"
            ],
            [
             0.5,
             "#f7f7f7"
            ],
            [
             0.6,
             "#e6f5d0"
            ],
            [
             0.7,
             "#b8e186"
            ],
            [
             0.8,
             "#7fbc41"
            ],
            [
             0.9,
             "#4d9221"
            ],
            [
             1,
             "#276419"
            ]
           ],
           "sequential": [
            [
             0,
             "#0d0887"
            ],
            [
             0.1111111111111111,
             "#46039f"
            ],
            [
             0.2222222222222222,
             "#7201a8"
            ],
            [
             0.3333333333333333,
             "#9c179e"
            ],
            [
             0.4444444444444444,
             "#bd3786"
            ],
            [
             0.5555555555555556,
             "#d8576b"
            ],
            [
             0.6666666666666666,
             "#ed7953"
            ],
            [
             0.7777777777777778,
             "#fb9f3a"
            ],
            [
             0.8888888888888888,
             "#fdca26"
            ],
            [
             1,
             "#f0f921"
            ]
           ],
           "sequentialminus": [
            [
             0,
             "#0d0887"
            ],
            [
             0.1111111111111111,
             "#46039f"
            ],
            [
             0.2222222222222222,
             "#7201a8"
            ],
            [
             0.3333333333333333,
             "#9c179e"
            ],
            [
             0.4444444444444444,
             "#bd3786"
            ],
            [
             0.5555555555555556,
             "#d8576b"
            ],
            [
             0.6666666666666666,
             "#ed7953"
            ],
            [
             0.7777777777777778,
             "#fb9f3a"
            ],
            [
             0.8888888888888888,
             "#fdca26"
            ],
            [
             1,
             "#f0f921"
            ]
           ]
          },
          "colorway": [
           "#636efa",
           "#EF553B",
           "#00cc96",
           "#ab63fa",
           "#FFA15A",
           "#19d3f3",
           "#FF6692",
           "#B6E880",
           "#FF97FF",
           "#FECB52"
          ],
          "font": {
           "color": "#2a3f5f"
          },
          "geo": {
           "bgcolor": "white",
           "lakecolor": "white",
           "landcolor": "#E5ECF6",
           "showlakes": true,
           "showland": true,
           "subunitcolor": "white"
          },
          "hoverlabel": {
           "align": "left"
          },
          "hovermode": "closest",
          "mapbox": {
           "style": "light"
          },
          "paper_bgcolor": "white",
          "plot_bgcolor": "#E5ECF6",
          "polar": {
           "angularaxis": {
            "gridcolor": "white",
            "linecolor": "white",
            "ticks": ""
           },
           "bgcolor": "#E5ECF6",
           "radialaxis": {
            "gridcolor": "white",
            "linecolor": "white",
            "ticks": ""
           }
          },
          "scene": {
           "xaxis": {
            "backgroundcolor": "#E5ECF6",
            "gridcolor": "white",
            "gridwidth": 2,
            "linecolor": "white",
            "showbackground": true,
            "ticks": "",
            "zerolinecolor": "white"
           },
           "yaxis": {
            "backgroundcolor": "#E5ECF6",
            "gridcolor": "white",
            "gridwidth": 2,
            "linecolor": "white",
            "showbackground": true,
            "ticks": "",
            "zerolinecolor": "white"
           },
           "zaxis": {
            "backgroundcolor": "#E5ECF6",
            "gridcolor": "white",
            "gridwidth": 2,
            "linecolor": "white",
            "showbackground": true,
            "ticks": "",
            "zerolinecolor": "white"
           }
          },
          "shapedefaults": {
           "line": {
            "color": "#2a3f5f"
           }
          },
          "ternary": {
           "aaxis": {
            "gridcolor": "white",
            "linecolor": "white",
            "ticks": ""
           },
           "baxis": {
            "gridcolor": "white",
            "linecolor": "white",
            "ticks": ""
           },
           "bgcolor": "#E5ECF6",
           "caxis": {
            "gridcolor": "white",
            "linecolor": "white",
            "ticks": ""
           }
          },
          "title": {
           "x": 0.05
          },
          "xaxis": {
           "automargin": true,
           "gridcolor": "white",
           "linecolor": "white",
           "ticks": "",
           "title": {
            "standoff": 15
           },
           "zerolinecolor": "white",
           "zerolinewidth": 2
          },
          "yaxis": {
           "automargin": true,
           "gridcolor": "white",
           "linecolor": "white",
           "ticks": "",
           "title": {
            "standoff": 15
           },
           "zerolinecolor": "white",
           "zerolinewidth": 2
          }
         }
        },
        "title": {
         "text": "Répartition des Prix"
        },
        "xaxis": {
         "anchor": "y",
         "domain": [
          0,
          1
         ]
        },
        "yaxis": {
         "anchor": "x",
         "domain": [
          0,
          1
         ],
         "title": {
          "text": "price"
         }
        }
       }
      }
     },
     "metadata": {},
     "output_type": "display_data"
    }
   ],
   "source": [
    "#Autre méthode avec plotly express\n",
    "fig = px.box(df_merge, y='price', title='Répartition des Prix')\n",
    "fig.show()\n"
   ]
  },
  {
   "cell_type": "code",
   "execution_count": 102,
   "id": "162411f6",
   "metadata": {},
   "outputs": [
    {
     "data": {
      "application/vnd.plotly.v1+json": {
       "config": {
        "plotlyServerURL": "https://plot.ly"
       },
       "data": [
        {
         "alignmentgroup": "True",
         "bingroup": "x",
         "hovertemplate": "price=%{x}<br>count=%{y}<extra></extra>",
         "legendgroup": "",
         "marker": {
          "color": "#636efa",
          "pattern": {
           "shape": ""
          }
         },
         "name": "",
         "offsetgroup": "",
         "orientation": "v",
         "showlegend": false,
         "type": "histogram",
         "x": [
          36,
          67.5,
          44,
          43,
          59,
          49.5,
          13.1,
          24,
          49.5,
          49.5,
          49.5,
          27.5,
          99,
          105,
          53,
          88.4,
          56.3,
          29.4,
          43,
          49,
          60,
          56,
          45,
          62.1,
          32,
          16.3,
          26.9,
          39,
          28.1,
          28,
          25,
          31.7,
          35.3,
          24,
          51.6,
          59,
          79.5,
          79.5,
          12.65,
          16.7,
          12.4,
          59,
          59,
          59,
          29.9,
          41.6,
          115,
          105,
          109.6,
          18.25,
          43.9,
          17.7,
          12.9,
          27.2,
          46,
          14.05,
          71.7,
          77.8,
          37,
          9.2,
          13.7,
          39,
          44.3,
          54.8,
          30,
          29.8,
          69,
          71.5,
          77.4,
          68.1,
          23,
          18.5,
          12.5,
          9.7,
          15.8,
          44,
          7.6,
          16.6,
          33.4,
          36.2,
          40.2,
          48.8,
          57.7,
          7.5,
          10.8,
          17.4,
          17.1,
          39,
          35.5,
          29.5,
          67.2,
          16.4,
          37.5,
          21,
          12.8,
          59,
          16.3,
          12.8,
          29.5,
          10.7,
          57,
          59.8,
          22.8,
          17.3,
          28,
          19.5,
          85.6,
          77,
          12.5,
          16.1,
          17.1,
          26.6,
          86.8,
          112,
          36.3,
          34.3,
          24.6,
          48.8,
          38,
          83.7,
          115,
          61.6,
          36.9,
          34.8,
          33.2,
          35.1,
          27.3,
          40.7,
          62.4,
          74.8,
          24.2,
          28.8,
          27.9,
          18.2,
          137,
          57.6,
          24.4,
          36,
          7.8,
          6.8,
          57,
          7.8,
          5.7,
          17.2,
          7.4,
          57,
          30.6,
          22.9,
          27.3,
          47.5,
          53.2,
          24,
          18.1,
          40.2,
          7.2,
          14.3,
          32.1,
          78,
          78,
          78,
          78,
          17.6,
          11.1,
          10.6,
          5.2,
          10.6,
          64.9,
          217.5,
          105.6,
          13.6,
          57.6,
          31,
          17.1,
          14.5,
          44.6,
          10.1,
          12.3,
          12.7,
          17.8,
          42,
          26.5,
          26.5,
          32.3,
          21.7,
          19.8,
          31.6,
          32.6,
          43.5,
          27.9,
          8.9,
          34.7,
          22.5,
          44.5,
          18.4,
          12,
          23.7,
          44,
          114,
          93,
          122,
          32.3,
          46,
          35,
          41,
          102.3,
          23.6,
          12,
          65.9,
          61.6,
          9.3,
          27.8,
          38.4,
          19.2,
          19.2,
          14.9,
          24.8,
          42,
          21.8,
          15.8,
          18,
          124.8,
          135,
          16.3,
          20.35,
          14.5,
          12.2,
          12.7,
          25,
          32.7,
          18.3,
          60,
          18.7,
          13.7,
          191.3,
          18.2,
          19.5,
          7.1,
          16.9,
          14.1,
          14.8,
          31.7,
          16.9,
          20.6,
          7.9,
          21.5,
          121,
          121,
          55.6,
          12,
          17.9,
          12.7,
          11.1,
          14.9,
          8.1,
          42.1,
          116.4,
          73.3,
          38.5,
          9.6,
          11.5,
          13.7,
          9.8,
          11.8,
          13.4,
          31.5,
          32.2,
          50.1,
          8.3,
          15.5,
          20.4,
          20.4,
          40.2,
          34.4,
          35.6,
          29.7,
          35.6,
          38.4,
          175,
          11.1,
          39.2,
          15.2,
          35.2,
          42.2,
          25.3,
          13.4,
          57,
          26.5,
          16.9,
          16.6,
          63.5,
          63.5,
          33.6,
          46.5,
          12.6,
          32.8,
          80,
          15.4,
          12.9,
          29.8,
          9.5,
          13.2,
          26.7,
          34.3,
          24.2,
          20.8,
          34.3,
          17.2,
          8.5,
          8.6,
          11.9,
          11.1,
          48.5,
          26.7,
          41.2,
          55,
          57,
          20.5,
          12.9,
          23,
          25.7,
          17.9,
          48.5,
          65,
          59.9,
          59.9,
          16.8,
          49.5,
          31.7,
          19.8,
          13.3,
          11,
          9.3,
          11.6,
          22.1,
          100,
          23.8,
          16.4,
          9.6,
          14.4,
          23,
          11.3,
          9.9,
          6.5,
          28.1,
          15.3,
          12,
          46,
          19,
          28,
          22.9,
          10.8,
          23.4,
          10.1,
          26.2,
          7.9,
          28.5,
          11.1,
          10.7,
          19.8,
          22.8,
          27.3,
          68.3,
          26.5,
          43.9,
          41.8,
          41.8,
          26.5,
          26.5,
          10.8,
          13.4,
          12.6,
          29.8,
          22,
          17,
          19.8,
          21.9,
          12.9,
          24.4,
          24.4,
          37.2,
          13.5,
          22.2,
          5.8,
          22.8,
          14.6,
          44,
          13.5,
          9.1,
          16.8,
          8.7,
          30.1,
          13.5,
          21.5,
          17.8,
          13.8,
          18.8,
          25.9,
          25.9,
          25.9,
          25.9,
          21.7,
          13.5,
          17.1,
          24.5,
          40,
          33,
          13.2,
          10.4,
          38,
          38,
          18.6,
          23.4,
          31.5,
          49,
          35.6,
          9.9,
          15.8,
          15.8,
          17.8,
          15.8,
          9.3,
          18.2,
          17.1,
          10.3,
          12.8,
          13.7,
          19,
          27.9,
          9.7,
          17.2,
          18.9,
          44,
          29,
          29.2,
          72,
          78,
          52.6,
          45,
          48.5,
          67,
          39.8,
          58.8,
          79.8,
          29.5,
          18.7,
          12.3,
          11.1,
          21,
          28.5,
          46.5,
          21.8,
          11.3,
          50.5,
          19,
          40.5,
          21.4,
          16.7,
          30.8,
          17.9,
          15.2,
          21.6,
          11.6,
          8.9,
          22.4,
          24.4,
          15.4,
          16.3,
          13.5,
          13.5,
          28.4,
          19,
          19.3,
          27.9,
          28.4,
          15.4,
          24,
          18.2,
          14.3,
          9,
          12.6,
          33.2,
          41.8,
          32.2,
          37.7,
          52.7,
          47.2,
          17.5,
          13.1,
          27.9,
          27.9,
          22.4,
          14.9,
          13,
          12.8,
          12.9,
          12.8,
          46,
          15.5,
          49.9,
          21.5,
          16.5,
          11.9,
          18.8,
          19.8,
          24.3,
          12.9,
          48.4,
          60.4,
          38.6,
          38.6,
          27.3,
          48.7,
          48.7,
          59.4,
          19,
          29,
          13.7,
          12.1,
          69,
          27.5,
          12.7,
          17.2,
          24.7,
          71.3,
          71.3,
          56.4,
          16.7,
          7,
          38.6,
          7.1,
          6.3,
          225,
          12.7,
          30.5,
          63.4,
          10.9,
          10.7,
          24.5,
          20.1,
          33.2,
          7,
          14.4,
          20.8,
          10.7,
          23,
          16.45,
          23.4,
          22.8,
          16.4,
          23.2,
          18,
          6.7,
          7.6,
          13.6,
          12.7,
          33.7,
          9.9,
          54.8,
          25.3,
          17,
          8.7,
          42.6,
          31.2,
          19.3,
          22.8,
          7.7,
          51,
          9.9,
          20.2,
          19,
          19.8,
          21.2,
          20.8,
          38.6,
          69.8,
          48.5,
          27.7,
          14.7,
          32.8,
          13.9,
          25.2,
          20.8,
          18.5,
          29.9,
          23.5,
          8.9,
          55.4,
          12.6,
          25,
          20.5,
          43.5,
          49.5,
          33.4,
          7.4,
          9.3,
          8.4,
          15.3,
          46.5,
          13.8,
          10.1,
          9.9,
          9.3,
          16.1,
          50.4,
          41,
          27,
          17.5,
          8.5,
          11.5,
          24,
          14.4,
          24,
          13.3,
          16.6,
          12.1,
          27.5,
          5.7,
          5.7,
          5.7,
          5.8,
          16.9,
          16.3,
          29,
          19.2,
          9.1,
          10.2,
          19,
          45.9,
          8.2,
          9.4,
          16.5,
          24.3,
          9.3,
          10.9,
          9.5,
          11.1,
          9,
          9.8,
          8.7,
          12.8,
          23.2,
          27.8,
          18.4,
          9.9,
          22.8,
          8.7,
          5.8,
          17,
          6.5,
          10.2,
          10.4,
          15.2,
          19.5,
          8.7,
          14.5,
          11.9,
          5.8,
          14.1,
          14,
          30,
          16.2,
          11.6,
          6.5,
          16.6,
          21.8,
          19,
          74.5,
          16.9,
          11.9,
          23.2,
          6.8,
          16.3,
          15.9,
          12.1,
          28.5,
          12.5,
          13.5,
          19,
          15.4,
          26,
          17.5,
          11.9,
          9.8,
          20.2,
          28,
          39.1,
          25.2,
          9.7,
          7.1,
          49,
          14.1,
          46,
          71.6,
          58,
          58,
          92,
          50,
          50,
          52.4,
          39,
          19.5,
          62.5,
          108.5,
          104,
          176,
          12,
          8.6,
          41,
          83,
          59.9,
          22.5,
          14.3,
          59.6,
          26.4,
          42.2,
          69,
          49,
          157,
          76.8,
          62.4,
          62.4,
          39.6,
          52.4,
          58.3,
          52.9,
          52.4,
          15.4,
          22,
          10.3,
          59.6,
          39,
          62,
          25.7,
          25,
          null
         ],
         "xaxis": "x",
         "yaxis": "y"
        }
       ],
       "layout": {
        "barmode": "relative",
        "legend": {
         "tracegroupgap": 0
        },
        "template": {
         "data": {
          "bar": [
           {
            "error_x": {
             "color": "#2a3f5f"
            },
            "error_y": {
             "color": "#2a3f5f"
            },
            "marker": {
             "line": {
              "color": "#E5ECF6",
              "width": 0.5
             },
             "pattern": {
              "fillmode": "overlay",
              "size": 10,
              "solidity": 0.2
             }
            },
            "type": "bar"
           }
          ],
          "barpolar": [
           {
            "marker": {
             "line": {
              "color": "#E5ECF6",
              "width": 0.5
             },
             "pattern": {
              "fillmode": "overlay",
              "size": 10,
              "solidity": 0.2
             }
            },
            "type": "barpolar"
           }
          ],
          "carpet": [
           {
            "aaxis": {
             "endlinecolor": "#2a3f5f",
             "gridcolor": "white",
             "linecolor": "white",
             "minorgridcolor": "white",
             "startlinecolor": "#2a3f5f"
            },
            "baxis": {
             "endlinecolor": "#2a3f5f",
             "gridcolor": "white",
             "linecolor": "white",
             "minorgridcolor": "white",
             "startlinecolor": "#2a3f5f"
            },
            "type": "carpet"
           }
          ],
          "choropleth": [
           {
            "colorbar": {
             "outlinewidth": 0,
             "ticks": ""
            },
            "type": "choropleth"
           }
          ],
          "contour": [
           {
            "colorbar": {
             "outlinewidth": 0,
             "ticks": ""
            },
            "colorscale": [
             [
              0,
              "#0d0887"
             ],
             [
              0.1111111111111111,
              "#46039f"
             ],
             [
              0.2222222222222222,
              "#7201a8"
             ],
             [
              0.3333333333333333,
              "#9c179e"
             ],
             [
              0.4444444444444444,
              "#bd3786"
             ],
             [
              0.5555555555555556,
              "#d8576b"
             ],
             [
              0.6666666666666666,
              "#ed7953"
             ],
             [
              0.7777777777777778,
              "#fb9f3a"
             ],
             [
              0.8888888888888888,
              "#fdca26"
             ],
             [
              1,
              "#f0f921"
             ]
            ],
            "type": "contour"
           }
          ],
          "contourcarpet": [
           {
            "colorbar": {
             "outlinewidth": 0,
             "ticks": ""
            },
            "type": "contourcarpet"
           }
          ],
          "heatmap": [
           {
            "colorbar": {
             "outlinewidth": 0,
             "ticks": ""
            },
            "colorscale": [
             [
              0,
              "#0d0887"
             ],
             [
              0.1111111111111111,
              "#46039f"
             ],
             [
              0.2222222222222222,
              "#7201a8"
             ],
             [
              0.3333333333333333,
              "#9c179e"
             ],
             [
              0.4444444444444444,
              "#bd3786"
             ],
             [
              0.5555555555555556,
              "#d8576b"
             ],
             [
              0.6666666666666666,
              "#ed7953"
             ],
             [
              0.7777777777777778,
              "#fb9f3a"
             ],
             [
              0.8888888888888888,
              "#fdca26"
             ],
             [
              1,
              "#f0f921"
             ]
            ],
            "type": "heatmap"
           }
          ],
          "heatmapgl": [
           {
            "colorbar": {
             "outlinewidth": 0,
             "ticks": ""
            },
            "colorscale": [
             [
              0,
              "#0d0887"
             ],
             [
              0.1111111111111111,
              "#46039f"
             ],
             [
              0.2222222222222222,
              "#7201a8"
             ],
             [
              0.3333333333333333,
              "#9c179e"
             ],
             [
              0.4444444444444444,
              "#bd3786"
             ],
             [
              0.5555555555555556,
              "#d8576b"
             ],
             [
              0.6666666666666666,
              "#ed7953"
             ],
             [
              0.7777777777777778,
              "#fb9f3a"
             ],
             [
              0.8888888888888888,
              "#fdca26"
             ],
             [
              1,
              "#f0f921"
             ]
            ],
            "type": "heatmapgl"
           }
          ],
          "histogram": [
           {
            "marker": {
             "pattern": {
              "fillmode": "overlay",
              "size": 10,
              "solidity": 0.2
             }
            },
            "type": "histogram"
           }
          ],
          "histogram2d": [
           {
            "colorbar": {
             "outlinewidth": 0,
             "ticks": ""
            },
            "colorscale": [
             [
              0,
              "#0d0887"
             ],
             [
              0.1111111111111111,
              "#46039f"
             ],
             [
              0.2222222222222222,
              "#7201a8"
             ],
             [
              0.3333333333333333,
              "#9c179e"
             ],
             [
              0.4444444444444444,
              "#bd3786"
             ],
             [
              0.5555555555555556,
              "#d8576b"
             ],
             [
              0.6666666666666666,
              "#ed7953"
             ],
             [
              0.7777777777777778,
              "#fb9f3a"
             ],
             [
              0.8888888888888888,
              "#fdca26"
             ],
             [
              1,
              "#f0f921"
             ]
            ],
            "type": "histogram2d"
           }
          ],
          "histogram2dcontour": [
           {
            "colorbar": {
             "outlinewidth": 0,
             "ticks": ""
            },
            "colorscale": [
             [
              0,
              "#0d0887"
             ],
             [
              0.1111111111111111,
              "#46039f"
             ],
             [
              0.2222222222222222,
              "#7201a8"
             ],
             [
              0.3333333333333333,
              "#9c179e"
             ],
             [
              0.4444444444444444,
              "#bd3786"
             ],
             [
              0.5555555555555556,
              "#d8576b"
             ],
             [
              0.6666666666666666,
              "#ed7953"
             ],
             [
              0.7777777777777778,
              "#fb9f3a"
             ],
             [
              0.8888888888888888,
              "#fdca26"
             ],
             [
              1,
              "#f0f921"
             ]
            ],
            "type": "histogram2dcontour"
           }
          ],
          "mesh3d": [
           {
            "colorbar": {
             "outlinewidth": 0,
             "ticks": ""
            },
            "type": "mesh3d"
           }
          ],
          "parcoords": [
           {
            "line": {
             "colorbar": {
              "outlinewidth": 0,
              "ticks": ""
             }
            },
            "type": "parcoords"
           }
          ],
          "pie": [
           {
            "automargin": true,
            "type": "pie"
           }
          ],
          "scatter": [
           {
            "fillpattern": {
             "fillmode": "overlay",
             "size": 10,
             "solidity": 0.2
            },
            "type": "scatter"
           }
          ],
          "scatter3d": [
           {
            "line": {
             "colorbar": {
              "outlinewidth": 0,
              "ticks": ""
             }
            },
            "marker": {
             "colorbar": {
              "outlinewidth": 0,
              "ticks": ""
             }
            },
            "type": "scatter3d"
           }
          ],
          "scattercarpet": [
           {
            "marker": {
             "colorbar": {
              "outlinewidth": 0,
              "ticks": ""
             }
            },
            "type": "scattercarpet"
           }
          ],
          "scattergeo": [
           {
            "marker": {
             "colorbar": {
              "outlinewidth": 0,
              "ticks": ""
             }
            },
            "type": "scattergeo"
           }
          ],
          "scattergl": [
           {
            "marker": {
             "colorbar": {
              "outlinewidth": 0,
              "ticks": ""
             }
            },
            "type": "scattergl"
           }
          ],
          "scattermapbox": [
           {
            "marker": {
             "colorbar": {
              "outlinewidth": 0,
              "ticks": ""
             }
            },
            "type": "scattermapbox"
           }
          ],
          "scatterpolar": [
           {
            "marker": {
             "colorbar": {
              "outlinewidth": 0,
              "ticks": ""
             }
            },
            "type": "scatterpolar"
           }
          ],
          "scatterpolargl": [
           {
            "marker": {
             "colorbar": {
              "outlinewidth": 0,
              "ticks": ""
             }
            },
            "type": "scatterpolargl"
           }
          ],
          "scatterternary": [
           {
            "marker": {
             "colorbar": {
              "outlinewidth": 0,
              "ticks": ""
             }
            },
            "type": "scatterternary"
           }
          ],
          "surface": [
           {
            "colorbar": {
             "outlinewidth": 0,
             "ticks": ""
            },
            "colorscale": [
             [
              0,
              "#0d0887"
             ],
             [
              0.1111111111111111,
              "#46039f"
             ],
             [
              0.2222222222222222,
              "#7201a8"
             ],
             [
              0.3333333333333333,
              "#9c179e"
             ],
             [
              0.4444444444444444,
              "#bd3786"
             ],
             [
              0.5555555555555556,
              "#d8576b"
             ],
             [
              0.6666666666666666,
              "#ed7953"
             ],
             [
              0.7777777777777778,
              "#fb9f3a"
             ],
             [
              0.8888888888888888,
              "#fdca26"
             ],
             [
              1,
              "#f0f921"
             ]
            ],
            "type": "surface"
           }
          ],
          "table": [
           {
            "cells": {
             "fill": {
              "color": "#EBF0F8"
             },
             "line": {
              "color": "white"
             }
            },
            "header": {
             "fill": {
              "color": "#C8D4E3"
             },
             "line": {
              "color": "white"
             }
            },
            "type": "table"
           }
          ]
         },
         "layout": {
          "annotationdefaults": {
           "arrowcolor": "#2a3f5f",
           "arrowhead": 0,
           "arrowwidth": 1
          },
          "autotypenumbers": "strict",
          "coloraxis": {
           "colorbar": {
            "outlinewidth": 0,
            "ticks": ""
           }
          },
          "colorscale": {
           "diverging": [
            [
             0,
             "#8e0152"
            ],
            [
             0.1,
             "#c51b7d"
            ],
            [
             0.2,
             "#de77ae"
            ],
            [
             0.3,
             "#f1b6da"
            ],
            [
             0.4,
             "#fde0ef"
            ],
            [
             0.5,
             "#f7f7f7"
            ],
            [
             0.6,
             "#e6f5d0"
            ],
            [
             0.7,
             "#b8e186"
            ],
            [
             0.8,
             "#7fbc41"
            ],
            [
             0.9,
             "#4d9221"
            ],
            [
             1,
             "#276419"
            ]
           ],
           "sequential": [
            [
             0,
             "#0d0887"
            ],
            [
             0.1111111111111111,
             "#46039f"
            ],
            [
             0.2222222222222222,
             "#7201a8"
            ],
            [
             0.3333333333333333,
             "#9c179e"
            ],
            [
             0.4444444444444444,
             "#bd3786"
            ],
            [
             0.5555555555555556,
             "#d8576b"
            ],
            [
             0.6666666666666666,
             "#ed7953"
            ],
            [
             0.7777777777777778,
             "#fb9f3a"
            ],
            [
             0.8888888888888888,
             "#fdca26"
            ],
            [
             1,
             "#f0f921"
            ]
           ],
           "sequentialminus": [
            [
             0,
             "#0d0887"
            ],
            [
             0.1111111111111111,
             "#46039f"
            ],
            [
             0.2222222222222222,
             "#7201a8"
            ],
            [
             0.3333333333333333,
             "#9c179e"
            ],
            [
             0.4444444444444444,
             "#bd3786"
            ],
            [
             0.5555555555555556,
             "#d8576b"
            ],
            [
             0.6666666666666666,
             "#ed7953"
            ],
            [
             0.7777777777777778,
             "#fb9f3a"
            ],
            [
             0.8888888888888888,
             "#fdca26"
            ],
            [
             1,
             "#f0f921"
            ]
           ]
          },
          "colorway": [
           "#636efa",
           "#EF553B",
           "#00cc96",
           "#ab63fa",
           "#FFA15A",
           "#19d3f3",
           "#FF6692",
           "#B6E880",
           "#FF97FF",
           "#FECB52"
          ],
          "font": {
           "color": "#2a3f5f"
          },
          "geo": {
           "bgcolor": "white",
           "lakecolor": "white",
           "landcolor": "#E5ECF6",
           "showlakes": true,
           "showland": true,
           "subunitcolor": "white"
          },
          "hoverlabel": {
           "align": "left"
          },
          "hovermode": "closest",
          "mapbox": {
           "style": "light"
          },
          "paper_bgcolor": "white",
          "plot_bgcolor": "#E5ECF6",
          "polar": {
           "angularaxis": {
            "gridcolor": "white",
            "linecolor": "white",
            "ticks": ""
           },
           "bgcolor": "#E5ECF6",
           "radialaxis": {
            "gridcolor": "white",
            "linecolor": "white",
            "ticks": ""
           }
          },
          "scene": {
           "xaxis": {
            "backgroundcolor": "#E5ECF6",
            "gridcolor": "white",
            "gridwidth": 2,
            "linecolor": "white",
            "showbackground": true,
            "ticks": "",
            "zerolinecolor": "white"
           },
           "yaxis": {
            "backgroundcolor": "#E5ECF6",
            "gridcolor": "white",
            "gridwidth": 2,
            "linecolor": "white",
            "showbackground": true,
            "ticks": "",
            "zerolinecolor": "white"
           },
           "zaxis": {
            "backgroundcolor": "#E5ECF6",
            "gridcolor": "white",
            "gridwidth": 2,
            "linecolor": "white",
            "showbackground": true,
            "ticks": "",
            "zerolinecolor": "white"
           }
          },
          "shapedefaults": {
           "line": {
            "color": "#2a3f5f"
           }
          },
          "ternary": {
           "aaxis": {
            "gridcolor": "white",
            "linecolor": "white",
            "ticks": ""
           },
           "baxis": {
            "gridcolor": "white",
            "linecolor": "white",
            "ticks": ""
           },
           "bgcolor": "#E5ECF6",
           "caxis": {
            "gridcolor": "white",
            "linecolor": "white",
            "ticks": ""
           }
          },
          "title": {
           "x": 0.05
          },
          "xaxis": {
           "automargin": true,
           "gridcolor": "white",
           "linecolor": "white",
           "ticks": "",
           "title": {
            "standoff": 15
           },
           "zerolinecolor": "white",
           "zerolinewidth": 2
          },
          "yaxis": {
           "automargin": true,
           "gridcolor": "white",
           "linecolor": "white",
           "ticks": "",
           "title": {
            "standoff": 15
           },
           "zerolinecolor": "white",
           "zerolinewidth": 2
          }
         }
        },
        "title": {
         "text": "Répartition des Prix"
        },
        "xaxis": {
         "anchor": "y",
         "domain": [
          0,
          1
         ],
         "title": {
          "text": "price"
         }
        },
        "yaxis": {
         "anchor": "x",
         "domain": [
          0,
          1
         ],
         "title": {
          "text": "count"
         }
        }
       }
      }
     },
     "metadata": {},
     "output_type": "display_data"
    }
   ],
   "source": [
    "#Autre méthode avec plotly express\n",
    "px.histogram(df_merge, x='price', title='Répartition des Prix')\n",
    "\n"
   ]
  },
  {
   "cell_type": "markdown",
   "id": "79e2f2eb",
   "metadata": {},
   "source": [
    "<div style=\"border: 1px solid RGB(51,165,182);\" >\n",
    "<h3 style=\"margin: auto; padding: 20px; color: RGB(51,165,182); \">Etape 4.2 - Exploration par l'utisation de méthodes statistique</h3>\n",
    "</div>"
   ]
  },
  {
   "cell_type": "markdown",
   "id": "0735c3b2",
   "metadata": {},
   "source": [
    "<div style=\"border: 1px solid RGB(51,165,182);\" >\n",
    "<h3 style=\"margin: auto; padding: 20px; color: RGB(51,165,182); \">Etape 4.2.1 - Identification par le Z-index</h3>\n",
    "</div>"
   ]
  },
  {
   "cell_type": "code",
   "execution_count": 103,
   "id": "1950ef8d",
   "metadata": {},
   "outputs": [
    {
     "name": "stdout",
     "output_type": "stream",
     "text": [
      "La moyenne du prix est : 32.061784741144415\n",
      "L'écart-type du prix est : 27.313389431560726\n",
      "   price    z_score\n",
      "0   36.0  34.826151\n",
      "1   67.5  66.326151\n",
      "2   44.0  42.826151\n",
      "3   43.0  41.826151\n",
      "4   59.0  57.826151\n"
     ]
    }
   ],
   "source": [
    "#Calculer la moyenne du prix\n",
    "mean_price = df_merge['price'].mean()\n",
    "print(f\"La moyenne du prix est : {mean_price}\")\n",
    "#Calculer l'écart-type du prix\n",
    "std_price = df_merge['price'].std()\n",
    "print(f\"L'écart-type du prix est : {std_price}\")\n",
    "#Calculer le Z-score\n",
    "df_merge['z_score'] = df_merge['price']-mean_price / std_price\n",
    "print(df_merge[['price', 'z_score']].head(5))"
   ]
  },
  {
   "cell_type": "code",
   "execution_count": 132,
   "id": "91d1dabd",
   "metadata": {},
   "outputs": [
    {
     "name": "stdout",
     "output_type": "stream",
     "text": [
      "moyenne Z score 30.887936112013936\n",
      "écart-type Z score 27.313389431560736\n",
      "Seuil pour Z score 85.5147149751354\n"
     ]
    }
   ],
   "source": [
    "mean_z = df_merge['z_score'].mean()\n",
    "print('moyenne Z score',mean_z)\n",
    "std_z = df_merge['z_score'].std()\n",
    "print('écart-type Z score',std_z)\n",
    "Z = mean_z + 2 * std_z\n",
    "print('Seuil pour Z score', Z)"
   ]
  },
  {
   "cell_type": "code",
   "execution_count": 105,
   "id": "9c2f435f",
   "metadata": {},
   "outputs": [
    {
     "data": {
      "text/plain": [
       "5.2"
      ]
     },
     "execution_count": 105,
     "metadata": {},
     "output_type": "execute_result"
    }
   ],
   "source": [
    "#Quel est le seuil prix dont z-score est supérieur à 3?\n",
    "df_merge[df_merge['z_score']>=3]['price'].min()"
   ]
  },
  {
   "cell_type": "code",
   "execution_count": 106,
   "id": "bdeb2e47",
   "metadata": {},
   "outputs": [
    {
     "data": {
      "text/html": [
       "<div>\n",
       "<style scoped>\n",
       "    .dataframe tbody tr th:only-of-type {\n",
       "        vertical-align: middle;\n",
       "    }\n",
       "\n",
       "    .dataframe tbody tr th {\n",
       "        vertical-align: top;\n",
       "    }\n",
       "\n",
       "    .dataframe thead th {\n",
       "        text-align: right;\n",
       "    }\n",
       "</style>\n",
       "<table border=\"1\" class=\"dataframe\">\n",
       "  <thead>\n",
       "    <tr style=\"text-align: right;\">\n",
       "      <th></th>\n",
       "      <th>product_id</th>\n",
       "      <th>onsale_web</th>\n",
       "      <th>price</th>\n",
       "      <th>stock_quantity</th>\n",
       "      <th>stock_status</th>\n",
       "      <th>purchase_price</th>\n",
       "      <th>id_web</th>\n",
       "      <th>sku</th>\n",
       "      <th>total_sales</th>\n",
       "      <th>tax_status</th>\n",
       "      <th>product_type</th>\n",
       "      <th>post_title</th>\n",
       "      <th>post_type</th>\n",
       "      <th>post_mime_type</th>\n",
       "      <th>_merge</th>\n",
       "      <th>z_score</th>\n",
       "    </tr>\n",
       "  </thead>\n",
       "  <tbody>\n",
       "    <tr>\n",
       "      <th>0</th>\n",
       "      <td>5913</td>\n",
       "      <td>1.0</td>\n",
       "      <td>36.0</td>\n",
       "      <td>7.0</td>\n",
       "      <td>instock</td>\n",
       "      <td>17.16</td>\n",
       "      <td>10014</td>\n",
       "      <td>10014</td>\n",
       "      <td>10.0</td>\n",
       "      <td>taxable</td>\n",
       "      <td>Gin</td>\n",
       "      <td>Darnley's London Dry Gin Original</td>\n",
       "      <td>product</td>\n",
       "      <td>NaN</td>\n",
       "      <td>both</td>\n",
       "      <td>34.826151</td>\n",
       "    </tr>\n",
       "    <tr>\n",
       "      <th>1</th>\n",
       "      <td>4617</td>\n",
       "      <td>1.0</td>\n",
       "      <td>67.5</td>\n",
       "      <td>6.0</td>\n",
       "      <td>instock</td>\n",
       "      <td>35.57</td>\n",
       "      <td>10459</td>\n",
       "      <td>10459</td>\n",
       "      <td>4.0</td>\n",
       "      <td>taxable</td>\n",
       "      <td>Vin</td>\n",
       "      <td>Alphonse Mellot Sancerre Rouge Génération XIX ...</td>\n",
       "      <td>product</td>\n",
       "      <td>NaN</td>\n",
       "      <td>both</td>\n",
       "      <td>66.326151</td>\n",
       "    </tr>\n",
       "    <tr>\n",
       "      <th>2</th>\n",
       "      <td>4709</td>\n",
       "      <td>1.0</td>\n",
       "      <td>44.0</td>\n",
       "      <td>7.0</td>\n",
       "      <td>instock</td>\n",
       "      <td>22.05</td>\n",
       "      <td>10775</td>\n",
       "      <td>10775</td>\n",
       "      <td>6.0</td>\n",
       "      <td>taxable</td>\n",
       "      <td>Vin</td>\n",
       "      <td>Albert Mann Pinot Gris Vendanges Tardives Alte...</td>\n",
       "      <td>product</td>\n",
       "      <td>NaN</td>\n",
       "      <td>both</td>\n",
       "      <td>42.826151</td>\n",
       "    </tr>\n",
       "    <tr>\n",
       "      <th>3</th>\n",
       "      <td>4656</td>\n",
       "      <td>1.0</td>\n",
       "      <td>43.0</td>\n",
       "      <td>13.0</td>\n",
       "      <td>instock</td>\n",
       "      <td>22.88</td>\n",
       "      <td>10814</td>\n",
       "      <td>10814</td>\n",
       "      <td>7.0</td>\n",
       "      <td>taxable</td>\n",
       "      <td>Vin</td>\n",
       "      <td>Thierry Germain Saumur-Champigny Outre Terre 2013</td>\n",
       "      <td>product</td>\n",
       "      <td>NaN</td>\n",
       "      <td>both</td>\n",
       "      <td>41.826151</td>\n",
       "    </tr>\n",
       "    <tr>\n",
       "      <th>4</th>\n",
       "      <td>4619</td>\n",
       "      <td>1.0</td>\n",
       "      <td>59.0</td>\n",
       "      <td>8.0</td>\n",
       "      <td>instock</td>\n",
       "      <td>32.01</td>\n",
       "      <td>11049</td>\n",
       "      <td>11049</td>\n",
       "      <td>4.0</td>\n",
       "      <td>taxable</td>\n",
       "      <td>Vin</td>\n",
       "      <td>Alphonse Mellot Sancerre Rouge En Grands Champ...</td>\n",
       "      <td>product</td>\n",
       "      <td>NaN</td>\n",
       "      <td>both</td>\n",
       "      <td>57.826151</td>\n",
       "    </tr>\n",
       "    <tr>\n",
       "      <th>...</th>\n",
       "      <td>...</td>\n",
       "      <td>...</td>\n",
       "      <td>...</td>\n",
       "      <td>...</td>\n",
       "      <td>...</td>\n",
       "      <td>...</td>\n",
       "      <td>...</td>\n",
       "      <td>...</td>\n",
       "      <td>...</td>\n",
       "      <td>...</td>\n",
       "      <td>...</td>\n",
       "      <td>...</td>\n",
       "      <td>...</td>\n",
       "      <td>...</td>\n",
       "      <td>...</td>\n",
       "      <td>...</td>\n",
       "    </tr>\n",
       "    <tr>\n",
       "      <th>729</th>\n",
       "      <td>5574</td>\n",
       "      <td>1.0</td>\n",
       "      <td>59.6</td>\n",
       "      <td>2.0</td>\n",
       "      <td>instock</td>\n",
       "      <td>30.18</td>\n",
       "      <td>8463</td>\n",
       "      <td>8463</td>\n",
       "      <td>2.0</td>\n",
       "      <td>taxable</td>\n",
       "      <td>Vin</td>\n",
       "      <td>Domaine Huet Vouvray Le Mont Moelleux Première...</td>\n",
       "      <td>product</td>\n",
       "      <td>NaN</td>\n",
       "      <td>both</td>\n",
       "      <td>58.426151</td>\n",
       "    </tr>\n",
       "    <tr>\n",
       "      <th>730</th>\n",
       "      <td>4357</td>\n",
       "      <td>1.0</td>\n",
       "      <td>39.0</td>\n",
       "      <td>115.0</td>\n",
       "      <td>instock</td>\n",
       "      <td>22.30</td>\n",
       "      <td>9562</td>\n",
       "      <td>9562</td>\n",
       "      <td>5.0</td>\n",
       "      <td>taxable</td>\n",
       "      <td>Champagne</td>\n",
       "      <td>Champagne Larmandier-Bernier Latitude</td>\n",
       "      <td>product</td>\n",
       "      <td>NaN</td>\n",
       "      <td>both</td>\n",
       "      <td>37.826151</td>\n",
       "    </tr>\n",
       "    <tr>\n",
       "      <th>731</th>\n",
       "      <td>4396</td>\n",
       "      <td>1.0</td>\n",
       "      <td>62.0</td>\n",
       "      <td>0.0</td>\n",
       "      <td>outofstock</td>\n",
       "      <td>28.42</td>\n",
       "      <td>9636</td>\n",
       "      <td>9636</td>\n",
       "      <td>0.0</td>\n",
       "      <td>taxable</td>\n",
       "      <td>Whisky</td>\n",
       "      <td>Wemyss Malts Blended Malt Scotch Whisky The Hi...</td>\n",
       "      <td>product</td>\n",
       "      <td>NaN</td>\n",
       "      <td>both</td>\n",
       "      <td>60.826151</td>\n",
       "    </tr>\n",
       "    <tr>\n",
       "      <th>732</th>\n",
       "      <td>4932</td>\n",
       "      <td>1.0</td>\n",
       "      <td>25.7</td>\n",
       "      <td>5.0</td>\n",
       "      <td>instock</td>\n",
       "      <td>12.75</td>\n",
       "      <td>9937</td>\n",
       "      <td>9937</td>\n",
       "      <td>2.0</td>\n",
       "      <td>taxable</td>\n",
       "      <td>Vin</td>\n",
       "      <td>Marcel Richaud Cairanne Rouge Les Estrambords ...</td>\n",
       "      <td>product</td>\n",
       "      <td>NaN</td>\n",
       "      <td>both</td>\n",
       "      <td>24.526151</td>\n",
       "    </tr>\n",
       "    <tr>\n",
       "      <th>733</th>\n",
       "      <td>4954</td>\n",
       "      <td>1.0</td>\n",
       "      <td>25.0</td>\n",
       "      <td>23.0</td>\n",
       "      <td>instock</td>\n",
       "      <td>13.30</td>\n",
       "      <td>bon-cadeau-25-euros</td>\n",
       "      <td>bon-cadeau-25-euros</td>\n",
       "      <td>7.0</td>\n",
       "      <td>taxable</td>\n",
       "      <td>NaN</td>\n",
       "      <td>Bon cadeau de 25€</td>\n",
       "      <td>product</td>\n",
       "      <td>NaN</td>\n",
       "      <td>both</td>\n",
       "      <td>23.826151</td>\n",
       "    </tr>\n",
       "  </tbody>\n",
       "</table>\n",
       "<p>734 rows × 16 columns</p>\n",
       "</div>"
      ],
      "text/plain": [
       "    product_id  onsale_web  price  stock_quantity stock_status  \\\n",
       "0         5913         1.0   36.0             7.0      instock   \n",
       "1         4617         1.0   67.5             6.0      instock   \n",
       "2         4709         1.0   44.0             7.0      instock   \n",
       "3         4656         1.0   43.0            13.0      instock   \n",
       "4         4619         1.0   59.0             8.0      instock   \n",
       "..         ...         ...    ...             ...          ...   \n",
       "729       5574         1.0   59.6             2.0      instock   \n",
       "730       4357         1.0   39.0           115.0      instock   \n",
       "731       4396         1.0   62.0             0.0   outofstock   \n",
       "732       4932         1.0   25.7             5.0      instock   \n",
       "733       4954         1.0   25.0            23.0      instock   \n",
       "\n",
       "     purchase_price               id_web                  sku  total_sales  \\\n",
       "0             17.16                10014                10014         10.0   \n",
       "1             35.57                10459                10459          4.0   \n",
       "2             22.05                10775                10775          6.0   \n",
       "3             22.88                10814                10814          7.0   \n",
       "4             32.01                11049                11049          4.0   \n",
       "..              ...                  ...                  ...          ...   \n",
       "729           30.18                 8463                 8463          2.0   \n",
       "730           22.30                 9562                 9562          5.0   \n",
       "731           28.42                 9636                 9636          0.0   \n",
       "732           12.75                 9937                 9937          2.0   \n",
       "733           13.30  bon-cadeau-25-euros  bon-cadeau-25-euros          7.0   \n",
       "\n",
       "    tax_status product_type  \\\n",
       "0      taxable          Gin   \n",
       "1      taxable          Vin   \n",
       "2      taxable          Vin   \n",
       "3      taxable          Vin   \n",
       "4      taxable          Vin   \n",
       "..         ...          ...   \n",
       "729    taxable          Vin   \n",
       "730    taxable    Champagne   \n",
       "731    taxable       Whisky   \n",
       "732    taxable          Vin   \n",
       "733    taxable          NaN   \n",
       "\n",
       "                                            post_title post_type  \\\n",
       "0                    Darnley's London Dry Gin Original   product   \n",
       "1    Alphonse Mellot Sancerre Rouge Génération XIX ...   product   \n",
       "2    Albert Mann Pinot Gris Vendanges Tardives Alte...   product   \n",
       "3    Thierry Germain Saumur-Champigny Outre Terre 2013   product   \n",
       "4    Alphonse Mellot Sancerre Rouge En Grands Champ...   product   \n",
       "..                                                 ...       ...   \n",
       "729  Domaine Huet Vouvray Le Mont Moelleux Première...   product   \n",
       "730              Champagne Larmandier-Bernier Latitude   product   \n",
       "731  Wemyss Malts Blended Malt Scotch Whisky The Hi...   product   \n",
       "732  Marcel Richaud Cairanne Rouge Les Estrambords ...   product   \n",
       "733                                  Bon cadeau de 25€   product   \n",
       "\n",
       "    post_mime_type _merge    z_score  \n",
       "0              NaN   both  34.826151  \n",
       "1              NaN   both  66.326151  \n",
       "2              NaN   both  42.826151  \n",
       "3              NaN   both  41.826151  \n",
       "4              NaN   both  57.826151  \n",
       "..             ...    ...        ...  \n",
       "729            NaN   both  58.426151  \n",
       "730            NaN   both  37.826151  \n",
       "731            NaN   both  60.826151  \n",
       "732            NaN   both  24.526151  \n",
       "733            NaN   both  23.826151  \n",
       "\n",
       "[734 rows x 16 columns]"
      ]
     },
     "execution_count": 106,
     "metadata": {},
     "output_type": "execute_result"
    }
   ],
   "source": [
    "df_merge[df_merge['z_score']>=3]"
   ]
  },
  {
   "cell_type": "markdown",
   "id": "750f54f3",
   "metadata": {},
   "source": [
    "<div style=\"border: 1px solid RGB(51,165,182);\" >\n",
    "<h3 style=\"margin: auto; padding: 20px; color: RGB(51,165,182); \">Etape 4.2.2 - Identification par l'interval interquartile</h3>\n",
    "</div>"
   ]
  },
  {
   "cell_type": "code",
   "execution_count": 107,
   "id": "6c0db8c0",
   "metadata": {},
   "outputs": [
    {
     "data": {
      "text/html": [
       "<div>\n",
       "<style scoped>\n",
       "    .dataframe tbody tr th:only-of-type {\n",
       "        vertical-align: middle;\n",
       "    }\n",
       "\n",
       "    .dataframe tbody tr th {\n",
       "        vertical-align: top;\n",
       "    }\n",
       "\n",
       "    .dataframe thead th {\n",
       "        text-align: right;\n",
       "    }\n",
       "</style>\n",
       "<table border=\"1\" class=\"dataframe\">\n",
       "  <thead>\n",
       "    <tr style=\"text-align: right;\">\n",
       "      <th></th>\n",
       "      <th>onsale_web</th>\n",
       "      <th>price</th>\n",
       "      <th>stock_quantity</th>\n",
       "      <th>purchase_price</th>\n",
       "      <th>total_sales</th>\n",
       "      <th>z_score</th>\n",
       "    </tr>\n",
       "  </thead>\n",
       "  <tbody>\n",
       "    <tr>\n",
       "      <th>count</th>\n",
       "      <td>734.000000</td>\n",
       "      <td>734.000000</td>\n",
       "      <td>734.0000</td>\n",
       "      <td>734.000000</td>\n",
       "      <td>715.000000</td>\n",
       "      <td>734.000000</td>\n",
       "    </tr>\n",
       "    <tr>\n",
       "      <th>mean</th>\n",
       "      <td>0.971390</td>\n",
       "      <td>32.061785</td>\n",
       "      <td>22.8297</td>\n",
       "      <td>16.763038</td>\n",
       "      <td>7.965035</td>\n",
       "      <td>30.887936</td>\n",
       "    </tr>\n",
       "    <tr>\n",
       "      <th>std</th>\n",
       "      <td>0.166822</td>\n",
       "      <td>27.313389</td>\n",
       "      <td>22.2269</td>\n",
       "      <td>14.668752</td>\n",
       "      <td>4.799061</td>\n",
       "      <td>27.313389</td>\n",
       "    </tr>\n",
       "    <tr>\n",
       "      <th>min</th>\n",
       "      <td>0.000000</td>\n",
       "      <td>5.200000</td>\n",
       "      <td>0.0000</td>\n",
       "      <td>2.740000</td>\n",
       "      <td>-56.000000</td>\n",
       "      <td>4.026151</td>\n",
       "    </tr>\n",
       "    <tr>\n",
       "      <th>25%</th>\n",
       "      <td>1.000000</td>\n",
       "      <td>14.062500</td>\n",
       "      <td>8.0000</td>\n",
       "      <td>7.247500</td>\n",
       "      <td>5.000000</td>\n",
       "      <td>12.888651</td>\n",
       "    </tr>\n",
       "    <tr>\n",
       "      <th>50%</th>\n",
       "      <td>1.000000</td>\n",
       "      <td>23.300000</td>\n",
       "      <td>19.0000</td>\n",
       "      <td>12.180000</td>\n",
       "      <td>8.000000</td>\n",
       "      <td>22.126151</td>\n",
       "    </tr>\n",
       "    <tr>\n",
       "      <th>75%</th>\n",
       "      <td>1.000000</td>\n",
       "      <td>41.800000</td>\n",
       "      <td>30.0000</td>\n",
       "      <td>22.010000</td>\n",
       "      <td>11.000000</td>\n",
       "      <td>40.626151</td>\n",
       "    </tr>\n",
       "    <tr>\n",
       "      <th>max</th>\n",
       "      <td>1.000000</td>\n",
       "      <td>225.000000</td>\n",
       "      <td>145.0000</td>\n",
       "      <td>137.810000</td>\n",
       "      <td>36.000000</td>\n",
       "      <td>223.826151</td>\n",
       "    </tr>\n",
       "  </tbody>\n",
       "</table>\n",
       "</div>"
      ],
      "text/plain": [
       "       onsale_web       price  stock_quantity  purchase_price  total_sales  \\\n",
       "count  734.000000  734.000000        734.0000      734.000000   715.000000   \n",
       "mean     0.971390   32.061785         22.8297       16.763038     7.965035   \n",
       "std      0.166822   27.313389         22.2269       14.668752     4.799061   \n",
       "min      0.000000    5.200000          0.0000        2.740000   -56.000000   \n",
       "25%      1.000000   14.062500          8.0000        7.247500     5.000000   \n",
       "50%      1.000000   23.300000         19.0000       12.180000     8.000000   \n",
       "75%      1.000000   41.800000         30.0000       22.010000    11.000000   \n",
       "max      1.000000  225.000000        145.0000      137.810000    36.000000   \n",
       "\n",
       "          z_score  \n",
       "count  734.000000  \n",
       "mean    30.887936  \n",
       "std     27.313389  \n",
       "min      4.026151  \n",
       "25%     12.888651  \n",
       "50%     22.126151  \n",
       "75%     40.626151  \n",
       "max    223.826151  "
      ]
     },
     "execution_count": 107,
     "metadata": {},
     "output_type": "execute_result"
    }
   ],
   "source": [
    "#Utilisation de la fonction describe de Pandas pour l'etude des mesures de dispersions\n",
    "df_merge.describe()"
   ]
  },
  {
   "cell_type": "code",
   "execution_count": 108,
   "id": "2cf85704",
   "metadata": {},
   "outputs": [
    {
     "data": {
      "text/plain": [
       "nan"
      ]
     },
     "execution_count": 108,
     "metadata": {},
     "output_type": "execute_result"
    }
   ],
   "source": [
    "#Quel est le seuil prix dont z-score est inferieur à 3?\n",
    "df_merge[df_merge['z_score']<3]['price'].min()"
   ]
  },
  {
   "cell_type": "code",
   "execution_count": 109,
   "id": "0bab7d5d",
   "metadata": {},
   "outputs": [
    {
     "data": {
      "text/html": [
       "<div>\n",
       "<style scoped>\n",
       "    .dataframe tbody tr th:only-of-type {\n",
       "        vertical-align: middle;\n",
       "    }\n",
       "\n",
       "    .dataframe tbody tr th {\n",
       "        vertical-align: top;\n",
       "    }\n",
       "\n",
       "    .dataframe thead th {\n",
       "        text-align: right;\n",
       "    }\n",
       "</style>\n",
       "<table border=\"1\" class=\"dataframe\">\n",
       "  <thead>\n",
       "    <tr style=\"text-align: right;\">\n",
       "      <th></th>\n",
       "      <th>onsale_web</th>\n",
       "      <th>price</th>\n",
       "      <th>stock_quantity</th>\n",
       "      <th>purchase_price</th>\n",
       "      <th>total_sales</th>\n",
       "      <th>z_score</th>\n",
       "    </tr>\n",
       "  </thead>\n",
       "  <tbody>\n",
       "    <tr>\n",
       "      <th>count</th>\n",
       "      <td>734.000000</td>\n",
       "      <td>734.000000</td>\n",
       "      <td>734.0000</td>\n",
       "      <td>734.000000</td>\n",
       "      <td>714.000000</td>\n",
       "      <td>734.000000</td>\n",
       "    </tr>\n",
       "    <tr>\n",
       "      <th>mean</th>\n",
       "      <td>0.971390</td>\n",
       "      <td>32.061785</td>\n",
       "      <td>22.8297</td>\n",
       "      <td>16.763038</td>\n",
       "      <td>8.054622</td>\n",
       "      <td>30.887936</td>\n",
       "    </tr>\n",
       "    <tr>\n",
       "      <th>std</th>\n",
       "      <td>0.166822</td>\n",
       "      <td>27.313389</td>\n",
       "      <td>22.2269</td>\n",
       "      <td>14.668752</td>\n",
       "      <td>4.161344</td>\n",
       "      <td>27.313389</td>\n",
       "    </tr>\n",
       "    <tr>\n",
       "      <th>min</th>\n",
       "      <td>0.000000</td>\n",
       "      <td>5.200000</td>\n",
       "      <td>0.0000</td>\n",
       "      <td>2.740000</td>\n",
       "      <td>0.000000</td>\n",
       "      <td>4.026151</td>\n",
       "    </tr>\n",
       "    <tr>\n",
       "      <th>25%</th>\n",
       "      <td>1.000000</td>\n",
       "      <td>14.062500</td>\n",
       "      <td>8.0000</td>\n",
       "      <td>7.247500</td>\n",
       "      <td>5.000000</td>\n",
       "      <td>12.888651</td>\n",
       "    </tr>\n",
       "    <tr>\n",
       "      <th>50%</th>\n",
       "      <td>1.000000</td>\n",
       "      <td>23.300000</td>\n",
       "      <td>19.0000</td>\n",
       "      <td>12.180000</td>\n",
       "      <td>8.000000</td>\n",
       "      <td>22.126151</td>\n",
       "    </tr>\n",
       "    <tr>\n",
       "      <th>75%</th>\n",
       "      <td>1.000000</td>\n",
       "      <td>41.800000</td>\n",
       "      <td>30.0000</td>\n",
       "      <td>22.010000</td>\n",
       "      <td>11.000000</td>\n",
       "      <td>40.626151</td>\n",
       "    </tr>\n",
       "    <tr>\n",
       "      <th>max</th>\n",
       "      <td>1.000000</td>\n",
       "      <td>225.000000</td>\n",
       "      <td>145.0000</td>\n",
       "      <td>137.810000</td>\n",
       "      <td>36.000000</td>\n",
       "      <td>223.826151</td>\n",
       "    </tr>\n",
       "  </tbody>\n",
       "</table>\n",
       "</div>"
      ],
      "text/plain": [
       "       onsale_web       price  stock_quantity  purchase_price  total_sales  \\\n",
       "count  734.000000  734.000000        734.0000      734.000000   714.000000   \n",
       "mean     0.971390   32.061785         22.8297       16.763038     8.054622   \n",
       "std      0.166822   27.313389         22.2269       14.668752     4.161344   \n",
       "min      0.000000    5.200000          0.0000        2.740000     0.000000   \n",
       "25%      1.000000   14.062500          8.0000        7.247500     5.000000   \n",
       "50%      1.000000   23.300000         19.0000       12.180000     8.000000   \n",
       "75%      1.000000   41.800000         30.0000       22.010000    11.000000   \n",
       "max      1.000000  225.000000        145.0000      137.810000    36.000000   \n",
       "\n",
       "          z_score  \n",
       "count  734.000000  \n",
       "mean    30.887936  \n",
       "std     27.313389  \n",
       "min      4.026151  \n",
       "25%     12.888651  \n",
       "50%     22.126151  \n",
       "75%     40.626151  \n",
       "max    223.826151  "
      ]
     },
     "execution_count": 109,
     "metadata": {},
     "output_type": "execute_result"
    }
   ],
   "source": [
    "out_price = (df_merge[(df_merge['z_score'] > 3) | (df_merge['z_score'] < -3)])\n",
    "out_price.describe()"
   ]
  },
  {
   "cell_type": "code",
   "execution_count": 112,
   "id": "a458ca14",
   "metadata": {},
   "outputs": [
    {
     "data": {
      "text/plain": [
       "'Avec la moethode IQR par exemple : \\nLimite inférieure : \\n𝑄1−1.5×𝐼𝑄𝑅Q1−1.5×IQR\\nLimite supérieure : \\n𝑄3+1.5×𝐼𝑄𝑅Q3+1.5×IQR'"
      ]
     },
     "execution_count": 112,
     "metadata": {},
     "output_type": "execute_result"
    }
   ],
   "source": [
    "#Définissez un seuil pour les articles \"outliers\" en prix\n",
    "\"\"\"Avec la moethode IQR par exemple : \n",
    "Limite inférieure : \n",
    "𝑄1−1.5×𝐼𝑄𝑅Q1−1.5×IQR\n",
    "Limite supérieure : \n",
    "𝑄3+1.5×𝐼𝑄𝑅Q3+1.5×IQR\"\"\""
   ]
  },
  {
   "cell_type": "code",
   "execution_count": 113,
   "id": "7d05cde7",
   "metadata": {},
   "outputs": [
    {
     "name": "stdout",
     "output_type": "stream",
     "text": [
      "Articles considérés comme outliers en termes de prix :\n",
      "    product_id  onsale_web  price  stock_quantity stock_status  \\\n",
      "0         5913         1.0   36.0             7.0      instock   \n",
      "1         4617         1.0   67.5             6.0      instock   \n",
      "2         4709         1.0   44.0             7.0      instock   \n",
      "3         4656         1.0   43.0            13.0      instock   \n",
      "4         4619         1.0   59.0             8.0      instock   \n",
      "..         ...         ...    ...             ...          ...   \n",
      "729       5574         1.0   59.6             2.0      instock   \n",
      "730       4357         1.0   39.0           115.0      instock   \n",
      "731       4396         1.0   62.0             0.0   outofstock   \n",
      "732       4932         1.0   25.7             5.0      instock   \n",
      "733       4954         1.0   25.0            23.0      instock   \n",
      "\n",
      "     purchase_price               id_web                  sku  total_sales  \\\n",
      "0             17.16                10014                10014         10.0   \n",
      "1             35.57                10459                10459          4.0   \n",
      "2             22.05                10775                10775          6.0   \n",
      "3             22.88                10814                10814          7.0   \n",
      "4             32.01                11049                11049          4.0   \n",
      "..              ...                  ...                  ...          ...   \n",
      "729           30.18                 8463                 8463          2.0   \n",
      "730           22.30                 9562                 9562          5.0   \n",
      "731           28.42                 9636                 9636          0.0   \n",
      "732           12.75                 9937                 9937          2.0   \n",
      "733           13.30  bon-cadeau-25-euros  bon-cadeau-25-euros          7.0   \n",
      "\n",
      "    tax_status product_type  \\\n",
      "0      taxable          Gin   \n",
      "1      taxable          Vin   \n",
      "2      taxable          Vin   \n",
      "3      taxable          Vin   \n",
      "4      taxable          Vin   \n",
      "..         ...          ...   \n",
      "729    taxable          Vin   \n",
      "730    taxable    Champagne   \n",
      "731    taxable       Whisky   \n",
      "732    taxable          Vin   \n",
      "733    taxable          NaN   \n",
      "\n",
      "                                            post_title post_type  \\\n",
      "0                    Darnley's London Dry Gin Original   product   \n",
      "1    Alphonse Mellot Sancerre Rouge Génération XIX ...   product   \n",
      "2    Albert Mann Pinot Gris Vendanges Tardives Alte...   product   \n",
      "3    Thierry Germain Saumur-Champigny Outre Terre 2013   product   \n",
      "4    Alphonse Mellot Sancerre Rouge En Grands Champ...   product   \n",
      "..                                                 ...       ...   \n",
      "729  Domaine Huet Vouvray Le Mont Moelleux Première...   product   \n",
      "730              Champagne Larmandier-Bernier Latitude   product   \n",
      "731  Wemyss Malts Blended Malt Scotch Whisky The Hi...   product   \n",
      "732  Marcel Richaud Cairanne Rouge Les Estrambords ...   product   \n",
      "733                                  Bon cadeau de 25€   product   \n",
      "\n",
      "    post_mime_type _merge    z_score  \n",
      "0              NaN   both  34.826151  \n",
      "1              NaN   both  66.326151  \n",
      "2              NaN   both  42.826151  \n",
      "3              NaN   both  41.826151  \n",
      "4              NaN   both  57.826151  \n",
      "..             ...    ...        ...  \n",
      "729            NaN   both  58.426151  \n",
      "730            NaN   both  37.826151  \n",
      "731            NaN   both  60.826151  \n",
      "732            NaN   both  24.526151  \n",
      "733            NaN   both  23.826151  \n",
      "\n",
      "[734 rows x 16 columns]\n",
      "       onsale_web       price  stock_quantity  purchase_price  total_sales  \\\n",
      "count  734.000000  734.000000        734.0000      734.000000   714.000000   \n",
      "mean     0.971390   32.061785         22.8297       16.763038     8.054622   \n",
      "std      0.166822   27.313389         22.2269       14.668752     4.161344   \n",
      "min      0.000000    5.200000          0.0000        2.740000     0.000000   \n",
      "25%      1.000000   14.062500          8.0000        7.247500     5.000000   \n",
      "50%      1.000000   23.300000         19.0000       12.180000     8.000000   \n",
      "75%      1.000000   41.800000         30.0000       22.010000    11.000000   \n",
      "max      1.000000  225.000000        145.0000      137.810000    36.000000   \n",
      "\n",
      "          z_score  \n",
      "count  734.000000  \n",
      "mean    30.887936  \n",
      "std     27.313389  \n",
      "min      4.026151  \n",
      "25%     12.888651  \n",
      "50%     22.126151  \n",
      "75%     40.626151  \n",
      "max    223.826151  \n"
     ]
    }
   ],
   "source": [
    "#Définissez le nombre d'articles et la proportion de l'ensemble du catalogue \"outliers\"\n",
    "# Définir le seuil pour les outliers\n",
    "outlier_par = 3\n",
    "\n",
    "# Filtrer les prix dont le Z-score est supérieur au seuil ou inférieur à -seuil\n",
    "outliers = df_merge[(df_merge['z_score'] > outlier_par) | (df_merge['z_score'] < -outlier_par)]\n",
    "\n",
    "# Afficher les outliers\n",
    "print(\"Articles considérés comme outliers en termes de prix :\")\n",
    "print(outliers)\n",
    "print(outliers.describe())"
   ]
  },
  {
   "cell_type": "code",
   "execution_count": 133,
   "id": "93012ff9",
   "metadata": {},
   "outputs": [
    {
     "name": "stdout",
     "output_type": "stream",
     "text": [
      "Articles considérés comme outliers en termes de prix :\n",
      "    product_id  onsale_web  price  stock_quantity stock_status  \\\n",
      "12        6214         1.0   99.0             9.0      instock   \n",
      "13        5008         1.0  105.0            12.0      instock   \n",
      "15        4132         1.0   88.4             7.0      instock   \n",
      "46        6215         1.0  115.0            14.0      instock   \n",
      "47        5007         1.0  105.0            15.0      instock   \n",
      "48        4582         1.0  109.6            18.0      instock   \n",
      "112       5026         1.0   86.8           101.0      instock   \n",
      "113       5025         1.0  112.0           136.0      instock   \n",
      "120       6212         1.0  115.0            16.0      instock   \n",
      "134       4904         1.0  137.0             9.0      instock   \n",
      "167       5001         1.0  217.5            18.0      instock   \n",
      "168       6201         1.0  105.6            16.0      instock   \n",
      "197       5918         1.0  114.0            12.0      instock   \n",
      "198       5916         1.0   93.0             1.0      instock   \n",
      "199       5917         1.0  122.0            12.0      instock   \n",
      "204       4903         1.0  102.3            12.0      instock   \n",
      "220       5612         1.0  124.8            19.0      instock   \n",
      "221       6126         1.0  135.0           138.0      instock   \n",
      "233       5892         1.0  191.3            98.0      instock   \n",
      "245       6216         1.0  121.0            14.0      instock   \n",
      "246       6213         1.0  121.0             9.0      instock   \n",
      "255       6202         1.0  116.4            12.0      instock   \n",
      "277       5767         1.0  175.0            12.0      instock   \n",
      "334       4115         1.0  100.0            12.0      instock   \n",
      "531       4352         1.0  225.0             0.0   outofstock   \n",
      "695       5565         1.0   92.0             0.0   outofstock   \n",
      "702       4404         1.0  108.5            17.0      instock   \n",
      "703       4407         1.0  104.0            14.0      instock   \n",
      "704       4402         1.0  176.0            11.0      instock   \n",
      "717       4406         1.0  157.0            12.0      instock   \n",
      "\n",
      "     purchase_price id_web    sku  total_sales tax_status  ...  \\\n",
      "12            49.62  11601  11601          6.0    taxable  ...   \n",
      "13            56.42  11602  11602          7.0    taxable  ...   \n",
      "15            44.30  11668  11668          5.0    taxable  ...   \n",
      "46            56.45  12790  12790          4.0    taxable  ...   \n",
      "47            55.88  12791  12791          3.0    taxable  ...   \n",
      "48            53.80  12857  12857          1.0    taxable  ...   \n",
      "112           50.13  13913  13913          9.0    taxable  ...   \n",
      "113           68.60  13914  13914          6.0    taxable  ...   \n",
      "120           59.42  13996  13996          7.0    taxable  ...   \n",
      "134           67.95  14220  14220          3.0    taxable  ...   \n",
      "167          116.87  14581  14581          2.0    taxable  ...   \n",
      "168           57.29  14596  14596          6.0    taxable  ...   \n",
      "197           52.25  14773  14773          3.0    taxable  ...   \n",
      "198           40.49  14774  14774          1.0    taxable  ...   \n",
      "199           54.24  14775  14775          3.0    taxable  ...   \n",
      "204           51.80  14805  14805          2.0    taxable  ...   \n",
      "220           66.41  14915  14915          1.0    taxable  ...   \n",
      "221           80.33  14923  14923          5.0    taxable  ...   \n",
      "233          116.06  14983  14983          6.0    taxable  ...   \n",
      "245           60.02  15070  15070          2.0    taxable  ...   \n",
      "246           63.14  15072  15072          3.0    taxable  ...   \n",
      "255           63.15  15126  15126          5.0    taxable  ...   \n",
      "277           90.42  15185  15185          4.0    taxable  ...   \n",
      "334           52.70  15382  15382          1.0    taxable  ...   \n",
      "531          137.81  15940  15940         11.0    taxable  ...   \n",
      "695           46.11  19822  19822          1.0    taxable  ...   \n",
      "702           52.22   3507   3507          4.0    taxable  ...   \n",
      "703           46.71   3509   3509          5.0    taxable  ...   \n",
      "704           78.25   3510   3510          3.0    taxable  ...   \n",
      "717           69.08   7819   7819          4.0    taxable  ...   \n",
      "\n",
      "                                            post_title post_type  \\\n",
      "12   Domaine des Comtes Lafon Volnay 1er Cru Champa...   product   \n",
      "13   Domaine des Comtes Lafon Volnay 1er Cru Santen...   product   \n",
      "15   Zind-Humbrecht Pinot Gris Grand Cru Rangen De ...   product   \n",
      "46   Domaine des Comtes Lafon Volnay 1er Cru Champa...   product   \n",
      "47   Domaine des Comtes Lafon Volnay 1er Cru Santen...   product   \n",
      "48   Château de Meursault Puligny-Montrachet 1er Cr...   product   \n",
      "112  Champagne Agrapart &amp; Fils Minéral Extra Br...   product   \n",
      "113  Champagne Agrapart &amp; Fils L'Avizoise Extra...   product   \n",
      "120  Domaine des Comtes Lafon Volnay 1er Cru Santen...   product   \n",
      "134  Domaine Des Croix Corton Charlemagne Grand Cru...   product   \n",
      "167     David Duband Charmes-Chambertin Grand Cru 2014   product   \n",
      "168  David Duband Chambolle-Musigny 1er Cru Les Sen...   product   \n",
      "197  Wemyss Malts Single Cask Scotch Whisky Chai Ca...   product   \n",
      "198  Wemyss Malts Single Cask Scotch Whisky Chocola...   product   \n",
      "199  Wemyss Malts Single Cask Scotch Whisky Choc 'n...   product   \n",
      "204  Domaine Des Croix Corton Grand Cru Les Grèves ...   product   \n",
      "220  Domaine Weinbach Gewurztraminer Grand Cru Furs...   product   \n",
      "221             Champagne Gosset Célébris Vintage 2007   product   \n",
      "233  Coteaux Champenois Egly-Ouriet Ambonnay Rouge ...   product   \n",
      "245  Domaine des Comtes Lafon Volnay 1er Cru Champa...   product   \n",
      "246  Domaine des Comtes Lafon Volnay 1er Cru Santen...   product   \n",
      "255  Domaine Clerget Echezeaux Grand Cru En Orveaux...   product   \n",
      "277                Camille Giroud Clos de Vougeot 2016   product   \n",
      "334  Zind-Humbrecht Riesling Grand Cru Rangen De Th...   product   \n",
      "531     Champagne Egly-Ouriet Grand Cru Millésimé 2008   product   \n",
      "695                      Tempier Bandol Cabassaou 2017   product   \n",
      "702              Cognac Frapin Château de Fontpinot XO   product   \n",
      "703                          Cognac Frapin Cigar Blend   product   \n",
      "704                               Cognac Frapin VIP XO   product   \n",
      "717  Cognac Frapin Château de Fontpinot 1989 20 Ans...   product   \n",
      "\n",
      "    post_mime_type _merge     z_score      CA  Months_of_stock  Valorisation  \\\n",
      "12             NaN   both   97.826151   594.0         1.500000         891.0   \n",
      "13             NaN   both  103.826151   735.0         1.714286        1260.0   \n",
      "15             NaN   both   87.226151   442.0         1.400000         618.8   \n",
      "46             NaN   both  113.826151   460.0         3.500000        1610.0   \n",
      "47             NaN   both  103.826151   315.0         5.000000        1575.0   \n",
      "48             NaN   both  108.426151   109.6        18.000000        1972.8   \n",
      "112            NaN   both   85.626151   781.2        11.222222        8766.8   \n",
      "113            NaN   both  110.826151   672.0        22.666667       15232.0   \n",
      "120            NaN   both  113.826151   805.0         2.285714        1840.0   \n",
      "134            NaN   both  135.826151   411.0         3.000000        1233.0   \n",
      "167            NaN   both  216.326151   435.0         9.000000        3915.0   \n",
      "168            NaN   both  104.426151   633.6         2.666667        1689.6   \n",
      "197            NaN   both  112.826151   342.0         4.000000        1368.0   \n",
      "198            NaN   both   91.826151    93.0         1.000000          93.0   \n",
      "199            NaN   both  120.826151   366.0         4.000000        1464.0   \n",
      "204            NaN   both  101.126151   204.6         6.000000        1227.6   \n",
      "220            NaN   both  123.626151   124.8        19.000000        2371.2   \n",
      "221            NaN   both  133.826151   675.0        27.600000       18630.0   \n",
      "233            NaN   both  190.126151  1147.8        16.333333       18747.4   \n",
      "245            NaN   both  119.826151   242.0         7.000000        1694.0   \n",
      "246            NaN   both  119.826151   363.0         3.000000        1089.0   \n",
      "255            NaN   both  115.226151   582.0         2.400000        1396.8   \n",
      "277            NaN   both  173.826151   700.0         3.000000        2100.0   \n",
      "334            NaN   both   98.826151   100.0        12.000000        1200.0   \n",
      "531            NaN   both  223.826151  2475.0         0.000000           0.0   \n",
      "695            NaN   both   90.826151    92.0         0.000000           0.0   \n",
      "702            NaN   both  107.326151   434.0         4.250000        1844.5   \n",
      "703            NaN   both  102.826151   520.0         2.800000        1456.0   \n",
      "704            NaN   both  174.826151   528.0         3.666667        1936.0   \n",
      "717            NaN   both  155.826151   628.0         3.000000        1884.0   \n",
      "\n",
      "        prix_HT  Taux_de_marge  \n",
      "12    82.500000       0.662636  \n",
      "13    87.500000       0.550868  \n",
      "15    73.666667       0.662904  \n",
      "46    95.833333       0.697668  \n",
      "47    87.500000       0.565855  \n",
      "48    91.333333       0.697646  \n",
      "112   72.333333       0.442915  \n",
      "113   93.333333       0.360544  \n",
      "120   95.833333       0.612813  \n",
      "134  114.166667       0.680157  \n",
      "167  181.250000       0.550868  \n",
      "168   88.000000       0.536045  \n",
      "197   95.000000       0.818182  \n",
      "198   77.500000       0.914053  \n",
      "199  101.666667       0.874385  \n",
      "204   85.250000       0.645753  \n",
      "220  104.000000       0.566029  \n",
      "221  112.500000       0.400473  \n",
      "233  159.416667       0.373571  \n",
      "245  100.833333       0.679996  \n",
      "246  100.833333       0.596980  \n",
      "255   97.000000       0.536025  \n",
      "277  145.833333       0.612844  \n",
      "334   83.333333       0.581278  \n",
      "531  187.500000       0.360569  \n",
      "695   76.666667       0.662691  \n",
      "702   90.416667       0.731457  \n",
      "703   86.666667       0.855420  \n",
      "704  146.666667       0.874334  \n",
      "717  130.833333       0.893939  \n",
      "\n",
      "[30 rows x 21 columns]\n",
      "       onsale_web       price  stock_quantity  purchase_price  total_sales  \\\n",
      "count        30.0   30.000000       30.000000       30.000000    30.000000   \n",
      "mean          1.0  125.806667       25.866667       65.264000     4.100000   \n",
      "std           0.0   36.559483       37.811450       22.831401     2.454412   \n",
      "min           1.0   86.800000        0.000000       40.490000     1.000000   \n",
      "25%           1.0  104.250000       11.250000       52.227500     2.250000   \n",
      "50%           1.0  114.500000       12.000000       56.870000     4.000000   \n",
      "75%           1.0  132.450000       16.750000       68.437500     5.750000   \n",
      "max           1.0  225.000000      138.000000      137.810000    11.000000   \n",
      "\n",
      "          z_score           CA  Months_of_stock  Valorisation     prix_HT  \\\n",
      "count   30.000000    30.000000        30.000000     30.000000   30.000000   \n",
      "mean   124.632818   533.686667         6.700185   3303.516667  104.838889   \n",
      "std     36.559483   444.166824         7.161489   5087.720169   30.466236   \n",
      "min     85.626151    92.000000         0.000000      0.000000   72.333333   \n",
      "25%    103.076151   321.750000         2.466667   1228.950000   86.875000   \n",
      "50%    113.326151   451.000000         3.583333   1592.500000   95.416667   \n",
      "75%    131.276151   662.400000         8.500000   1963.600000  110.375000   \n",
      "max    223.826151  2475.000000        27.600000  18747.400000  187.500000   \n",
      "\n",
      "       Taux_de_marge  \n",
      "count      30.000000  \n",
      "mean        0.633297  \n",
      "std         0.158079  \n",
      "min         0.360544  \n",
      "25%         0.550868  \n",
      "50%         0.629298  \n",
      "75%         0.697662  \n",
      "max         0.914053  \n"
     ]
    }
   ],
   "source": [
    "#Définissez le nombre d'articles et la proportion de l'ensemble du catalogue \"outliers\"\n",
    "# Définir le seuil pour les outliers\n",
    "outlier_par = Z\n",
    "\n",
    "# Filtrer les prix dont le Z-score est supérieur au seuil ou inférieur à -seuil\n",
    "outliers = df_merge[(df_merge['z_score'] > outlier_par) | (df_merge['z_score'] < -outlier_par)]\n",
    "\n",
    "# Afficher les outliers\n",
    "print(\"Articles considérés comme outliers en termes de prix :\")\n",
    "print(outliers)\n",
    "print(outliers.describe())"
   ]
  },
  {
   "cell_type": "code",
   "execution_count": 114,
   "id": "06138432",
   "metadata": {},
   "outputs": [
    {
     "name": "stdout",
     "output_type": "stream",
     "text": [
      "Je comprend pas réellement la question, mais d'aprés les graphs ces outliers sont réellement un peu en dehors des autres prix, mais cela ne dit pas forcement qu'on doit les ignorer surtout que nous sommes sur un site qui vend des produits de 'LUXE' \n",
      "Surtout que certains de ces articles ont réussi à trouver des acheteurs\n"
     ]
    }
   ],
   "source": [
    "#Selon vous, ces outliers sont-ils justifiés ? Comment le démontrer si cela est possible ?\n",
    "print(\"Je comprend pas réellement la question, mais d'aprés les graphs ces outliers sont réellement un peu en dehors des autres prix, mais cela ne dit pas forcement qu'on doit les ignorer surtout que nous sommes sur un site qui vend des produits de 'LUXE' \")\n",
    "print(\"Et certains de ces articles ont réussi à trouver des acheteurs\")"
   ]
  },
  {
   "cell_type": "markdown",
   "id": "640da2c8",
   "metadata": {},
   "source": [
    "<div style=\"background-color: RGB(51,165,182);\" >\n",
    "<h2 style=\"margin: auto; padding: 20px; color:#fff; \">Etape 5 - Analyse univarié du CA, des quantités vendues, des stocks et de la marge ainsi qu'une analyse multivarié  </h2>\n",
    "</div>"
   ]
  },
  {
   "cell_type": "markdown",
   "id": "5871c808",
   "metadata": {},
   "source": [
    "<div style=\"border: 1px solid RGB(51,165,182);\" >\n",
    "<h3 style=\"margin: auto; padding: 20px; color: RGB(51,165,182); \">Etape 5.1 - Analyse des ventes en CA</h3>\n",
    "</div>"
   ]
  },
  {
   "cell_type": "code",
   "execution_count": 115,
   "id": "da0d5834",
   "metadata": {},
   "outputs": [
    {
     "name": "stdout",
     "output_type": "stream",
     "text": [
      "le CA du site web pour le mois d'octobre est de : 143680.1 €\n"
     ]
    }
   ],
   "source": [
    "##############################\n",
    "# Calculer le CA su site web #\n",
    "##############################\n",
    "\n",
    "#Créez une colonne calculant le CA par article\n",
    "df_merge['CA']=df_merge['price']*df_merge['total_sales']\n",
    "#Calculez la somme de la colonne \"ca_par_article\"\n",
    "df_merge['CA'].sum()\n",
    "#Ce résultat correspond au chiffre d'affaire du site web\n",
    "print(\"le CA du site web pour le mois d'octobre est de :\", round(df_merge['CA'].sum(),2),\"€\")"
   ]
  },
  {
   "cell_type": "code",
   "execution_count": 116,
   "id": "4040ced7",
   "metadata": {},
   "outputs": [
    {
     "name": "stdout",
     "output_type": "stream",
     "text": [
      "    product_id  onsale_web  price  stock_quantity stock_status  \\\n",
      "531       4352         1.0  225.0             0.0   outofstock   \n",
      "233       5892         1.0  191.3            98.0      instock   \n",
      "36        4353         1.0   79.5           127.0      instock   \n",
      "313       5826         1.0   41.2            34.0      instock   \n",
      "120       6212         1.0  115.0            16.0      instock   \n",
      "112       5026         1.0   86.8           101.0      instock   \n",
      "13        5008         1.0  105.0            12.0      instock   \n",
      "277       5767         1.0  175.0            12.0      instock   \n",
      "221       6126         1.0  135.0           138.0      instock   \n",
      "113       5025         1.0  112.0           136.0      instock   \n",
      "168       6201         1.0  105.6            16.0      instock   \n",
      "717       4406         1.0  157.0            12.0      instock   \n",
      "674       4647         1.0   28.5            45.0      instock   \n",
      "107       4358         1.0   77.0            81.0      instock   \n",
      "106       4359         1.0   85.6           112.0      instock   \n",
      "12        6214         1.0   99.0             9.0      instock   \n",
      "255       6202         1.0  116.4            12.0      instock   \n",
      "37        4350         1.0   79.5           145.0      instock   \n",
      "90        4573         1.0   67.2            12.0      instock   \n",
      "704       4402         1.0  176.0            11.0      instock   \n",
      "\n",
      "     purchase_price id_web    sku  total_sales tax_status product_type  \\\n",
      "531          137.81  15940  15940         11.0    taxable    Champagne   \n",
      "233          116.06  14983  14983          6.0    taxable    Champagne   \n",
      "36            45.91  12587  12587         14.0    taxable    Champagne   \n",
      "313           21.71  15325  15325         20.0    taxable          Vin   \n",
      "120           59.42  13996  13996          7.0    taxable          Vin   \n",
      "112           50.13  13913  13913          9.0    taxable    Champagne   \n",
      "13            56.42  11602  11602          7.0    taxable          Vin   \n",
      "277           90.42  15185  15185          4.0    taxable          Vin   \n",
      "221           80.33  14923  14923          5.0    taxable    Champagne   \n",
      "113           68.60  13914  13914          6.0    taxable    Champagne   \n",
      "168           57.29  14596  14596          6.0    taxable          Vin   \n",
      "717           69.08   7819   7819          4.0    taxable       Cognac   \n",
      "674           14.14  16525  16525         22.0    taxable          Vin   \n",
      "107           47.16  13854  13854          8.0    taxable    Champagne   \n",
      "106           51.93  13853  13853          7.0    taxable    Champagne   \n",
      "12            49.62  11601  11601          6.0    taxable          Vin   \n",
      "255           63.15  15126  15126          5.0    taxable          Vin   \n",
      "37            47.30  12588  12588          7.0    taxable    Champagne   \n",
      "90            36.46  13604  13604          8.0    taxable          Vin   \n",
      "704           78.25   3510   3510          3.0    taxable       Cognac   \n",
      "\n",
      "                                            post_title post_type  \\\n",
      "531     Champagne Egly-Ouriet Grand Cru Millésimé 2008   product   \n",
      "233  Coteaux Champenois Egly-Ouriet Ambonnay Rouge ...   product   \n",
      "36           Champagne Egly-Ouriet Grand Cru Brut Rosé   product   \n",
      "313              Agnès Levet Côte Rôtie Améthyste 2017   product   \n",
      "120  Domaine des Comtes Lafon Volnay 1er Cru Santen...   product   \n",
      "112  Champagne Agrapart &amp; Fils Minéral Extra Br...   product   \n",
      "13   Domaine des Comtes Lafon Volnay 1er Cru Santen...   product   \n",
      "277                Camille Giroud Clos de Vougeot 2016   product   \n",
      "221             Champagne Gosset Célébris Vintage 2007   product   \n",
      "113  Champagne Agrapart &amp; Fils L'Avizoise Extra...   product   \n",
      "168  David Duband Chambolle-Musigny 1er Cru Les Sen...   product   \n",
      "717  Cognac Frapin Château de Fontpinot 1989 20 Ans...   product   \n",
      "674  Bernard Baudry Chinon Rouge La Croix Boissée 2017   product   \n",
      "107  Champagne Larmandier-Bernier Grand Cru Vieille...   product   \n",
      "106  Champagne Larmandier-Bernier Grand Cru Les Che...   product   \n",
      "12   Domaine des Comtes Lafon Volnay 1er Cru Champa...   product   \n",
      "255  Domaine Clerget Echezeaux Grand Cru En Orveaux...   product   \n",
      "37     Champagne Egly-Ouriet Grand Cru Extra Brut V.P.   product   \n",
      "90   Château de Meursault Beaune-Grèves Les Trois J...   product   \n",
      "704                               Cognac Frapin VIP XO   product   \n",
      "\n",
      "    post_mime_type _merge     z_score      CA  \n",
      "531            NaN   both  223.826151  2475.0  \n",
      "233            NaN   both  190.126151  1147.8  \n",
      "36             NaN   both   78.326151  1113.0  \n",
      "313            NaN   both   40.026151   824.0  \n",
      "120            NaN   both  113.826151   805.0  \n",
      "112            NaN   both   85.626151   781.2  \n",
      "13             NaN   both  103.826151   735.0  \n",
      "277            NaN   both  173.826151   700.0  \n",
      "221            NaN   both  133.826151   675.0  \n",
      "113            NaN   both  110.826151   672.0  \n",
      "168            NaN   both  104.426151   633.6  \n",
      "717            NaN   both  155.826151   628.0  \n",
      "674            NaN   both   27.326151   627.0  \n",
      "107            NaN   both   75.826151   616.0  \n",
      "106            NaN   both   84.426151   599.2  \n",
      "12             NaN   both   97.826151   594.0  \n",
      "255            NaN   both  115.226151   582.0  \n",
      "37             NaN   both   78.326151   556.5  \n",
      "90             NaN   both   66.026151   537.6  \n",
      "704            NaN   both  174.826151   528.0  \n"
     ]
    },
    {
     "data": {
      "application/vnd.plotly.v1+json": {
       "config": {
        "plotlyServerURL": "https://plot.ly"
       },
       "data": [
        {
         "alignmentgroup": "True",
         "hovertemplate": "Nom du Produit=%{x}<br>Chiffre d'affaires=%{y}<extra></extra>",
         "legendgroup": "",
         "marker": {
          "color": "#636efa",
          "pattern": {
           "shape": ""
          }
         },
         "name": "",
         "offsetgroup": "",
         "orientation": "v",
         "showlegend": false,
         "textposition": "auto",
         "type": "bar",
         "x": [
          "Champagne Egly-Ouriet Grand Cru Millésimé 2008",
          "Coteaux Champenois Egly-Ouriet Ambonnay Rouge 2016",
          "Champagne Egly-Ouriet Grand Cru Brut Rosé",
          "Agnès Levet Côte Rôtie Améthyste 2017",
          "Domaine des Comtes Lafon Volnay 1er Cru Santenots du Milieu 2015",
          "Champagne Agrapart &amp; Fils Minéral Extra Brut Blanc de Blancs Grand Cru 2012",
          "Domaine des Comtes Lafon Volnay 1er Cru Santenots du Milieu 2013",
          "Camille Giroud Clos de Vougeot 2016",
          "Champagne Gosset Célébris Vintage 2007",
          "Champagne Agrapart &amp; Fils L'Avizoise Extra Brut Blanc de Blancs Grand Cru 2012",
          "David Duband Chambolle-Musigny 1er Cru Les Sentiers 2016",
          "Cognac Frapin Château de Fontpinot 1989 20 Ans d'Age",
          "Bernard Baudry Chinon Rouge La Croix Boissée 2017",
          "Champagne Larmandier-Bernier Grand Cru Vieilles Vignes du Levant 2008",
          "Champagne Larmandier-Bernier Grand Cru Les Chemins d'Avize 2011",
          "Domaine des Comtes Lafon Volnay 1er Cru Champans 2013",
          "Domaine Clerget Echezeaux Grand Cru En Orveaux 2015",
          "Champagne Egly-Ouriet Grand Cru Extra Brut V.P.",
          "Château de Meursault Beaune-Grèves Les Trois Journaux 1er Cru 2015",
          "Cognac Frapin VIP XO"
         ],
         "xaxis": "x",
         "y": [
          2475,
          1147.8000000000002,
          1113,
          824,
          805,
          781.1999999999999,
          735,
          700,
          675,
          672,
          633.5999999999999,
          628,
          627,
          616,
          599.1999999999999,
          594,
          582,
          556.5,
          537.6,
          528
         ],
         "yaxis": "y"
        }
       ],
       "layout": {
        "barmode": "relative",
        "legend": {
         "tracegroupgap": 0
        },
        "template": {
         "data": {
          "bar": [
           {
            "error_x": {
             "color": "#2a3f5f"
            },
            "error_y": {
             "color": "#2a3f5f"
            },
            "marker": {
             "line": {
              "color": "#E5ECF6",
              "width": 0.5
             },
             "pattern": {
              "fillmode": "overlay",
              "size": 10,
              "solidity": 0.2
             }
            },
            "type": "bar"
           }
          ],
          "barpolar": [
           {
            "marker": {
             "line": {
              "color": "#E5ECF6",
              "width": 0.5
             },
             "pattern": {
              "fillmode": "overlay",
              "size": 10,
              "solidity": 0.2
             }
            },
            "type": "barpolar"
           }
          ],
          "carpet": [
           {
            "aaxis": {
             "endlinecolor": "#2a3f5f",
             "gridcolor": "white",
             "linecolor": "white",
             "minorgridcolor": "white",
             "startlinecolor": "#2a3f5f"
            },
            "baxis": {
             "endlinecolor": "#2a3f5f",
             "gridcolor": "white",
             "linecolor": "white",
             "minorgridcolor": "white",
             "startlinecolor": "#2a3f5f"
            },
            "type": "carpet"
           }
          ],
          "choropleth": [
           {
            "colorbar": {
             "outlinewidth": 0,
             "ticks": ""
            },
            "type": "choropleth"
           }
          ],
          "contour": [
           {
            "colorbar": {
             "outlinewidth": 0,
             "ticks": ""
            },
            "colorscale": [
             [
              0,
              "#0d0887"
             ],
             [
              0.1111111111111111,
              "#46039f"
             ],
             [
              0.2222222222222222,
              "#7201a8"
             ],
             [
              0.3333333333333333,
              "#9c179e"
             ],
             [
              0.4444444444444444,
              "#bd3786"
             ],
             [
              0.5555555555555556,
              "#d8576b"
             ],
             [
              0.6666666666666666,
              "#ed7953"
             ],
             [
              0.7777777777777778,
              "#fb9f3a"
             ],
             [
              0.8888888888888888,
              "#fdca26"
             ],
             [
              1,
              "#f0f921"
             ]
            ],
            "type": "contour"
           }
          ],
          "contourcarpet": [
           {
            "colorbar": {
             "outlinewidth": 0,
             "ticks": ""
            },
            "type": "contourcarpet"
           }
          ],
          "heatmap": [
           {
            "colorbar": {
             "outlinewidth": 0,
             "ticks": ""
            },
            "colorscale": [
             [
              0,
              "#0d0887"
             ],
             [
              0.1111111111111111,
              "#46039f"
             ],
             [
              0.2222222222222222,
              "#7201a8"
             ],
             [
              0.3333333333333333,
              "#9c179e"
             ],
             [
              0.4444444444444444,
              "#bd3786"
             ],
             [
              0.5555555555555556,
              "#d8576b"
             ],
             [
              0.6666666666666666,
              "#ed7953"
             ],
             [
              0.7777777777777778,
              "#fb9f3a"
             ],
             [
              0.8888888888888888,
              "#fdca26"
             ],
             [
              1,
              "#f0f921"
             ]
            ],
            "type": "heatmap"
           }
          ],
          "heatmapgl": [
           {
            "colorbar": {
             "outlinewidth": 0,
             "ticks": ""
            },
            "colorscale": [
             [
              0,
              "#0d0887"
             ],
             [
              0.1111111111111111,
              "#46039f"
             ],
             [
              0.2222222222222222,
              "#7201a8"
             ],
             [
              0.3333333333333333,
              "#9c179e"
             ],
             [
              0.4444444444444444,
              "#bd3786"
             ],
             [
              0.5555555555555556,
              "#d8576b"
             ],
             [
              0.6666666666666666,
              "#ed7953"
             ],
             [
              0.7777777777777778,
              "#fb9f3a"
             ],
             [
              0.8888888888888888,
              "#fdca26"
             ],
             [
              1,
              "#f0f921"
             ]
            ],
            "type": "heatmapgl"
           }
          ],
          "histogram": [
           {
            "marker": {
             "pattern": {
              "fillmode": "overlay",
              "size": 10,
              "solidity": 0.2
             }
            },
            "type": "histogram"
           }
          ],
          "histogram2d": [
           {
            "colorbar": {
             "outlinewidth": 0,
             "ticks": ""
            },
            "colorscale": [
             [
              0,
              "#0d0887"
             ],
             [
              0.1111111111111111,
              "#46039f"
             ],
             [
              0.2222222222222222,
              "#7201a8"
             ],
             [
              0.3333333333333333,
              "#9c179e"
             ],
             [
              0.4444444444444444,
              "#bd3786"
             ],
             [
              0.5555555555555556,
              "#d8576b"
             ],
             [
              0.6666666666666666,
              "#ed7953"
             ],
             [
              0.7777777777777778,
              "#fb9f3a"
             ],
             [
              0.8888888888888888,
              "#fdca26"
             ],
             [
              1,
              "#f0f921"
             ]
            ],
            "type": "histogram2d"
           }
          ],
          "histogram2dcontour": [
           {
            "colorbar": {
             "outlinewidth": 0,
             "ticks": ""
            },
            "colorscale": [
             [
              0,
              "#0d0887"
             ],
             [
              0.1111111111111111,
              "#46039f"
             ],
             [
              0.2222222222222222,
              "#7201a8"
             ],
             [
              0.3333333333333333,
              "#9c179e"
             ],
             [
              0.4444444444444444,
              "#bd3786"
             ],
             [
              0.5555555555555556,
              "#d8576b"
             ],
             [
              0.6666666666666666,
              "#ed7953"
             ],
             [
              0.7777777777777778,
              "#fb9f3a"
             ],
             [
              0.8888888888888888,
              "#fdca26"
             ],
             [
              1,
              "#f0f921"
             ]
            ],
            "type": "histogram2dcontour"
           }
          ],
          "mesh3d": [
           {
            "colorbar": {
             "outlinewidth": 0,
             "ticks": ""
            },
            "type": "mesh3d"
           }
          ],
          "parcoords": [
           {
            "line": {
             "colorbar": {
              "outlinewidth": 0,
              "ticks": ""
             }
            },
            "type": "parcoords"
           }
          ],
          "pie": [
           {
            "automargin": true,
            "type": "pie"
           }
          ],
          "scatter": [
           {
            "fillpattern": {
             "fillmode": "overlay",
             "size": 10,
             "solidity": 0.2
            },
            "type": "scatter"
           }
          ],
          "scatter3d": [
           {
            "line": {
             "colorbar": {
              "outlinewidth": 0,
              "ticks": ""
             }
            },
            "marker": {
             "colorbar": {
              "outlinewidth": 0,
              "ticks": ""
             }
            },
            "type": "scatter3d"
           }
          ],
          "scattercarpet": [
           {
            "marker": {
             "colorbar": {
              "outlinewidth": 0,
              "ticks": ""
             }
            },
            "type": "scattercarpet"
           }
          ],
          "scattergeo": [
           {
            "marker": {
             "colorbar": {
              "outlinewidth": 0,
              "ticks": ""
             }
            },
            "type": "scattergeo"
           }
          ],
          "scattergl": [
           {
            "marker": {
             "colorbar": {
              "outlinewidth": 0,
              "ticks": ""
             }
            },
            "type": "scattergl"
           }
          ],
          "scattermapbox": [
           {
            "marker": {
             "colorbar": {
              "outlinewidth": 0,
              "ticks": ""
             }
            },
            "type": "scattermapbox"
           }
          ],
          "scatterpolar": [
           {
            "marker": {
             "colorbar": {
              "outlinewidth": 0,
              "ticks": ""
             }
            },
            "type": "scatterpolar"
           }
          ],
          "scatterpolargl": [
           {
            "marker": {
             "colorbar": {
              "outlinewidth": 0,
              "ticks": ""
             }
            },
            "type": "scatterpolargl"
           }
          ],
          "scatterternary": [
           {
            "marker": {
             "colorbar": {
              "outlinewidth": 0,
              "ticks": ""
             }
            },
            "type": "scatterternary"
           }
          ],
          "surface": [
           {
            "colorbar": {
             "outlinewidth": 0,
             "ticks": ""
            },
            "colorscale": [
             [
              0,
              "#0d0887"
             ],
             [
              0.1111111111111111,
              "#46039f"
             ],
             [
              0.2222222222222222,
              "#7201a8"
             ],
             [
              0.3333333333333333,
              "#9c179e"
             ],
             [
              0.4444444444444444,
              "#bd3786"
             ],
             [
              0.5555555555555556,
              "#d8576b"
             ],
             [
              0.6666666666666666,
              "#ed7953"
             ],
             [
              0.7777777777777778,
              "#fb9f3a"
             ],
             [
              0.8888888888888888,
              "#fdca26"
             ],
             [
              1,
              "#f0f921"
             ]
            ],
            "type": "surface"
           }
          ],
          "table": [
           {
            "cells": {
             "fill": {
              "color": "#EBF0F8"
             },
             "line": {
              "color": "white"
             }
            },
            "header": {
             "fill": {
              "color": "#C8D4E3"
             },
             "line": {
              "color": "white"
             }
            },
            "type": "table"
           }
          ]
         },
         "layout": {
          "annotationdefaults": {
           "arrowcolor": "#2a3f5f",
           "arrowhead": 0,
           "arrowwidth": 1
          },
          "autotypenumbers": "strict",
          "coloraxis": {
           "colorbar": {
            "outlinewidth": 0,
            "ticks": ""
           }
          },
          "colorscale": {
           "diverging": [
            [
             0,
             "#8e0152"
            ],
            [
             0.1,
             "#c51b7d"
            ],
            [
             0.2,
             "#de77ae"
            ],
            [
             0.3,
             "#f1b6da"
            ],
            [
             0.4,
             "#fde0ef"
            ],
            [
             0.5,
             "#f7f7f7"
            ],
            [
             0.6,
             "#e6f5d0"
            ],
            [
             0.7,
             "#b8e186"
            ],
            [
             0.8,
             "#7fbc41"
            ],
            [
             0.9,
             "#4d9221"
            ],
            [
             1,
             "#276419"
            ]
           ],
           "sequential": [
            [
             0,
             "#0d0887"
            ],
            [
             0.1111111111111111,
             "#46039f"
            ],
            [
             0.2222222222222222,
             "#7201a8"
            ],
            [
             0.3333333333333333,
             "#9c179e"
            ],
            [
             0.4444444444444444,
             "#bd3786"
            ],
            [
             0.5555555555555556,
             "#d8576b"
            ],
            [
             0.6666666666666666,
             "#ed7953"
            ],
            [
             0.7777777777777778,
             "#fb9f3a"
            ],
            [
             0.8888888888888888,
             "#fdca26"
            ],
            [
             1,
             "#f0f921"
            ]
           ],
           "sequentialminus": [
            [
             0,
             "#0d0887"
            ],
            [
             0.1111111111111111,
             "#46039f"
            ],
            [
             0.2222222222222222,
             "#7201a8"
            ],
            [
             0.3333333333333333,
             "#9c179e"
            ],
            [
             0.4444444444444444,
             "#bd3786"
            ],
            [
             0.5555555555555556,
             "#d8576b"
            ],
            [
             0.6666666666666666,
             "#ed7953"
            ],
            [
             0.7777777777777778,
             "#fb9f3a"
            ],
            [
             0.8888888888888888,
             "#fdca26"
            ],
            [
             1,
             "#f0f921"
            ]
           ]
          },
          "colorway": [
           "#636efa",
           "#EF553B",
           "#00cc96",
           "#ab63fa",
           "#FFA15A",
           "#19d3f3",
           "#FF6692",
           "#B6E880",
           "#FF97FF",
           "#FECB52"
          ],
          "font": {
           "color": "#2a3f5f"
          },
          "geo": {
           "bgcolor": "white",
           "lakecolor": "white",
           "landcolor": "#E5ECF6",
           "showlakes": true,
           "showland": true,
           "subunitcolor": "white"
          },
          "hoverlabel": {
           "align": "left"
          },
          "hovermode": "closest",
          "mapbox": {
           "style": "light"
          },
          "paper_bgcolor": "white",
          "plot_bgcolor": "#E5ECF6",
          "polar": {
           "angularaxis": {
            "gridcolor": "white",
            "linecolor": "white",
            "ticks": ""
           },
           "bgcolor": "#E5ECF6",
           "radialaxis": {
            "gridcolor": "white",
            "linecolor": "white",
            "ticks": ""
           }
          },
          "scene": {
           "xaxis": {
            "backgroundcolor": "#E5ECF6",
            "gridcolor": "white",
            "gridwidth": 2,
            "linecolor": "white",
            "showbackground": true,
            "ticks": "",
            "zerolinecolor": "white"
           },
           "yaxis": {
            "backgroundcolor": "#E5ECF6",
            "gridcolor": "white",
            "gridwidth": 2,
            "linecolor": "white",
            "showbackground": true,
            "ticks": "",
            "zerolinecolor": "white"
           },
           "zaxis": {
            "backgroundcolor": "#E5ECF6",
            "gridcolor": "white",
            "gridwidth": 2,
            "linecolor": "white",
            "showbackground": true,
            "ticks": "",
            "zerolinecolor": "white"
           }
          },
          "shapedefaults": {
           "line": {
            "color": "#2a3f5f"
           }
          },
          "ternary": {
           "aaxis": {
            "gridcolor": "white",
            "linecolor": "white",
            "ticks": ""
           },
           "baxis": {
            "gridcolor": "white",
            "linecolor": "white",
            "ticks": ""
           },
           "bgcolor": "#E5ECF6",
           "caxis": {
            "gridcolor": "white",
            "linecolor": "white",
            "ticks": ""
           }
          },
          "title": {
           "x": 0.05
          },
          "xaxis": {
           "automargin": true,
           "gridcolor": "white",
           "linecolor": "white",
           "ticks": "",
           "title": {
            "standoff": 15
           },
           "zerolinecolor": "white",
           "zerolinewidth": 2
          },
          "yaxis": {
           "automargin": true,
           "gridcolor": "white",
           "linecolor": "white",
           "ticks": "",
           "title": {
            "standoff": 15
           },
           "zerolinecolor": "white",
           "zerolinewidth": 2
          }
         }
        },
        "title": {
         "text": "Top 20 des articles par chiffre d'affaires"
        },
        "xaxis": {
         "anchor": "y",
         "domain": [
          0,
          1
         ],
         "title": {
          "text": "Nom du Produit"
         }
        },
        "yaxis": {
         "anchor": "x",
         "domain": [
          0,
          1
         ],
         "title": {
          "text": "Chiffre d'affaires"
         }
        }
       }
      }
     },
     "metadata": {},
     "output_type": "display_data"
    }
   ],
   "source": [
    "###############################\n",
    "# Palmares des articles en CA #\n",
    "###############################\n",
    "\n",
    "#Effectuer le tri dans l'ordre décroissant du CA du dataset df_merge\n",
    "df_merge_sort = df_merge.sort_values(by='CA', ascending=False)\n",
    "#Réinitialiser l'index du dataset par un reset_index\n",
    "df_merge_sort.reset_index()\n",
    "#Afficher les 20 premier articles en CA\n",
    "df_merge_sort_20=df_merge_sort.head(20)\n",
    "print(df_merge_sort_20)\n",
    "#Graphique en barre des 20 premiers articles avec plotly express\n",
    "px.bar(df_merge_sort_20, x='post_title', y='CA', title='Top 20 des articles par chiffre d\\'affaires',labels={'post_title': 'Nom du Produit', 'CA': 'Chiffre d\\'affaires'})"
   ]
  },
  {
   "cell_type": "code",
   "execution_count": 117,
   "id": "d7e5e87b",
   "metadata": {},
   "outputs": [
    {
     "name": "stdout",
     "output_type": "stream",
     "text": [
      "Nombre d'articles représentant 80% du CA : 434\n",
      "La proportion que représentent ce groupe (CA) d'articles dans le catalogue entier du site web : 59.13 %\n"
     ]
    }
   ],
   "source": [
    "#############################\n",
    "# Calculer le 20 / 80 en CA #\n",
    "#############################\n",
    "\n",
    "#Créer une colonne calculant la part du CA de la ligne dans le dataset\n",
    "df_merge_sort['Part_CA']=df_merge_sort['CA']/df_merge_sort['CA'].sum()\n",
    "#Créer une colonne réalisant la somme cumulative de la colonne précedemment créée\n",
    "df_merge_sort['Partcum_CA']=df_merge_sort['Part_CA'].cumsum()\n",
    "#Grâce au deux colonnes créées précedemment, calculer le nombre d'articles représentant 80% du CA\n",
    "articles_80_s = df_merge_sort[df_merge_sort['Partcum_CA'] <= 0.8]['product_id'].count()\n",
    "print(f\"Nombre d'articles représentant 80% du CA : {articles_80_s}\")\n",
    "#Afficher la proportion que représentent ce groupe d'articles dans le catalogue entier du site web\n",
    "propotion_80_s=round(((articles_80_s/df_merge_sort['product_id'].count())*100),2)\n",
    "print(f\"La proportion que représentent ce groupe (CA) d'articles dans le catalogue entier du site web : {propotion_80_s} %\")"
   ]
  },
  {
   "cell_type": "markdown",
   "id": "8de7af87",
   "metadata": {},
   "source": [
    "<div style=\"border: 1px solid RGB(51,165,182);\" >\n",
    "<h3 style=\"margin: auto; padding: 20px; color: RGB(51,165,182); \">Etape 5.2 - Analyse des ventes en Quantités</h3>\n",
    "</div>"
   ]
  },
  {
   "cell_type": "code",
   "execution_count": 118,
   "id": "ab222e08",
   "metadata": {},
   "outputs": [
    {
     "name": "stdout",
     "output_type": "stream",
     "text": [
      "    product_id  onsale_web  price  stock_quantity stock_status  \\\n",
      "600       4867         1.0    9.9           121.0      instock   \n",
      "341       4203         1.0    9.9            74.0      instock   \n",
      "214       4275         1.0   14.9            62.0      instock   \n",
      "674       4647         1.0   28.5            45.0      instock   \n",
      "226       4726         1.0   12.7             0.0   outofstock   \n",
      "313       5826         1.0   41.2            34.0      instock   \n",
      "164       6129         1.0    5.2            68.0      instock   \n",
      "461       4220         1.0   11.6            48.0      instock   \n",
      "86        5803         1.0   17.1            47.0      instock   \n",
      "432       6569         1.0   29.0            58.0      instock   \n",
      "382       5778         1.0    5.8            44.0      instock   \n",
      "634       4188         1.0    9.5            51.0      instock   \n",
      "670       4105         1.0    6.8            45.0      instock   \n",
      "628       4863         1.0    8.2            54.0      instock   \n",
      "142       5777         1.0    5.7            51.0      instock   \n",
      "601       4870         1.0    9.3             0.0   outofstock   \n",
      "638       4059         1.0    8.7            34.0      instock   \n",
      "648       5695         1.0    6.5            33.0      instock   \n",
      "637       4865         1.0    9.8            48.0      instock   \n",
      "209       5016         1.0    9.3            40.0      instock   \n",
      "\n",
      "     purchase_price id_web    sku  total_sales tax_status product_type  \\\n",
      "600            4.86  16148  16148         36.0    taxable          Vin   \n",
      "341            5.01  15415  15415         27.0    taxable          Vin   \n",
      "214            7.78  14864  14864         24.0    taxable          Vin   \n",
      "674           14.14  16525  16525         22.0    taxable          Vin   \n",
      "226            6.82  14950  14950         22.0    taxable          Vin   \n",
      "313           21.71  15325  15325         20.0    taxable          Vin   \n",
      "164            2.74  14570  14570         20.0    taxable          Vin   \n",
      "461            5.75  15758  15758         18.0    taxable          Vin   \n",
      "86             9.19  13572  13572         17.0    taxable          Vin   \n",
      "432           15.28  15705  15705         17.0    taxable          Vin   \n",
      "382            3.09  15561  15561         17.0    taxable          Vin   \n",
      "634            5.06  16265  16265         16.0    taxable          Vin   \n",
      "670            3.51  16504  16504         16.0    taxable          Vin   \n",
      "628            4.11  16255  16255         16.0    taxable          Vin   \n",
      "142            3.03  14338  14338         16.0    taxable          Vin   \n",
      "601            4.81  16149  16149         16.0    taxable          Vin   \n",
      "638            4.32  16275  16275         16.0    taxable          Vin   \n",
      "648            3.53  16304  16304         16.0    taxable          Vin   \n",
      "637            5.16  16274  16274         15.0    taxable          Vin   \n",
      "209            4.81  14839  14839         15.0    taxable          Vin   \n",
      "\n",
      "                                            post_title post_type  \\\n",
      "600  Château De La Selve IGP Coteaux de l'Ardèche M...   product   \n",
      "341  Mas Laval IGP Pays d'Hérault Les Pampres Blanc...   product   \n",
      "214              I Fabbri Chianti Classico Lamole 2017   product   \n",
      "674  Bernard Baudry Chinon Rouge La Croix Boissée 2017   product   \n",
      "226           François Baur Pinot Noir Schlittweg 2017   product   \n",
      "313              Agnès Levet Côte Rôtie Améthyste 2017   product   \n",
      "164  Moulin de Gassac IGP Pays d'Hérault Guilhem Bl...   product   \n",
      "461  Xavier Frissant Touraine Amboise Chenin Les Pi...   product   \n",
      "86                Château Tour Haut-Caussan Médoc 2015   product   \n",
      "432               Decelle-Villa Chorey-Lès-Beaune 2016   product   \n",
      "382                       Maurel Pays d'Oc Merlot 2018   product   \n",
      "634  Château de La Liquière Languedoc Blanc Les Ama...   product   \n",
      "670        Emile Boeckel Sylvaner Vieilles Vignes 2019   product   \n",
      "628  Château Ollieux Romanis Corbières Rosé Classiq...   product   \n",
      "142           Maurel Pays d'Oc Cabernet-Sauvignon 2017   product   \n",
      "601                Triennes IGP Méditerranée Rosé 2019   product   \n",
      "638  Mourgues du Grès Costières de Nîmes Galets Ros...   product   \n",
      "648    Philippe Nusswitz IGP Cévènnes Rosé O Pale 2019   product   \n",
      "637  Mourgues du Grès Costières de Nîmes Capitelles...   product   \n",
      "209  Château Tour Des Gendres Bergerac Blanc Cuvée ...   product   \n",
      "\n",
      "    post_mime_type _merge    z_score     CA  \n",
      "600            NaN   both   8.726151  356.4  \n",
      "341            NaN   both   8.726151  267.3  \n",
      "214            NaN   both  13.726151  357.6  \n",
      "674            NaN   both  27.326151  627.0  \n",
      "226            NaN   both  11.526151  279.4  \n",
      "313            NaN   both  40.026151  824.0  \n",
      "164            NaN   both   4.026151  104.0  \n",
      "461            NaN   both  10.426151  208.8  \n",
      "86             NaN   both  15.926151  290.7  \n",
      "432            NaN   both  27.826151  493.0  \n",
      "382            NaN   both   4.626151   98.6  \n",
      "634            NaN   both   8.326151  152.0  \n",
      "670            NaN   both   5.626151  108.8  \n",
      "628            NaN   both   7.026151  131.2  \n",
      "142            NaN   both   4.526151   91.2  \n",
      "601            NaN   both   8.126151  148.8  \n",
      "638            NaN   both   7.526151  139.2  \n",
      "648            NaN   both   5.326151  104.0  \n",
      "637            NaN   both   8.626151  147.0  \n",
      "209            NaN   both   8.126151  139.5  \n"
     ]
    },
    {
     "data": {
      "application/vnd.plotly.v1+json": {
       "config": {
        "plotlyServerURL": "https://plot.ly"
       },
       "data": [
        {
         "alignmentgroup": "True",
         "hovertemplate": "Nom du Produit=%{x}<br>Quantités vendues=%{y}<extra></extra>",
         "legendgroup": "",
         "marker": {
          "color": "#636efa",
          "pattern": {
           "shape": ""
          }
         },
         "name": "",
         "offsetgroup": "",
         "orientation": "v",
         "showlegend": false,
         "textposition": "auto",
         "type": "bar",
         "x": [
          "Château De La Selve IGP Coteaux de l'Ardèche Maguelonne Rosé 2019",
          "Mas Laval IGP Pays d'Hérault Les Pampres Blancs 2018",
          "I Fabbri Chianti Classico Lamole 2017",
          "Bernard Baudry Chinon Rouge La Croix Boissée 2017",
          "François Baur Pinot Noir Schlittweg 2017",
          "Agnès Levet Côte Rôtie Améthyste 2017",
          "Moulin de Gassac IGP Pays d'Hérault Guilhem Blanc 2017",
          "Xavier Frissant Touraine Amboise Chenin Les Pierres 2018",
          "Château Tour Haut-Caussan Médoc 2015",
          "Decelle-Villa Chorey-Lès-Beaune 2016",
          "Maurel Pays d'Oc Merlot 2018",
          "Château de La Liquière Languedoc Blanc Les Amandiers 2019",
          "Emile Boeckel Sylvaner Vieilles Vignes 2019",
          "Château Ollieux Romanis Corbières Rosé Classique 2019",
          "Maurel Pays d'Oc Cabernet-Sauvignon 2017",
          "Triennes IGP Méditerranée Rosé 2019",
          "Mourgues du Grès Costières de Nîmes Galets Rosés 2019",
          "Philippe Nusswitz IGP Cévènnes Rosé O Pale 2019",
          "Mourgues du Grès Costières de Nîmes Capitelles Rosé 2018",
          "Château Tour Des Gendres Bergerac Blanc Cuvée Des Conti 2017"
         ],
         "xaxis": "x",
         "y": [
          36,
          27,
          24,
          22,
          22,
          20,
          20,
          18,
          17,
          17,
          17,
          16,
          16,
          16,
          16,
          16,
          16,
          16,
          15,
          15
         ],
         "yaxis": "y"
        }
       ],
       "layout": {
        "barmode": "relative",
        "legend": {
         "tracegroupgap": 0
        },
        "template": {
         "data": {
          "bar": [
           {
            "error_x": {
             "color": "#2a3f5f"
            },
            "error_y": {
             "color": "#2a3f5f"
            },
            "marker": {
             "line": {
              "color": "#E5ECF6",
              "width": 0.5
             },
             "pattern": {
              "fillmode": "overlay",
              "size": 10,
              "solidity": 0.2
             }
            },
            "type": "bar"
           }
          ],
          "barpolar": [
           {
            "marker": {
             "line": {
              "color": "#E5ECF6",
              "width": 0.5
             },
             "pattern": {
              "fillmode": "overlay",
              "size": 10,
              "solidity": 0.2
             }
            },
            "type": "barpolar"
           }
          ],
          "carpet": [
           {
            "aaxis": {
             "endlinecolor": "#2a3f5f",
             "gridcolor": "white",
             "linecolor": "white",
             "minorgridcolor": "white",
             "startlinecolor": "#2a3f5f"
            },
            "baxis": {
             "endlinecolor": "#2a3f5f",
             "gridcolor": "white",
             "linecolor": "white",
             "minorgridcolor": "white",
             "startlinecolor": "#2a3f5f"
            },
            "type": "carpet"
           }
          ],
          "choropleth": [
           {
            "colorbar": {
             "outlinewidth": 0,
             "ticks": ""
            },
            "type": "choropleth"
           }
          ],
          "contour": [
           {
            "colorbar": {
             "outlinewidth": 0,
             "ticks": ""
            },
            "colorscale": [
             [
              0,
              "#0d0887"
             ],
             [
              0.1111111111111111,
              "#46039f"
             ],
             [
              0.2222222222222222,
              "#7201a8"
             ],
             [
              0.3333333333333333,
              "#9c179e"
             ],
             [
              0.4444444444444444,
              "#bd3786"
             ],
             [
              0.5555555555555556,
              "#d8576b"
             ],
             [
              0.6666666666666666,
              "#ed7953"
             ],
             [
              0.7777777777777778,
              "#fb9f3a"
             ],
             [
              0.8888888888888888,
              "#fdca26"
             ],
             [
              1,
              "#f0f921"
             ]
            ],
            "type": "contour"
           }
          ],
          "contourcarpet": [
           {
            "colorbar": {
             "outlinewidth": 0,
             "ticks": ""
            },
            "type": "contourcarpet"
           }
          ],
          "heatmap": [
           {
            "colorbar": {
             "outlinewidth": 0,
             "ticks": ""
            },
            "colorscale": [
             [
              0,
              "#0d0887"
             ],
             [
              0.1111111111111111,
              "#46039f"
             ],
             [
              0.2222222222222222,
              "#7201a8"
             ],
             [
              0.3333333333333333,
              "#9c179e"
             ],
             [
              0.4444444444444444,
              "#bd3786"
             ],
             [
              0.5555555555555556,
              "#d8576b"
             ],
             [
              0.6666666666666666,
              "#ed7953"
             ],
             [
              0.7777777777777778,
              "#fb9f3a"
             ],
             [
              0.8888888888888888,
              "#fdca26"
             ],
             [
              1,
              "#f0f921"
             ]
            ],
            "type": "heatmap"
           }
          ],
          "heatmapgl": [
           {
            "colorbar": {
             "outlinewidth": 0,
             "ticks": ""
            },
            "colorscale": [
             [
              0,
              "#0d0887"
             ],
             [
              0.1111111111111111,
              "#46039f"
             ],
             [
              0.2222222222222222,
              "#7201a8"
             ],
             [
              0.3333333333333333,
              "#9c179e"
             ],
             [
              0.4444444444444444,
              "#bd3786"
             ],
             [
              0.5555555555555556,
              "#d8576b"
             ],
             [
              0.6666666666666666,
              "#ed7953"
             ],
             [
              0.7777777777777778,
              "#fb9f3a"
             ],
             [
              0.8888888888888888,
              "#fdca26"
             ],
             [
              1,
              "#f0f921"
             ]
            ],
            "type": "heatmapgl"
           }
          ],
          "histogram": [
           {
            "marker": {
             "pattern": {
              "fillmode": "overlay",
              "size": 10,
              "solidity": 0.2
             }
            },
            "type": "histogram"
           }
          ],
          "histogram2d": [
           {
            "colorbar": {
             "outlinewidth": 0,
             "ticks": ""
            },
            "colorscale": [
             [
              0,
              "#0d0887"
             ],
             [
              0.1111111111111111,
              "#46039f"
             ],
             [
              0.2222222222222222,
              "#7201a8"
             ],
             [
              0.3333333333333333,
              "#9c179e"
             ],
             [
              0.4444444444444444,
              "#bd3786"
             ],
             [
              0.5555555555555556,
              "#d8576b"
             ],
             [
              0.6666666666666666,
              "#ed7953"
             ],
             [
              0.7777777777777778,
              "#fb9f3a"
             ],
             [
              0.8888888888888888,
              "#fdca26"
             ],
             [
              1,
              "#f0f921"
             ]
            ],
            "type": "histogram2d"
           }
          ],
          "histogram2dcontour": [
           {
            "colorbar": {
             "outlinewidth": 0,
             "ticks": ""
            },
            "colorscale": [
             [
              0,
              "#0d0887"
             ],
             [
              0.1111111111111111,
              "#46039f"
             ],
             [
              0.2222222222222222,
              "#7201a8"
             ],
             [
              0.3333333333333333,
              "#9c179e"
             ],
             [
              0.4444444444444444,
              "#bd3786"
             ],
             [
              0.5555555555555556,
              "#d8576b"
             ],
             [
              0.6666666666666666,
              "#ed7953"
             ],
             [
              0.7777777777777778,
              "#fb9f3a"
             ],
             [
              0.8888888888888888,
              "#fdca26"
             ],
             [
              1,
              "#f0f921"
             ]
            ],
            "type": "histogram2dcontour"
           }
          ],
          "mesh3d": [
           {
            "colorbar": {
             "outlinewidth": 0,
             "ticks": ""
            },
            "type": "mesh3d"
           }
          ],
          "parcoords": [
           {
            "line": {
             "colorbar": {
              "outlinewidth": 0,
              "ticks": ""
             }
            },
            "type": "parcoords"
           }
          ],
          "pie": [
           {
            "automargin": true,
            "type": "pie"
           }
          ],
          "scatter": [
           {
            "fillpattern": {
             "fillmode": "overlay",
             "size": 10,
             "solidity": 0.2
            },
            "type": "scatter"
           }
          ],
          "scatter3d": [
           {
            "line": {
             "colorbar": {
              "outlinewidth": 0,
              "ticks": ""
             }
            },
            "marker": {
             "colorbar": {
              "outlinewidth": 0,
              "ticks": ""
             }
            },
            "type": "scatter3d"
           }
          ],
          "scattercarpet": [
           {
            "marker": {
             "colorbar": {
              "outlinewidth": 0,
              "ticks": ""
             }
            },
            "type": "scattercarpet"
           }
          ],
          "scattergeo": [
           {
            "marker": {
             "colorbar": {
              "outlinewidth": 0,
              "ticks": ""
             }
            },
            "type": "scattergeo"
           }
          ],
          "scattergl": [
           {
            "marker": {
             "colorbar": {
              "outlinewidth": 0,
              "ticks": ""
             }
            },
            "type": "scattergl"
           }
          ],
          "scattermapbox": [
           {
            "marker": {
             "colorbar": {
              "outlinewidth": 0,
              "ticks": ""
             }
            },
            "type": "scattermapbox"
           }
          ],
          "scatterpolar": [
           {
            "marker": {
             "colorbar": {
              "outlinewidth": 0,
              "ticks": ""
             }
            },
            "type": "scatterpolar"
           }
          ],
          "scatterpolargl": [
           {
            "marker": {
             "colorbar": {
              "outlinewidth": 0,
              "ticks": ""
             }
            },
            "type": "scatterpolargl"
           }
          ],
          "scatterternary": [
           {
            "marker": {
             "colorbar": {
              "outlinewidth": 0,
              "ticks": ""
             }
            },
            "type": "scatterternary"
           }
          ],
          "surface": [
           {
            "colorbar": {
             "outlinewidth": 0,
             "ticks": ""
            },
            "colorscale": [
             [
              0,
              "#0d0887"
             ],
             [
              0.1111111111111111,
              "#46039f"
             ],
             [
              0.2222222222222222,
              "#7201a8"
             ],
             [
              0.3333333333333333,
              "#9c179e"
             ],
             [
              0.4444444444444444,
              "#bd3786"
             ],
             [
              0.5555555555555556,
              "#d8576b"
             ],
             [
              0.6666666666666666,
              "#ed7953"
             ],
             [
              0.7777777777777778,
              "#fb9f3a"
             ],
             [
              0.8888888888888888,
              "#fdca26"
             ],
             [
              1,
              "#f0f921"
             ]
            ],
            "type": "surface"
           }
          ],
          "table": [
           {
            "cells": {
             "fill": {
              "color": "#EBF0F8"
             },
             "line": {
              "color": "white"
             }
            },
            "header": {
             "fill": {
              "color": "#C8D4E3"
             },
             "line": {
              "color": "white"
             }
            },
            "type": "table"
           }
          ]
         },
         "layout": {
          "annotationdefaults": {
           "arrowcolor": "#2a3f5f",
           "arrowhead": 0,
           "arrowwidth": 1
          },
          "autotypenumbers": "strict",
          "coloraxis": {
           "colorbar": {
            "outlinewidth": 0,
            "ticks": ""
           }
          },
          "colorscale": {
           "diverging": [
            [
             0,
             "#8e0152"
            ],
            [
             0.1,
             "#c51b7d"
            ],
            [
             0.2,
             "#de77ae"
            ],
            [
             0.3,
             "#f1b6da"
            ],
            [
             0.4,
             "#fde0ef"
            ],
            [
             0.5,
             "#f7f7f7"
            ],
            [
             0.6,
             "#e6f5d0"
            ],
            [
             0.7,
             "#b8e186"
            ],
            [
             0.8,
             "#7fbc41"
            ],
            [
             0.9,
             "#4d9221"
            ],
            [
             1,
             "#276419"
            ]
           ],
           "sequential": [
            [
             0,
             "#0d0887"
            ],
            [
             0.1111111111111111,
             "#46039f"
            ],
            [
             0.2222222222222222,
             "#7201a8"
            ],
            [
             0.3333333333333333,
             "#9c179e"
            ],
            [
             0.4444444444444444,
             "#bd3786"
            ],
            [
             0.5555555555555556,
             "#d8576b"
            ],
            [
             0.6666666666666666,
             "#ed7953"
            ],
            [
             0.7777777777777778,
             "#fb9f3a"
            ],
            [
             0.8888888888888888,
             "#fdca26"
            ],
            [
             1,
             "#f0f921"
            ]
           ],
           "sequentialminus": [
            [
             0,
             "#0d0887"
            ],
            [
             0.1111111111111111,
             "#46039f"
            ],
            [
             0.2222222222222222,
             "#7201a8"
            ],
            [
             0.3333333333333333,
             "#9c179e"
            ],
            [
             0.4444444444444444,
             "#bd3786"
            ],
            [
             0.5555555555555556,
             "#d8576b"
            ],
            [
             0.6666666666666666,
             "#ed7953"
            ],
            [
             0.7777777777777778,
             "#fb9f3a"
            ],
            [
             0.8888888888888888,
             "#fdca26"
            ],
            [
             1,
             "#f0f921"
            ]
           ]
          },
          "colorway": [
           "#636efa",
           "#EF553B",
           "#00cc96",
           "#ab63fa",
           "#FFA15A",
           "#19d3f3",
           "#FF6692",
           "#B6E880",
           "#FF97FF",
           "#FECB52"
          ],
          "font": {
           "color": "#2a3f5f"
          },
          "geo": {
           "bgcolor": "white",
           "lakecolor": "white",
           "landcolor": "#E5ECF6",
           "showlakes": true,
           "showland": true,
           "subunitcolor": "white"
          },
          "hoverlabel": {
           "align": "left"
          },
          "hovermode": "closest",
          "mapbox": {
           "style": "light"
          },
          "paper_bgcolor": "white",
          "plot_bgcolor": "#E5ECF6",
          "polar": {
           "angularaxis": {
            "gridcolor": "white",
            "linecolor": "white",
            "ticks": ""
           },
           "bgcolor": "#E5ECF6",
           "radialaxis": {
            "gridcolor": "white",
            "linecolor": "white",
            "ticks": ""
           }
          },
          "scene": {
           "xaxis": {
            "backgroundcolor": "#E5ECF6",
            "gridcolor": "white",
            "gridwidth": 2,
            "linecolor": "white",
            "showbackground": true,
            "ticks": "",
            "zerolinecolor": "white"
           },
           "yaxis": {
            "backgroundcolor": "#E5ECF6",
            "gridcolor": "white",
            "gridwidth": 2,
            "linecolor": "white",
            "showbackground": true,
            "ticks": "",
            "zerolinecolor": "white"
           },
           "zaxis": {
            "backgroundcolor": "#E5ECF6",
            "gridcolor": "white",
            "gridwidth": 2,
            "linecolor": "white",
            "showbackground": true,
            "ticks": "",
            "zerolinecolor": "white"
           }
          },
          "shapedefaults": {
           "line": {
            "color": "#2a3f5f"
           }
          },
          "ternary": {
           "aaxis": {
            "gridcolor": "white",
            "linecolor": "white",
            "ticks": ""
           },
           "baxis": {
            "gridcolor": "white",
            "linecolor": "white",
            "ticks": ""
           },
           "bgcolor": "#E5ECF6",
           "caxis": {
            "gridcolor": "white",
            "linecolor": "white",
            "ticks": ""
           }
          },
          "title": {
           "x": 0.05
          },
          "xaxis": {
           "automargin": true,
           "gridcolor": "white",
           "linecolor": "white",
           "ticks": "",
           "title": {
            "standoff": 15
           },
           "zerolinecolor": "white",
           "zerolinewidth": 2
          },
          "yaxis": {
           "automargin": true,
           "gridcolor": "white",
           "linecolor": "white",
           "ticks": "",
           "title": {
            "standoff": 15
           },
           "zerolinecolor": "white",
           "zerolinewidth": 2
          }
         }
        },
        "title": {
         "text": "Top 20 des articles par Quantités vendues"
        },
        "xaxis": {
         "anchor": "y",
         "domain": [
          0,
          1
         ],
         "title": {
          "text": "Nom du Produit"
         }
        },
        "yaxis": {
         "anchor": "x",
         "domain": [
          0,
          1
         ],
         "title": {
          "text": "Quantités vendues"
         }
        }
       }
      }
     },
     "metadata": {},
     "output_type": "display_data"
    }
   ],
   "source": [
    "#####################################\n",
    "# Palmares des articles en quantité #\n",
    "#####################################\n",
    "\n",
    "#Effectuer le tri dans l'ordre décroissant de quantités vendues du dataset df_merge\n",
    "df_merge_sort_vendu = df_merge.sort_values(by='total_sales', ascending=False)\n",
    "#Réinitialiser l'index du dataset par un reset_index\n",
    "df_merge_sort_vendu.reset_index()\n",
    "#Afficher les 20 premier articles en quantité\n",
    "df_merge_sort_vendu_20=df_merge_sort_vendu.head(20)\n",
    "print(df_merge_sort_vendu_20)\n",
    "#Graphique en barre des 20 premiers articles avec plotly express\n",
    "px.bar(df_merge_sort_vendu_20, x='post_title', y='total_sales', title='Top 20 des articles par Quantités vendues',labels={'post_title': 'Nom du Produit', 'total_sales': 'Quantités vendues'})"
   ]
  },
  {
   "cell_type": "code",
   "execution_count": 119,
   "id": "15395c7d",
   "metadata": {},
   "outputs": [
    {
     "name": "stdout",
     "output_type": "stream",
     "text": [
      "Nombre d'articles représentant 80% du CA : 426\n",
      "La proportion que représentent ce groupe (Total de ventes) d'articles dans le catalogue entier du site web : 58.04 %\n"
     ]
    }
   ],
   "source": [
    "#############################\n",
    "# Calculer le 20 / 80 en CA #\n",
    "#############################\n",
    "\n",
    "#Créer une colonne calculant la part en quantité de la ligne dans le dataset\n",
    "df_merge_sort_vendu['part_sales']=df_merge_sort_vendu['total_sales']/df_merge_sort_vendu['total_sales'].sum()\n",
    "#Créer une colonne réalisant la somme cumulative de la colonne précedemment créée\n",
    "df_merge_sort_vendu['partcum_sales']=df_merge_sort_vendu['part_sales'].cumsum()\n",
    "#Grâce au deux colonnes créées précedemment, calculer le nombre d'articles représentant 80% des ventes en quantité\n",
    "articles_v_80_s = df_merge_sort_vendu[df_merge_sort_vendu['partcum_sales'] <= 0.8]['product_id'].count()\n",
    "print(f\"Nombre d'articles représentant 80% de la qtt totale : {articles_v_80_s}\")\n",
    "#Afficher la proportion que représentent ce groupe d'articles dans le catalogue entier du site web\n",
    "propotion_v_80_s=round(((articles_v_80_s/df_merge_sort_vendu['product_id'].count())*100),2)\n",
    "print(f\"La proportion que représentent ce groupe (Total de ventes) d'articles dans le catalogue entier du site web : {propotion_v_80_s} %\")"
   ]
  },
  {
   "cell_type": "markdown",
   "id": "077789b1",
   "metadata": {},
   "source": [
    "<div style=\"border: 1px solid RGB(51,165,182);\" >\n",
    "<h3 style=\"margin: auto; padding: 20px; color: RGB(51,165,182); \">Etape 5.3 - Analyse des stocks</h3>\n",
    "</div>"
   ]
  },
  {
   "cell_type": "code",
   "execution_count": 120,
   "id": "14e45472",
   "metadata": {},
   "outputs": [],
   "source": [
    "######################################\n",
    "# Calcule le nombre de mois de stock #\n",
    "######################################\n",
    "\n",
    "#Import de numpy "
   ]
  },
  {
   "cell_type": "code",
   "execution_count": 121,
   "id": "b40a2587",
   "metadata": {},
   "outputs": [
    {
     "name": "stderr",
     "output_type": "stream",
     "text": [
      "C:\\Users\\ZAPHAS\\AppData\\Local\\Temp\\ipykernel_21176\\360180663.py:4: FutureWarning:\n",
      "\n",
      "A value is trying to be set on a copy of a DataFrame or Series through chained assignment using an inplace method.\n",
      "The behavior will change in pandas 3.0. This inplace method will never work because the intermediate object on which we are setting values always behaves as a copy.\n",
      "\n",
      "For example, when doing 'df[col].method(value, inplace=True)', try using 'df.method({col: value}, inplace=True)' or df[col] = df[col].method(value) instead, to perform the operation inplace on the original object.\n",
      "\n",
      "\n",
      "\n"
     ]
    },
    {
     "data": {
      "application/vnd.plotly.v1+json": {
       "config": {
        "plotlyServerURL": "https://plot.ly"
       },
       "data": [
        {
         "alignmentgroup": "True",
         "hovertemplate": "Produit=%{x}<br>Nombre de mois de stock=%{y}<extra></extra>",
         "legendgroup": "",
         "marker": {
          "color": "#636efa",
          "pattern": {
           "shape": ""
          }
         },
         "name": "",
         "offsetgroup": "",
         "orientation": "v",
         "showlegend": false,
         "textposition": "auto",
         "type": "bar",
         "x": [
          "Champagne Gosset Grand Millésime 2006",
          "Champagne Gosset Célébris Vintage 2007",
          "Champagne Egly-Ouriet Premier Cru Les Vignes de Vrigny",
          "Champagne Egly-Ouriet Grand Cru Brut Tradition",
          "Champagne Mailly Grand Cru Brut Rosé",
          "Champagne Larmandier-Bernier Latitude",
          "Champagne Gosset Grand Rosé",
          "Champagne Agrapart &amp; Fils L'Avizoise Extra Brut Blanc de Blancs Grand Cru 2012",
          "Champagne Egly-Ouriet Grand Cru Extra Brut V.P.",
          "Champagne Mailly Grand Cru Intemporelle 2010",
          "Champagne Gosset Grand Blanc de Blancs",
          "Champagne Mailly Grand Cru Intemporelle Rosé 2009",
          "Domaine Weinbach Gewurztraminer Grand Cru Furstentum SGN 2010 1/2",
          "Château de Meursault Puligny-Montrachet 1er Cru Champ Canet 2014",
          "Champagne Agrapart &amp; Fils Les 7 Crus Brut Blanc de Blancs",
          "Champagne Larmandier-Bernier Terre de Vertus Premier Cru 2011",
          "Coteaux Champenois Egly-Ouriet Ambonnay Rouge 2016",
          "Champagne Larmandier-Bernier Grand Cru Les Chemins d'Avize 2011",
          "Champagne Gosset Grande Réserve",
          "Champagne Mailly Grand Cru Brut Réserve"
         ],
         "xaxis": "x",
         "y": [
          31.25,
          27.6,
          27,
          25,
          23.666666666666668,
          23,
          22.75,
          22.666666666666668,
          20.714285714285715,
          20.5,
          20.285714285714285,
          20.2,
          19,
          18,
          17.166666666666668,
          16.666666666666668,
          16.333333333333332,
          16,
          15.375,
          14.333333333333334
         ],
         "yaxis": "y"
        }
       ],
       "layout": {
        "barmode": "relative",
        "legend": {
         "tracegroupgap": 0
        },
        "template": {
         "data": {
          "bar": [
           {
            "error_x": {
             "color": "#2a3f5f"
            },
            "error_y": {
             "color": "#2a3f5f"
            },
            "marker": {
             "line": {
              "color": "#E5ECF6",
              "width": 0.5
             },
             "pattern": {
              "fillmode": "overlay",
              "size": 10,
              "solidity": 0.2
             }
            },
            "type": "bar"
           }
          ],
          "barpolar": [
           {
            "marker": {
             "line": {
              "color": "#E5ECF6",
              "width": 0.5
             },
             "pattern": {
              "fillmode": "overlay",
              "size": 10,
              "solidity": 0.2
             }
            },
            "type": "barpolar"
           }
          ],
          "carpet": [
           {
            "aaxis": {
             "endlinecolor": "#2a3f5f",
             "gridcolor": "white",
             "linecolor": "white",
             "minorgridcolor": "white",
             "startlinecolor": "#2a3f5f"
            },
            "baxis": {
             "endlinecolor": "#2a3f5f",
             "gridcolor": "white",
             "linecolor": "white",
             "minorgridcolor": "white",
             "startlinecolor": "#2a3f5f"
            },
            "type": "carpet"
           }
          ],
          "choropleth": [
           {
            "colorbar": {
             "outlinewidth": 0,
             "ticks": ""
            },
            "type": "choropleth"
           }
          ],
          "contour": [
           {
            "colorbar": {
             "outlinewidth": 0,
             "ticks": ""
            },
            "colorscale": [
             [
              0,
              "#0d0887"
             ],
             [
              0.1111111111111111,
              "#46039f"
             ],
             [
              0.2222222222222222,
              "#7201a8"
             ],
             [
              0.3333333333333333,
              "#9c179e"
             ],
             [
              0.4444444444444444,
              "#bd3786"
             ],
             [
              0.5555555555555556,
              "#d8576b"
             ],
             [
              0.6666666666666666,
              "#ed7953"
             ],
             [
              0.7777777777777778,
              "#fb9f3a"
             ],
             [
              0.8888888888888888,
              "#fdca26"
             ],
             [
              1,
              "#f0f921"
             ]
            ],
            "type": "contour"
           }
          ],
          "contourcarpet": [
           {
            "colorbar": {
             "outlinewidth": 0,
             "ticks": ""
            },
            "type": "contourcarpet"
           }
          ],
          "heatmap": [
           {
            "colorbar": {
             "outlinewidth": 0,
             "ticks": ""
            },
            "colorscale": [
             [
              0,
              "#0d0887"
             ],
             [
              0.1111111111111111,
              "#46039f"
             ],
             [
              0.2222222222222222,
              "#7201a8"
             ],
             [
              0.3333333333333333,
              "#9c179e"
             ],
             [
              0.4444444444444444,
              "#bd3786"
             ],
             [
              0.5555555555555556,
              "#d8576b"
             ],
             [
              0.6666666666666666,
              "#ed7953"
             ],
             [
              0.7777777777777778,
              "#fb9f3a"
             ],
             [
              0.8888888888888888,
              "#fdca26"
             ],
             [
              1,
              "#f0f921"
             ]
            ],
            "type": "heatmap"
           }
          ],
          "heatmapgl": [
           {
            "colorbar": {
             "outlinewidth": 0,
             "ticks": ""
            },
            "colorscale": [
             [
              0,
              "#0d0887"
             ],
             [
              0.1111111111111111,
              "#46039f"
             ],
             [
              0.2222222222222222,
              "#7201a8"
             ],
             [
              0.3333333333333333,
              "#9c179e"
             ],
             [
              0.4444444444444444,
              "#bd3786"
             ],
             [
              0.5555555555555556,
              "#d8576b"
             ],
             [
              0.6666666666666666,
              "#ed7953"
             ],
             [
              0.7777777777777778,
              "#fb9f3a"
             ],
             [
              0.8888888888888888,
              "#fdca26"
             ],
             [
              1,
              "#f0f921"
             ]
            ],
            "type": "heatmapgl"
           }
          ],
          "histogram": [
           {
            "marker": {
             "pattern": {
              "fillmode": "overlay",
              "size": 10,
              "solidity": 0.2
             }
            },
            "type": "histogram"
           }
          ],
          "histogram2d": [
           {
            "colorbar": {
             "outlinewidth": 0,
             "ticks": ""
            },
            "colorscale": [
             [
              0,
              "#0d0887"
             ],
             [
              0.1111111111111111,
              "#46039f"
             ],
             [
              0.2222222222222222,
              "#7201a8"
             ],
             [
              0.3333333333333333,
              "#9c179e"
             ],
             [
              0.4444444444444444,
              "#bd3786"
             ],
             [
              0.5555555555555556,
              "#d8576b"
             ],
             [
              0.6666666666666666,
              "#ed7953"
             ],
             [
              0.7777777777777778,
              "#fb9f3a"
             ],
             [
              0.8888888888888888,
              "#fdca26"
             ],
             [
              1,
              "#f0f921"
             ]
            ],
            "type": "histogram2d"
           }
          ],
          "histogram2dcontour": [
           {
            "colorbar": {
             "outlinewidth": 0,
             "ticks": ""
            },
            "colorscale": [
             [
              0,
              "#0d0887"
             ],
             [
              0.1111111111111111,
              "#46039f"
             ],
             [
              0.2222222222222222,
              "#7201a8"
             ],
             [
              0.3333333333333333,
              "#9c179e"
             ],
             [
              0.4444444444444444,
              "#bd3786"
             ],
             [
              0.5555555555555556,
              "#d8576b"
             ],
             [
              0.6666666666666666,
              "#ed7953"
             ],
             [
              0.7777777777777778,
              "#fb9f3a"
             ],
             [
              0.8888888888888888,
              "#fdca26"
             ],
             [
              1,
              "#f0f921"
             ]
            ],
            "type": "histogram2dcontour"
           }
          ],
          "mesh3d": [
           {
            "colorbar": {
             "outlinewidth": 0,
             "ticks": ""
            },
            "type": "mesh3d"
           }
          ],
          "parcoords": [
           {
            "line": {
             "colorbar": {
              "outlinewidth": 0,
              "ticks": ""
             }
            },
            "type": "parcoords"
           }
          ],
          "pie": [
           {
            "automargin": true,
            "type": "pie"
           }
          ],
          "scatter": [
           {
            "fillpattern": {
             "fillmode": "overlay",
             "size": 10,
             "solidity": 0.2
            },
            "type": "scatter"
           }
          ],
          "scatter3d": [
           {
            "line": {
             "colorbar": {
              "outlinewidth": 0,
              "ticks": ""
             }
            },
            "marker": {
             "colorbar": {
              "outlinewidth": 0,
              "ticks": ""
             }
            },
            "type": "scatter3d"
           }
          ],
          "scattercarpet": [
           {
            "marker": {
             "colorbar": {
              "outlinewidth": 0,
              "ticks": ""
             }
            },
            "type": "scattercarpet"
           }
          ],
          "scattergeo": [
           {
            "marker": {
             "colorbar": {
              "outlinewidth": 0,
              "ticks": ""
             }
            },
            "type": "scattergeo"
           }
          ],
          "scattergl": [
           {
            "marker": {
             "colorbar": {
              "outlinewidth": 0,
              "ticks": ""
             }
            },
            "type": "scattergl"
           }
          ],
          "scattermapbox": [
           {
            "marker": {
             "colorbar": {
              "outlinewidth": 0,
              "ticks": ""
             }
            },
            "type": "scattermapbox"
           }
          ],
          "scatterpolar": [
           {
            "marker": {
             "colorbar": {
              "outlinewidth": 0,
              "ticks": ""
             }
            },
            "type": "scatterpolar"
           }
          ],
          "scatterpolargl": [
           {
            "marker": {
             "colorbar": {
              "outlinewidth": 0,
              "ticks": ""
             }
            },
            "type": "scatterpolargl"
           }
          ],
          "scatterternary": [
           {
            "marker": {
             "colorbar": {
              "outlinewidth": 0,
              "ticks": ""
             }
            },
            "type": "scatterternary"
           }
          ],
          "surface": [
           {
            "colorbar": {
             "outlinewidth": 0,
             "ticks": ""
            },
            "colorscale": [
             [
              0,
              "#0d0887"
             ],
             [
              0.1111111111111111,
              "#46039f"
             ],
             [
              0.2222222222222222,
              "#7201a8"
             ],
             [
              0.3333333333333333,
              "#9c179e"
             ],
             [
              0.4444444444444444,
              "#bd3786"
             ],
             [
              0.5555555555555556,
              "#d8576b"
             ],
             [
              0.6666666666666666,
              "#ed7953"
             ],
             [
              0.7777777777777778,
              "#fb9f3a"
             ],
             [
              0.8888888888888888,
              "#fdca26"
             ],
             [
              1,
              "#f0f921"
             ]
            ],
            "type": "surface"
           }
          ],
          "table": [
           {
            "cells": {
             "fill": {
              "color": "#EBF0F8"
             },
             "line": {
              "color": "white"
             }
            },
            "header": {
             "fill": {
              "color": "#C8D4E3"
             },
             "line": {
              "color": "white"
             }
            },
            "type": "table"
           }
          ]
         },
         "layout": {
          "annotationdefaults": {
           "arrowcolor": "#2a3f5f",
           "arrowhead": 0,
           "arrowwidth": 1
          },
          "autotypenumbers": "strict",
          "coloraxis": {
           "colorbar": {
            "outlinewidth": 0,
            "ticks": ""
           }
          },
          "colorscale": {
           "diverging": [
            [
             0,
             "#8e0152"
            ],
            [
             0.1,
             "#c51b7d"
            ],
            [
             0.2,
             "#de77ae"
            ],
            [
             0.3,
             "#f1b6da"
            ],
            [
             0.4,
             "#fde0ef"
            ],
            [
             0.5,
             "#f7f7f7"
            ],
            [
             0.6,
             "#e6f5d0"
            ],
            [
             0.7,
             "#b8e186"
            ],
            [
             0.8,
             "#7fbc41"
            ],
            [
             0.9,
             "#4d9221"
            ],
            [
             1,
             "#276419"
            ]
           ],
           "sequential": [
            [
             0,
             "#0d0887"
            ],
            [
             0.1111111111111111,
             "#46039f"
            ],
            [
             0.2222222222222222,
             "#7201a8"
            ],
            [
             0.3333333333333333,
             "#9c179e"
            ],
            [
             0.4444444444444444,
             "#bd3786"
            ],
            [
             0.5555555555555556,
             "#d8576b"
            ],
            [
             0.6666666666666666,
             "#ed7953"
            ],
            [
             0.7777777777777778,
             "#fb9f3a"
            ],
            [
             0.8888888888888888,
             "#fdca26"
            ],
            [
             1,
             "#f0f921"
            ]
           ],
           "sequentialminus": [
            [
             0,
             "#0d0887"
            ],
            [
             0.1111111111111111,
             "#46039f"
            ],
            [
             0.2222222222222222,
             "#7201a8"
            ],
            [
             0.3333333333333333,
             "#9c179e"
            ],
            [
             0.4444444444444444,
             "#bd3786"
            ],
            [
             0.5555555555555556,
             "#d8576b"
            ],
            [
             0.6666666666666666,
             "#ed7953"
            ],
            [
             0.7777777777777778,
             "#fb9f3a"
            ],
            [
             0.8888888888888888,
             "#fdca26"
            ],
            [
             1,
             "#f0f921"
            ]
           ]
          },
          "colorway": [
           "#636efa",
           "#EF553B",
           "#00cc96",
           "#ab63fa",
           "#FFA15A",
           "#19d3f3",
           "#FF6692",
           "#B6E880",
           "#FF97FF",
           "#FECB52"
          ],
          "font": {
           "color": "#2a3f5f"
          },
          "geo": {
           "bgcolor": "white",
           "lakecolor": "white",
           "landcolor": "#E5ECF6",
           "showlakes": true,
           "showland": true,
           "subunitcolor": "white"
          },
          "hoverlabel": {
           "align": "left"
          },
          "hovermode": "closest",
          "mapbox": {
           "style": "light"
          },
          "paper_bgcolor": "white",
          "plot_bgcolor": "#E5ECF6",
          "polar": {
           "angularaxis": {
            "gridcolor": "white",
            "linecolor": "white",
            "ticks": ""
           },
           "bgcolor": "#E5ECF6",
           "radialaxis": {
            "gridcolor": "white",
            "linecolor": "white",
            "ticks": ""
           }
          },
          "scene": {
           "xaxis": {
            "backgroundcolor": "#E5ECF6",
            "gridcolor": "white",
            "gridwidth": 2,
            "linecolor": "white",
            "showbackground": true,
            "ticks": "",
            "zerolinecolor": "white"
           },
           "yaxis": {
            "backgroundcolor": "#E5ECF6",
            "gridcolor": "white",
            "gridwidth": 2,
            "linecolor": "white",
            "showbackground": true,
            "ticks": "",
            "zerolinecolor": "white"
           },
           "zaxis": {
            "backgroundcolor": "#E5ECF6",
            "gridcolor": "white",
            "gridwidth": 2,
            "linecolor": "white",
            "showbackground": true,
            "ticks": "",
            "zerolinecolor": "white"
           }
          },
          "shapedefaults": {
           "line": {
            "color": "#2a3f5f"
           }
          },
          "ternary": {
           "aaxis": {
            "gridcolor": "white",
            "linecolor": "white",
            "ticks": ""
           },
           "baxis": {
            "gridcolor": "white",
            "linecolor": "white",
            "ticks": ""
           },
           "bgcolor": "#E5ECF6",
           "caxis": {
            "gridcolor": "white",
            "linecolor": "white",
            "ticks": ""
           }
          },
          "title": {
           "x": 0.05
          },
          "xaxis": {
           "automargin": true,
           "gridcolor": "white",
           "linecolor": "white",
           "ticks": "",
           "title": {
            "standoff": 15
           },
           "zerolinecolor": "white",
           "zerolinewidth": 2
          },
          "yaxis": {
           "automargin": true,
           "gridcolor": "white",
           "linecolor": "white",
           "ticks": "",
           "title": {
            "standoff": 15
           },
           "zerolinecolor": "white",
           "zerolinewidth": 2
          }
         }
        },
        "title": {
         "text": "Top 20 des produits avec le plus de mois de stock"
        },
        "xaxis": {
         "anchor": "y",
         "domain": [
          0,
          1
         ],
         "title": {
          "text": "Produit"
         }
        },
        "yaxis": {
         "anchor": "x",
         "domain": [
          0,
          1
         ],
         "title": {
          "text": "Nombre de mois de stock"
         }
        }
       }
      }
     },
     "metadata": {},
     "output_type": "display_data"
    }
   ],
   "source": [
    "# Calcul du nombre de mois de stock\n",
    "df_merge['Months_of_stock'] = df_merge['stock_quantity'] / df_merge['total_sales']\n",
    "# Remplacement des valeurs infinies par 0 (dans le cas où total_sales est 0)\n",
    "df_merge['Months_of_stock'].replace([np.inf, -np.inf], 0, inplace=True)\n",
    "# Tri dans l'ordre décroissant du nombre de mois de stock\n",
    "df_merge_sort_stock = df_merge.sort_values(by='Months_of_stock', ascending=False)\n",
    "# Sélection des 20 produits avec le plus de mois de stock\n",
    "df_merge_sort_stock_20 = df_merge_sort_stock.head(20)\n",
    "# Création d'un graphique en barres\n",
    "px.bar(df_merge_sort_stock_20, x='post_title', y='Months_of_stock',\n",
    "             title='Top 20 des produits avec le plus de mois de stock',\n",
    "             labels={'post_title': 'Produit', 'Months_of_stock': 'Nombre de mois de stock'})\n"
   ]
  },
  {
   "cell_type": "code",
   "execution_count": 134,
   "id": "0459e35e",
   "metadata": {},
   "outputs": [
    {
     "data": {
      "text/html": [
       "<div>\n",
       "<style scoped>\n",
       "    .dataframe tbody tr th:only-of-type {\n",
       "        vertical-align: middle;\n",
       "    }\n",
       "\n",
       "    .dataframe tbody tr th {\n",
       "        vertical-align: top;\n",
       "    }\n",
       "\n",
       "    .dataframe thead th {\n",
       "        text-align: right;\n",
       "    }\n",
       "</style>\n",
       "<table border=\"1\" class=\"dataframe\">\n",
       "  <thead>\n",
       "    <tr style=\"text-align: right;\">\n",
       "      <th></th>\n",
       "      <th>product_id</th>\n",
       "      <th>onsale_web</th>\n",
       "      <th>price</th>\n",
       "      <th>stock_quantity</th>\n",
       "      <th>stock_status</th>\n",
       "      <th>purchase_price</th>\n",
       "      <th>id_web</th>\n",
       "      <th>sku</th>\n",
       "      <th>total_sales</th>\n",
       "      <th>tax_status</th>\n",
       "      <th>product_type</th>\n",
       "      <th>post_title</th>\n",
       "      <th>post_type</th>\n",
       "      <th>post_mime_type</th>\n",
       "      <th>_merge</th>\n",
       "      <th>z_score</th>\n",
       "      <th>CA</th>\n",
       "      <th>Months_of_stock</th>\n",
       "    </tr>\n",
       "  </thead>\n",
       "  <tbody>\n",
       "    <tr>\n",
       "      <th>14</th>\n",
       "      <td>4142</td>\n",
       "      <td>1.0</td>\n",
       "      <td>53.0</td>\n",
       "      <td>125.0</td>\n",
       "      <td>instock</td>\n",
       "      <td>32.15</td>\n",
       "      <td>11641</td>\n",
       "      <td>11641</td>\n",
       "      <td>4.0</td>\n",
       "      <td>taxable</td>\n",
       "      <td>Champagne</td>\n",
       "      <td>Champagne Gosset Grand Millésime 2006</td>\n",
       "      <td>product</td>\n",
       "      <td>NaN</td>\n",
       "      <td>both</td>\n",
       "      <td>51.826151</td>\n",
       "      <td>212.0</td>\n",
       "      <td>31.250000</td>\n",
       "    </tr>\n",
       "    <tr>\n",
       "      <th>221</th>\n",
       "      <td>6126</td>\n",
       "      <td>1.0</td>\n",
       "      <td>135.0</td>\n",
       "      <td>138.0</td>\n",
       "      <td>instock</td>\n",
       "      <td>80.33</td>\n",
       "      <td>14923</td>\n",
       "      <td>14923</td>\n",
       "      <td>5.0</td>\n",
       "      <td>taxable</td>\n",
       "      <td>Champagne</td>\n",
       "      <td>Champagne Gosset Célébris Vintage 2007</td>\n",
       "      <td>product</td>\n",
       "      <td>NaN</td>\n",
       "      <td>both</td>\n",
       "      <td>133.826151</td>\n",
       "      <td>675.0</td>\n",
       "      <td>27.600000</td>\n",
       "    </tr>\n",
       "    <tr>\n",
       "      <th>34</th>\n",
       "      <td>4356</td>\n",
       "      <td>1.0</td>\n",
       "      <td>51.6</td>\n",
       "      <td>81.0</td>\n",
       "      <td>instock</td>\n",
       "      <td>31.00</td>\n",
       "      <td>12585</td>\n",
       "      <td>12585</td>\n",
       "      <td>3.0</td>\n",
       "      <td>taxable</td>\n",
       "      <td>Champagne</td>\n",
       "      <td>Champagne Egly-Ouriet Premier Cru Les Vignes d...</td>\n",
       "      <td>product</td>\n",
       "      <td>NaN</td>\n",
       "      <td>both</td>\n",
       "      <td>50.426151</td>\n",
       "      <td>154.8</td>\n",
       "      <td>27.000000</td>\n",
       "    </tr>\n",
       "    <tr>\n",
       "      <th>35</th>\n",
       "      <td>4348</td>\n",
       "      <td>1.0</td>\n",
       "      <td>59.0</td>\n",
       "      <td>125.0</td>\n",
       "      <td>instock</td>\n",
       "      <td>34.76</td>\n",
       "      <td>12586</td>\n",
       "      <td>12586</td>\n",
       "      <td>5.0</td>\n",
       "      <td>taxable</td>\n",
       "      <td>Champagne</td>\n",
       "      <td>Champagne Egly-Ouriet Grand Cru Brut Tradition</td>\n",
       "      <td>product</td>\n",
       "      <td>NaN</td>\n",
       "      <td>both</td>\n",
       "      <td>57.826151</td>\n",
       "      <td>295.0</td>\n",
       "      <td>25.000000</td>\n",
       "    </tr>\n",
       "    <tr>\n",
       "      <th>92</th>\n",
       "      <td>4148</td>\n",
       "      <td>1.0</td>\n",
       "      <td>37.5</td>\n",
       "      <td>71.0</td>\n",
       "      <td>instock</td>\n",
       "      <td>21.88</td>\n",
       "      <td>1364</td>\n",
       "      <td>1364</td>\n",
       "      <td>3.0</td>\n",
       "      <td>taxable</td>\n",
       "      <td>Champagne</td>\n",
       "      <td>Champagne Mailly Grand Cru Brut Rosé</td>\n",
       "      <td>product</td>\n",
       "      <td>NaN</td>\n",
       "      <td>both</td>\n",
       "      <td>36.326151</td>\n",
       "      <td>112.5</td>\n",
       "      <td>23.666667</td>\n",
       "    </tr>\n",
       "    <tr>\n",
       "      <th>730</th>\n",
       "      <td>4357</td>\n",
       "      <td>1.0</td>\n",
       "      <td>39.0</td>\n",
       "      <td>115.0</td>\n",
       "      <td>instock</td>\n",
       "      <td>22.30</td>\n",
       "      <td>9562</td>\n",
       "      <td>9562</td>\n",
       "      <td>5.0</td>\n",
       "      <td>taxable</td>\n",
       "      <td>Champagne</td>\n",
       "      <td>Champagne Larmandier-Bernier Latitude</td>\n",
       "      <td>product</td>\n",
       "      <td>NaN</td>\n",
       "      <td>both</td>\n",
       "      <td>37.826151</td>\n",
       "      <td>195.0</td>\n",
       "      <td>23.000000</td>\n",
       "    </tr>\n",
       "    <tr>\n",
       "      <th>689</th>\n",
       "      <td>4144</td>\n",
       "      <td>1.0</td>\n",
       "      <td>49.0</td>\n",
       "      <td>91.0</td>\n",
       "      <td>instock</td>\n",
       "      <td>27.73</td>\n",
       "      <td>1662</td>\n",
       "      <td>1662</td>\n",
       "      <td>4.0</td>\n",
       "      <td>taxable</td>\n",
       "      <td>Champagne</td>\n",
       "      <td>Champagne Gosset Grand Rosé</td>\n",
       "      <td>product</td>\n",
       "      <td>NaN</td>\n",
       "      <td>both</td>\n",
       "      <td>47.826151</td>\n",
       "      <td>196.0</td>\n",
       "      <td>22.750000</td>\n",
       "    </tr>\n",
       "    <tr>\n",
       "      <th>113</th>\n",
       "      <td>5025</td>\n",
       "      <td>1.0</td>\n",
       "      <td>112.0</td>\n",
       "      <td>136.0</td>\n",
       "      <td>instock</td>\n",
       "      <td>68.60</td>\n",
       "      <td>13914</td>\n",
       "      <td>13914</td>\n",
       "      <td>6.0</td>\n",
       "      <td>taxable</td>\n",
       "      <td>Champagne</td>\n",
       "      <td>Champagne Agrapart &amp;amp; Fils L'Avizoise Extra...</td>\n",
       "      <td>product</td>\n",
       "      <td>NaN</td>\n",
       "      <td>both</td>\n",
       "      <td>110.826151</td>\n",
       "      <td>672.0</td>\n",
       "      <td>22.666667</td>\n",
       "    </tr>\n",
       "    <tr>\n",
       "      <th>37</th>\n",
       "      <td>4350</td>\n",
       "      <td>1.0</td>\n",
       "      <td>79.5</td>\n",
       "      <td>145.0</td>\n",
       "      <td>instock</td>\n",
       "      <td>47.30</td>\n",
       "      <td>12588</td>\n",
       "      <td>12588</td>\n",
       "      <td>7.0</td>\n",
       "      <td>taxable</td>\n",
       "      <td>Champagne</td>\n",
       "      <td>Champagne Egly-Ouriet Grand Cru Extra Brut V.P.</td>\n",
       "      <td>product</td>\n",
       "      <td>NaN</td>\n",
       "      <td>both</td>\n",
       "      <td>78.326151</td>\n",
       "      <td>556.5</td>\n",
       "      <td>20.714286</td>\n",
       "    </tr>\n",
       "    <tr>\n",
       "      <th>95</th>\n",
       "      <td>4150</td>\n",
       "      <td>1.0</td>\n",
       "      <td>59.0</td>\n",
       "      <td>123.0</td>\n",
       "      <td>instock</td>\n",
       "      <td>35.45</td>\n",
       "      <td>1366</td>\n",
       "      <td>1366</td>\n",
       "      <td>6.0</td>\n",
       "      <td>taxable</td>\n",
       "      <td>Champagne</td>\n",
       "      <td>Champagne Mailly Grand Cru Intemporelle 2010</td>\n",
       "      <td>product</td>\n",
       "      <td>NaN</td>\n",
       "      <td>both</td>\n",
       "      <td>57.826151</td>\n",
       "      <td>354.0</td>\n",
       "      <td>20.500000</td>\n",
       "    </tr>\n",
       "    <tr>\n",
       "      <th>716</th>\n",
       "      <td>4334</td>\n",
       "      <td>1.0</td>\n",
       "      <td>49.0</td>\n",
       "      <td>142.0</td>\n",
       "      <td>instock</td>\n",
       "      <td>30.01</td>\n",
       "      <td>7818</td>\n",
       "      <td>7818</td>\n",
       "      <td>7.0</td>\n",
       "      <td>taxable</td>\n",
       "      <td>Champagne</td>\n",
       "      <td>Champagne Gosset Grand Blanc de Blancs</td>\n",
       "      <td>product</td>\n",
       "      <td>NaN</td>\n",
       "      <td>both</td>\n",
       "      <td>47.826151</td>\n",
       "      <td>343.0</td>\n",
       "      <td>20.285714</td>\n",
       "    </tr>\n",
       "    <tr>\n",
       "      <th>715</th>\n",
       "      <td>4149</td>\n",
       "      <td>1.0</td>\n",
       "      <td>69.0</td>\n",
       "      <td>101.0</td>\n",
       "      <td>instock</td>\n",
       "      <td>40.25</td>\n",
       "      <td>7086</td>\n",
       "      <td>7086</td>\n",
       "      <td>5.0</td>\n",
       "      <td>taxable</td>\n",
       "      <td>Champagne</td>\n",
       "      <td>Champagne Mailly Grand Cru Intemporelle Rosé 2009</td>\n",
       "      <td>product</td>\n",
       "      <td>NaN</td>\n",
       "      <td>both</td>\n",
       "      <td>67.826151</td>\n",
       "      <td>345.0</td>\n",
       "      <td>20.200000</td>\n",
       "    </tr>\n",
       "    <tr>\n",
       "      <th>220</th>\n",
       "      <td>5612</td>\n",
       "      <td>1.0</td>\n",
       "      <td>124.8</td>\n",
       "      <td>19.0</td>\n",
       "      <td>instock</td>\n",
       "      <td>66.41</td>\n",
       "      <td>14915</td>\n",
       "      <td>14915</td>\n",
       "      <td>1.0</td>\n",
       "      <td>taxable</td>\n",
       "      <td>Vin</td>\n",
       "      <td>Domaine Weinbach Gewurztraminer Grand Cru Furs...</td>\n",
       "      <td>product</td>\n",
       "      <td>NaN</td>\n",
       "      <td>both</td>\n",
       "      <td>123.626151</td>\n",
       "      <td>124.8</td>\n",
       "      <td>19.000000</td>\n",
       "    </tr>\n",
       "    <tr>\n",
       "      <th>48</th>\n",
       "      <td>4582</td>\n",
       "      <td>1.0</td>\n",
       "      <td>109.6</td>\n",
       "      <td>18.0</td>\n",
       "      <td>instock</td>\n",
       "      <td>53.80</td>\n",
       "      <td>12857</td>\n",
       "      <td>12857</td>\n",
       "      <td>1.0</td>\n",
       "      <td>taxable</td>\n",
       "      <td>Vin</td>\n",
       "      <td>Château de Meursault Puligny-Montrachet 1er Cr...</td>\n",
       "      <td>product</td>\n",
       "      <td>NaN</td>\n",
       "      <td>both</td>\n",
       "      <td>108.426151</td>\n",
       "      <td>109.6</td>\n",
       "      <td>18.000000</td>\n",
       "    </tr>\n",
       "    <tr>\n",
       "      <th>22</th>\n",
       "      <td>5024</td>\n",
       "      <td>1.0</td>\n",
       "      <td>45.0</td>\n",
       "      <td>103.0</td>\n",
       "      <td>instock</td>\n",
       "      <td>27.04</td>\n",
       "      <td>11996</td>\n",
       "      <td>11996</td>\n",
       "      <td>6.0</td>\n",
       "      <td>taxable</td>\n",
       "      <td>Champagne</td>\n",
       "      <td>Champagne Agrapart &amp;amp; Fils Les 7 Crus Brut ...</td>\n",
       "      <td>product</td>\n",
       "      <td>NaN</td>\n",
       "      <td>both</td>\n",
       "      <td>43.826151</td>\n",
       "      <td>270.0</td>\n",
       "      <td>17.166667</td>\n",
       "    </tr>\n",
       "    <tr>\n",
       "      <th>5</th>\n",
       "      <td>4970</td>\n",
       "      <td>1.0</td>\n",
       "      <td>49.5</td>\n",
       "      <td>100.0</td>\n",
       "      <td>instock</td>\n",
       "      <td>28.59</td>\n",
       "      <td>11225</td>\n",
       "      <td>11225</td>\n",
       "      <td>6.0</td>\n",
       "      <td>taxable</td>\n",
       "      <td>Champagne</td>\n",
       "      <td>Champagne Larmandier-Bernier Terre de Vertus P...</td>\n",
       "      <td>product</td>\n",
       "      <td>NaN</td>\n",
       "      <td>both</td>\n",
       "      <td>48.326151</td>\n",
       "      <td>297.0</td>\n",
       "      <td>16.666667</td>\n",
       "    </tr>\n",
       "    <tr>\n",
       "      <th>233</th>\n",
       "      <td>5892</td>\n",
       "      <td>1.0</td>\n",
       "      <td>191.3</td>\n",
       "      <td>98.0</td>\n",
       "      <td>instock</td>\n",
       "      <td>116.06</td>\n",
       "      <td>14983</td>\n",
       "      <td>14983</td>\n",
       "      <td>6.0</td>\n",
       "      <td>taxable</td>\n",
       "      <td>Champagne</td>\n",
       "      <td>Coteaux Champenois Egly-Ouriet Ambonnay Rouge ...</td>\n",
       "      <td>product</td>\n",
       "      <td>NaN</td>\n",
       "      <td>both</td>\n",
       "      <td>190.126151</td>\n",
       "      <td>1147.8</td>\n",
       "      <td>16.333333</td>\n",
       "    </tr>\n",
       "    <tr>\n",
       "      <th>106</th>\n",
       "      <td>4359</td>\n",
       "      <td>1.0</td>\n",
       "      <td>85.6</td>\n",
       "      <td>112.0</td>\n",
       "      <td>instock</td>\n",
       "      <td>51.93</td>\n",
       "      <td>13853</td>\n",
       "      <td>13853</td>\n",
       "      <td>7.0</td>\n",
       "      <td>taxable</td>\n",
       "      <td>Champagne</td>\n",
       "      <td>Champagne Larmandier-Bernier Grand Cru Les Che...</td>\n",
       "      <td>product</td>\n",
       "      <td>NaN</td>\n",
       "      <td>both</td>\n",
       "      <td>84.426151</td>\n",
       "      <td>599.2</td>\n",
       "      <td>16.000000</td>\n",
       "    </tr>\n",
       "    <tr>\n",
       "      <th>699</th>\n",
       "      <td>4141</td>\n",
       "      <td>1.0</td>\n",
       "      <td>39.0</td>\n",
       "      <td>123.0</td>\n",
       "      <td>instock</td>\n",
       "      <td>24.86</td>\n",
       "      <td>304</td>\n",
       "      <td>304</td>\n",
       "      <td>8.0</td>\n",
       "      <td>taxable</td>\n",
       "      <td>Champagne</td>\n",
       "      <td>Champagne Gosset Grande Réserve</td>\n",
       "      <td>product</td>\n",
       "      <td>NaN</td>\n",
       "      <td>both</td>\n",
       "      <td>37.826151</td>\n",
       "      <td>312.0</td>\n",
       "      <td>15.375000</td>\n",
       "    </tr>\n",
       "    <tr>\n",
       "      <th>89</th>\n",
       "      <td>4146</td>\n",
       "      <td>1.0</td>\n",
       "      <td>29.5</td>\n",
       "      <td>86.0</td>\n",
       "      <td>instock</td>\n",
       "      <td>17.55</td>\n",
       "      <td>1360</td>\n",
       "      <td>1360</td>\n",
       "      <td>6.0</td>\n",
       "      <td>taxable</td>\n",
       "      <td>Champagne</td>\n",
       "      <td>Champagne Mailly Grand Cru Brut Réserve</td>\n",
       "      <td>product</td>\n",
       "      <td>NaN</td>\n",
       "      <td>both</td>\n",
       "      <td>28.326151</td>\n",
       "      <td>177.0</td>\n",
       "      <td>14.333333</td>\n",
       "    </tr>\n",
       "  </tbody>\n",
       "</table>\n",
       "</div>"
      ],
      "text/plain": [
       "    product_id  onsale_web  price  stock_quantity stock_status  \\\n",
       "14        4142         1.0   53.0           125.0      instock   \n",
       "221       6126         1.0  135.0           138.0      instock   \n",
       "34        4356         1.0   51.6            81.0      instock   \n",
       "35        4348         1.0   59.0           125.0      instock   \n",
       "92        4148         1.0   37.5            71.0      instock   \n",
       "730       4357         1.0   39.0           115.0      instock   \n",
       "689       4144         1.0   49.0            91.0      instock   \n",
       "113       5025         1.0  112.0           136.0      instock   \n",
       "37        4350         1.0   79.5           145.0      instock   \n",
       "95        4150         1.0   59.0           123.0      instock   \n",
       "716       4334         1.0   49.0           142.0      instock   \n",
       "715       4149         1.0   69.0           101.0      instock   \n",
       "220       5612         1.0  124.8            19.0      instock   \n",
       "48        4582         1.0  109.6            18.0      instock   \n",
       "22        5024         1.0   45.0           103.0      instock   \n",
       "5         4970         1.0   49.5           100.0      instock   \n",
       "233       5892         1.0  191.3            98.0      instock   \n",
       "106       4359         1.0   85.6           112.0      instock   \n",
       "699       4141         1.0   39.0           123.0      instock   \n",
       "89        4146         1.0   29.5            86.0      instock   \n",
       "\n",
       "     purchase_price id_web    sku  total_sales tax_status product_type  \\\n",
       "14            32.15  11641  11641          4.0    taxable    Champagne   \n",
       "221           80.33  14923  14923          5.0    taxable    Champagne   \n",
       "34            31.00  12585  12585          3.0    taxable    Champagne   \n",
       "35            34.76  12586  12586          5.0    taxable    Champagne   \n",
       "92            21.88   1364   1364          3.0    taxable    Champagne   \n",
       "730           22.30   9562   9562          5.0    taxable    Champagne   \n",
       "689           27.73   1662   1662          4.0    taxable    Champagne   \n",
       "113           68.60  13914  13914          6.0    taxable    Champagne   \n",
       "37            47.30  12588  12588          7.0    taxable    Champagne   \n",
       "95            35.45   1366   1366          6.0    taxable    Champagne   \n",
       "716           30.01   7818   7818          7.0    taxable    Champagne   \n",
       "715           40.25   7086   7086          5.0    taxable    Champagne   \n",
       "220           66.41  14915  14915          1.0    taxable          Vin   \n",
       "48            53.80  12857  12857          1.0    taxable          Vin   \n",
       "22            27.04  11996  11996          6.0    taxable    Champagne   \n",
       "5             28.59  11225  11225          6.0    taxable    Champagne   \n",
       "233          116.06  14983  14983          6.0    taxable    Champagne   \n",
       "106           51.93  13853  13853          7.0    taxable    Champagne   \n",
       "699           24.86    304    304          8.0    taxable    Champagne   \n",
       "89            17.55   1360   1360          6.0    taxable    Champagne   \n",
       "\n",
       "                                            post_title post_type  \\\n",
       "14               Champagne Gosset Grand Millésime 2006   product   \n",
       "221             Champagne Gosset Célébris Vintage 2007   product   \n",
       "34   Champagne Egly-Ouriet Premier Cru Les Vignes d...   product   \n",
       "35      Champagne Egly-Ouriet Grand Cru Brut Tradition   product   \n",
       "92                Champagne Mailly Grand Cru Brut Rosé   product   \n",
       "730              Champagne Larmandier-Bernier Latitude   product   \n",
       "689                        Champagne Gosset Grand Rosé   product   \n",
       "113  Champagne Agrapart &amp; Fils L'Avizoise Extra...   product   \n",
       "37     Champagne Egly-Ouriet Grand Cru Extra Brut V.P.   product   \n",
       "95        Champagne Mailly Grand Cru Intemporelle 2010   product   \n",
       "716             Champagne Gosset Grand Blanc de Blancs   product   \n",
       "715  Champagne Mailly Grand Cru Intemporelle Rosé 2009   product   \n",
       "220  Domaine Weinbach Gewurztraminer Grand Cru Furs...   product   \n",
       "48   Château de Meursault Puligny-Montrachet 1er Cr...   product   \n",
       "22   Champagne Agrapart &amp; Fils Les 7 Crus Brut ...   product   \n",
       "5    Champagne Larmandier-Bernier Terre de Vertus P...   product   \n",
       "233  Coteaux Champenois Egly-Ouriet Ambonnay Rouge ...   product   \n",
       "106  Champagne Larmandier-Bernier Grand Cru Les Che...   product   \n",
       "699                    Champagne Gosset Grande Réserve   product   \n",
       "89             Champagne Mailly Grand Cru Brut Réserve   product   \n",
       "\n",
       "    post_mime_type _merge     z_score      CA  Months_of_stock  \n",
       "14             NaN   both   51.826151   212.0        31.250000  \n",
       "221            NaN   both  133.826151   675.0        27.600000  \n",
       "34             NaN   both   50.426151   154.8        27.000000  \n",
       "35             NaN   both   57.826151   295.0        25.000000  \n",
       "92             NaN   both   36.326151   112.5        23.666667  \n",
       "730            NaN   both   37.826151   195.0        23.000000  \n",
       "689            NaN   both   47.826151   196.0        22.750000  \n",
       "113            NaN   both  110.826151   672.0        22.666667  \n",
       "37             NaN   both   78.326151   556.5        20.714286  \n",
       "95             NaN   both   57.826151   354.0        20.500000  \n",
       "716            NaN   both   47.826151   343.0        20.285714  \n",
       "715            NaN   both   67.826151   345.0        20.200000  \n",
       "220            NaN   both  123.626151   124.8        19.000000  \n",
       "48             NaN   both  108.426151   109.6        18.000000  \n",
       "22             NaN   both   43.826151   270.0        17.166667  \n",
       "5              NaN   both   48.326151   297.0        16.666667  \n",
       "233            NaN   both  190.126151  1147.8        16.333333  \n",
       "106            NaN   both   84.426151   599.2        16.000000  \n",
       "699            NaN   both   37.826151   312.0        15.375000  \n",
       "89             NaN   both   28.326151   177.0        14.333333  "
      ]
     },
     "execution_count": 134,
     "metadata": {},
     "output_type": "execute_result"
    }
   ],
   "source": [
    "df_merge_sort_stock_20"
   ]
  },
  {
   "cell_type": "code",
   "execution_count": 122,
   "id": "cd67392a",
   "metadata": {},
   "outputs": [
    {
     "name": "stdout",
     "output_type": "stream",
     "text": [
      "Somme totale de la valorisation des stocks : 495092.6 euros\n",
      "Ceci represente 3.45 du CA du mois\n"
     ]
    }
   ],
   "source": [
    "####################################\n",
    "# Valorisation des stocks en euros #\n",
    "####################################\n",
    "\n",
    "#Création de la colonne Valorisation des stocks en euros\n",
    "df_merge['Valorisation'] = df_merge['stock_quantity'] * df_merge['price']\n",
    "#Calculer la somme de la colonne \"Valorisation_stock_euros\"\n",
    "sum_valorisation = round(df_merge['Valorisation'].sum(),2)\n",
    "print(f\"Somme totale de la valorisation des stocks : {sum_valorisation} euros\")\n",
    "\n",
    "valo_ca= round(sum_valorisation/df_merge['CA'].sum(),2)\n",
    "print('Ceci represente',valo_ca,'du CA du mois')"
   ]
  },
  {
   "cell_type": "code",
   "execution_count": 123,
   "id": "4a3dd99d",
   "metadata": {},
   "outputs": [
    {
     "name": "stdout",
     "output_type": "stream",
     "text": [
      "Somme totale de la colonne stock quantity : 16757.0\n"
     ]
    }
   ],
   "source": [
    "##############################################\n",
    "# Valorisation du nombre de produit en stock #\n",
    "##############################################\n",
    "\n",
    "#Calculer la somme de la colonne stock quantity\n",
    "total_stock = df_merge['stock_quantity'].sum()\n",
    "print(f\"Somme totale de la colonne stock quantity : {total_stock}\")"
   ]
  },
  {
   "cell_type": "markdown",
   "id": "9e48f6dc",
   "metadata": {},
   "source": [
    "<div style=\"border: 1px solid RGB(51,165,182);\" >\n",
    "<h3 style=\"margin: auto; padding: 20px; color: RGB(51,165,182); \">Etape 5.4 - Analyse du taux de marge</h3>\n",
    "</div>"
   ]
  },
  {
   "cell_type": "code",
   "execution_count": 124,
   "id": "44015743",
   "metadata": {},
   "outputs": [
    {
     "name": "stdout",
     "output_type": "stream",
     "text": [
      "le prix minimum de la colonne \"taux_marge\" 12.65\n",
      "-0.8639433832386852\n",
      "le prix maximum de la colonne \"taux_marge\" 62.5\n",
      "0.9141247090530442\n"
     ]
    }
   ],
   "source": [
    "############################\n",
    "# Analyse du taux de marge #\n",
    "############################\n",
    "\n",
    "#Création de la colonne prix HT\n",
    "df_merge['prix_HT']=(df_merge['price'] / 1.2)\n",
    "#Création de la colonne Taux de marge\n",
    "df_merge['Taux_de_marge'] = (df_merge['prix_HT'] - df_merge['purchase_price']) / df_merge['purchase_price']\n",
    "#Afficher le prix minimum de la colonne \"taux_marge\"\n",
    "t_min_marge = df_merge[df_merge['Taux_de_marge']==df_merge['Taux_de_marge'].min()]['price'].iloc[0]\n",
    "print(f'le prix minimum de la colonne \"taux_marge\"',t_min_marge)\n",
    "print(df_merge['Taux_de_marge'].min())\n",
    "#Afficher le prix maximum de la colonne \"taux_marge\"\n",
    "t_max_marge = df_merge[df_merge['Taux_de_marge']==df_merge['Taux_de_marge'].max()]['price'].iloc[0]\n",
    "print('le prix maximum de la colonne \"taux_marge\"', t_max_marge)\n",
    "print(df_merge['Taux_de_marge'].max())"
   ]
  },
  {
   "cell_type": "code",
   "execution_count": 125,
   "id": "6082d42b",
   "metadata": {},
   "outputs": [
    {
     "data": {
      "text/html": [
       "<div>\n",
       "<style scoped>\n",
       "    .dataframe tbody tr th:only-of-type {\n",
       "        vertical-align: middle;\n",
       "    }\n",
       "\n",
       "    .dataframe tbody tr th {\n",
       "        vertical-align: top;\n",
       "    }\n",
       "\n",
       "    .dataframe thead th {\n",
       "        text-align: right;\n",
       "    }\n",
       "</style>\n",
       "<table border=\"1\" class=\"dataframe\">\n",
       "  <thead>\n",
       "    <tr style=\"text-align: right;\">\n",
       "      <th></th>\n",
       "      <th>product_id</th>\n",
       "      <th>onsale_web</th>\n",
       "      <th>price</th>\n",
       "      <th>stock_quantity</th>\n",
       "      <th>stock_status</th>\n",
       "      <th>purchase_price</th>\n",
       "      <th>id_web</th>\n",
       "      <th>sku</th>\n",
       "      <th>total_sales</th>\n",
       "      <th>tax_status</th>\n",
       "      <th>...</th>\n",
       "      <th>post_title</th>\n",
       "      <th>post_type</th>\n",
       "      <th>post_mime_type</th>\n",
       "      <th>_merge</th>\n",
       "      <th>z_score</th>\n",
       "      <th>CA</th>\n",
       "      <th>Months_of_stock</th>\n",
       "      <th>Valorisation</th>\n",
       "      <th>prix_HT</th>\n",
       "      <th>Taux_de_marge</th>\n",
       "    </tr>\n",
       "  </thead>\n",
       "  <tbody>\n",
       "    <tr>\n",
       "      <th>38</th>\n",
       "      <td>4355</td>\n",
       "      <td>1.0</td>\n",
       "      <td>12.65</td>\n",
       "      <td>97.0</td>\n",
       "      <td>instock</td>\n",
       "      <td>77.48</td>\n",
       "      <td>12589</td>\n",
       "      <td>12589</td>\n",
       "      <td>0.0</td>\n",
       "      <td>taxable</td>\n",
       "      <td>...</td>\n",
       "      <td>Champagne Egly-Ouriet Grand Cru Blanc de Noirs</td>\n",
       "      <td>product</td>\n",
       "      <td>NaN</td>\n",
       "      <td>both</td>\n",
       "      <td>11.476151</td>\n",
       "      <td>0.0</td>\n",
       "      <td>0.0</td>\n",
       "      <td>1227.05</td>\n",
       "      <td>10.541667</td>\n",
       "      <td>-0.863943</td>\n",
       "    </tr>\n",
       "    <tr>\n",
       "      <th>267</th>\n",
       "      <td>4864</td>\n",
       "      <td>0.0</td>\n",
       "      <td>8.30</td>\n",
       "      <td>0.0</td>\n",
       "      <td>outofstock</td>\n",
       "      <td>9.99</td>\n",
       "      <td>15154</td>\n",
       "      <td>NaN</td>\n",
       "      <td>NaN</td>\n",
       "      <td>NaN</td>\n",
       "      <td>...</td>\n",
       "      <td>NaN</td>\n",
       "      <td>NaN</td>\n",
       "      <td>NaN</td>\n",
       "      <td>left_only</td>\n",
       "      <td>7.126151</td>\n",
       "      <td>NaN</td>\n",
       "      <td>NaN</td>\n",
       "      <td>0.00</td>\n",
       "      <td>6.916667</td>\n",
       "      <td>-0.307641</td>\n",
       "    </tr>\n",
       "  </tbody>\n",
       "</table>\n",
       "<p>2 rows × 21 columns</p>\n",
       "</div>"
      ],
      "text/plain": [
       "    product_id  onsale_web  price  stock_quantity stock_status  \\\n",
       "38        4355         1.0  12.65            97.0      instock   \n",
       "267       4864         0.0   8.30             0.0   outofstock   \n",
       "\n",
       "     purchase_price id_web    sku  total_sales tax_status  ...  \\\n",
       "38            77.48  12589  12589          0.0    taxable  ...   \n",
       "267            9.99  15154    NaN          NaN        NaN  ...   \n",
       "\n",
       "                                         post_title post_type post_mime_type  \\\n",
       "38   Champagne Egly-Ouriet Grand Cru Blanc de Noirs   product            NaN   \n",
       "267                                             NaN       NaN            NaN   \n",
       "\n",
       "        _merge    z_score   CA  Months_of_stock  Valorisation    prix_HT  \\\n",
       "38        both  11.476151  0.0              0.0       1227.05  10.541667   \n",
       "267  left_only   7.126151  NaN              NaN          0.00   6.916667   \n",
       "\n",
       "     Taux_de_marge  \n",
       "38       -0.863943  \n",
       "267      -0.307641  \n",
       "\n",
       "[2 rows x 21 columns]"
      ]
     },
     "execution_count": 125,
     "metadata": {},
     "output_type": "execute_result"
    }
   ],
   "source": [
    "#affichage de la ligne avec un taux de marge inférieur à 0\n",
    "marge_neg = df_merge[df_merge['Taux_de_marge'] < 0 ]\n",
    "marge_neg"
   ]
  },
  {
   "cell_type": "code",
   "execution_count": 126,
   "id": "d756037c",
   "metadata": {},
   "outputs": [
    {
     "name": "stdout",
     "output_type": "stream",
     "text": [
      "le prix minimum de la colonne \"taux_marge\" 13.1\n",
      "le taux de marge minimum 0.2949782522736259\n",
      "le prix maximum de la colonne \"taux_marge\" 62.5\n",
      "le taux de marge max 0.9141247090530442\n"
     ]
    }
   ],
   "source": [
    "#création d'un dataframe avec les taux positifs\n",
    "df_merge_p = df_merge.drop(df_merge[df_merge['Taux_de_marge'] < 0 ].index)\n",
    "#Afficher le prix minimum de la colonne \"taux_marge\"\n",
    "t_min_marge = df_merge_p[df_merge_p['Taux_de_marge']==df_merge_p['Taux_de_marge'].min()]['price'].iloc[0]\n",
    "print(f'le prix minimum de la colonne \"taux_marge\"',t_min_marge)\n",
    "print(f'le taux de marge minimum',df_merge_p['Taux_de_marge'].min())\n",
    "#Afficher le prix maximum de la colonne \"taux_marge\"\n",
    "t_max_marge = df_merge_p[df_merge_p['Taux_de_marge']==df_merge_p['Taux_de_marge'].max()]['price'].iloc[0]\n",
    "print(f'le prix maximum de la colonne \"taux_marge\"', t_max_marge)\n",
    "print(f'le taux de marge max',df_merge_p['Taux_de_marge'].max())"
   ]
  },
  {
   "cell_type": "code",
   "execution_count": 127,
   "id": "b24042f8",
   "metadata": {},
   "outputs": [
    {
     "name": "stdout",
     "output_type": "stream",
     "text": [
      "    product_type  Taux_de_marge\n",
      "1         Cognac       0.823162\n",
      "5         Whisky       0.817392\n",
      "2            Gin       0.748252\n",
      "4            Vin       0.614961\n",
      "0      Champagne       0.399546\n",
      "3  Huile d'olive       0.333901\n"
     ]
    },
    {
     "data": {
      "application/vnd.plotly.v1+json": {
       "config": {
        "plotlyServerURL": "https://plot.ly"
       },
       "data": [
        {
         "alignmentgroup": "True",
         "hovertemplate": "Type de produit=%{x}<br>Taux de marge moyen=%{y}<extra></extra>",
         "legendgroup": "",
         "marker": {
          "color": "#636efa",
          "pattern": {
           "shape": ""
          }
         },
         "name": "",
         "offsetgroup": "",
         "orientation": "v",
         "showlegend": false,
         "textposition": "auto",
         "type": "bar",
         "x": [
          "Cognac",
          "Whisky",
          "Gin",
          "Vin",
          "Champagne",
          "Huile d'olive"
         ],
         "xaxis": "x",
         "y": [
          0.823161954354001,
          0.8173917078842724,
          0.7482517482517482,
          0.6149609445381282,
          0.3995462069199582,
          0.3339013541461981
         ],
         "yaxis": "y"
        }
       ],
       "layout": {
        "barmode": "relative",
        "legend": {
         "tracegroupgap": 0
        },
        "template": {
         "data": {
          "bar": [
           {
            "error_x": {
             "color": "#2a3f5f"
            },
            "error_y": {
             "color": "#2a3f5f"
            },
            "marker": {
             "line": {
              "color": "#E5ECF6",
              "width": 0.5
             },
             "pattern": {
              "fillmode": "overlay",
              "size": 10,
              "solidity": 0.2
             }
            },
            "type": "bar"
           }
          ],
          "barpolar": [
           {
            "marker": {
             "line": {
              "color": "#E5ECF6",
              "width": 0.5
             },
             "pattern": {
              "fillmode": "overlay",
              "size": 10,
              "solidity": 0.2
             }
            },
            "type": "barpolar"
           }
          ],
          "carpet": [
           {
            "aaxis": {
             "endlinecolor": "#2a3f5f",
             "gridcolor": "white",
             "linecolor": "white",
             "minorgridcolor": "white",
             "startlinecolor": "#2a3f5f"
            },
            "baxis": {
             "endlinecolor": "#2a3f5f",
             "gridcolor": "white",
             "linecolor": "white",
             "minorgridcolor": "white",
             "startlinecolor": "#2a3f5f"
            },
            "type": "carpet"
           }
          ],
          "choropleth": [
           {
            "colorbar": {
             "outlinewidth": 0,
             "ticks": ""
            },
            "type": "choropleth"
           }
          ],
          "contour": [
           {
            "colorbar": {
             "outlinewidth": 0,
             "ticks": ""
            },
            "colorscale": [
             [
              0,
              "#0d0887"
             ],
             [
              0.1111111111111111,
              "#46039f"
             ],
             [
              0.2222222222222222,
              "#7201a8"
             ],
             [
              0.3333333333333333,
              "#9c179e"
             ],
             [
              0.4444444444444444,
              "#bd3786"
             ],
             [
              0.5555555555555556,
              "#d8576b"
             ],
             [
              0.6666666666666666,
              "#ed7953"
             ],
             [
              0.7777777777777778,
              "#fb9f3a"
             ],
             [
              0.8888888888888888,
              "#fdca26"
             ],
             [
              1,
              "#f0f921"
             ]
            ],
            "type": "contour"
           }
          ],
          "contourcarpet": [
           {
            "colorbar": {
             "outlinewidth": 0,
             "ticks": ""
            },
            "type": "contourcarpet"
           }
          ],
          "heatmap": [
           {
            "colorbar": {
             "outlinewidth": 0,
             "ticks": ""
            },
            "colorscale": [
             [
              0,
              "#0d0887"
             ],
             [
              0.1111111111111111,
              "#46039f"
             ],
             [
              0.2222222222222222,
              "#7201a8"
             ],
             [
              0.3333333333333333,
              "#9c179e"
             ],
             [
              0.4444444444444444,
              "#bd3786"
             ],
             [
              0.5555555555555556,
              "#d8576b"
             ],
             [
              0.6666666666666666,
              "#ed7953"
             ],
             [
              0.7777777777777778,
              "#fb9f3a"
             ],
             [
              0.8888888888888888,
              "#fdca26"
             ],
             [
              1,
              "#f0f921"
             ]
            ],
            "type": "heatmap"
           }
          ],
          "heatmapgl": [
           {
            "colorbar": {
             "outlinewidth": 0,
             "ticks": ""
            },
            "colorscale": [
             [
              0,
              "#0d0887"
             ],
             [
              0.1111111111111111,
              "#46039f"
             ],
             [
              0.2222222222222222,
              "#7201a8"
             ],
             [
              0.3333333333333333,
              "#9c179e"
             ],
             [
              0.4444444444444444,
              "#bd3786"
             ],
             [
              0.5555555555555556,
              "#d8576b"
             ],
             [
              0.6666666666666666,
              "#ed7953"
             ],
             [
              0.7777777777777778,
              "#fb9f3a"
             ],
             [
              0.8888888888888888,
              "#fdca26"
             ],
             [
              1,
              "#f0f921"
             ]
            ],
            "type": "heatmapgl"
           }
          ],
          "histogram": [
           {
            "marker": {
             "pattern": {
              "fillmode": "overlay",
              "size": 10,
              "solidity": 0.2
             }
            },
            "type": "histogram"
           }
          ],
          "histogram2d": [
           {
            "colorbar": {
             "outlinewidth": 0,
             "ticks": ""
            },
            "colorscale": [
             [
              0,
              "#0d0887"
             ],
             [
              0.1111111111111111,
              "#46039f"
             ],
             [
              0.2222222222222222,
              "#7201a8"
             ],
             [
              0.3333333333333333,
              "#9c179e"
             ],
             [
              0.4444444444444444,
              "#bd3786"
             ],
             [
              0.5555555555555556,
              "#d8576b"
             ],
             [
              0.6666666666666666,
              "#ed7953"
             ],
             [
              0.7777777777777778,
              "#fb9f3a"
             ],
             [
              0.8888888888888888,
              "#fdca26"
             ],
             [
              1,
              "#f0f921"
             ]
            ],
            "type": "histogram2d"
           }
          ],
          "histogram2dcontour": [
           {
            "colorbar": {
             "outlinewidth": 0,
             "ticks": ""
            },
            "colorscale": [
             [
              0,
              "#0d0887"
             ],
             [
              0.1111111111111111,
              "#46039f"
             ],
             [
              0.2222222222222222,
              "#7201a8"
             ],
             [
              0.3333333333333333,
              "#9c179e"
             ],
             [
              0.4444444444444444,
              "#bd3786"
             ],
             [
              0.5555555555555556,
              "#d8576b"
             ],
             [
              0.6666666666666666,
              "#ed7953"
             ],
             [
              0.7777777777777778,
              "#fb9f3a"
             ],
             [
              0.8888888888888888,
              "#fdca26"
             ],
             [
              1,
              "#f0f921"
             ]
            ],
            "type": "histogram2dcontour"
           }
          ],
          "mesh3d": [
           {
            "colorbar": {
             "outlinewidth": 0,
             "ticks": ""
            },
            "type": "mesh3d"
           }
          ],
          "parcoords": [
           {
            "line": {
             "colorbar": {
              "outlinewidth": 0,
              "ticks": ""
             }
            },
            "type": "parcoords"
           }
          ],
          "pie": [
           {
            "automargin": true,
            "type": "pie"
           }
          ],
          "scatter": [
           {
            "fillpattern": {
             "fillmode": "overlay",
             "size": 10,
             "solidity": 0.2
            },
            "type": "scatter"
           }
          ],
          "scatter3d": [
           {
            "line": {
             "colorbar": {
              "outlinewidth": 0,
              "ticks": ""
             }
            },
            "marker": {
             "colorbar": {
              "outlinewidth": 0,
              "ticks": ""
             }
            },
            "type": "scatter3d"
           }
          ],
          "scattercarpet": [
           {
            "marker": {
             "colorbar": {
              "outlinewidth": 0,
              "ticks": ""
             }
            },
            "type": "scattercarpet"
           }
          ],
          "scattergeo": [
           {
            "marker": {
             "colorbar": {
              "outlinewidth": 0,
              "ticks": ""
             }
            },
            "type": "scattergeo"
           }
          ],
          "scattergl": [
           {
            "marker": {
             "colorbar": {
              "outlinewidth": 0,
              "ticks": ""
             }
            },
            "type": "scattergl"
           }
          ],
          "scattermapbox": [
           {
            "marker": {
             "colorbar": {
              "outlinewidth": 0,
              "ticks": ""
             }
            },
            "type": "scattermapbox"
           }
          ],
          "scatterpolar": [
           {
            "marker": {
             "colorbar": {
              "outlinewidth": 0,
              "ticks": ""
             }
            },
            "type": "scatterpolar"
           }
          ],
          "scatterpolargl": [
           {
            "marker": {
             "colorbar": {
              "outlinewidth": 0,
              "ticks": ""
             }
            },
            "type": "scatterpolargl"
           }
          ],
          "scatterternary": [
           {
            "marker": {
             "colorbar": {
              "outlinewidth": 0,
              "ticks": ""
             }
            },
            "type": "scatterternary"
           }
          ],
          "surface": [
           {
            "colorbar": {
             "outlinewidth": 0,
             "ticks": ""
            },
            "colorscale": [
             [
              0,
              "#0d0887"
             ],
             [
              0.1111111111111111,
              "#46039f"
             ],
             [
              0.2222222222222222,
              "#7201a8"
             ],
             [
              0.3333333333333333,
              "#9c179e"
             ],
             [
              0.4444444444444444,
              "#bd3786"
             ],
             [
              0.5555555555555556,
              "#d8576b"
             ],
             [
              0.6666666666666666,
              "#ed7953"
             ],
             [
              0.7777777777777778,
              "#fb9f3a"
             ],
             [
              0.8888888888888888,
              "#fdca26"
             ],
             [
              1,
              "#f0f921"
             ]
            ],
            "type": "surface"
           }
          ],
          "table": [
           {
            "cells": {
             "fill": {
              "color": "#EBF0F8"
             },
             "line": {
              "color": "white"
             }
            },
            "header": {
             "fill": {
              "color": "#C8D4E3"
             },
             "line": {
              "color": "white"
             }
            },
            "type": "table"
           }
          ]
         },
         "layout": {
          "annotationdefaults": {
           "arrowcolor": "#2a3f5f",
           "arrowhead": 0,
           "arrowwidth": 1
          },
          "autotypenumbers": "strict",
          "coloraxis": {
           "colorbar": {
            "outlinewidth": 0,
            "ticks": ""
           }
          },
          "colorscale": {
           "diverging": [
            [
             0,
             "#8e0152"
            ],
            [
             0.1,
             "#c51b7d"
            ],
            [
             0.2,
             "#de77ae"
            ],
            [
             0.3,
             "#f1b6da"
            ],
            [
             0.4,
             "#fde0ef"
            ],
            [
             0.5,
             "#f7f7f7"
            ],
            [
             0.6,
             "#e6f5d0"
            ],
            [
             0.7,
             "#b8e186"
            ],
            [
             0.8,
             "#7fbc41"
            ],
            [
             0.9,
             "#4d9221"
            ],
            [
             1,
             "#276419"
            ]
           ],
           "sequential": [
            [
             0,
             "#0d0887"
            ],
            [
             0.1111111111111111,
             "#46039f"
            ],
            [
             0.2222222222222222,
             "#7201a8"
            ],
            [
             0.3333333333333333,
             "#9c179e"
            ],
            [
             0.4444444444444444,
             "#bd3786"
            ],
            [
             0.5555555555555556,
             "#d8576b"
            ],
            [
             0.6666666666666666,
             "#ed7953"
            ],
            [
             0.7777777777777778,
             "#fb9f3a"
            ],
            [
             0.8888888888888888,
             "#fdca26"
            ],
            [
             1,
             "#f0f921"
            ]
           ],
           "sequentialminus": [
            [
             0,
             "#0d0887"
            ],
            [
             0.1111111111111111,
             "#46039f"
            ],
            [
             0.2222222222222222,
             "#7201a8"
            ],
            [
             0.3333333333333333,
             "#9c179e"
            ],
            [
             0.4444444444444444,
             "#bd3786"
            ],
            [
             0.5555555555555556,
             "#d8576b"
            ],
            [
             0.6666666666666666,
             "#ed7953"
            ],
            [
             0.7777777777777778,
             "#fb9f3a"
            ],
            [
             0.8888888888888888,
             "#fdca26"
            ],
            [
             1,
             "#f0f921"
            ]
           ]
          },
          "colorway": [
           "#636efa",
           "#EF553B",
           "#00cc96",
           "#ab63fa",
           "#FFA15A",
           "#19d3f3",
           "#FF6692",
           "#B6E880",
           "#FF97FF",
           "#FECB52"
          ],
          "font": {
           "color": "#2a3f5f"
          },
          "geo": {
           "bgcolor": "white",
           "lakecolor": "white",
           "landcolor": "#E5ECF6",
           "showlakes": true,
           "showland": true,
           "subunitcolor": "white"
          },
          "hoverlabel": {
           "align": "left"
          },
          "hovermode": "closest",
          "mapbox": {
           "style": "light"
          },
          "paper_bgcolor": "white",
          "plot_bgcolor": "#E5ECF6",
          "polar": {
           "angularaxis": {
            "gridcolor": "white",
            "linecolor": "white",
            "ticks": ""
           },
           "bgcolor": "#E5ECF6",
           "radialaxis": {
            "gridcolor": "white",
            "linecolor": "white",
            "ticks": ""
           }
          },
          "scene": {
           "xaxis": {
            "backgroundcolor": "#E5ECF6",
            "gridcolor": "white",
            "gridwidth": 2,
            "linecolor": "white",
            "showbackground": true,
            "ticks": "",
            "zerolinecolor": "white"
           },
           "yaxis": {
            "backgroundcolor": "#E5ECF6",
            "gridcolor": "white",
            "gridwidth": 2,
            "linecolor": "white",
            "showbackground": true,
            "ticks": "",
            "zerolinecolor": "white"
           },
           "zaxis": {
            "backgroundcolor": "#E5ECF6",
            "gridcolor": "white",
            "gridwidth": 2,
            "linecolor": "white",
            "showbackground": true,
            "ticks": "",
            "zerolinecolor": "white"
           }
          },
          "shapedefaults": {
           "line": {
            "color": "#2a3f5f"
           }
          },
          "ternary": {
           "aaxis": {
            "gridcolor": "white",
            "linecolor": "white",
            "ticks": ""
           },
           "baxis": {
            "gridcolor": "white",
            "linecolor": "white",
            "ticks": ""
           },
           "bgcolor": "#E5ECF6",
           "caxis": {
            "gridcolor": "white",
            "linecolor": "white",
            "ticks": ""
           }
          },
          "title": {
           "x": 0.05
          },
          "xaxis": {
           "automargin": true,
           "gridcolor": "white",
           "linecolor": "white",
           "ticks": "",
           "title": {
            "standoff": 15
           },
           "zerolinecolor": "white",
           "zerolinewidth": 2
          },
          "yaxis": {
           "automargin": true,
           "gridcolor": "white",
           "linecolor": "white",
           "ticks": "",
           "title": {
            "standoff": 15
           },
           "zerolinecolor": "white",
           "zerolinewidth": 2
          }
         }
        },
        "title": {
         "text": "Taux de marge moyen par type de produit"
        },
        "xaxis": {
         "anchor": "y",
         "domain": [
          0,
          1
         ],
         "title": {
          "text": "Type de produit"
         }
        },
        "yaxis": {
         "anchor": "x",
         "domain": [
          0,
          1
         ],
         "title": {
          "text": "Taux de marge moyen"
         }
        }
       }
      }
     },
     "metadata": {},
     "output_type": "display_data"
    }
   ],
   "source": [
    "#création d'un dataframe avec le taux de marge moyen par type de produit\n",
    "df_merge_p_produit_marge = df_merge_p.groupby('product_type')['Taux_de_marge'].mean().reset_index()\n",
    "df_merge_p_produit_marge = df_merge_p_produit_marge.sort_values(by='Taux_de_marge', ascending=False)\n",
    "print(df_merge_p_produit_marge)\n",
    "#Affichage dans un graphique du taux de marge par type de produit\n",
    "px.bar(df_merge_p_produit_marge, x='product_type', y='Taux_de_marge',\n",
    "             title='Taux de marge moyen par type de produit',\n",
    "             labels={'product_type': 'Type de produit', 'Taux_de_marge': 'Taux de marge moyen'})\n"
   ]
  },
  {
   "cell_type": "markdown",
   "id": "ce216060",
   "metadata": {},
   "source": [
    "<div style=\"border: 1px solid RGB(51,165,182);\" >\n",
    "<h3 style=\"margin: auto; padding: 20px; color: RGB(51,165,182); \">Etape 5.5 - Analyse des correlations entre les variables stock, sales et price</h3>\n",
    "</div>"
   ]
  },
  {
   "cell_type": "code",
   "execution_count": 128,
   "id": "12e4a540",
   "metadata": {},
   "outputs": [
    {
     "data": {
      "image/png": "[encoded data removed]",
      "text/plain": [
       "<Figure size 800x600 with 2 Axes>"
      ]
     },
     "metadata": {},
     "output_type": "display_data"
    }
   ],
   "source": [
    "############################\n",
    "# Analyse des correlations #\n",
    "############################\n",
    "\n",
    "#Importation de Seaborn\n",
    "import seaborn as sns\n",
    "\n",
    "#Création d'un heatmap de correlation avec les variables stock, sales et price\n",
    "df_corr = df_merge_p[['stock_quantity', 'total_sales', 'price']]\n",
    "#on peut également créer un mask pour n'afficher qu'une demi heatmap\n",
    "corr_matrix = df_corr.corr()\n",
    "\n",
    "mask = np.triu(np.ones_like(corr_matrix, dtype=bool))\n",
    "plt.figure(figsize=(8, 6))\n",
    "sns.heatmap(corr_matrix, annot=True, cmap='coolwarm', mask=mask, vmin=-1, vmax=1)\n",
    "plt.title('Heatmap de Corrélation (stock, sales, price)')\n",
    "plt.show()"
   ]
  },
  {
   "cell_type": "code",
   "execution_count": 129,
   "id": "9a80618e",
   "metadata": {},
   "outputs": [
    {
     "name": "stdout",
     "output_type": "stream",
     "text": [
      "                stock_quantity  total_sales     price\n",
      "stock_quantity        1.000000     0.452609 -0.093596\n",
      "total_sales           0.452609     1.000000 -0.519752\n",
      "price                -0.093596    -0.519752  1.000000\n"
     ]
    }
   ],
   "source": [
    "print(corr_matrix)"
   ]
  },
  {
   "cell_type": "code",
   "execution_count": 130,
   "id": "c49d1459",
   "metadata": {},
   "outputs": [
    {
     "data": {
      "text/plain": [
       "'\\nCorrélation entre stock_quantity et total_sales (0.452609) :\\nIl y a une corrélation positive modérée entre les et la quantité de stock ventes. Cela suggère que, généralement, plus il y a de ventes, plus le stock est élevé.\\n\\nCorrélation entre stock_quantity et price (-0.093596) :\\nIl y a une très faible corrélation négative entre la quantité de stock et le prix. Cette relation est presque négligeable.\\n\\nCorrélation entre total_sales et price (-0.519752) :\\nIl y a une corrélation négative modérée entre les ventes totales et le prix. Cela signifie que, généralement, à mesure que le prix augmente, les ventes totales diminuent.\\n'"
      ]
     },
     "execution_count": 130,
     "metadata": {},
     "output_type": "execute_result"
    }
   ],
   "source": [
    "#Que peut-on conclure des correlations ?\n",
    "\"\"\"\n",
    "Corrélation entre stock_quantity et total_sales (0.452609) :\n",
    "Il y a une corrélation positive modérée entre les et la quantité de stock ventes. Cela suggère que, généralement, plus il y a de ventes, plus le stock est élevé.\n",
    "\n",
    "Corrélation entre stock_quantity et price (-0.093596) :\n",
    "Il y a une très faible corrélation négative entre la quantité de stock et le prix. Cette relation est presque négligeable.\n",
    "\n",
    "Corrélation entre total_sales et price (-0.519752) :\n",
    "Il y a une corrélation négative modérée entre les ventes totales et le prix. Cela signifie que, généralement, à mesure que le prix augmente, les ventes totales diminuent.\n",
    "\"\"\""
   ]
  },
  {
   "cell_type": "markdown",
   "id": "f1d22f1d",
   "metadata": {},
   "source": [
    "<div style=\"border: 1px solid RGB(51,165,182);\" >\n",
    "<h3 style=\"margin: auto; padding: 20px; color: RGB(51,165,182); \">Etape 5.6 - Mettre à disposition la nouvelle table sur un fichier Excel</h3>\n",
    "</div>"
   ]
  },
  {
   "cell_type": "code",
   "execution_count": 131,
   "id": "09bfe632",
   "metadata": {},
   "outputs": [
    {
     "name": "stdout",
     "output_type": "stream",
     "text": [
      "Le DataFrame df_merge a été exporté avec succès vers : './df_merge.xlsx'\n"
     ]
    }
   ],
   "source": [
    "#Mettre le dataset df_merge sur un fichier Excel\n",
    "#Cette étape peut-être utile pour partager le résultat du dataset obtenu pour le partager avec les équipes.  \n",
    "\n",
    "chemin_vers_fichier_excel = './df_merge.xlsx'\n",
    "\n",
    "# Exportez le DataFrame vers Excel\n",
    "df_merge.to_excel(chemin_vers_fichier_excel, index=False)\n",
    "\n",
    "print(f\"Le DataFrame df_merge a été exporté avec succès vers : '{chemin_vers_fichier_excel}'\")"
   ]
  }
 ],
 "metadata": {
  "kernelspec": {
   "display_name": "Python 3",
   "language": "python",
   "name": "python3"
  },
  "language_info": {
   "codemirror_mode": {
    "name": "ipython",
    "version": 3
   },
   "file_extension": ".py",
   "mimetype": "text/x-python",
   "name": "python",
   "nbconvert_exporter": "python",
   "pygments_lexer": "ipython3",
   "version": "3.12.3"
  }
 },
 "nbformat": 4,
 "nbformat_minor": 5
}
